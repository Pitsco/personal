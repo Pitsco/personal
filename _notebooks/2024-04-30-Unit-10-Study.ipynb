{
 "cells": [
  {
   "cell_type": "markdown",
   "metadata": {},
   "source": [
    "---\n",
    "- title: Unit 10 Study\n",
    "- description: Review the Generic Concepts of Unit 10 of AP CSA Exam \n",
    "- layout: post\n",
    "- courses: { csa: {week: 25} }\n",
    "- categories: [C4.0]\n",
    "- type: tangibles\n",
    "- comments: true\n",
    "---"
   ]
  },
  {
   "cell_type": "markdown",
   "metadata": {},
   "source": [
    "# Recursion:\n",
    "- The idea of a method running itself inside of itself.\n"
   ]
  },
  {
   "cell_type": "code",
   "execution_count": 6,
   "metadata": {
    "vscode": {
     "languageId": "java"
    }
   },
   "outputs": [
    {
     "name": "stdout",
     "output_type": "stream",
     "text": [
      "15\n"
     ]
    }
   ],
   "source": [
    "int n = 5;\n",
    "public static int product(int n){\n",
    "    if (n <= 1){\n",
    "        return 1;\n",
    "    }\n",
    "    else {\n",
    "        return n * product(n-2);\n",
    "    }\n",
    "}\n",
    "//iteration 1: product(int 5) = 5 * product(3) = 15;\n",
    "//iteration 2: product(int 3) = 3 * product(1) = 3;\n",
    "//iteration 3: product(int 1) = 1;\n",
    "\n",
    "System.out.println(product(5));"
   ]
  },
  {
   "cell_type": "code",
   "execution_count": 8,
   "metadata": {
    "vscode": {
     "languageId": "java"
    }
   },
   "outputs": [
    {
     "name": "stdout",
     "output_type": "stream",
     "text": [
      "5\n"
     ]
    }
   ],
   "source": [
    "public static int f(int n){\n",
    "    if (n == 0){\n",
    "        return 0;\n",
    "    }\n",
    "\n",
    "    else if (n == 1){\n",
    "        return 1;\n",
    "    }\n",
    "\n",
    "    else {\n",
    "        return f(n-1) + f(n-2);\n",
    "    }\n",
    "\n",
    "    //iteration 1: f(5) = f(4) + f(3);\n",
    "    //iteration 2: f(4) = f(3) + f(2);\n",
    "    //f(3) = f(2) + f(1) or f(3) = f(2) + 1;\n",
    "    //f(2) = f(1) + f(0);\n",
    "    //f(2) = 1 + 0 = 1;\n",
    "\n",
    "\n",
    "    //reversing back...\n",
    "    //f(3) = 1 + 1 = 2;\n",
    "    //f(4) = 2 + 1 = 3;\n",
    "    //f(5) = 3 + 2 = 5;\n",
    "}\n",
    "\n",
    "System.out.println(f(5));"
   ]
  }
 ],
 "metadata": {
  "kernelspec": {
   "display_name": "Java",
   "language": "java",
   "name": "java"
  },
  "language_info": {
   "codemirror_mode": "java",
   "file_extension": ".jshell",
   "mimetype": "text/x-java-source",
   "name": "Java",
   "pygments_lexer": "java",
   "version": "17.0.10+7-Ubuntu-122.04.1"
  }
 },
 "nbformat": 4,
 "nbformat_minor": 2
}
