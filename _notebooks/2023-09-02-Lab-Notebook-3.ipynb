{
 "cells": [
  {
   "cell_type": "markdown",
   "metadata": {},
   "source": [
    "---\n",
    "# this is YAML front matter\n",
    "- layout: post\n",
    "- title: Lab Notebook 3\n",
    "- description: Progress with hacks for week 2!\n",
    "- categories: [C4.0]\n",
    "- type: tangibles\n",
    "- courses: { csa: {week: 2} }\n",
    "---"
   ]
  },
  {
   "cell_type": "markdown",
   "metadata": {},
   "source": [
    "# JS Output w/ jquery Hacks"
   ]
  },
  {
   "cell_type": "markdown",
   "metadata": {},
   "source": [
    "### Jquery Table\n",
    "\n",
    "<html>\n",
    "<li class=\"fork\">Refer <a href=\"{{site.baseurl}}/c1.4/2023/09/02/Markdown-table.html\">Here</a> for Jquery Table</li>\n",
    "</html>\n",
    "\n",
    "### Benefit of a Markdown Table\n",
    "- Easy to Use: Markdown is a lightweight markup language that is easy to learn and use, making it accessible to a wide range of users, including those who may not have extensive coding experience. Creating tables in Markdown is straightforward and doesn't require complex formatting or special software.\n",
    "\n",
    "- Readability: Markdown tables are human-readable in their raw form. Unlike some other markup languages or spreadsheet formats, Markdown tables are relatively simple and can be easily understood even without rendering or special software.\n",
    "\n",
    "- Accessibility: When properly formatted, Markdown tables can be made accessible to screen readers and other assistive technologies, ensuring that your content is inclusive and usable by a wide audience.\n",
    "\n",
    "### Style for Tables from w3schools\n",
    "[Link](https://www.w3schools.com/css/css_table.asp)\n",
    "\n",
    "### Describe the difference between HTML and JavaScript\n",
    "HTML (Hypertext Markup Language):\n",
    "- Purpose: HTML is the standard markup language used to create the structure and content of web pages. It provides the essential framework for presenting information on the web.\n",
    "- Static: HTML is primarily a static language, meaning that the content it generates is relatively fixed and doesn't change without manual editing. It defines the elements and their layout on a web page.\n",
    "- Markup: HTML consists of a set of tags that are used to define the structure of a web page, such as headings, paragraphs, links, images, and lists.\n",
    "- Browser Interpretation: Web browsers interpret HTML to display the content of a web page to users. HTML alone cannot create dynamic behavior or interactivity on a page.\n",
    "\n",
    "JavaScript:\n",
    "- Purpose: JavaScript is a dynamic, high-level, and versatile programming language used for adding interactivity, logic, and behavior to web pages. It enables web developers to create dynamic and responsive web applications.\n",
    "- Dynamic: JavaScript is a dynamic language, allowing you to change and manipulate elements on a web page in real-time based on user interactions or other events.\n",
    "- Scripting: JavaScript is a scripting language that can be embedded within HTML documents or included as separate files. It allows you to define functions, handle events, and modify the DOM (Document Object Model) to update the content or behavior of a web page.\n",
    "- Client-Side: JavaScript primarily runs on the client side (in the user's browser), making it essential for creating client-side interactivity and enhancing user experience.\n",
    "\n",
    "### Describe a benefit of a table that uses JavaScript\n",
    "Using JavaScript to enhance tables in HTML offers several benefits:\n",
    "- Dynamic Data Display: JavaScript can be used to populate, update, or manipulate table data dynamically. For example, you can fetch data from a server or perform calculations to update table cells without requiring a page refresh. This dynamic updating of data can provide users with real-time information.\n",
    "- Interactive Tables: JavaScript enables you to add interactive features to tables, such as sorting, filtering, and pagination. Users can easily find and organize data within the table, improving usability and user satisfaction.\n",
    "- Data Validation: JavaScript can be used to validate data entered into table cells in real-time, ensuring that data conforms to specific criteria or formats. This helps maintain data integrity and accuracy.\n",
    "- User Experience: By using JavaScript to enhance tables, you can create a more engaging and user-friendly experience. Users can interact with data directly in the table, reducing the need for additional navigation or user input.\n",
    "- Customization: JavaScript allows for extensive customization of table appearance and behavior. You can create visually appealing and functional tables tailored to your specific requirements.\n",
    "In summary, while HTML defines the structure and content of web pages, JavaScript adds dynamic behavior and interactivity. When used together, they enable developers to create rich and interactive web applications, including tables with enhanced features and user experiences."
   ]
  },
  {
   "cell_type": "markdown",
   "metadata": {},
   "source": [
    "# Javascript and Jupyter Reference Hacks\n"
   ]
  },
  {
   "cell_type": "markdown",
   "metadata": {},
   "source": [
    "### Pair Programming Game\n",
    "\n",
    "<html>\n",
    "<li class=\"fork\">Refer <a href=\"{{site.baseurl}}/c4.0/2023/09/05/Pair-Programming-Game.html\">Here</a> for Pair Programming Game</li>\n",
    "</html>"
   ]
  },
  {
   "cell_type": "markdown",
   "metadata": {},
   "source": [
    "## Notes about Code:"
   ]
  },
  {
   "cell_type": "markdown",
   "metadata": {},
   "source": [
    "### Storing elements of HTML as varibles by getting their ID"
   ]
  },
  {
   "cell_type": "code",
   "execution_count": null,
   "metadata": {},
   "outputs": [],
   "source": [
    "const start = document.getElementById('startButton');\n",
    "const gameContainer = document.querySelector('.game-container');\n",
    "const gameBoard = document.getElementById('gameBoard');\n",
    "const moveCount = document.getElementById('moveCount');\n",
    "const timer = document.getElementById('timer');\n",
    "const fastestTime = document.getElementById('fastestTime');\n",
    "const leastMoves = document.getElementById('leastMoveCount');"
   ]
  },
  {
   "cell_type": "markdown",
   "metadata": {},
   "source": [
    "The code provided is responsible for selecting various HTML elements within the document by their id or class name, and these selections are stored in variables. An example of the selection that applies to each section: \n",
    "\n",
    "const start = document.getElementById('startButton'); refers back to (in the html):\n",
    "\n",
    " \"< button id=\"startButton\">Start</ button>\" (remove spaces as needed)"
   ]
  },
  {
   "cell_type": "markdown",
   "metadata": {},
   "source": [
    "### Storing Data with Cookies"
   ]
  },
  {
   "cell_type": "code",
   "execution_count": null,
   "metadata": {},
   "outputs": [],
   "source": [
    "// function to set cookie\n",
    "function setCookie(name, value, days) {\n",
    "    const expires = new Date();\n",
    "    expires.setTime(expires.getTime() + (days * 24 * 60 * 60 * 1000));\n",
    "    document.cookie = `${name}=${value};expires=${expires.toUTCString()};path=/`;\n",
    "    console.log(document.cookie)\n",
    "  }\n",
    "\n",
    "// gets cookies from stored data\n",
    "function getCookie(name) {\n",
    "  const cookies = document.cookie.split(';')\n",
    "  for (let i = 0; i < cookies.length; i++) {\n",
    "    const cookie = cookies[i].trim()\n",
    "    if (cookie.startsWith(`${name}=`)) {\n",
    "      return cookie.substring(name.length + 1)\n",
    "    }\n",
    "  }\n",
    "  return null\n",
    "}"
   ]
  },
  {
   "cell_type": "markdown",
   "metadata": {},
   "source": [
    "The code provided contains two functions, setCookie and getCookie, which work together to store and retrieve cookies in a web browser. Cookies are small pieces of data that can be stored on the client-side (in the user's browser) and are commonly used for various purposes, including remembering user preferences, tracking user sessions, and storing temporary data.\n",
    "\n",
    "Here's how these functions work:\n",
    "- setCookie(name, value, days): This function is used to set a cookie in the user's browser.\n",
    "- getCookie(name): This function is used to retrieve the value of a specific cookie by its name.\n",
    "    - name: A string representing the name of the cookie to retrieve.\n",
    "- Inside the function:\n",
    "- The document.cookie property is accessed, which contains all the cookies currently stored in the browser as a single string."
   ]
  },
  {
   "cell_type": "markdown",
   "metadata": {},
   "source": [
    "### API Usage"
   ]
  },
  {
   "cell_type": "code",
   "execution_count": null,
   "metadata": {},
   "outputs": [],
   "source": [
    "async function fetchDogs() {\n",
    "    const url = 'https://dog-breeds2.p.rapidapi.com/dog_breeds';\n",
    "    const options = {\n",
    "      method: 'GET',\n",
    "      headers: {\n",
    "        'X-RapidAPI-Key': '701410bf7emshbaf1fa99b2e4e5bp1c0ee6jsn8f8f51602e3f',\n",
    "        'X-RapidAPI-Host': 'dog-breeds2.p.rapidapi.com',\n",
    "      },\n",
    "    };\n",
    "\n",
    "    return fetch(url, options)\n",
    "      .then(response => response.json())\n",
    "      .then(data => {\n",
    "        const shuffledBreeds = data.slice().sort(() => Math.random() - 0.5);\n",
    "        return shuffledBreeds.slice(0, 8);\n",
    "      });\n",
    "  }\n",
    "\n",
    "  //referenced here\n",
    "  async function startGame() {\n",
    "    const breeds = await fetchDogs();\n",
    "    const images = [];\n",
    "\n",
    "    document.getElementById('resetButton').addEventListener('click', resetGame);\n",
    "    start.style.display = 'none'\n",
    "    gameContainer.style.display = 'block'\n",
    "\n",
    "    function setData() {\n",
    "      leastMoves.textContent = getCookie('leastMoves')\n",
    "      fastestTime.textContent = getCookie('fastestTime')\n",
    "    }\n",
    "\n",
    "    setData()\n",
    "\n",
    "    breeds.forEach(breed => {\n",
    "      images.push(breed.img)\n",
    "      images.push(breed.img)\n",
    "    })\n",
    "\n",
    "    images.sort(() => Math.random() - 0.5)\n",
    "\n",
    "    let flippedCards = []\n",
    "    let moves = 0\n",
    "    let pairs = 0\n",
    "    let timerInterval\n",
    "    let startTime\n",
    "\n",
    "    images.forEach((img, index) => {\n",
    "      const cardElement = document.createElement('div')\n",
    "      cardElement.classList.add('gameCard')\n",
    "      cardElement.dataset.cardIndex = index\n",
    "  \n",
    "      const cardBack = document.createElement('div')\n",
    "      cardBack.classList.add('cardBack')\n",
    "      cardElement.appendChild(cardBack)\n",
    "  \n",
    "      const cardImage = document.createElement('img')\n",
    "      cardImage.src = img\n",
    "      cardElement.appendChild(cardImage)\n",
    "  \n",
    "      cardElement.addEventListener('click', flipCard)\n",
    "      gameBoard.appendChild(cardElement)\n",
    "    }); "
   ]
  },
  {
   "cell_type": "markdown",
   "metadata": {},
   "source": [
    "\n",
    "1. async function fetchDogs(): This is an asynchronous function that fetches data from an API. Here's what each part of this function does:\n",
    "\n",
    "2. const url = 'https://dog-breeds2.p.rapidapi.com/dog_breeds';: This line defines the URL of the API endpoint from which data is to be retrieved.\n",
    "\n",
    "3. const options = { ... }: This object contains configuration options for the HTTP request, including the request method (GET) and headers. It includes the 'X-RapidAPI-Key' and 'X-RapidAPI-Host' headers, which are necessary for making the API request.\n",
    "\n",
    "4. return fetch(url, options): The fetch function is used to send a GET request to the specified URL with the provided options. It returns a Promise that resolves to a Response object representing the response from the server.\n",
    "\n",
    "5. .then(response => response.json()): This part of the code chains a .then() method to the fetch request. It processes the response by calling .json() on it, which parses the response body as JSON. This, in turn, returns another Promise.\n",
    "\n",
    "6. .then(data => { ... }): This part of the code handles the JSON data received from the API. It takes the parsed JSON data as an argument and performs further processing. In this case, it shuffles the data randomly and selects the first 8 items from the shuffled array, effectively limiting the result to 8 dog breeds.\n",
    "\n",
    "7. Finally, the function returns the processed data.\n",
    "- async function startGame(): This function is called when the \"Start\" button is clicked. Here's what happens when this function is executed:\n",
    "- It calls fetchDogs() to retrieve data about dog breeds from the API asynchronously. The await keyword is used here to ensure that the API request is completed before proceeding.\n",
    "- It initializes an array called images to store image URLs of dog breeds.\n",
    "- It adds an event listener to the \"Reset\" button so that when it's clicked, the resetGame function is called to reset the game.\n",
    "- It hides the \"Start\" button (start.style.display = 'none') and displays the game container (gameContainer.style.display = 'block').\n",
    "- It calls the setData function to set initial values for \"Least Moves\" and \"Fastest Time\" based on previously stored cookie values.\n",
    "- It processes the retrieved breeds data, creating pairs of images (duplicated for matching) and shuffling them randomly.\n",
    "- It initializes various game-related variables, such as flippedCards, moves, pairs, timerInterval, and startTime.\n",
    "- It creates HTML elements (cards) for the game board, attaching event listeners to each card."
   ]
  },
  {
   "cell_type": "markdown",
   "metadata": {},
   "source": [
    "### Starting the Game"
   ]
  },
  {
   "cell_type": "code",
   "execution_count": null,
   "metadata": {},
   "outputs": [],
   "source": [
    "start.addEventListener('click', async () => {\n",
    "    if (!gameStarted) {\n",
    "        await startGame();\n",
    "    }\n",
    "});"
   ]
  },
  {
   "cell_type": "markdown",
   "metadata": {},
   "source": [
    "The provided code defines an event listener for a \"click\" event on an element with the id \"start.\" When this element is clicked, the function inside the event listener is executed asynchronously. Here's an explanation of what this code does step by step:\n",
    "- start.addEventListener('click', async () => { ... });: This line attaches a \"click\" event listener to an HTML element with the id \"start.\" It waits for a click event to occur on this element.\n",
    "- async () => { ... }: This part defines an asynchronous arrow function. The use of the async keyword indicates that this function can use await inside it to handle promises.\n",
    "- if (!gameStarted) { ... }: Within the asynchronous function, there is a conditional statement that checks the value of a variable called gameStarted. The ! operator negates the value, so it checks if gameStarted is false.\n",
    "- await startGame();: If gameStarted is false, this line of code calls the startGame() function using the await keyword. The await keyword is used with a function that returns a promise, and it pauses the execution of the function until the promise is resolved or rejected."
   ]
  }
 ],
 "metadata": {
  "kernelspec": {
   "display_name": "Java",
   "language": "java",
   "name": "java"
  },
  "language_info": {
   "codemirror_mode": "java",
   "file_extension": ".jshell",
   "mimetype": "text/x-java-source",
   "name": "java",
   "pygments_lexer": "java",
   "version": "11.0.20.1+1-post-Ubuntu-0ubuntu122.04"
  },
  "orig_nbformat": 4
 },
 "nbformat": 4,
 "nbformat_minor": 2
}
