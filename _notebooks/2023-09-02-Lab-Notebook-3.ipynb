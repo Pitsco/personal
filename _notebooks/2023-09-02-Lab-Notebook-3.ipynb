{
 "cells": [
  {
   "cell_type": "markdown",
   "metadata": {},
   "source": [
    "---\n",
    "# this is YAML front matter\n",
    "- layout: post\n",
    "- title: Lab Notebook 3\n",
    "- description: Progress with hacks for week 2!\n",
    "- categories: [C4.0]\n",
    "- type: tangibles\n",
    "- courses: { csa: {week: 2} }\n",
    "---"
   ]
  },
  {
   "cell_type": "markdown",
   "metadata": {},
   "source": [
    "# JS Output w/ jquery Hacks"
   ]
  },
  {
   "cell_type": "markdown",
   "metadata": {},
   "source": [
    "<html>\n",
    "<li class=\"fork\">Refer <a href=\"{{site.baseurl}}/c1.4/2023/09/02/Markdown-table.html\">Here</a> for Markdown Table</li>\n",
    "</html>"
   ]
  },
  {
   "cell_type": "markdown",
   "metadata": {},
   "source": [
    "### Benefit of a Markdown Table\n",
    "- Easy to Use:\n",
    "\n",
    "\n",
    "### Style for Tables from w3schools\n",
    "[Link](https://www.w3schools.com/css/css_table.asp)\n",
    "\n",
    "### Describe the difference between HTML and JavaScript\n",
    "HTML (Hypertext Markup Language):\n",
    "- Purpose: HTML is the standard markup language used to create the structure and content of web pages. It provides the essential framework for presenting information on the web.\n",
    "- Static: HTML is primarily a static language, meaning that the content it generates is relatively fixed and doesn't change without manual editing. It defines the elements and their layout on a web page.\n",
    "- Markup: HTML consists of a set of tags that are used to define the structure of a web page, such as headings, paragraphs, links, images, and lists.\n",
    "- Browser Interpretation: Web browsers interpret HTML to display the content of a web page to users. HTML alone cannot create dynamic behavior or interactivity on a page.\n",
    "\n",
    "JavaScript:\n",
    "- Purpose: JavaScript is a dynamic, high-level, and versatile programming language used for adding interactivity, logic, and behavior to web pages. It enables web developers to create dynamic and responsive web applications.\n",
    "- Dynamic: JavaScript is a dynamic language, allowing you to change and manipulate elements on a web page in real-time based on user interactions or other events.\n",
    "- Scripting: JavaScript is a scripting language that can be embedded within HTML documents or included as separate files. It allows you to define functions, handle events, and modify the DOM (Document Object Model) to update the content or behavior of a web page.\n",
    "- Client-Side: JavaScript primarily runs on the client side (in the user's browser), making it essential for creating client-side interactivity and enhancing user experience.\n",
    "\n",
    "### Describe a benefit of a table that uses JavaScript\n",
    "Using JavaScript to enhance tables in HTML offers several benefits:\n",
    "- Dynamic Data Display: JavaScript can be used to populate, update, or manipulate table data dynamically. For example, you can fetch data from a server or perform calculations to update table cells without requiring a page refresh. This dynamic updating of data can provide users with real-time information.\n",
    "- Interactive Tables: JavaScript enables you to add interactive features to tables, such as sorting, filtering, and pagination. Users can easily find and organize data within the table, improving usability and user satisfaction.\n",
    "- Data Validation: JavaScript can be used to validate data entered into table cells in real-time, ensuring that data conforms to specific criteria or formats. This helps maintain data integrity and accuracy.\n",
    "- User Experience: By using JavaScript to enhance tables, you can create a more engaging and user-friendly experience. Users can interact with data directly in the table, reducing the need for additional navigation or user input.\n",
    "- Customization: JavaScript allows for extensive customization of table appearance and behavior. You can create visually appealing and functional tables tailored to your specific requirements.\n",
    "In summary, while HTML defines the structure and content of web pages, JavaScript adds dynamic behavior and interactivity. When used together, they enable developers to create rich and interactive web applications, including tables with enhanced features and user experiences."
   ]
  },
  {
   "cell_type": "markdown",
   "metadata": {},
   "source": [
    "# Javascript and Jupyter Reference Hacks\n"
   ]
  },
  {
   "cell_type": "markdown",
   "metadata": {},
   "source": [
    "### Adapt this tutorial to your own work and interests, how many steps do you understand?\n",
    "\n",
    "### Relate console output on last step to a previous hack\n",
    "\n",
    "### Explain, how console.log can help find errors in code?\n",
    "\n",
    "### Try out ChatGPT Jupyter features; though I prefer using Web and cut-copy-paste"
   ]
  }
 ],
 "metadata": {
  "kernelspec": {
   "display_name": "Java",
   "language": "java",
   "name": "java"
  },
  "language_info": {
   "codemirror_mode": "java",
   "file_extension": ".jshell",
   "mimetype": "text/x-java-source",
   "name": "java",
   "pygments_lexer": "java",
   "version": "11.0.20.1+1-post-Ubuntu-0ubuntu122.04"
  },
  "orig_nbformat": 4
 },
 "nbformat": 4,
 "nbformat_minor": 2
}
