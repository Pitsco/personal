{
 "cells": [
  {
   "attachments": {},
   "cell_type": "markdown",
   "metadata": {},
   "source": [
    "---\n",
    "- layout: post\n",
    "- title: HashMaps, HashSets, Collections, SQL Student Lessons\n",
    "- description: by Tirth T, Haseeb B, Sreeja G, Ekam K, Drew R, Adan R\n",
    "- courses: { compsci: {week: 13} }\n",
    "- type: hacks\n",
    "---"
   ]
  },
  {
   "cell_type": "markdown",
   "metadata": {},
   "source": [
    "## Collections\n",
    "\n",
    "### What are collections?\n",
    "Collections are any group of individual objects that are represented as a single unit is known as a Java Collection of Objects. In Java, a separate framework named the “Collection Framework” has been defined in JDK 1.2 which holds all the Java Collection Classes and Interface in it. It works as an interface that defines the highest-level of shared collection behavior, and extends Iterable which allows usage of ForEach loop."
   ]
  },
  {
   "cell_type": "markdown",
   "metadata": {},
   "source": [
    "### Types of Collections\n",
    "\n",
    "- **List:**  \n",
    "    - Ordered collection\n",
    "    - Allows duplicate elements\n",
    "    - Example: **ArrayList** and **LinkedList**\n",
    "\n",
    "- **Set:**  \n",
    "    - Unordered collection \n",
    "    - No duplicates\n",
    "    - Example: **HashSet** and **TreeSet**\n",
    "\n",
    "- **Map:**  \n",
    "    - Key-pair values\n",
    "    - Each key must be unique\n",
    "    - Example: **HashMap** and **TreeMap**\n",
    "\n",
    "- **Queue:**  \n",
    "    - Follows First-In-First-Out order\n",
    "    - Example: **LinkedList** and **PriorityQueue**\n",
    "\n",
    "- **Deque:**  \n",
    "    - Double ended queue\n",
    "    - Insertion and removal at both ends\n",
    "    - Example: **ArrayDeque**"
   ]
  },
  {
   "cell_type": "markdown",
   "metadata": {},
   "source": [
    "### Popcorn Hack!\n",
    "Come up with a real world example in which collections are used! Write your answer below:\n",
    "\n",
    "Using a bookshelf organizer, you categorize books by genre, creating a system that efficiently organizes and retrieves books based on their specific attributes. This categorization simplifies the process of managing and locating books on the bookshelf."
   ]
  },
  {
   "attachments": {},
   "cell_type": "markdown",
   "metadata": {},
   "source": [
    "## HashMaps \n",
    "\n",
    "#### What are they? \n",
    "\n",
    "Hash Maps are a **data structure** with keys and values; very similar to a Python dictionary. The keys in Hash Maps have a single value assigned to them, which can be accessed by calling the key: "
   ]
  },
  {
   "cell_type": "code",
   "execution_count": 1,
   "metadata": {},
   "outputs": [
    {
     "name": "stdout",
     "output_type": "stream",
     "text": [
      "Mercury is 0.39 astronomical units away from the Sun\n"
     ]
    }
   ],
   "source": [
    "import java.util.HashMap;  //Hashmaps are part of the java.util package\n",
    "\n",
    "public class PlanetDistances {\n",
    "    public static void main(String[] args) {\n",
    "\n",
    "        HashMap<String, Double> hashMap = new HashMap<>();\n",
    "\n",
    "        // key-value pairs, where the key is the planet (a string) and the value is the double assigned to each key\n",
    "        hashMap.put(\"Mercury\", 0.39);\n",
    "        hashMap.put(\"Venus\", 0.72); //adding an element\n",
    "        hashMap.put(\"Earth\", 1.00);\n",
    "        hashMap.remove(\"Earth\", 1.00); //removing an element\n",
    "\n",
    "        // the value 0.39 can be accessed by calling the key \"Mercury\"\n",
    "        double value = hashMap.get(\"Mercury\");\n",
    "        boolean exists = hashMap.containsKey(\"Mercury\"); //you can also check if a key exists\n",
    "        System.out.println(\"Mercury is \" + value + \" astronomical units away from the Sun\");\n",
    "    }\n",
    "}\n",
    "\n",
    "PlanetDistances.main(null);"
   ]
  },
  {
   "attachments": {},
   "cell_type": "markdown",
   "metadata": {},
   "source": [
    "As shown above, the data type of the keys and values must be defined when creating the Hashmap. You cannot use data types for keys or values that are different from the ones assigned to it. Also, keys must be non-null objects. However, values can be null!\n",
    "\n",
    "<br>\n",
    "\n",
    "Keys in a Hashmap must be unique. Otherwise the previous values of the key get overwritten."
   ]
  },
  {
   "cell_type": "code",
   "execution_count": 2,
   "metadata": {},
   "outputs": [
    {
     "name": "stdout",
     "output_type": "stream",
     "text": [
      "A Nike shoe would cost 80.97\n"
     ]
    }
   ],
   "source": [
    "import java.util.HashMap;  \n",
    "\n",
    "public class ShoePrices {\n",
    "    public static void main(String[] args) {\n",
    "\n",
    "        HashMap<String, Double> hashMap = new HashMap<>();\n",
    "\n",
    "        hashMap.put(\"Nike\", 41.97);\n",
    "        hashMap.put(\"Nike\", 80.97); //this value replaces the previous value \n",
    "        hashMap.put(\"Adidas\", 69.99);\n",
    "        hashMap.put(\"Vans\", 55.00);\n",
    "\n",
    "        double value = hashMap.get(\"Nike\");\n",
    "        System.out.println(\"A Nike shoe would cost \" + value);\n",
    "    }\n",
    "}\n",
    "\n",
    "ShoePrices.main(null);"
   ]
  },
  {
   "attachments": {},
   "cell_type": "markdown",
   "metadata": {},
   "source": [
    "#### Popcorn hack: what can we do if we want to assign multiple values to a single key? Do it below!: \n",
    "\n",
    "In Java, you can use a Map where the key is associated with a collection, such as a List or Set, to store multiple values. \n"
   ]
  },
  {
   "cell_type": "code",
   "execution_count": 1,
   "metadata": {},
   "outputs": [
    {
     "name": "stdout",
     "output_type": "stream",
     "text": [
      "Nike shoe prices: [41.97, 80.97]\n"
     ]
    }
   ],
   "source": [
    "import java.util.HashMap;\n",
    "import java.util.ArrayList;\n",
    "import java.util.List;\n",
    "\n",
    "public class ShoePrices {\n",
    "    public static void main(String[] args) {\n",
    "        HashMap<String, List<Double>> hashMap = new HashMap<>();\n",
    "        hashMap.computeIfAbsent(\"Nike\", k -> new ArrayList<>()).add(41.97);//adding prices to the \"Nike\" key\n",
    "        hashMap.computeIfAbsent(\"Nike\", k -> new ArrayList<>()).add(80.97);\n",
    "        hashMap.computeIfAbsent(\"Adidas\", k -> new ArrayList<>()).add(69.99); //adding prices for other brands\n",
    "        hashMap.computeIfAbsent(\"Vans\", k -> new ArrayList<>()).add(55.00);\n",
    "        List<Double> nikePrices = hashMap.get(\"Nike\");//retrieving prices for \"Nike\" key\n",
    "        if (nikePrices != null) {\n",
    "            System.out.println(\"Nike shoe prices: \" + nikePrices);\n",
    "        } else {\n",
    "            System.out.println(\"No prices found for Nike.\");\n",
    "        }\n",
    "    }\n",
    "}\n",
    "\n",
    "ShoePrices.main(null);"
   ]
  },
  {
   "attachments": {},
   "cell_type": "markdown",
   "metadata": {},
   "source": [
    "Note that collisions can still occur when two keys produce the same hash code. Hash codes are assigned to each key through a hash function (this is called hashing). They are used to determine what the key-value pair's index should be iwthin the Hashmaps. A bad hash function may cause collisions to occur, in which case the function would need to be adjusted. "
   ]
  },
  {
   "attachments": {},
   "cell_type": "markdown",
   "metadata": {},
   "source": [
    "HashMaps do not store the input order of the key-value pairs, and there is no guarantee the pairs will always be stored in the same order. Therefore if something needs to be found within a HashMap, iteration must be used. This can be done through `keySet()`, `values()`, or `entrySet()`\n",
    "\n",
    "\n",
    "<br>\n",
    "\n",
    "**keySet()** -- provides access to the set of keys. Useful for if you only need to access keys w/out values "
   ]
  },
  {
   "cell_type": "code",
   "execution_count": 3,
   "metadata": {},
   "outputs": [
    {
     "name": "stdout",
     "output_type": "stream",
     "text": [
      "List of Oscar winners [Nomadland, Parasite, Green Book, The Shape of Water]\n"
     ]
    }
   ],
   "source": [
    "import java.util.HashMap;\n",
    "import java.util.Set;\n",
    "\n",
    "public class OscarWinners {\n",
    "    public static void main(String[] args) {\n",
    "\n",
    "        HashMap<String, Integer> oscarWinnersYear = new HashMap<>();\n",
    "\n",
    "        oscarWinnersYear.put(\"Nomadland\", 2020);\n",
    "        oscarWinnersYear.put(\"Parasite\", 2019);\n",
    "        oscarWinnersYear.put(\"Green Book\", 2018);\n",
    "        oscarWinnersYear.put(\"The Shape of Water\", 2017);\n",
    "\n",
    "        Set<String> oscarWinners = oscarWinnersYear.keySet(); //using keySet to get keys \n",
    "\n",
    "        System.out.println(\"List of Oscar winners \" + oscarWinners);\n",
    "    }\n",
    "}\n",
    "\n",
    "OscarWinners.main(null);"
   ]
  },
  {
   "attachments": {},
   "cell_type": "markdown",
   "metadata": {},
   "source": [
    "**values()** -- returns set of values, without any keys "
   ]
  },
  {
   "cell_type": "code",
   "execution_count": 4,
   "metadata": {},
   "outputs": [
    {
     "name": "stdout",
     "output_type": "stream",
     "text": [
      "Years movies won Oscars [2020, 2019, 2018, 2017]\n"
     ]
    }
   ],
   "source": [
    "import java.util.HashMap;\n",
    "import java.util.Set;\n",
    "\n",
    "public class OscarWinners {\n",
    "    public static void main(String[] args) {\n",
    "\n",
    "        HashMap<String, Integer> oscarWinnersYear = new HashMap<>();\n",
    "\n",
    "        oscarWinnersYear.put(\"Nomadland\", 2020);\n",
    "        oscarWinnersYear.put(\"Parasite\", 2019);\n",
    "        oscarWinnersYear.put(\"Green Book\", 2018);\n",
    "        oscarWinnersYear.put(\"The Shape of Water\", 2017);\n",
    "\n",
    "        Collection<Integer> oscarWinnerYears = oscarWinnersYear.values(); //using values to get values \n",
    "\n",
    "        System.out.println(\"Years movies won Oscars \" + oscarWinnerYears);\n",
    "    }\n",
    "}\n",
    "\n",
    "OscarWinners.main(null);"
   ]
  },
  {
   "attachments": {},
   "cell_type": "markdown",
   "metadata": {},
   "source": [
    "**entryset()** -- returns keys and values in the form of objects. Useful for when working with key-value pair relationships"
   ]
  },
  {
   "cell_type": "code",
   "execution_count": 5,
   "metadata": {},
   "outputs": [
    {
     "name": "stdout",
     "output_type": "stream",
     "text": [
      "Oscars and their years [Nomadland=2020, Parasite=2019, Green Book=2018, The Shape of Water=2017]\n"
     ]
    }
   ],
   "source": [
    "import java.util.HashMap;\n",
    "import java.util.Set;\n",
    "\n",
    "public class OscarWinners {\n",
    "    public static void main(String[] args) {\n",
    "\n",
    "        HashMap<String, Integer> oscarWinnersYear = new HashMap<>();\n",
    "\n",
    "        oscarWinnersYear.put(\"Nomadland\", 2020);\n",
    "        oscarWinnersYear.put(\"Parasite\", 2019);\n",
    "        oscarWinnersYear.put(\"Green Book\", 2018);\n",
    "        oscarWinnersYear.put(\"The Shape of Water\", 2017);\n",
    "\n",
    "        Set<Map.Entry<String, Integer>> oscarWinnersAndYears = oscarWinnersYear.entrySet(); //using values to get values \n",
    "\n",
    "        System.out.println(\"Oscars and their years \" + oscarWinnersAndYears);\n",
    "    }\n",
    "}\n",
    "\n",
    "OscarWinners.main(null);"
   ]
  },
  {
   "attachments": {},
   "cell_type": "markdown",
   "metadata": {},
   "source": [
    "HashMaps have a time complexity of O(1) on average!"
   ]
  },
  {
   "attachments": {},
   "cell_type": "markdown",
   "metadata": {},
   "source": [
    "## HashSet\n",
    "\n",
    "### What is a hashset?\n",
    "- A hashset is a data structure that stores only unique values and does not allow duplicates. You can also think of it as a set of keys with no values.  "
   ]
  },
  {
   "cell_type": "code",
   "execution_count": 8,
   "metadata": {},
   "outputs": [
    {
     "name": "stdout",
     "output_type": "stream",
     "text": [
      "[Red, Blue, Green]\n"
     ]
    }
   ],
   "source": [
    "import java.util.HashSet;\n",
    "import java.util.Set;\n",
    "\n",
    "public class Colors{\n",
    "    static Set<String> colors = new HashSet<>();\n",
    "\n",
    "    public static void main(String[] args) {\n",
    "        colors.add(\"Red\");\n",
    "        colors.add(\"Blue\");\n",
    "        colors.add(\"Green\");\n",
    "        System.out.println(colors);\n",
    "    }\n",
    "}\n",
    "\n",
    "Colors.main(null);"
   ]
  },
  {
   "attachments": {},
   "cell_type": "markdown",
   "metadata": {},
   "source": [
    "### What if we add duplicates?\n",
    "- If we try add duplicates, the hashset will simply not add the duplicate value and return false as seen bellow. "
   ]
  },
  {
   "cell_type": "code",
   "execution_count": 10,
   "metadata": {},
   "outputs": [
    {
     "name": "stdout",
     "output_type": "stream",
     "text": [
      "true\n",
      "true\n",
      "false\n",
      "[Blue, Green]\n"
     ]
    }
   ],
   "source": [
    "public class ColorsButDifferent{\n",
    "    static Set<String> colors = new HashSet<>();\n",
    "\n",
    "    public static void main(String[] args) {\n",
    "        System.out.println(colors.add(\"Blue\"));\n",
    "        System.out.println(colors.add(\"Green\"));\n",
    "        System.out.println(colors.add(\"Green\"));\n",
    "        System.out.println(colors);\n",
    "    }\n",
    "}\n",
    "\n",
    "ColorsButDifferent.main(null);"
   ]
  },
  {
   "attachments": {},
   "cell_type": "markdown",
   "metadata": {},
   "source": [
    "### Order?\n",
    "- Hashsets are not ordered and do not store the order in which the values were added that means that if values are removed their order will not be preserved. "
   ]
  },
  {
   "cell_type": "code",
   "execution_count": 12,
   "metadata": {},
   "outputs": [
    {
     "name": "stdout",
     "output_type": "stream",
     "text": [
      "[Apple, Orange, Banana]\n",
      "[Apple, Orange]\n"
     ]
    }
   ],
   "source": [
    "public class Fruits{\n",
    "    static Set<String> fruits = new HashSet<>();\n",
    "\n",
    "    public static void main(String[] args) {\n",
    "        fruits.add(\"Apple\");\n",
    "        fruits.add(\"Banana\");\n",
    "        fruits.add(\"Orange\");\n",
    "        System.out.println(fruits);\n",
    "\n",
    "        fruits.remove(\"Banana\");\n",
    "\n",
    "        System.out.println(fruits);\n",
    "    }\n",
    "}\n",
    "\n",
    "Fruits.main(null);"
   ]
  },
  {
   "attachments": {},
   "cell_type": "markdown",
   "metadata": {},
   "source": [
    "### How do you know if a value is in a hashset?\n",
    "- You can use the contains method to check if a value is in a hashset."
   ]
  },
  {
   "cell_type": "code",
   "execution_count": 16,
   "metadata": {},
   "outputs": [
    {
     "name": "stdout",
     "output_type": "stream",
     "text": [
      "true\n"
     ]
    }
   ],
   "source": [
    "public class Fruits{\n",
    "    static Set<String> fruits = new HashSet<>();\n",
    "\n",
    "    public static void main(String[] args) {\n",
    "        fruits.add(\"Apple\");\n",
    "        fruits.add(\"Banana\");\n",
    "        fruits.add(\"Orange\");\n",
    "\n",
    "        System.out.println(fruits.contains(\"Apple\"));\n",
    "    }\n",
    "}\n",
    "\n",
    "Fruits.main(null);"
   ]
  },
  {
   "attachments": {},
   "cell_type": "markdown",
   "metadata": {},
   "source": [
    "### Other methods\n",
    "- clear() - removes all values from the hashset\n",
    "- isEmpty() - returns true if the hashset is empty\n",
    "- size() - returns the number of values in the hashset\n",
    "- toArray() - returns an array of the values in the hashset\n"
   ]
  },
  {
   "cell_type": "code",
   "execution_count": 26,
   "metadata": {},
   "outputs": [
    {
     "name": "stdout",
     "output_type": "stream",
     "text": [
      "[Apple, Orange, Banana]\n",
      "\n",
      "Length of Hashmap: 3\n",
      "\n",
      "Array Version of Hashmap: [Ljava.lang.Object;@665e264a\n",
      "\n",
      "Hashmap After Clearing []\n"
     ]
    }
   ],
   "source": [
    "public class Fruits{\n",
    "    static Set<String> fruits = new HashSet<>();\n",
    "\n",
    "    public static void main(String[] args) {\n",
    "        fruits.add(\"Apple\");\n",
    "        fruits.add(\"Banana\");\n",
    "        fruits.add(\"Orange\");\n",
    "        System.out.println(fruits);\n",
    "\n",
    "        System.out.println();\n",
    "        System.out.println(\"Length of Hashmap: \" + fruits.size());\n",
    "        \n",
    "        System.out.println();\n",
    "        System.out.println(\"Array Version of Hashmap: \" + fruits.toArray());\n",
    "\n",
    "        System.out.println();\n",
    "        fruits.clear();\n",
    "        System.out.println(\"Hashmap After Clearing \" + fruits);\n",
    "\n",
    "    }\n",
    "}\n",
    "\n",
    "Fruits.main(null);"
   ]
  },
  {
   "attachments": {},
   "cell_type": "markdown",
   "metadata": {},
   "source": [
    "### Iterations\n",
    "- You can iterate through a hashset using a for each loop or an iterator. The order of the values is not guaranteed and can change as values are removed or added.\n",
    "- These two methods are can be called using the `iterator()` and `forEach()` methods. For the `forEach()` method you can pass in a lambda expression (a lambda expression is an anonymous function) or a method reference."
   ]
  },
  {
   "cell_type": "code",
   "execution_count": 31,
   "metadata": {},
   "outputs": [
    {
     "name": "stdout",
     "output_type": "stream",
     "text": [
      "[Apple, Orange, Banana]\n",
      "Apple\n",
      "Orange\n",
      "Banana\n"
     ]
    }
   ],
   "source": [
    "// foreach loop to iterate through a set\n",
    "\n",
    "public class Fruits{\n",
    "    static Set<String> fruits = new HashSet<>();\n",
    "\n",
    "    public static void main(String[] args) {\n",
    "        fruits.add(\"Apple\");\n",
    "        fruits.add(\"Banana\");\n",
    "        fruits.add(\"Orange\");\n",
    "        System.out.println(fruits);\n",
    "\n",
    "        // Using foreach loop to iterate through the set and print each fruit as it goes\n",
    "        fruits.forEach(fruit -> System.out.println(fruit));\n",
    "    }\n",
    "}\n",
    "\n",
    "Fruits.main(null);\n"
   ]
  },
  {
   "cell_type": "code",
   "execution_count": 32,
   "metadata": {},
   "outputs": [
    {
     "name": "stdout",
     "output_type": "stream",
     "text": [
      "[Brie, Cheddar, Gouda]\n",
      "I love Brie\n",
      "I like Cheddar\n",
      "I like Gouda\n"
     ]
    }
   ],
   "source": [
    "// Different version of foreach loop to iterate through a set\n",
    "\n",
    "public class Cheeses{\n",
    "    static Set<String> cheeses = new HashSet<>();\n",
    "\n",
    "    public static void main(String[] args) {\n",
    "        cheeses.add(\"Cheddar\");\n",
    "        cheeses.add(\"Brie\");\n",
    "        cheeses.add(\"Gouda\");\n",
    "        System.out.println(cheeses);\n",
    "\n",
    "        cheeses.forEach(cheese -> {\n",
    "            if(cheese.equals(\"Brie\")) {\n",
    "                System.out.println(\"I love \" + cheese);\n",
    "            } else {\n",
    "                System.out.println(\"I like \" + cheese);\n",
    "            }\n",
    "        });\n",
    "    }\n",
    "}\n",
    "\n",
    "Cheeses.main(null);"
   ]
  },
  {
   "cell_type": "code",
   "execution_count": 36,
   "metadata": {},
   "outputs": [
    {
     "name": "stdout",
     "output_type": "stream",
     "text": [
      "[Sorry, Monopoly, Scrabble]\n",
      "\n",
      "Sorry\n",
      "Monopoly\n",
      "Scrabble\n"
     ]
    }
   ],
   "source": [
    "// using iterator to iterate through a set\n",
    "\n",
    "import java.util.Iterator;\n",
    "\n",
    "public class Games{\n",
    "    static Set<String> games = new HashSet<>();\n",
    "\n",
    "    public static void main(String[] args) {\n",
    "        games.add(\"Monopoly\");\n",
    "        games.add(\"Scrabble\");\n",
    "        games.add(\"Sorry\");\n",
    "        System.out.println(games);\n",
    "        System.out.println();\n",
    "\n",
    "        Iterator<String> iterator = games.iterator();\n",
    "        while(iterator.hasNext()) {\n",
    "            System.out.println(iterator.next());\n",
    "        }\n",
    "    }\n",
    "}\n",
    "\n",
    "Games.main(null);"
   ]
  },
  {
   "attachments": {},
   "cell_type": "markdown",
   "metadata": {},
   "source": [
    "### How to check for equality?\n",
    "- You can check if two hashsets are equal by using the `equals()` method. This method will return true if the hashsets contain the same values and false if they do not."
   ]
  },
  {
   "cell_type": "code",
   "execution_count": 40,
   "metadata": {},
   "outputs": [
    {
     "name": "stdout",
     "output_type": "stream",
     "text": [
      "Are the sets equal? true\n"
     ]
    }
   ],
   "source": [
    "public class Pokemon {\n",
    "    public static void main(String[] args) {\n",
    "        Set<String> pokemonSet1 = new HashSet<>();\n",
    "        Set<String> pokemonSet2 = new HashSet<>();\n",
    "\n",
    "        // Populate the sets\n",
    "        pokemonSet1.add(\"Pikachu\");\n",
    "        pokemonSet1.add(\"Charmander\");\n",
    "        pokemonSet1.add(\"Pikaman\");\n",
    "\n",
    "        pokemonSet2.add(\"Pikachu\");\n",
    "        pokemonSet2.add(\"Charmander\");\n",
    "        pokemonSet2.add(\"Pikaman\");\n",
    "\n",
    "        // Check equality\n",
    "        boolean areEqual = pokemonSet1.equals(pokemonSet2);\n",
    "        System.out.println(\"Are the sets equal? \" + areEqual);\n",
    "    }\n",
    "}\n",
    "\n",
    "Pokemon.main(null);\n"
   ]
  },
  {
   "attachments": {},
   "cell_type": "markdown",
   "metadata": {},
   "source": [
    "### Other kinds of hashsets\n",
    "- There are other kinds of hashsets that are similar to the hashset but have some differences. These include the linkedhashset and the treeset. \n",
    "- The linkedhashset is similar to the hashset but it maintains the order in which the values were added. \n",
    "- The treeset is similar to the hashset but it sorts the values in ascending order."
   ]
  },
  {
   "cell_type": "code",
   "execution_count": 47,
   "metadata": {},
   "outputs": [
    {
     "name": "stdout",
     "output_type": "stream",
     "text": [
      "LinkedHashSet: \n",
      "Pikachu\n",
      "Charmander\n",
      "Pikaman\n",
      "\n",
      "New hashset: [Charmander, Pikaman]\n"
     ]
    }
   ],
   "source": [
    "// LinkedHashSet\n",
    "\n",
    "import java.util.LinkedHashSet;\n",
    "import java.util.Set;\n",
    "\n",
    "public class LinkedHashSetExample {\n",
    "    public static void main(String[] args) {\n",
    "        Set<String> linkedHashSet = new LinkedHashSet<>();\n",
    "\n",
    "        // Add elements\n",
    "        linkedHashSet.add(\"Pikachu\");\n",
    "        linkedHashSet.add(\"Charmander\");\n",
    "        linkedHashSet.add(\"Pikaman\");\n",
    "\n",
    "        // Iterate through the LinkedHashSet\n",
    "        System.out.println(\"LinkedHashSet: \");\n",
    "        linkedHashSet.forEach(pokemon -> System.out.println(pokemon));\n",
    "        System.out.println();\n",
    "\n",
    "        linkedHashSet.remove(\"Pikachu\");\n",
    "        System.out.println(\"New hashset: \" + linkedHashSet);\n",
    "    }\n",
    "}\n",
    "\n",
    "LinkedHashSetExample.main(null);"
   ]
  },
  {
   "cell_type": "code",
   "execution_count": 51,
   "metadata": {},
   "outputs": [
    {
     "name": "stdout",
     "output_type": "stream",
     "text": [
      "Alberquerque, New Mexico\n",
      "Charmander\n",
      "Pikachu\n",
      "Pikaman\n"
     ]
    }
   ],
   "source": [
    "// TreeSet\n",
    "import java.util.Set;\n",
    "import java.util.TreeSet;\n",
    "\n",
    "public class TreeSetExample {\n",
    "    public static void main(String[] args) {\n",
    "        Set<String> treeSet = new TreeSet<>();\n",
    "\n",
    "        // Add elements\n",
    "        treeSet.add(\"Alberquerque, New Mexico\");\n",
    "        treeSet.add(\"Pikachu\");\n",
    "        treeSet.add(\"Charmander\");\n",
    "        treeSet.add(\"Pikaman\");\n",
    "\n",
    "        // Iterate through the TreeSet\n",
    "        treeSet.forEach(pokemon -> System.out.println(pokemon));\n",
    "        // The values for the TreeSet are sorted alphabetically\n",
    "    }\n",
    "}\n",
    "\n",
    "TreeSetExample.main(null);"
   ]
  },
  {
   "cell_type": "markdown",
   "metadata": {},
   "source": [
    "## SQL\n",
    "\n",
    "SQL is a programming language focused on managing and manipulating relational (table-based) databases. It acts as the backbone for many of this class's project backends, allowing users to create, read, update and delete data efficiently. To get a better idea of how data is formatted with JPA to be stored in an SQL database, we'll be looking at the `Person` object in the [lesson backend](https://github.com/Tirth-Thakkar/LessonBackend). Follow along in this notebook.\n",
    "\n",
    "### Person Object Setup\n",
    "\n",
    "(see .../mvc/person/Person.java)\n",
    "\n",
    "After the first three tags, which specify to Lombok that `@AllArgsConstructor` and `@NoArgsConstructor` methods should be created\n",
    "\n",
    "The `@Entity` tag indicates that Person objects will be stored as entities in a database. Generally, entities' attributes are represented by values in columns in the SQLite table."
   ]
  },
  {
   "cell_type": "code",
   "execution_count": null,
   "metadata": {},
   "outputs": [],
   "source": [
    "@Data\n",
    "@AllArgsConstructor\n",
    "@NoArgsConstructor\n",
    "@Entity\n",
    "@Convert(attributeName =\"person\", converter = JsonType.class)\n",
    "public class Person //..."
   ]
  },
  {
   "cell_type": "markdown",
   "metadata": {},
   "source": [
    "The `@Id` tag specifies to that this value will be used as the unique identifier for each object in the database, and `@GeneratedValue(strategy = GenerationType.AUTO)` allows these ID's to be automatically generated when a new Person is created. In order for data to be most easily differentiated and manipulated in a database, IDs are deeply important to use."
   ]
  },
  {
   "cell_type": "code",
   "execution_count": null,
   "metadata": {},
   "outputs": [],
   "source": [
    "@Id\n",
    "@GeneratedValue(strategy = GenerationType.AUTO)\n",
    "private Long id;"
   ]
  },
  {
   "cell_type": "markdown",
   "metadata": {},
   "source": [
    "### Person JPA Repository Setup\n",
    "\n",
    "(see .../mvc/person/PersonJpaRepository.java)\n",
    "\n",
    "JPA is a great asset when creating an SQL database because it can provide methods that help you modify its contents. If a specific object has a `JpaRepository` interface made that extends the base JPA repository, it allows you to access many useful JPA methods."
   ]
  },
  {
   "cell_type": "code",
   "execution_count": null,
   "metadata": {},
   "outputs": [],
   "source": [
    "import org.springframework.data.jpa.repository.JpaRepository;\n",
    "import org.springframework.data.jpa.repository.Query;\n",
    "\n",
    "// ...\n",
    "\n",
    "public interface PersonJpaRepository extends JpaRepository<Person, Long> // ..."
   ]
  },
  {
   "cell_type": "markdown",
   "metadata": {},
   "source": [
    "#### Popcorn Hack!\n",
    "\n",
    "List all of the JPA methods that you see in the PersonJpaRepository.java file and what their purpose is.\n",
    "\n",
    "Person findByEmail(String email)\n",
    "\n",
    "Purpose: Finds a person by their email address.\n",
    "List Person findAllByOrderByNameAsc()\n",
    "\n",
    "Purpose: Retrieves all persons and orders them by name in ascending order.\n",
    "List Person findByNameContainingIgnoreCaseOrEmailContainingIgnoreCase(String name, String email)\n",
    "\n",
    "Purpose: Finds persons whose name contains the specified substring (case-insensitive) or whose email contains the specified substring (case-insensitive).\n",
    "Person findByEmailAndPassword(String email, String password)\n",
    "\n",
    "Purpose: Finds a person by their email and password. This can be useful for authentication.\n",
    "List Person findByLikeTermNative(String term)\n",
    "\n",
    "Purpose: Executes a custom native SQL query to find persons whose name or email is similar to the provided term.\n",
    "\n",
    "#### Custom JPA Queries\n",
    "\n",
    "You can create custom JPA queries that utilize SQL to serve a specific purpose outside of the existing JPA methods. See the example below from PersonJpaRepository.java:"
   ]
  },
  {
   "cell_type": "code",
   "execution_count": null,
   "metadata": {},
   "outputs": [],
   "source": [
    "@Query(\n",
    "        value = \"SELECT * FROM Person p WHERE p.name LIKE ?1 or p.email LIKE ?1\",\n",
    "        nativeQuery = true)\n",
    "List<Person> findByLikeTermNative(String term);"
   ]
  },
  {
   "cell_type": "markdown",
   "metadata": {},
   "source": [
    "Going step-by-step:\n",
    "- The `@Query` indicates a custom query is being created\n",
    "- `value` is a String containing an SQL query that will be run with the method `findByLikeTermNative`\n",
    "    - `?1` is a placeholder for a parameter (in this case the String `term` from the method declaration)\n",
    "- `nativeQuery` is set to true, indicating that the value uses native SQL rather than JPQL (Java Persistence Query Language)\n",
    "\n",
    "Using a custom SQL query like this would be a great way to show understanding on the homework."
   ]
  },
  {
   "cell_type": "markdown",
   "metadata": {},
   "source": [
    "### Many-to-Many Relationship\n",
    "\n",
    "(see .../mvc/person/Person.java)\n",
    "\n",
    "A \"Many-to-Many\" relationship (shown in the @ManyToMany tag) indicates that entities on both sides of a relationship can have multiple connections with each other.\n",
    "\n",
    "This condition allows for one object to be related to multiple different objects, and those different objects on the other side of the relationship can have their own relationship to other objects."
   ]
  },
  {
   "cell_type": "code",
   "execution_count": null,
   "metadata": {},
   "outputs": [],
   "source": [
    "@ManyToMany(fetch = EAGER)\n",
    "private Collection<PersonRole> roles = new ArrayList<>();"
   ]
  },
  {
   "cell_type": "markdown",
   "metadata": {},
   "source": [
    "(fetch = EAGER) specifies that, whenever a `Person` object is loaded, its corresponding `PersonRole` objects should be loaded simultaneously.\n",
    "\n",
    "Objects in a \"many-to-many\" relationship often use \"join tables\" to represent the connections between these objects.\n",
    "\n",
    "```text\n",
    "| person_id | role_id |\n",
    "|-----------|---------|\n",
    "| 1         | 1       |\n",
    "| 1         | 2       |\n",
    "| 2         | 2       |\n",
    "| 3         | 1       |\n",
    "| 3         | 3       |\n",
    "```\n",
    "\n",
    "This is what a \"join table\" may look like with multiple interconnected people and roles. There is a table in the backend repository's SQLite.db called `person_roles` that acts as a join table for the two roles, but you'll notice that it's empty. If you can show it filled up, that sounds like a good reason to give extra points.\n",
    "\n",
    "#### Popcorn Hack!\n",
    "\n",
    "Explain in your own words what the relationship between `Person` objects and `PersonRole` objects is. Why is this relevant to collections? (Hint: In the code above, multiple `PersonRole` objects are stored within a `Person` object's roles attribute.)\n",
    "\n",
    "The relationship between `Person` and `PersonRole` objects involves a `Person` having multiple roles, stored in its `roles` attribute. This connection is important to collections as it enables the organized management of diverse roles associated with an individual within a single `Person` object."
   ]
  },
  {
   "cell_type": "markdown",
   "metadata": {},
   "source": [
    "### Many-to-One Relationship\n",
    "\n",
    "On the other hand, there is also a \"Many-to-One\" relationship that can exist between two objects. It means that multiple instances of one entity (the \"many\" side) are associated with a single instance of another entity (the \"one\" side). This can be seen applied to the `Note` object in relation to the `Person` object."
   ]
  },
  {
   "cell_type": "code",
   "execution_count": null,
   "metadata": {},
   "outputs": [],
   "source": [
    "@ManyToOne(fetch = FetchType.LAZY, optional = false)\n",
    "@JoinColumn(name = \"tutorial_id\", nullable = false) // notice this!\n",
    "@OnDelete(action = OnDeleteAction.CASCADE)\n",
    "@JsonIgnore\n",
    "private Person person;"
   ]
  },
  {
   "cell_type": "markdown",
   "metadata": {},
   "source": [
    "Notice the `@JoinColumn(name = \"tutorial_id\", nullable = false)` tag. Then, check the `note` table in the sqlite.db file.\n",
    "\n",
    "#### Popcorn Hack!\n",
    "\n",
    "Where do you see \"tutorial_id\" on the table? What does it represent in relation to the leftmost \"id\" column?\n",
    "\n",
    "\n",
    "The \"tutorial_id\" column, specified by the `@JoinColumn(name = \"tutorial_id\")`, represents a foreign key in the database table of the entity containing this code, establishing a many-to-one relationship with the \"id\" column of the \"Person\" entity. It signifies that each entry in the table is associated with a specific \"Person\" through the \"tutorial_id\" foreign key."
   ]
  },
  {
   "cell_type": "markdown",
   "metadata": {},
   "source": [
    "### Storing HashMaps with jsonb\n",
    "\n",
    "JSONB is a binary representation of JSON data. It is a data type used in some relational databases (such as SQL databases) to store JSON documents in a more efficient and flexible way compared to traditional JSON. Within SQL databases, this data from the JSON can often be filtered, searched and/or extracted using provided functions."
   ]
  },
  {
   "cell_type": "code",
   "execution_count": null,
   "metadata": {},
   "outputs": [],
   "source": [
    "@JdbcTypeCode(SqlTypes.JSON)\n",
    "@Column(columnDefinition = \"jsonb\")\n",
    "private Map<String,Map<String, Object>> stats = new HashMap<>(); "
   ]
  },
  {
   "cell_type": "markdown",
   "metadata": {},
   "source": [
    "JSONB allows for the storage of nested and dynamic data structures. In the context of `Person` object stats, it means that each person can store activity data with the formatted date as the key, and the structure of this JSON data can be modified or extended without altering the database schema.\n",
    "\n",
    "You can view the way this data is structured in the `person` sqlite.db table."
   ]
  },
  {
   "cell_type": "markdown",
   "metadata": {},
   "source": [
    "## Homework\n",
    "\n",
    "- Complete all popcorn hacks throughout this lesson\n",
    "- Using the [Person](https://github.com/Tirth-Thakkar/LessonBackend/tree/master/src/main/java/com/nighthawk/spring_portfolio/mvc/person) object as inspiration, create your own UNIQUE SQL database with at least 3 object entries that incorporates either a \"many-to-many\" relationship with another object (hint: Person and PersonRole) OR uses the JSONB column definition to store more complex data (such as a HashMap) as an attribute (hint: stats in Person object).\n",
    "    - Show a clear screenshot of your SQLite table (using SQLite viewer) on your blog for credit.\n",
    "    - Using past group project materials is valid for this homework as long as the expectations are met.\n",
    "\n",
    "### Ideas for 1.0/1.0\n",
    "\n",
    "- Incorporating both a \"many-to-many\" relationship and a JSONB column with information would be great.\n",
    "- Implementing JPA repository methods (think CRUD methods, custom queries, etc.) would show interest in modifying SQL database data.\n",
    "- Take extra notes on this lesson that show deeper research into Collections and SQL."
   ]
  },
  {
   "cell_type": "markdown",
   "metadata": {},
   "source": [
    "## Hacks\n",
    "This is what happens when I run the Person.java in terminal, replacing human with book (first five books of the harry potter series) and the email with the author (JK Rowling's email)\n",
    "![hi](https://raw.githubusercontent.com/Pitsco/personal/main/images/hashmaphack1.png)\n",
    "\n",
    "### SQLite Table:\n",
    "![image-2.png](https://raw.githubusercontent.com/Pitsco/personal/main/images/hashmaphack2.png)\n",
    "\n",
    "I made a new one that contained the books with different book titles and emails. I had an issue with `@Column(unique=true)` as I didn't realize that if you had the same email, the table will not show information of other books with the same email. Therefore, I had to change the emails"
   ]
  },
  {
   "cell_type": "markdown",
   "metadata": {},
   "source": [
    "# Person.java code in person folder"
   ]
  },
  {
   "cell_type": "code",
   "execution_count": 1,
   "metadata": {},
   "outputs": [],
   "source": [
    "package com.nighthawk.spring_portfolio.mvc.person;\n",
    "\n",
    "import java.text.SimpleDateFormat;\n",
    "import java.time.LocalDate;\n",
    "import java.time.Period;\n",
    "import java.time.ZoneId;\n",
    "import java.util.ArrayList;\n",
    "import java.util.Collection;\n",
    "import java.util.Date;\n",
    "import java.util.HashMap;\n",
    "import java.util.Map;\n",
    "\n",
    "import jakarta.persistence.Column;\n",
    "import jakarta.persistence.Entity;\n",
    "import jakarta.persistence.GeneratedValue;\n",
    "import jakarta.persistence.GenerationType;\n",
    "import jakarta.persistence.Id;\n",
    "import jakarta.persistence.ManyToMany;\n",
    "import jakarta.persistence.Convert;\n",
    "import static jakarta.persistence.FetchType.EAGER;\n",
    "import jakarta.validation.constraints.Email;\n",
    "import jakarta.validation.constraints.NotEmpty;\n",
    "import jakarta.validation.constraints.Size;\n",
    "\n",
    "import org.hibernate.annotations.JdbcTypeCode;\n",
    "import org.hibernate.type.SqlTypes;\n",
    "import org.springframework.format.annotation.DateTimeFormat;\n",
    "\n",
    "import com.vladmihalcea.hibernate.type.json.JsonType;\n",
    "\n",
    "import lombok.AllArgsConstructor;\n",
    "import lombok.Data;\n",
    "import lombok.NoArgsConstructor;\n",
    "import lombok.NonNull;\n",
    "\n",
    "/*\n",
    "Person is a POJO, Plain Old Java Object.\n",
    "First set of annotations add functionality to POJO\n",
    "--- @Setter @Getter @ToString @NoArgsConstructor @RequiredArgsConstructor\n",
    "The last annotation connect to database\n",
    "--- @Entity\n",
    " */\n",
    "@Data\n",
    "@AllArgsConstructor\n",
    "@NoArgsConstructor\n",
    "@Entity\n",
    "@Convert(attributeName =\"person\", converter = JsonType.class)\n",
    "public class Person {\n",
    "\n",
    "    // automatic unique identifier for Person record\n",
    "    @Id\n",
    "    @GeneratedValue(strategy = GenerationType.AUTO)\n",
    "    private Long id;\n",
    "\n",
    "    // email, password, roles are key attributes to login and authentication\n",
    "    @NotEmpty\n",
    "    @Size(min=5)\n",
    "    @Column(unique=true)\n",
    "    @Email\n",
    "    private String email;\n",
    "\n",
    "    @NotEmpty\n",
    "    private String password;\n",
    "\n",
    "    // @NonNull, etc placed in params of constructor: \"@NonNull @Size(min = 2, max = 30, message = \"Name (2 to 30 chars)\") String name\"\n",
    "    @NonNull\n",
    "    @Size(min = 2, max = 100, message = \"Book Name (2 to 30 chars)\")\n",
    "    private String book;\n",
    "\n",
    "    @DateTimeFormat(pattern = \"yyyy-MM-dd\")\n",
    "    private Date datepublished;\n",
    "\n",
    "    // To be implemented\n",
    "    @ManyToMany(fetch = EAGER)\n",
    "    private Collection<PersonRole> roles = new ArrayList<>();\n",
    "\n",
    "    /* HashMap is used to store JSON for daily \"stats\"\n",
    "    \"stats\": {\n",
    "        \"2022-11-13\": {\n",
    "            \"calories\": 2200,\n",
    "            \"steps\": 8000\n",
    "        }\n",
    "    }\n",
    "    */\n",
    "    @JdbcTypeCode(SqlTypes.JSON)\n",
    "    @Column(columnDefinition = \"jsonb\")\n",
    "    private Map<String,Map<String, Object>> stats = new HashMap<>(); \n",
    "    \n",
    "\n",
    "    // Constructor used when building object from an API\n",
    "    public Person(String email, String password, String book, Date datepublished) {\n",
    "        this.email = email;\n",
    "        this.password= password;\n",
    "        this.book = book;\n",
    "        this.datepublished = datepublished;\n",
    "    }\n",
    "\n",
    "    // A custom getter to return age from dob attribute\n",
    "    public int getAge() {\n",
    "        if (this.datepublished != null) {\n",
    "            LocalDate birthDay = this.datepublished.toInstant().atZone(ZoneId.systemDefault()).toLocalDate();\n",
    "            return Period.between(birthDay, LocalDate.now()).getYears(); }\n",
    "        return -1;\n",
    "    }\n",
    "\n",
    "    public String getPassword() {\n",
    "        return password;\n",
    "    }\n",
    "\n",
    "    public void setPassword(String password) {\n",
    "        this.password = password;\n",
    "    }\n",
    "\n",
    "    public String getbook() {\n",
    "        return book;\n",
    "    }\n",
    "\n",
    "    public void setbook(String book) {\n",
    "        this.book = book;\n",
    "    }\n",
    "\n",
    "    public Date getdatepublished() {\n",
    "        return datepublished;\n",
    "    }\n",
    "\n",
    "    public void setdatepublished(Date datepublished) {\n",
    "        this.datepublished = datepublished;\n",
    "    }\n",
    "    // Initialize static test data \n",
    "    public static Person[] init() {\n",
    "\n",
    "        // Basics of class construction\n",
    "        Person p1 = new Person();\n",
    "        p1.setbook(\"Harry Potter and the Philosopher's Stone\");\n",
    "        p1.setEmail(\"jkrowling@gmail.com\");\n",
    "        p1.setPassword(\"123Toby!\");\n",
    "        // Adding Note to notes collection\n",
    "        try {  \n",
    "            Date d = new SimpleDateFormat(\"MM-dd-yyyy\").parse(\"06-26-1997\"); // Publish date of the first Harry Potter book\n",
    "            p1.setdatepublished(d);\n",
    "        } catch (Exception e) {\n",
    "            // No actions as default date of birth is good enough\n",
    "        }\n",
    "    \n",
    "        Person p2 = new Person();\n",
    "        p2.setbook(\"Harry Potter and the Chamber of Secrets\");\n",
    "        p2.setEmail(\"jkrowling@gmail.com\");\n",
    "        p2.setPassword(\"123LexB!\");\n",
    "        try {\n",
    "            Date d = new SimpleDateFormat(\"MM-dd-yyyy\").parse(\"07-02-1998\"); // Publish date of the second Harry Potter book\n",
    "            p2.setdatepublished(d);\n",
    "        } catch (Exception e) {\n",
    "        }\n",
    "    \n",
    "        Person p3 = new Person();\n",
    "        p3.setbook(\"Harry Potter and the Prisoner of Azkaban\");\n",
    "        p3.setEmail(\"jkrowling@gmail.com\");\n",
    "        p3.setPassword(\"123Niko!\");\n",
    "        try {\n",
    "            Date d = new SimpleDateFormat(\"MM-dd-yyyy\").parse(\"07-08-1999\"); // Publish date of the third Harry Potter book\n",
    "            p3.setdatepublished(d);\n",
    "        } catch (Exception e) {\n",
    "        }\n",
    "    \n",
    "        Person p4 = new Person();\n",
    "        p4.setbook(\"Harry Potter and the Goblet of Fire\");\n",
    "        p4.setEmail(\"jkrowling@gmail.com\");\n",
    "        p4.setPassword(\"123Madam!\");\n",
    "        try {\n",
    "            Date d = new SimpleDateFormat(\"MM-dd-yyyy\").parse(\"07-08-2000\"); // Publish date of the fourth Harry Potter book\n",
    "            p4.setdatepublished(d);\n",
    "        } catch (Exception e) {\n",
    "        }\n",
    "    \n",
    "        Person p5 = new Person();\n",
    "        p5.setbook(\"Harry Potter and the Order of the Phoenix\");\n",
    "        p5.setEmail(\"jkrowling@gmail.com\");\n",
    "        p5.setPassword(\"123Qwerty!\");\n",
    "        try {\n",
    "            Date d = new SimpleDateFormat(\"MM-dd-yyyy\").parse(\"06-21-2003\"); // Publish date of the fifth Harry Potter book\n",
    "            p5.setdatepublished(d);\n",
    "        } catch (Exception e) {\n",
    "        }\n",
    "    \n",
    "        // Array definition and data initialization\n",
    "        Person persons[] = {p1, p2, p3, p4, p5};\n",
    "        for (Person person : persons) {\n",
    "            Map<String, Object> statsMap = new HashMap<>();\n",
    "            statsMap.put(\"complexity out of 10\", 7);\n",
    "            person.getStats().put(\"2022-12-17\", statsMap);\n",
    "        }\n",
    "        return persons;\n",
    "    }    \n",
    "\n",
    "    public static void main(String[] args) {\n",
    "        // obtain Person from initializer\n",
    "        Person persons[] = init();\n",
    "\n",
    "        // iterate using \"enhanced for loop\"\n",
    "        for( Person person : persons) {\n",
    "            System.out.println(person);  // print object\n",
    "        }\n",
    "    }\n",
    "\n",
    "}"
   ]
  },
  {
   "cell_type": "markdown",
   "metadata": {},
   "source": [
    "# Person.java file in the classDataStruc Folder"
   ]
  },
  {
   "cell_type": "code",
   "execution_count": null,
   "metadata": {},
   "outputs": [],
   "source": [
    "package com.nighthawk.hacks.classDataStruct;\n",
    "\n",
    "import java.text.SimpleDateFormat;\n",
    "import java.time.LocalDate;\n",
    "import java.time.Period;\n",
    "import java.time.ZoneId;\n",
    "import java.util.Date;\n",
    "\n",
    "\n",
    "/*\n",
    "Adapted from Person POJO, Plain Old Java Object.\n",
    " */\n",
    "public class Person extends Generics{\n",
    "    // Class data\n",
    "    private static String classType = \"Person\";\n",
    "    public static KeyTypes key = KeyType.title;  // static initializer\n",
    "\tpublic static void setOrder(KeyTypes key) {Person.key = key;}\n",
    "\tpublic enum KeyType implements KeyTypes {title, uid, name, dob, age}\n",
    "\n",
    "    // Instance data\n",
    "    private String uid;  // user / person id\n",
    "    private String password;\n",
    "    private String name;\n",
    "    private Date dob;\n",
    "    \n",
    "\n",
    "    // Constructor with zero arguments\n",
    "    public Person() {\n",
    "        super.setType(classType);\n",
    "    }\n",
    "\n",
    "    // Constructor used when building object from an API\n",
    "    public Person(String uid, String password, String name, Date dob) {\n",
    "        this();  // runs zero argument constructor\n",
    "        this.uid = uid;\n",
    "        this.password = password;\n",
    "        this.name = name;\n",
    "        this.dob = dob;\n",
    "    }\n",
    "\n",
    "    /* 'Generics' requires getKey to help enforce KeyTypes usage */\n",
    "\t@Override\n",
    "\tprotected KeyTypes getKey() { return Person.key; }\n",
    "\n",
    "    public String getUserID() {\n",
    "        return uid;\n",
    "    }\n",
    "\n",
    "    /* 'Generics' requires toString override\n",
    "\t * toString provides data based off of Static Key setting\n",
    "\t */\n",
    "\t@Override\n",
    "\tpublic String toString() {\t\t\n",
    "\t\tString output=\"\";\n",
    "\t\tif (KeyType.uid.equals(this.getKey())) {\n",
    "\t\t\toutput += this.uid;\n",
    "\t\t} else if (KeyType.name.equals(this.getKey())) {\n",
    "\t\t\toutput += this.name;\n",
    "\t\t} else if (KeyType.age.equals(this.getKey())) {\n",
    "\t\t\toutput += \"0000\" + this.getAge();  // pads integer 1,100,11,2 to 0001,0100,0011,0002\n",
    "\t\t\toutput = output.substring(output.length() - 4);\n",
    "\t\t} else {\n",
    "\t\t\toutput = super.getType() + \": \" + this.uid + \", \" + this.name + \", \" + this.getAge();\n",
    "\t\t}\n",
    "\t\treturn output;\n",
    "\t}\n",
    "\n",
    "    public void setUid(String uid) {\n",
    "        this.uid = uid;\n",
    "    }\n",
    "\n",
    "    public String getPassword() {\n",
    "        return password;\n",
    "    }\n",
    "\n",
    "    public void setPassword(String password) {\n",
    "        this.password = password;\n",
    "    }\n",
    "\n",
    "    public String getName() {\n",
    "        return name;\n",
    "    }\n",
    "\n",
    "    public void setName(String name) {\n",
    "        this.name = name;\n",
    "    }\n",
    "\n",
    "    public Date getDob() {\n",
    "        return dob;\n",
    "    }\n",
    "\n",
    "    public void setDob(Date dob) {\n",
    "        this.dob = dob;\n",
    "    }\n",
    "\n",
    "    // A custom getter to return age from dob attribute\n",
    "    public int getAge() {\n",
    "        if (this.dob != null) {\n",
    "            LocalDate birthDay = this.dob.toInstant().atZone(ZoneId.systemDefault()).toLocalDate();\n",
    "            return Period.between(birthDay, LocalDate.now()).getYears(); }\n",
    "        return -1;\n",
    "    }\n",
    "\n",
    "    // Initialize static test data \n",
    "    public static Person[] init() {\n",
    "\n",
    "        // basics of class construction\n",
    "        Person p1 = new Person();\n",
    "        p1.setName(\"Harry Potter and the Sorcerer's Stone\");\n",
    "        p1.setUid(\"jkrowling1@gmail.com\");\n",
    "        p1.setPassword(\"123J.K.R.!\");\n",
    "        try {\n",
    "            Date d = new SimpleDateFormat(\"MM-dd-yyyy\").parse(\"06-26-1997\"); //publish date of the first book\n",
    "            p1.setDob(d);\n",
    "        } catch (Exception e) {\n",
    "            // no actions as dob default is good enough\n",
    "        }\n",
    "    \n",
    "        Person p2 = new Person();\n",
    "        p2.setName(\"Harry Potter and the Chamber of Secrets\");\n",
    "        p2.setUid(\"jkrowling2@gmail.com\");\n",
    "        p2.setPassword(\"123J.K.R.!\");\n",
    "        try {\n",
    "            Date d = new SimpleDateFormat(\"MM-dd-yyyy\").parse(\"07-02-1998\"); //publish date of the second book\n",
    "            p2.setDob(d);\n",
    "        } catch (Exception e) {\n",
    "        }\n",
    "    \n",
    "        Person p3 = new Person();\n",
    "        p3.setName(\"Harry Potter and the Prisoner of Azkaban\");\n",
    "        p3.setUid(\"jkrowling3@gmail.com\");\n",
    "        p3.setPassword(\"123J.K.R.!\");\n",
    "        try {\n",
    "            Date d = new SimpleDateFormat(\"MM-dd-yyyy\").parse(\"07-08-1999\"); //publish date of the third book\n",
    "            p3.setDob(d);\n",
    "        } catch (Exception e) {\n",
    "        }\n",
    "    \n",
    "        Person p4 = null;\n",
    "        Person p5 = null;\n",
    "        try {\n",
    "            p4 = new Person(\n",
    "                \"jkrowling4@gmail.com\",\n",
    "                \"123J.K.R.!\",\n",
    "                \"Harry Potter and the Goblet of Fire\",\n",
    "                new SimpleDateFormat(\"MM-dd-yyyy\").parse(\"07-08-2000\")\n",
    "            );\n",
    "    \n",
    "            p5 = new Person(\n",
    "                \"jkrowling5@gmail.com\",\n",
    "                \"123J.K.R!\",\n",
    "                \"Harry Potter and the Order of the Phoenix\",\n",
    "                new SimpleDateFormat(\"MM-dd-yyyy\").parse(\"06-21-2003\")\n",
    "            );\n",
    "        } catch (Exception e) {\n",
    "        }    \n",
    "\n",
    "        // Array definition and data initialization\n",
    "        Person persons[] = {p1, p2, p3, p4, p5};\n",
    "        return(persons);\n",
    "    }\n",
    "\n",
    "    public static void main(String[] args) {\n",
    "        // obtain Person from initializer\n",
    "        Person persons[] = init();\n",
    "        Person.setOrder(Person.KeyType.title);\n",
    "\n",
    "        // iterate using \"enhanced for loop\"\n",
    "        for( Person person : persons ) {\n",
    "            System.out.println(person);  // print object\n",
    "        }\n",
    "    }\n",
    "\n",
    "}"
   ]
  },
  {
   "attachments": {
    "image.png": {
     "image/png": "[encoded data removed]"
    }
   },
   "cell_type": "markdown",
   "metadata": {},
   "source": [
    "### What it would show in terminal after running:\n",
    "![image.png](attachment:image.png)"
   ]
  },
  {
   "cell_type": "markdown",
   "metadata": {},
   "source": [
    "## Extra notes:\n",
    "\n",
    "The lesson itself covered good notes, but I dived deeper with into Person.java as I thought it was very useful. Like with the error of duplicate emails above, learning this code more in depth is very useful to me when it comes to learning these relationships.\n",
    "\n",
    "```\n",
    "This Java code defines a Person class intended for use in a Spring MVC application with Hibernate and validation annotations. The class is annotated with JPA annotations (@Entity, @Id, @GeneratedValue, etc.) to map it to a relational database, and it includes Lombok annotations (@Data, @AllArgsConstructor, @NoArgsConstructor, @NonNull) for boilerplate code generation.\n",
    "\n",
    "The Person class encapsulates attributes such as id, email, password, name, dob (date of birth), and a collection of PersonRole entities stored in a roles attribute. Additionally, it incorporates a stats attribute, represented as a JSONB column in the database, to store daily statistics.\n",
    "\n",
    "The code employs Hibernate's JsonType converter for the stats attribute, allowing the storage of JSON data in the database. There's also a custom method getAge() to calculate and retrieve a person's age based on the date of birth.\n",
    "\n",
    "The class includes a static init() method to create and initialize an array of Person objects with test data. Each person is associated with a set of statistics stored in the stats attribute. The main method demonstrates the initialization and prints the created Person objects.\n",
    "\n",
    "Overall, to me, the code has clear and meaningful variable names, uses appropriate annotations for validation and database mapping, and follows conventions for Java persistence and Lombok. However, there are a few areas for improvement, such as handling exceptions more effectively and potentially using Java 8's LocalDate instead of Date for the dob attribute. Additionally, some comments could be enhanced for better clarity, and the password handling might need to be revisited for security considerations.\n",
    "```"
   ]
  }
 ],
 "metadata": {
  "kernelspec": {
   "display_name": "Java",
   "language": "java",
   "name": "java"
  },
  "language_info": {
   "codemirror_mode": "java",
   "file_extension": ".jshell",
   "mimetype": "text/x-java-source",
   "name": "java",
   "pygments_lexer": "java",
   "version": "17.0.9+9-Ubuntu-122.04"
  },
  "orig_nbformat": 4
 },
 "nbformat": 4,
 "nbformat_minor": 2
}
