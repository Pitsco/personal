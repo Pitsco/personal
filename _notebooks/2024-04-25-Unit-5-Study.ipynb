{
 "cells": [
  {
   "cell_type": "markdown",
   "metadata": {},
   "source": [
    "---\n",
    "- title: Unit 5 Study\n",
    "- description: Review the Generic Concepts of Unit 5 of AP CSA Exam \n",
    "- layout: post\n",
    "- courses: { csa: {week: 25} }\n",
    "- categories: [C4.0]\n",
    "- type: tangibles\n",
    "- comments: true\n",
    "---"
   ]
  },
  {
   "cell_type": "markdown",
   "metadata": {},
   "source": [
    "# Classes and Objects:\n",
    "- In Object Oriengted Programming (OOP), Objects have both States and Behaviors\n",
    "\n",
    "### Example Dog Object:\n",
    "    - States:\n",
    "    1. color\n",
    "    2. isAwake\n",
    "    3. age\n",
    "\n",
    "    - Behaviors:\n",
    "    1. bark\n",
    "    2. run\n",
    "    3. eat\n",
    "\n",
    "### Class vs Object:\n",
    "- A class is a blue print (or template) for an object\n",
    "\n",
    "Static Methods:\n",
    "- Certain behaviors we can access without creating an object (instance)\n",
    "    - These are called static methods\n",
    "- Examples: public static void rotateWheel()\n",
    "    - public static void openHood()\n",
    "\n",
    "Non-Static Methods:\n",
    "- behaviors we can only access from an object \n",
    "    - non-static methods\n",
    "    - public void turnOnEngine()\n",
    "    - public void drive()\n",
    "\n",
    "Class Variables (Static Fields):\n",
    "- States that bleong to the class are called class variables\n",
    "- Changing a class variable anywhere will change it everywhere\n",
    "- private static int wheelSize;\n",
    "- private static String vehicleType;\n",
    "\n",
    "Instance Variables (Non-static fields):\n",
    "- certain states that belong to the object\n",
    "- isntance variables\n",
    "- only an object mayu have a value for instance variables\n",
    "- don't have the word \"static\"\n",
    "- only change one place means it will only change in that instance\n",
    "\n",
    "- static method can only access variables\n",
    "- non-static method can access variables or instance variables\n",
    "- private means that it cant be directly access by other classes"
   ]
  },
  {
   "cell_type": "markdown",
   "metadata": {},
   "source": [
    "# Getter and Setter Methods (accessor and Mutator Methods):"
   ]
  },
  {
   "cell_type": "code",
   "execution_count": 25,
   "metadata": {
    "vscode": {
     "languageId": "java"
    }
   },
   "outputs": [
    {
     "name": "stdout",
     "output_type": "stream",
     "text": [
      "Duke\n",
      "Duke\n",
      "12345\n"
     ]
    }
   ],
   "source": [
    "public class Student {\n",
    "    private int studentID; //instance variable\n",
    "    private static String mascot; //class variable\n",
    "    //fields will automatically set their own values, for example studentID will default to 0\n",
    "    //private means that we can only access these variables in this class, not outside...\n",
    "\n",
    "    public int getStudentID(){\n",
    "        return studentID;\n",
    "    }\n",
    "\n",
    "    public void setStudentID(int newStudentID){\n",
    "        studentID = newStudentID;\n",
    "    }\n",
    "\n",
    "    public static String getMascot(){\n",
    "        return mascot;\n",
    "    }\n",
    "\n",
    "    public static void setMascot(String newMascot){\n",
    "        mascot = newMascot;\n",
    "    }\n",
    "}\n",
    "\n",
    "public class Highschool{\n",
    "    public static void main(String[] args){\n",
    "        Student derrick = new Student();\n",
    "        Student jonathan = new Student();\n",
    "        derrick.setMascot(\"Duke\");\n",
    "        derrick.setStudentID(12345);\n",
    "        int derrickID = derrick.getStudentID();\n",
    "        int jonathanID = jonathan.getStudentID();\n",
    "        \n",
    "        System.out.println(derrick.getMascot());\n",
    "        System.out.println(Student.getMascot());\n",
    "        System.out.println(derrickID);\n",
    "\n",
    "    }\n",
    "}\n",
    "\n",
    "Highschool.main(null);"
   ]
  },
  {
   "cell_type": "markdown",
   "metadata": {},
   "source": [
    "# Method Overloading:\n",
    "- Must have the exact same name\n",
    "- Must have different numbers and/or types of parameters\n",
    "- Constructors can be overloaded\n",
    "\n",
    "Overloaded methods CAN'T have different...\n",
    "1. method names\n",
    "\n",
    "Overloaded methods CAN have different...\n",
    "1. return types\n",
    "2. visibility (i.e. public, private, etc..)\n",
    "3. static or non-static\n",
    "4. parameter names\n",
    "\n",
    "Overloaded methods MUST have different...\n",
    "1. numbers of parameters\n",
    "2. type of parameters\n",
    "3. Order OF the type of parameters(i.e. String & int vs int & String)\n",
    "\n"
   ]
  },
  {
   "cell_type": "markdown",
   "metadata": {},
   "source": [
    "# Java Constructor:\n",
    "- only activated when you create an instance of a class\n",
    "- behaves like a non-static method\n",
    "- Can set up a new object after the object is created"
   ]
  },
  {
   "cell_type": "code",
   "execution_count": 57,
   "metadata": {
    "vscode": {
     "languageId": "java"
    }
   },
   "outputs": [
    {
     "name": "stdout",
     "output_type": "stream",
     "text": [
      "lolz\n",
      "derrick\n"
     ]
    }
   ],
   "source": [
    "public class Robot {\n",
    "    private static String fuelSource;\n",
    "    private String name;\n",
    "\n",
    "    public Robot(){\n",
    "        fuelSource = \"electricity\";\n",
    "        randomName();\n",
    "    }\n",
    "\n",
    "    public void randomName(){\n",
    "        int randomNumber = (int)(Math.random()*3 + 1);\n",
    "\n",
    "        if (randomNumber == 1){\n",
    "            name = \"Bender\";\n",
    "        }\n",
    "\n",
    "        else if (randomNumber == 2){\n",
    "            name = \"Hal 9000\";\n",
    "        }\n",
    "\n",
    "        else {\n",
    "            name = \"Gort\";\n",
    "        }\n",
    "    }\n",
    "\n",
    "    public void setName(String newName) {\n",
    "        name = newName;\n",
    "    }\n",
    "\n",
    "    public String getName(){\n",
    "        return name;\n",
    "    }\n",
    "\n",
    "    public static String getFuelSource(){\n",
    "        return fuelSource;\n",
    "    }\n",
    "\n",
    "    public static void setFuelSource(String newFuelSource){\n",
    "        fuelSource = newFuelSource;\n",
    "    }\n",
    "}\n",
    "\n",
    "public class Main {\n",
    "    public static void main(String[] args) {\n",
    "        Robot one = new Robot();\n",
    "        Robot two = new Robot();\n",
    "        Robot three = new Robot();\n",
    "        three.setFuelSource(\"derrick\");\n",
    "        three.setName(\"lolz\");\n",
    "        String poo = three.getName();\n",
    "        \n",
    "        System.out.println(poo);\n",
    "        System.out.println(three.getFuelSource());\n",
    "    }\n",
    "}\n",
    "\n",
    "Main.main(null);\n"
   ]
  },
  {
   "cell_type": "markdown",
   "metadata": {},
   "source": [
    "# \"this\" keyword:\n",
    "- contains a pointer to whatever object it is currently in\n",
    "- does not need to be declared\n",
    "- can only be used for nonstatic methods or constructors\n",
    "\n",
    "## Specific uses for \"this\"\n",
    "- to specify a field over another variable of the same name\n",
    "- to call another constructor in the same class\n",
    "- to pass a copy of a pointer back to the current class"
   ]
  },
  {
   "cell_type": "code",
   "execution_count": 67,
   "metadata": {
    "vscode": {
     "languageId": "java"
    }
   },
   "outputs": [
    {
     "name": "stdout",
     "output_type": "stream",
     "text": [
      "5\n",
      "3\n"
     ]
    }
   ],
   "source": [
    "public class ThisKeyword {\n",
    "    private int x = 10;\n",
    "    private static int y = 0;\n",
    "\n",
    "    public void printX(){\n",
    "        int x = 5;\n",
    "        System.out.println(x);\n",
    "    }\n",
    "\n",
    "    public void setX(int x){\n",
    "        this.x = x;\n",
    "    }\n",
    "\n",
    "    public int getX(){\n",
    "        return x;\n",
    "    }\n",
    "\n",
    "    public void resetY(){\n",
    "        int y = 0;\n",
    "        this.y = y;\n",
    "    }\n",
    "\n",
    "    public static void main(String[] args){\n",
    "        ThisKeyword lolz = new ThisKeyword();\n",
    "        lolz.setX(3);\n",
    "        \n",
    "        lolz.printX();\n",
    "        int q = lolz.getX();\n",
    "        System.out.println(q);\n",
    "    }\n",
    "}\n",
    "\n",
    "ThisKeyword.main(null)"
   ]
  },
  {
   "cell_type": "markdown",
   "metadata": {},
   "source": [
    "# Good Example found from java hello file:"
   ]
  },
  {
   "cell_type": "code",
   "execution_count": 72,
   "metadata": {
    "vscode": {
     "languageId": "java"
    }
   },
   "outputs": [
    {
     "name": "stdout",
     "output_type": "stream",
     "text": [
      "Hello, World!\n",
      "Hello, Nighthawk Coding Society!\n"
     ]
    }
   ],
   "source": [
    "// Define Class\n",
    "public class HelloDynamic { // name the first letter of class as capitalized, note camel case\n",
    "    // instance variable have access modifier (private is most common), data type, and name\n",
    "    private String hello;\n",
    "    // constructor signature 1, public and zero arguments, constructors do not have return type\n",
    "    public HelloDynamic() {  // 0 argument constructor\n",
    "        this.setHello(\"Hello, World!\");  // using setter with static string\n",
    "    }\n",
    "    // constructor signature, public and one argument\n",
    "    public HelloDynamic(String hello) { // 1 argument constructor\n",
    "        this.setHello(hello);   // using setter with local variable passed into constructor\n",
    "    }\n",
    "    // setter/mutator, setter have void return type and a parameter\n",
    "    public void setHello(String hello) { // setter\n",
    "        this.hello = hello;     // instance variable on the left, local variable on the right\n",
    "    }\n",
    "    // getter/accessor, getter used to return private instance variable (encapsulated), return type is String\n",
    "    public String getHello() {  // getter\n",
    "        return this.hello;\n",
    "    }\n",
    "    \n",
    "    // public static void main(String[] args) is signature for main/drivers/tester method\n",
    "    // a driver/tester method is singular or called a class method, it is never part of an object\n",
    "    public static void main(String[] args) {  \n",
    "        HelloDynamic hd1 = new HelloDynamic(); // no argument constructor\n",
    "        HelloDynamic hd2 = new HelloDynamic(\"Hello, Nighthawk Coding Society!\"); // one argument constructor\n",
    "        \n",
    "        System.out.println(hd1.getHello()); // accessing getter\n",
    "        System.out.println(hd2.getHello()); \n",
    "    }\n",
    "}\n",
    "// IJava activation\n",
    "HelloDynamic.main(null);"
   ]
  },
  {
   "cell_type": "markdown",
   "metadata": {},
   "source": [
    "# Scope and Lifetime:\n",
    "- Scope determines where in a program that a variable can be accessed\n",
    "- Lifetime determines when a object is created or destroyed in the memory\n",
    "- scope and lifetime is determiend when it is declared, not intialized"
   ]
  },
  {
   "cell_type": "code",
   "execution_count": 73,
   "metadata": {
    "vscode": {
     "languageId": "java"
    }
   },
   "outputs": [],
   "source": [
    "public class ScopeAndLifetime{\n",
    "    public static void main(String[] args){\n",
    "        int a = 3; //int a is declared and its scope is within the entire main method\n",
    "\n",
    "        if(true){\n",
    "            int b = 4; //int b is declared in the if statement so it's scope is within the if statement\n",
    "                       //it is destroyed when the if statement is dne executing\n",
    "        }\n",
    "\n",
    "        for (int c = 5; c < 8; c++){ //int c is only destroyed after the for loop is complete\n",
    "            int d = 6; //created everytime it runs through a cycle in for loop and destroyed right after\n",
    "        }\n",
    "    }\n",
    "}"
   ]
  },
  {
   "cell_type": "markdown",
   "metadata": {},
   "source": [
    "## Example of in and out of scope:"
   ]
  },
  {
   "cell_type": "code",
   "execution_count": 75,
   "metadata": {
    "vscode": {
     "languageId": "java"
    }
   },
   "outputs": [
    {
     "name": "stdout",
     "output_type": "stream",
     "text": [
      "a is out of scope!\n",
      "3\n"
     ]
    }
   ],
   "source": [
    "public class ScopeAndLifetime {\n",
    "    public static void anotherMethod(){\n",
    "        System.out.println(\"a is out of scope!\");\n",
    "    }\n",
    "    public static void main(String[] args){\n",
    "        int a = 3; //in scope\n",
    "        anotherMethod(); //when method is called, a is out of scope because it is not avaliable in another method\n",
    "        System.out.println(a); //now accessible since it is back in scope!\n",
    "    } //main method ends, a is destroyed\n",
    "}\n",
    "\n",
    "ScopeAndLifetime.main(null);"
   ]
  }
 ],
 "metadata": {
  "kernelspec": {
   "display_name": "Java",
   "language": "java",
   "name": "java"
  },
  "language_info": {
   "codemirror_mode": "java",
   "file_extension": ".jshell",
   "mimetype": "text/x-java-source",
   "name": "Java",
   "pygments_lexer": "java",
   "version": "17.0.10+7-Ubuntu-122.04.1"
  }
 },
 "nbformat": 4,
 "nbformat_minor": 2
}
