{
 "cells": [
  {
   "cell_type": "markdown",
   "metadata": {},
   "source": [
    "---\n",
    "- title: Unit 5 Study\n",
    "- description: Review the Generic Concepts of Unit 5 of AP CSA Exam \n",
    "- layout: post\n",
    "- courses: { csa: {week: 25} }\n",
    "- categories: [C4.0]\n",
    "- type: tangibles\n",
    "- comments: true\n",
    "---"
   ]
  },
  {
   "cell_type": "markdown",
   "metadata": {},
   "source": [
    "# Classes and Objects:"
   ]
  },
  {
   "cell_type": "code",
   "execution_count": 2,
   "metadata": {
    "vscode": {
     "languageId": "java"
    }
   },
   "outputs": [
    {
     "name": "stdout",
     "output_type": "stream",
     "text": [
      "0\n",
      "1\n",
      "2\n",
      "3\n"
     ]
    }
   ],
   "source": [
    "public class ForLoop {    \n",
    "    public static void main(String[] args){\n",
    "        for (int i = 0; i < 4; i ++){\n",
    "            System.out.println(i);\n",
    "        }\n",
    "    }\n",
    "}\n",
    "\n",
    "ForLoop.main(null);"
   ]
  },
  {
   "cell_type": "markdown",
   "metadata": {},
   "source": [
    "# while loops do while loops\n",
    "- while loops repeat commands while a boolean expression remains true\n",
    "- Do While loops check boolean expressions at the end of the loop and at least will run once"
   ]
  },
  {
   "cell_type": "code",
   "execution_count": null,
   "metadata": {
    "vscode": {
     "languageId": "java"
    }
   },
   "outputs": [],
   "source": [
    "public class WhileLoop { \n",
    "    public static void main(String[] args){\n",
    "        int i = 4;\n",
    "        while (i > 0){\n",
    "            System.out.println(i);\n",
    "            i--;\n",
    "        }\n",
    "    }\n",
    "}\n",
    "\n",
    "WhileLoop.main(null);"
   ]
  },
  {
   "cell_type": "markdown",
   "metadata": {},
   "source": [
    "# Reverse String"
   ]
  },
  {
   "cell_type": "code",
   "execution_count": 7,
   "metadata": {
    "vscode": {
     "languageId": "java"
    }
   },
   "outputs": [
    {
     "name": "stdout",
     "output_type": "stream",
     "text": [
      "s\n",
      "sl\n",
      "sli\n",
      "slip\n",
      "slipu\n",
      "slipup\n",
      "Final reversed word: slipup\n"
     ]
    }
   ],
   "source": [
    "public class Reversestring{\n",
    "    public static void main(String[] args){\n",
    "        String original = \"pupils\";\n",
    "        String reverse = \"\";\n",
    "\n",
    "        for(int i = original.length() - 1; i >= 0; i--){\n",
    "            reverse = reverse + original.substring(i, i + 1);\n",
    "            System.out.println(reverse);\n",
    "        }\n",
    "        \n",
    "        System.out.println(\"Final reversed word: \" + reverse);\n",
    "    }\n",
    "}\n",
    "\n",
    "Reversestring.main(null);"
   ]
  },
  {
   "cell_type": "markdown",
   "metadata": {},
   "source": [
    "# Nested Loop\n",
    "- loop inside a loop\n",
    "- outer loop runs once, inner loop will go through entire cycle\n",
    "- Nested loops is helpful when it comes to 2D arrays"
   ]
  },
  {
   "cell_type": "code",
   "execution_count": 11,
   "metadata": {
    "vscode": {
     "languageId": "java"
    }
   },
   "outputs": [
    {
     "name": "stdout",
     "output_type": "stream",
     "text": [
      "# # # # # # "
     ]
    }
   ],
   "source": [
    "public class NestedLoop{\n",
    "    public static void main(String[] args){\n",
    "        for (int i = 0; i < 2; i++){ //loops 2 times\n",
    "            for (int j = 0; j< 3; j++){// loops 3 times\n",
    "                System.out.print(\"# \"); \n",
    "            }\n",
    "        }\n",
    "    }\n",
    "}\n",
    "\n",
    "NestedLoop.main(null);"
   ]
  },
  {
   "cell_type": "markdown",
   "metadata": {},
   "source": [
    "### Example:\n",
    "\n",
    "!(A > B || B != A)\n",
    "\n",
    "(A <= B && B == A)\n",
    "\n",
    "### Another Example:\n",
    "\n",
    "!(A == B || (B >= C || B < A))\n",
    "\n",
    "(A != B && !(B >=C || B < A))\n",
    "\n",
    "(A != B && (B < C && B >= A))"
   ]
  },
  {
   "cell_type": "markdown",
   "metadata": {},
   "source": [
    "# Checking Equality in Java:\n",
    "- Primitive data types are compared using (a == b)\n",
    "- Using == to compare two reference (object) type variables will only check if they are poitning at the same object\n",
    "- Using equals() (ex. a.equals(b)). Some classes will check if they are the same object, but some will check if they are equivalent objects"
   ]
  },
  {
   "cell_type": "code",
   "execution_count": 6,
   "metadata": {
    "vscode": {
     "languageId": "java"
    }
   },
   "outputs": [
    {
     "name": "stdout",
     "output_type": "stream",
     "text": [
      "true\n",
      "true\n",
      "false\n"
     ]
    }
   ],
   "source": [
    "public class CheckingEquality   {\n",
    "    public static void main(String[] args){\n",
    "        int a = 3;\n",
    "        int b = 3;\n",
    "        double c = 3.0;\n",
    "        double d = 3.0;\n",
    "        boolean e = false;\n",
    "\n",
    "        System.out.println(a == b);\n",
    "        System.out.println(b == c);\n",
    "        System.out.println(a != b);\n",
    "        // System.out.println(c == e); boolean can't be comapred with double value\n",
    "\n",
    "        \n",
    "    }\n",
    "}\n",
    "\n",
    "CheckingEquality.main(null);"
   ]
  },
  {
   "cell_type": "markdown",
   "metadata": {},
   "source": [
    "## Comparing Objects\n",
    "- Compare two objects with ==, but it will only tell us if it is pointing in the same direction\n",
    "- We can compare two objects with equals() method\n",
    "    - \"shallow\" comparison, only checks whether they are the pointing to the same object (similar to ==)\n",
    "    - \"deep\" comparison, only checks whether the data in the two objects are the same "
   ]
  },
  {
   "cell_type": "code",
   "execution_count": 8,
   "metadata": {
    "vscode": {
     "languageId": "java"
    }
   },
   "outputs": [
    {
     "name": "stdout",
     "output_type": "stream",
     "text": [
      "true\n",
      "false\n",
      "true\n",
      "true\n"
     ]
    }
   ],
   "source": [
    "public class ComparingObjects {\n",
    "    public static void main(String[] args){\n",
    "        String a = \"coffee\";\n",
    "        String b = \"coffee\"; //in a heap, both object `b` and `a` are directed to the string \"coffee\" to save memory\n",
    "\n",
    "        String c = new String(\"coffee\"); //will create a second object in heap\n",
    "        String d = new String(\"coffee\");\n",
    "\n",
    "        System.out.println(a == b); //both 'a' and 'b' are pointed to the same memory location\n",
    "        System.out.println(c == d); //two different memory locations where the data is stored\n",
    "\n",
    "        System.out.println(a.equals(b)); //true\n",
    "        System.out.println(a.equals(c)); //false, two different memoring locations\n",
    "   }\n",
    "}\n",
    "\n",
    "ComparingObjects.main(null);"
   ]
  }
 ],
 "metadata": {
  "kernelspec": {
   "display_name": "Java",
   "language": "java",
   "name": "java"
  },
  "language_info": {
   "codemirror_mode": "java",
   "file_extension": ".jshell",
   "mimetype": "text/x-java-source",
   "name": "Java",
   "pygments_lexer": "java",
   "version": "17.0.10+7-Ubuntu-122.04.1"
  }
 },
 "nbformat": 4,
 "nbformat_minor": 2
}
