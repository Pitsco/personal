{
 "cells": [
  {
   "attachments": {},
   "cell_type": "markdown",
   "metadata": {},
   "source": [
    "---\n",
    "- layout: post\n",
    "- title: Sorting Blog\n",
    "- description: Explanation on our Sorting code\n",
    "- courses: { compsci: {week: 13} }\n",
    "- type: hacks\n",
    "---"
   ]
  },
  {
   "cell_type": "markdown",
   "metadata": {},
   "source": [
    "# Frontend"
   ]
  },
  {
   "cell_type": "markdown",
   "metadata": {},
   "source": [
    "# Backend"
   ]
  },
  {
   "cell_type": "markdown",
   "metadata": {},
   "source": [
    "# Sorting Algorithms Class"
   ]
  },
  {
   "cell_type": "code",
   "execution_count": null,
   "metadata": {
    "vscode": {
     "languageId": "java"
    }
   },
   "outputs": [],
   "source": [
    "class SortingAlgorithm {\n",
    "    protected int iterations;\n",
    "    protected int comparisons;\n",
    "    protected int mergesOrSwaps;\n",
    "    protected long executionTime;\n",
    "\n",
    "    public SortingAlgorithm() {\n",
    "        iterations = 0;\n",
    "        comparisons = 0;\n",
    "        mergesOrSwaps = 0;\n",
    "        executionTime = 0;\n",
    "    }\n",
    "\n",
    "    public void resetStatistics() {\n",
    "        iterations = 0;\n",
    "        comparisons = 0;\n",
    "        mergesOrSwaps = 0;\n",
    "        executionTime = 0;\n",
    "    }\n",
    "\n",
    "    public void displayStatistics() {\n",
    "        System.out.println(\"Iterations: \" + iterations);\n",
    "        System.out.println(\"Comparisons: \" + comparisons);\n",
    "        System.out.println(\"Merges/Swaps: \" + mergesOrSwaps);\n",
    "        System.out.println(\"Execution Time: \" + executionTime + \" milliseconds\");\n",
    "    }\n",
    "\n",
    "    public void sort(DogBreed[] array) {\n",
    "        // This method should be overridden by each sorting algorithm class\n",
    "    }\n",
    "}"
   ]
  },
  {
   "cell_type": "markdown",
   "metadata": {},
   "source": [
    "- This is an abstract class representing a template for sorting algorithms\n",
    "- It contains fields (iterations, comparisons, mergesOrSwaps, executionTime) to track algorithm statistics\n",
    "- The constructor initializes these fields, and resetStatistics method resets them\n",
    "- displayStatistics prints the statistics to the console\n",
    "- The sort method is marked abstract, indicating that it should be implemented by subclasses"
   ]
  },
  {
   "cell_type": "markdown",
   "metadata": {},
   "source": [
    "# DogBreed Class"
   ]
  },
  {
   "cell_type": "code",
   "execution_count": null,
   "metadata": {
    "vscode": {
     "languageId": "java"
    }
   },
   "outputs": [],
   "source": [
    "class DogBreed {\n",
    "    private int id;\n",
    "    private String breed;\n",
    "    private String origin;\n",
    "    private String url;\n",
    "    private String img;\n",
    "\n",
    "    public DogBreed(int id, String breed, String origin, String url, String img) {\n",
    "        this.id = id;\n",
    "        this.breed = breed;\n",
    "        this.origin = origin;\n",
    "        this.url = url;\n",
    "        this.img = img;\n",
    "    }\n",
    "\n",
    "    public String getBreed() {\n",
    "        return breed;\n",
    "    }\n",
    "\n",
    "    @Override\n",
    "    public String toString() {\n",
    "        return \"DogBreed{\" +\n",
    "                \"id:\" + id +\n",
    "                \", breed:'\" + breed + '\\'' +\n",
    "                \", origin:'\" + origin + '\\'' +\n",
    "                \", url:'\" + url + '\\'' +\n",
    "                \", img:'\" + img + '\\'' +\n",
    "                '}';\n",
    "    }\n",
    "}"
   ]
  },
  {
   "cell_type": "markdown",
   "metadata": {},
   "source": [
    "- This class represents a DogBreed object with fields for id, breed, origin, URL, and image.\n",
    "- The toString method is overridden to provide a formatted string representation of the object."
   ]
  },
  {
   "cell_type": "markdown",
   "metadata": {},
   "source": [
    "# BubbleSort Class"
   ]
  },
  {
   "cell_type": "code",
   "execution_count": null,
   "metadata": {
    "vscode": {
     "languageId": "java"
    }
   },
   "outputs": [],
   "source": [
    "\n",
    "class BubbleSort extends SortingAlgorithm {\n",
    "    @Override\n",
    "    public void sort(DogBreed[] array) {\n",
    "        iterations = 0;\n",
    "        comparisons = 0;\n",
    "        mergesOrSwaps = 0;\n",
    "        executionTime = 0;\n",
    "\n",
    "        executionTime = System.currentTimeMillis();\n",
    "\n",
    "        int n = array.length;\n",
    "        for (int i = 0; i < n - 1; i++) {\n",
    "            for (int j = 0; j < n - i - 1; j++) {\n",
    "                comparisons++;\n",
    "                if (array[j].getBreed().compareTo(array[j + 1].getBreed()) > 0) {\n",
    "                    // Swap array[j] and array[j+1]\n",
    "                    DogBreed temp = array[j];\n",
    "                    array[j] = array[j + 1];\n",
    "                    array[j + 1] = temp;\n",
    "\n",
    "                    mergesOrSwaps++;\n",
    "                }\n",
    "                iterations++;\n",
    "            }\n",
    "        }\n",
    "\n",
    "        executionTime = System.currentTimeMillis() - executionTime;\n",
    "    }\n",
    "}"
   ]
  },
  {
   "cell_type": "markdown",
   "metadata": {},
   "source": [
    "- BubbleSort extends SortingAlgorithm, inheriting its fields and methods\n",
    "- The sort method is overridden to implement the bubble sort algorithm\n",
    "- It counts iterations, comparisons, swaps, and measures execution time"
   ]
  },
  {
   "cell_type": "markdown",
   "metadata": {},
   "source": [
    "# Selction Sort Class"
   ]
  },
  {
   "cell_type": "code",
   "execution_count": null,
   "metadata": {
    "vscode": {
     "languageId": "java"
    }
   },
   "outputs": [],
   "source": [
    "class SelectionSort extends SortingAlgorithm {\n",
    "    @Override\n",
    "    public void sort(DogBreed[] array) {\n",
    "        iterations = 0;\n",
    "        comparisons = 0;\n",
    "        mergesOrSwaps = 0;\n",
    "        executionTime = 0;\n",
    "\n",
    "        executionTime = System.currentTimeMillis();\n",
    "\n",
    "        int n = array.length;\n",
    "\n",
    "        for (int i = 0; i < n - 1; i++) {\n",
    "            int minIndex = i;\n",
    "            for (int j = i + 1; j < n; j++) {\n",
    "                comparisons++;\n",
    "                if (array[j].getBreed().compareTo(array[minIndex].getBreed()) < 0) {\n",
    "                    minIndex = j;\n",
    "                }\n",
    "                iterations++;\n",
    "            }\n",
    "\n",
    "            // Swap array[i] and array[minIndex]\n",
    "            DogBreed temp = array[i];\n",
    "            array[i] = array[minIndex];\n",
    "            array[minIndex] = temp;\n",
    "\n",
    "            mergesOrSwaps++;\n",
    "        }\n",
    "\n",
    "        executionTime = System.currentTimeMillis() - executionTime;\n",
    "    }\n",
    "}"
   ]
  },
  {
   "cell_type": "markdown",
   "metadata": {},
   "source": [
    "- SelectionSort extends SortingAlgorithm\n",
    "- The sort method is overridden to implement the selection sort algorithm\n",
    "- It counts iterations, comparisons, swaps, and measures execution time"
   ]
  },
  {
   "cell_type": "markdown",
   "metadata": {},
   "source": [
    "# Merge Sort Class"
   ]
  },
  {
   "cell_type": "code",
   "execution_count": null,
   "metadata": {
    "vscode": {
     "languageId": "java"
    }
   },
   "outputs": [],
   "source": [
    "class MergeSort extends SortingAlgorithm {\n",
    "    @Override\n",
    "    public void sort(DogBreed[] array) {\n",
    "        iterations = 0;\n",
    "        comparisons = 0;\n",
    "        mergesOrSwaps = 0;\n",
    "        executionTime = 0;\n",
    "\n",
    "        executionTime = System.currentTimeMillis();\n",
    "\n",
    "        mergeSort(array, 0, array.length - 1);\n",
    "\n",
    "        executionTime = System.currentTimeMillis() - executionTime;\n",
    "    }\n",
    "\n",
    "    private void merge(DogBreed[] array, int left, int mid, int right) {\n",
    "        int n1 = mid - left + 1;\n",
    "        int n2 = right - mid;\n",
    "\n",
    "        DogBreed[] leftArray = new DogBreed[n1];\n",
    "        DogBreed[] rightArray = new DogBreed[n2];\n",
    "\n",
    "        for (int i = 0; i < n1; ++i) {\n",
    "            leftArray[i] = array[left + i];\n",
    "        }\n",
    "        for (int j = 0; j < n2; ++j) {\n",
    "            rightArray[j] = array[mid + 1 + j];\n",
    "        }\n",
    "\n",
    "        int i = 0, j = 0;\n",
    "        int k = left;\n",
    "        while (i < n1 && j < n2) {\n",
    "            comparisons++;\n",
    "            if (leftArray[i].getBreed().compareTo(rightArray[j].getBreed()) <= 0) {\n",
    "                array[k] = leftArray[i];\n",
    "                i++;\n",
    "            } else {\n",
    "                array[k] = rightArray[j];\n",
    "                j++;\n",
    "            }\n",
    "            k++;\n",
    "            iterations++;\n",
    "        }\n",
    "\n",
    "        while (i < n1) {\n",
    "            array[k] = leftArray[i];\n",
    "            i++;\n",
    "            k++;\n",
    "            mergesOrSwaps++;\n",
    "        }\n",
    "\n",
    "        while (j < n2) {\n",
    "            array[k] = rightArray[j];\n",
    "            j++;\n",
    "            k++;\n",
    "            mergesOrSwaps++;\n",
    "        }\n",
    "    }\n",
    "\n",
    "    private void mergeSort(DogBreed[] array, int left, int right) {\n",
    "        if (left < right) {\n",
    "            int mid = (left + right) / 2;\n",
    "\n",
    "            mergeSort(array, left, mid);\n",
    "            mergeSort(array, mid + 1, right);\n",
    "\n",
    "            merge(array, left, mid, right);\n",
    "        }\n",
    "    }\n",
    "}"
   ]
  },
  {
   "cell_type": "markdown",
   "metadata": {},
   "source": [
    "- MergeSort extends SortingAlgorithm\n",
    "- The sort method is overridden to implement the merge sort algorithm\n",
    "- It uses helper methods merge and mergeSort"
   ]
  },
  {
   "cell_type": "markdown",
   "metadata": {},
   "source": [
    "# Insertion Sort Class"
   ]
  },
  {
   "cell_type": "code",
   "execution_count": null,
   "metadata": {
    "vscode": {
     "languageId": "java"
    }
   },
   "outputs": [],
   "source": [
    "class InsertionSort extends SortingAlgorithm {\n",
    "    @Override\n",
    "    public void sort(DogBreed[] array) {\n",
    "        iterations = 0;\n",
    "        comparisons = 0;\n",
    "        mergesOrSwaps = 0;\n",
    "        executionTime = 0;\n",
    "\n",
    "        executionTime = System.currentTimeMillis();\n",
    "\n",
    "        int n = array.length;\n",
    "        for (int i = 1; i < n; ++i) {\n",
    "            DogBreed key = array[i];\n",
    "            int j = i - 1;\n",
    "\n",
    "            while (j >= 0 && array[j].getBreed().compareTo(key.getBreed()) > 0) {\n",
    "                comparisons++;\n",
    "                array[j + 1] = array[j];\n",
    "                j = j - 1;\n",
    "                mergesOrSwaps++;\n",
    "                iterations++;\n",
    "            }\n",
    "            array[j + 1] = key;\n",
    "            iterations++;\n",
    "        }\n",
    "\n",
    "        executionTime = System.currentTimeMillis() - executionTime;\n",
    "    }\n",
    "}"
   ]
  },
  {
   "cell_type": "markdown",
   "metadata": {},
   "source": [
    "- InsertionSort extends SortingAlgorithm\n",
    "- The sort method is overridden to implement the insertion sort algorithm\n",
    "- It counts iterations, comparisons, swaps, and measures execution time"
   ]
  },
  {
   "cell_type": "markdown",
   "metadata": {},
   "source": [
    "# SortingAlgs Main Class"
   ]
  },
  {
   "cell_type": "code",
   "execution_count": null,
   "metadata": {
    "vscode": {
     "languageId": "java"
    }
   },
   "outputs": [],
   "source": [
    "public class SortingAlgs {\n",
    "    public static void main(String[] args) {\n",
    "        try {\n",
    "            HttpRequest request = HttpRequest.newBuilder()\n",
    "                    .uri(URI.create(\"https://covid-193.p.rapidapi.com/statistics\"))\n",
    "                    .header(\"X-RapidAPI-Key\", \"1748ee8916mshe4a05c6edb7af0ap1399f4jsn23f82b0ddfa3\")\n",
    "                    .header(\"X-RapidAPI-Host\", \"covid-193.p.rapidapi.com\")\n",
    "                    .method(\"GET\", HttpRequest.BodyPublishers.noBody())\n",
    "                    .build();\n",
    "\n",
    "            HttpResponse<String> response = HttpClient.newHttpClient().send(request, HttpResponse.BodyHandlers.ofString());\n",
    "            // System.out.println(response.body());\n",
    "            // Parse the response body into an array of Covid objects\n",
    "            Covid[] unsortedcovids = parseResponse(response.body());\n",
    "            \n",
    "            for (Covid covid : unsortedcovids) {\n",
    "                System.out.println(covid);\n",
    "            }\n",
    "            // Create an instance of the sorting algorithm\n",
    "            SortingAlgorithm bubbleSortingAlgorithm = new BubbleSort();\n",
    "\n",
    "            // Sort the array of dog breeds\n",
    "            Covid[] bubbleCovids = bubbleSortingAlgorithm.sort(unsortedcovids);\n",
    "\n",
    "            // Display sorting statistics\n",
    "            System.out.println(\"Bubble\");\n",
    "            bubbleSortingAlgorithm.displayStatistics();\n",
    "\n",
    "            SortingAlgorithm selectionSortingAlgorithm = new SelectionSort();\n",
    "\n",
    "            // Sort the array of dog breeds\n",
    "            Covid[] selectionCovids = selectionSortingAlgorithm.sort(unsortedcovids);\n",
    "\n",
    "            // Display sorting statistics\n",
    "            System.out.println(\"Selection\");\n",
    "            selectionSortingAlgorithm.displayStatistics();\n",
    "\n",
    "            SortingAlgorithm mergSortingAlgorithm = new MergeSort();\n",
    "\n",
    "            // Sort the array of dog breeds\n",
    "            Covid[] mergeCovids = mergSortingAlgorithm.sort(unsortedcovids);\n",
    "\n",
    "            // Display sorting statistics\n",
    "            System.out.println(\"Merge\");\n",
    "            mergSortingAlgorithm.displayStatistics();\n",
    "            \n",
    "\n",
    "            SortingAlgorithm insertionSortingAlgorithm = new InsertionSort();\n",
    "\n",
    "            // Sort the array of dog breeds\n",
    "            Covid[] insertionCovids = insertionSortingAlgorithm.sort(unsortedcovids);\n",
    "\n",
    "            // Display sorting statistics\n",
    "            System.out.println(\"Insertion\");\n",
    "            insertionSortingAlgorithm.displayStatistics();\n",
    "            \n",
    "            // Print the sorted dog breeds\n",
    "            for (Covid deaths : insertionCovids) {\n",
    "                System.out.println(deaths);\n",
    "            }\n",
    "\n",
    "        } catch (Exception e) {\n",
    "            e.printStackTrace();\n",
    "        }\n",
    "    }\n",
    "}"
   ]
  },
  {
   "cell_type": "markdown",
   "metadata": {},
   "source": [
    "This Java code fetches COVID-19 statistics from a RapidAPI endpoint, parses the response into an array of Covid objects, and then applies four different sorting algorithms (Bubble Sort, Selection Sort, Merge Sort, and Insertion Sort) to sort the array based on some criteria. The code uses a common interface called SortingAlgorithm, implemented by classes such as BubbleSort, SelectionSort, MergeSort, and InsertionSort. Each sorting algorithm has a sort method that takes an array of Covid objects and returns the sorted array. After sorting, the code prints the sorted array and displays statistics for each sorting algorithm, such as the number of comparisons and swaps performed during the sorting process. Additionally, it includes error handling using a try-catch block to handle any exceptions that might occur during the HTTP request or sorting process, printing the stack trace if an exception occurs. The code also contains commented-out lines that can be uncommented to print the raw response body received from the COVID-19 statistics API."
   ]
  },
  {
   "cell_type": "markdown",
   "metadata": {},
   "source": [
    "# parseResponse Method:"
   ]
  },
  {
   "cell_type": "code",
   "execution_count": null,
   "metadata": {
    "vscode": {
     "languageId": "java"
    }
   },
   "outputs": [],
   "source": [
    "\n",
    "private static Covid[] parseResponse(String responseBody) {\n",
    "    // Parse the response body into an array of Covid objects\n",
    "    // Example parsing logic: (You may need to adapt this based on the actual response format)\n",
    "    String[] lines = responseBody.split(\"continent\");\n",
    "\n",
    "    // for (int i = 0; i < lines.length; i++) {\n",
    "    //     System.out.println(\"AAAAAAAAA\"+lines[i]);\n",
    "    // }\n",
    "    Covid[] covids = new Covid[lines.length];\n",
    "    for (int i = 1; i < lines.length; i++) {\n",
    "        // System.out.println(\"AAAAAAAAA\"+lines[i]);\n",
    "        String[] parts = lines[i].split(\",\");\n",
    "        // System.out.println(parts[1]);\n",
    "        // System.out.println(parts[2]);\n",
    "        // System.out.println(parts[8]);\n",
    "        // System.out.println(parts[11]);\n",
    "        // System.out.println(parts[13]);\n",
    "        String country = parts[1].replace(\"\\\"country\\\":\", \"\");\n",
    "        // System.out.println(country);\n",
    "        String poptemp = parts[2].replace(\"\\\"population\\\":\", \"\");\n",
    "        // System.out.println(poptemp);\n",
    "        if(poptemp.equals(\"null\")){\n",
    "            poptemp = \"0\";\n",
    "        }\n",
    "        Integer population = Integer.parseInt(poptemp);\n",
    "        String casesTemp = parts[8].replace(\"\\\"total\\\":\", \"\");\n",
    "        // System.out.println(casesTemp);\n",
    "        String casesm = casesTemp.substring(0, casesTemp.length()-1);\n",
    "        if(casesm.equals(\"null\")){\n",
    "            casesm = \"0\";\n",
    "        }\n",
    "        Integer cases = Integer.parseInt(casesm);\n",
    "        // System.out.println(cases);\n",
    "        String deathsTemp = parts[11].replace(\"\\\"total\\\":\", \"\");\n",
    "        // System.out.println(deathsTemp);\n",
    "        String deathsm = deathsTemp.substring(0, deathsTemp.length()-1);\n",
    "        if(deathsm.equals(\"null\")){\n",
    "            deathsm = \"0\";\n",
    "        }\n",
    "        Integer deaths = Integer.parseInt(deathsm);\n",
    "        // System.out.println(deaths);\n",
    "        String testsTemp = parts[13].replace(\"\\\"total\\\":\", \"\");\n",
    "        // System.out.println(testsTemp);\n",
    "        String testsm = testsTemp.substring(0, testsTemp.length()-1);\n",
    "        if(testsm.equals(\"null\")){\n",
    "            testsm = \"0\";\n",
    "        }\n",
    "        Integer tests = Integer.parseInt(testsm);\n",
    "        // System.out.println(tests);\n",
    "        covids[i] = new Covid(country, population, cases, deaths, tests);\n",
    "    }\n",
    "    covids = Arrays.copyOfRange(covids, 1, covids.length);\n",
    "    return covids;\n",
    "}\n",
    "//test"
   ]
  },
  {
   "cell_type": "markdown",
   "metadata": {},
   "source": [
    "This Java code defines a method named parseResponse that takes a String responseBody as input, representing the response received from a COVID-19 statistics API. The method parses this response into an array of Covid objects. The parsing logic is based on splitting the response into lines and then further splitting each line into parts to extract relevant information such as country, population, total cases, total deaths, and total tests. The parsed information is used to create new instances of the Covid class.\n",
    "\n",
    "1. The response body is split into an array of lines using the \"continent\" as the delimiter.\n",
    "2. For each line (starting from index 1 to skip the first line), it is further split into parts using a comma as the delimiter.\n",
    "3. The necessary information (country, population, cases, deaths, tests) is extracted from specific parts of each line, removing unnecessary characters.\n",
    "4. Special handling is done for cases where certain fields may be \"null\" in the response, setting them to 0.\n",
    "5. The extracted information is converted to the appropriate data types (Integer) and used to create new instances of the Covid class.\n",
    "6. The resulting array of Covid objects is then trimmed to exclude the first element (initialized as null) and returned."
   ]
  }
 ],
 "metadata": {
  "kernelspec": {
   "display_name": "base",
   "language": "python",
   "name": "python3"
  },
  "language_info": {
   "codemirror_mode": {
    "name": "ipython",
    "version": 3
   },
   "file_extension": ".py",
   "mimetype": "text/x-python",
   "name": "python",
   "nbconvert_exporter": "python",
   "pygments_lexer": "ipython3",
   "version": "3.9.12"
  },
  "orig_nbformat": 4
 },
 "nbformat": 4,
 "nbformat_minor": 2
}
