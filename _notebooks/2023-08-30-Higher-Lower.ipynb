{
 "cells": [
  {
   "cell_type": "markdown",
   "metadata": {},
   "source": [
    "---\n",
    "# this is YAML front matter\n",
    "- layout: post\n",
    "- title: Higher Or Lower\n",
    "- description:  Game Console Hack Week 1\n",
    "- categories: [C4.0]\n",
    "- type: tangibles\n",
    "- courses: { csa: {week: 1} }\n",
    "---"
   ]
  },
  {
   "cell_type": "markdown",
   "metadata": {},
   "source": [
    "# Original Code"
   ]
  },
  {
   "cell_type": "code",
   "execution_count": 3,
   "metadata": {},
   "outputs": [],
   "source": [
    "import java.util.Scanner;\n",
    "import java.util.Random;\n",
    "\n",
    "public class HigherLower {\n",
    "    private final int maxNumber = 8;\n",
    "    private final Random random = new Random();\n",
    "    private final Scanner scanner = new Scanner(System.in);\n",
    "    \n",
    "    public void playGame() {\n",
    "        System.out.println(\"Higher or Lower\");\n",
    "        System.out.println(\"You have three guesses to guess the number I am thinking of between 1-8.\");\n",
    "        System.out.println(\"If you guess the number correctly, you win!\");\n",
    "        \n",
    "        int targetNumber = random.nextInt(maxNumber) + 1;\n",
    "        int remainingGuesses = 3;\n",
    "        \n",
    "        while (remainingGuesses > 0) {\n",
    "            System.out.print(\"Enter your guess: \");\n",
    "            int userGuess = scanner.nextInt();\n",
    "            \n",
    "            if (userGuess < targetNumber) {\n",
    "                System.out.println(\"The number is higher\");\n",
    "            } else if (userGuess > targetNumber) {\n",
    "                System.out.println(\"The number is lower\");\n",
    "            } else {\n",
    "                System.out.println(\"Congratulations! You guessed the number.\");\n",
    "                return;\n",
    "            }\n",
    "            \n",
    "            remainingGuesses--;\n",
    "        }\n",
    "        \n",
    "        System.out.println(\"You're out of guesses. The number was \" + targetNumber);\n",
    "    }\n",
    "    \n",
    "    public static void main(String[] args) {\n",
    "        HigherLower game = new HigherLower();\n",
    "        game.playGame();\n",
    "    }\n",
    "}"
   ]
  },
  {
   "cell_type": "markdown",
   "metadata": {},
   "source": [
    "# Revised Code"
   ]
  },
  {
   "cell_type": "code",
   "execution_count": 2,
   "metadata": {},
   "outputs": [
    {
     "name": "stdout",
     "output_type": "stream",
     "text": [
      "Higher or Lower\n",
      "You have three guesses to guess the number I am thinking of between 1-8.\n",
      "If you guess the number correctly, you win!\n",
      "Enter your guess: The number is higher\n",
      "Enter your guess: The number is higher\n",
      "Enter your guess: The number is higher\n",
      "You're out of guesses. The number was 4\n"
     ]
    }
   ],
   "source": [
    "public class HigherLower {\n",
    "    private final int maxNumber = 8;\n",
    "    private final Random random = new Random();\n",
    "    private final Scanner scanner = new Scanner(System.in);\n",
    "    private final ArrayList<Integer> previousGuesses = new ArrayList<>();\n",
    "    private final Map<Integer, String> comparisonMessages = new HashMap<>();\n",
    "\n",
    "    public HigherLower() {\n",
    "        comparisonMessages.put(-1, \"higher\");\n",
    "        comparisonMessages.put(0, \"correct\");\n",
    "        comparisonMessages.put(1, \"lower\");\n",
    "    }\n",
    "\n",
    "    public void playGame() {\n",
    "        System.out.println(\"Higher or Lower\");\n",
    "        System.out.println(\"You have three guesses to guess the number I am thinking of between 1-8.\");\n",
    "        System.out.println(\"If you guess the number correctly, you win!\");\n",
    "\n",
    "        int targetNumber = random.nextInt(maxNumber) + 1;\n",
    "        int remainingGuesses = 3;\n",
    "\n",
    "        while (remainingGuesses > 0) {\n",
    "            System.out.print(\"Enter your guess: \");\n",
    "            int userGuess = scanner.nextInt();\n",
    "\n",
    "            if (previousGuesses.contains(userGuess)) {\n",
    "                System.out.println(\"You've already guessed that number. Try again.\");\n",
    "                continue;\n",
    "            }\n",
    "\n",
    "            previousGuesses.add(userGuess);\n",
    "\n",
    "            int comparison = Integer.compare(userGuess, targetNumber);\n",
    "            System.out.println(\"The number is \" + comparisonMessages.get(comparison));\n",
    "\n",
    "            if (comparison == 0) {\n",
    "                System.out.println(\"Congratulations! You guessed the number.\");\n",
    "                return;\n",
    "            }\n",
    "\n",
    "            remainingGuesses--;\n",
    "        }\n",
    "\n",
    "        System.out.println(\"You're out of guesses. The number was \" + targetNumber);\n",
    "    }\n",
    "\n",
    "    public static void main(String[] args) {\n",
    "        HigherLower game = new HigherLower();\n",
    "        game.playGame();\n",
    "    }\n",
    "}\n",
    "\n",
    "HigherLower.main(null)"
   ]
  }
 ],
 "metadata": {
  "kernelspec": {
   "display_name": "Java",
   "language": "java",
   "name": "java"
  },
  "language_info": {
   "codemirror_mode": "java",
   "file_extension": ".jshell",
   "mimetype": "text/x-java-source",
   "name": "java",
   "pygments_lexer": "java",
   "version": "11.0.20+8-post-Ubuntu-1ubuntu122.04"
  },
  "orig_nbformat": 4
 },
 "nbformat": 4,
 "nbformat_minor": 2
}
