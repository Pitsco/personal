{
 "cells": [
  {
   "cell_type": "markdown",
   "metadata": {},
   "source": [
    "---\n",
    "- title: Practice FRQ Exams!\n",
    "- description: Number 1 of 2019 CSA practice frq exam \n",
    "- layout: post\n",
    "- courses: { csa: {week: 25} }\n",
    "- categories: [C4.0]\n",
    "- type: tangibles\n",
    "- comments: true\n",
    "---"
   ]
  },
  {
   "cell_type": "markdown",
   "metadata": {},
   "source": [
    "# 2019 #1 Practice AP Exam:"
   ]
  },
  {
   "cell_type": "code",
   "execution_count": 6,
   "metadata": {
    "vscode": {
     "languageId": "java"
    }
   },
   "outputs": [
    {
     "name": "stdout",
     "output_type": "stream",
     "text": [
      "13\n"
     ]
    }
   ],
   "source": [
    "public static boolean isLeapYear(int year){\n",
    "    if (year % 4 == 0){\n",
    "        return true;\n",
    "    }\n",
    "    return false;\n",
    "}\n",
    "\n",
    "public static int numberOfLeapYears(int year1, int year2){\n",
    "    int totalYears = year2 - year1;\n",
    "    int numberOfLeapYear = 0;\n",
    "    for (int i = 0; i < totalYears; i++){\n",
    "        if (isLeapYear(i) == true){\n",
    "        numberOfLeapYear++;\n",
    "        }\n",
    "    }\n",
    "    return numberOfLeapYear;\n",
    "}\n",
    "\n",
    "System.out.println(numberOfLeapYears(2000, 2050))"
   ]
  },
  {
   "cell_type": "code",
   "execution_count": 7,
   "metadata": {
    "vscode": {
     "languageId": "java"
    }
   },
   "outputs": [],
   "source": [
    "public static int dayOfWeek(int month, int day, int year){\n",
    "    int dayOfTheWeek = 0;\n",
    "    int firstDayOfTheYear = firstDayOfYear(year);\n",
    "    int dayOfTheYear = dayOfYear(month, day, year);\n",
    "\n",
    "    int setDate = (firstDayOfTheYear + dayOfTheYear - 1) % 7;\n",
    "\n",
    "    return setDate;\n",
    "}"
   ]
  },
  {
   "cell_type": "markdown",
   "metadata": {},
   "source": [
    "# 2019 FRQ #3:"
   ]
  },
  {
   "cell_type": "code",
   "execution_count": 32,
   "metadata": {
    "vscode": {
     "languageId": "java"
    }
   },
   "outputs": [
    {
     "name": "stdout",
     "output_type": "stream",
     "text": [
      "[<q>, </q>, </q>]\n"
     ]
    }
   ],
   "source": [
    "String openDel = \"<q>\";\n",
    "String closeDel = \"</q>\";\n",
    "\n",
    "public ArrayList<String> getDelimitersList(String[] tokens){\n",
    "    ArrayList<String> delimeters = new ArrayList<>();\n",
    "    for (int i = 0; i < tokens.length; i++){\n",
    "        if (tokens[i] == openDel || tokens[i] == closeDel){\n",
    "        delimeters.add(tokens[i]);\n",
    "        }\n",
    "    }\n",
    "    return delimeters;\n",
    "}\n",
    "\n",
    "String[] hello = new String[]{\"<q>\", \"yy\", \"</q>\", \"zz\", \"</q>\"};\n",
    "System.out.println(getDelimitersList(hello));"
   ]
  },
  {
   "cell_type": "code",
   "execution_count": 50,
   "metadata": {
    "vscode": {
     "languageId": "java"
    }
   },
   "outputs": [
    {
     "name": "stdout",
     "output_type": "stream",
     "text": [
      "false\n"
     ]
    }
   ],
   "source": [
    "String openDel = \"<sup>\";\n",
    "String closeDel = \"</sup>\";\n",
    "\n",
    "public boolean isBalanced(ArrayList<String> delimiters){\n",
    "    int numOpenDel = 0;\n",
    "    int numCloseDel = 0;\n",
    "    for (int i = 0; i < delimiters.size(); i++){\n",
    "        if (delimiters.get(i) == openDel){\n",
    "            numOpenDel++;\n",
    "        }\n",
    "        else if (delimiters.get(i) == closeDel) {\n",
    "            numCloseDel++;\n",
    "        }\n",
    "    }\n",
    "\n",
    "    if (numCloseDel == numOpenDel){\n",
    "        return true;\n",
    "    }\n",
    "    return false;\n",
    "}\n",
    "\n",
    "ArrayList<String> hello = new ArrayList<>(Arrays.asList(\"<sup>\", \"</sup>\", \"</sup>\", \"<sup>, </sup>\"));\n",
    "System.out.println(isBalanced(hello));"
   ]
  },
  {
   "cell_type": "markdown",
   "metadata": {},
   "source": [
    "# 2018 #1 Practice FRQ"
   ]
  },
  {
   "cell_type": "code",
   "execution_count": 87,
   "metadata": {
    "vscode": {
     "languageId": "java"
    }
   },
   "outputs": [],
   "source": [
    "public ArrayList<String> WordPairList(String[] words) {\n",
    "    ArrayList<String> allPairs = new ArrayList<String>();\n",
    "        for (int i = 0; i < words.length - 1; i++){\n",
    "            for (int j = i + 1; j < words.length; j++){\n",
    "                WordPair newPair = new WordPair(words[i], words[j]);\n",
    "                allPairs.add(newPair);\n",
    "            }\n",
    "        }\n",
    "        return allPairs;\n",
    "    }"
   ]
  },
  {
   "cell_type": "code",
   "execution_count": 88,
   "metadata": {
    "vscode": {
     "languageId": "java"
    }
   },
   "outputs": [],
   "source": [
    "public int numMatches(){\n",
    "    int matches = 0;\n",
    "    for (int i = 0; i < allPairs.size(); i++){\n",
    "        WordPair pair = allPairs.get(i);\n",
    "        if (pairs.getFirst().equals(pairs.getSecond())){\n",
    "            matches++;\n",
    "        }\n",
    "    }\n",
    "    return matches;\n",
    "}"
   ]
  },
  {
   "cell_type": "markdown",
   "metadata": {},
   "source": [
    "public"
   ]
  }
 ],
 "metadata": {
  "kernelspec": {
   "display_name": "Java",
   "language": "java",
   "name": "java"
  },
  "language_info": {
   "codemirror_mode": "java",
   "file_extension": ".jshell",
   "mimetype": "text/x-java-source",
   "name": "Java",
   "pygments_lexer": "java",
   "version": "17.0.10+7-Ubuntu-122.04.1"
  }
 },
 "nbformat": 4,
 "nbformat_minor": 2
}
