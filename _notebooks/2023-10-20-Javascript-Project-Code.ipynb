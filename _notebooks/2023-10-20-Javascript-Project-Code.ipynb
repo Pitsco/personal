{
 "cells": [
  {
   "cell_type": "markdown",
   "metadata": {},
   "source": [
    "---\n",
    "- title: Javascript Code Notes \n",
    "- description: Code in About page for scrolling feature, understanding DOM. \n",
    "- layout: post\n",
    "- courses: { csa: {week: 9} }\n",
    "- categories: [C4.0]\n",
    "- type: tangibles\n",
    "---"
   ]
  },
  {
   "cell_type": "markdown",
   "metadata": {},
   "source": [
    "# Notes:\n",
    "\n",
    "```\n",
    "const observer = new IntersectionObserver(entries => { ... });\n",
    "```\n",
    "\n",
    "This line creates an IntersectionObserver object. An IntersectionObserver is a JavaScript API that allows you to observe when specified elements in the DOM intersect with the viewport or another target element. It takes a callback function as an argument, which will be executed whenever an observed element's intersection state changes.\n",
    "\n",
    "```\n",
    "for (let i = entries.length - 1; i >= 0; i--) { ... }\n",
    "```\n",
    "\n",
    "This loop iterates through the array of entries passed to the observer's callback function. entries is an array of IntersectionObserverEntry objects, which represent the elements being observed and their intersection status with the viewport.\n",
    "\n",
    "```\n",
    "const entry = entries[i];\n",
    "``` \n",
    "\n",
    "Inside the loop, it retrieves the current IntersectionObserverEntry object.\n",
    "\n",
    "```\n",
    "if (entry.isIntersecting) { ... }\n",
    "```\n",
    "\n",
    "It checks if the observed element is currently intersecting with the viewport. If it is, the code inside this block will execute.\n",
    "\n",
    "```\n",
    "document.querySelectorAll(\"[data-img]\").forEach(img => { img.classList.remove(\"show\"); });\n",
    "```\n",
    "\n",
    "This line hides all elements with a data-img attribute by removing the \"show\" class from them. This effectively hides all images that were previously shown.\n",
    "\n",
    "```\n",
    "const img = document.querySelector(entry.target.dataset.imgToShow); img?.classList.add(\"show\");\n",
    "``` \n",
    "\n",
    "It selects the image specified in the data-imgToShow attribute of the observed element (entry.target). It then adds the \"show\" class to this image, making it visible.\n",
    "\n",
    "```\n",
    "break;\n",
    "``` \n",
    "\n",
    "After showing the first intersecting element, it breaks out of the loop. This ensures that only the first intersecting element triggers the image visibility changes.\n",
    "\n",
    "Finally, the code observes elements with a \n",
    "```\n",
    "data-img-to-show attribute using document.querySelectorAll(\"[data-img-to-show]\").forEach(section => { observer.observe(section); });\n",
    "```\n",
    "\n",
    "It finds all elements in the DOM with a data-img-to-show attribute and adds them to the IntersectionObserver for monitoring. When any of these elements intersect with the viewport, the callback function (defined at the beginning) will be executed, and it will hide other images and display the specified image."
   ]
  }
 ],
 "metadata": {
  "language_info": {
   "name": "python"
  }
 },
 "nbformat": 4,
 "nbformat_minor": 2
}
