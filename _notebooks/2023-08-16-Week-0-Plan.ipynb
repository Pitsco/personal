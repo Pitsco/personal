{
 "cells": [
  {
   "cell_type": "markdown",
   "metadata": {},
   "source": [
    "---\n",
    "# this is YAML front matter\n",
    "- layout: post\n",
    "- title: Week 0 Plan\n",
    "- description: My plans on what I want to do day by day on week 0!\n",
    "- categories: [C4.0]\n",
    "- type: plans\n",
    "- courses: { csa: {week: 0} }\n",
    "---"
   ]
  },
  {
   "cell_type": "markdown",
   "metadata": {},
   "source": [
    "# Wednesday (8/16)\n",
    "- Introduction!\n",
    "    - Settling in a group, finding partners\n",
    "    - Introducing yourself to your group if you have not already met them!\n",
    "\n",
    "# Thursday (8/17)\n",
    "- Getting started with installation \n",
    "- Understanding [Tools]({{site.baseurl}}c1.4/2023/08/15/Tools_Sprint.html)\n",
    "- Understanding [Hacks]({{site.baseurl}}/2023/08/16/Tools_Equipment.html), creating [Github Account]({{site.baseurl}}/2023/08/16/Tools_Equipment.html), and installing [jupyter notebooks]({{site.baseurl}}/2023/08/16/Tools_Equipment.html)\n",
    "\n",
    "# Friday (8/18)\n",
    "- Set up wsl, vscode, anaconda, etc.\n",
    "- Reference [here](https://nighthawkcoders.github.io/teacher//5.a/c4.1/2023/08/16/github_pages_setup_IPYNB_2_.html) for installation\n",
    "\n",
    "# Saturday (8/19)\n",
    "- Nothing\n",
    "# Sunday (8/20)\n",
    "- Sign up for Live Review\n",
    "# Monday (8/21)\n",
    "- \n",
    "# Tuesday (8/22)\n",
    "- \n",
    "# Wednesday (8/23)\n",
    "- Live Review!\n",
    "- Understanding "
   ]
  }
 ],
 "metadata": {
  "language_info": {
   "name": "python"
  },
  "orig_nbformat": 4
 },
 "nbformat": 4,
 "nbformat_minor": 2
}
