{
 "cells": [
  {
   "cell_type": "markdown",
   "metadata": {},
   "source": [
    "---\n",
    "- title: Student Lesson Scores\n",
    "- description: College Board Questions that I missed/need to be reviewed on\n",
    "- layout: post\n",
    "- courses: { csa: {week: 11} }\n",
    "- categories: [C4.0]\n",
    "- type: tangibles\n",
    "---\n"
   ]
  },
  {
   "cell_type": "markdown",
   "metadata": {},
   "source": [
    "<table>\n",
    "  <tr>\n",
    "    <th>Lesson #</th>\n",
    "    <th>Grade</th>\n",
    "    <th>Feedback Comments</th>\n",
    "  </tr>\n",
    "  <tr>\n",
    "    <td><a href=\"https://docs.google.com/spreadsheets/u/3/d/1sfd2V18fgzKQJREfusTLqHkfqY54qJfiTN_cHmvfj-k/edit#gid=781778514\">Unit 1</a></td>\n",
    "    <td>0.95</td>\n",
    "    <td>No given notes</td>\n",
    "  </tr>\n",
    "    <tr>\n",
    "    <td><a href=\"https://docs.google.com/spreadsheets/d/1q-zyhdHc9oFvWG7RMvuQVVKMQ8BjdNOyaAEbmjY4xEs/edit#gid=1846745372\">Unit 2</a></td>\n",
    "    <td>0.90</td>\n",
    "    <td>No given notes</td>\n",
    "  </tr>\n",
    "    <tr>\n",
    "    <td><a href=\"https://docs.google.com/spreadsheets/d/1ejztYePVeo5rbdodZC4XxRm7kU_KxPkf5f1mXDC3urU/edit#gid=0\">Unit 3</a></td>\n",
    "    <td>0.97</td>\n",
    "    <td>Talk to graders. Missing the comparison hacks, which needs to be added (talk to graders). Completed the leap year checker and took time to show work on all of the boolean logic questions (and answered them correctly).</td>\n",
    "  </tr>\n",
    "  <tr>\n",
    "    <td><a href=\"https://docs.google.com/spreadsheets/d/1reH2rO8kZSXO-6_C0YnWGrSvvaeDE18OmsW1VkLYVeI/edit#gid=0\">Unit 4</a></td>\n",
    "    <td>0.93</td>\n",
    "    <td>missing 4.3 popcorn hacks</td>\n",
    "  </tr>  \n",
    "  <tr>\n",
    "    <td><a href=\"https://docs.google.com/spreadsheets/d/1reH2rO8kZSXO-6_C0YnWGrSvvaeDE18OmsW1VkLYVeI/edit#gid=248984290\">Unit 5</a></td>\n",
    "    <td>0.95</td>\n",
    "    <td>Complete hacks</td>\n",
    "  </tr>  \n",
    "  <tr>\n",
    "    <td><a href=\"https://docs.google.com/spreadsheets/d/1H9VJdNl9QOGxOX8AAF4kRHXfDjRAdte72nwuZsqxc94/edit#gid=0\">Unit 6</a></td>\n",
    "    <td>0.85</td>\n",
    "    <td>All popcorn hacks completed, incorrect input structure for hacks (-0.5), no extra (no extra 0.1)</td>\n",
    "  </tr>  \n",
    "  <tr>\n",
    "    <td><a href=\"https://docs.google.com/spreadsheets/d/1B2sqAs43q9iDG7CjvdDJevrh3pTYf5q39KfP5AibjeM/edit#gid=0\">Unit 7</a></td>\n",
    "    <td>1.00</td>\n",
    "    <td>Popcorn and final hacks are completed along with the challenge problem.</td>\n",
    "  <tr>\n",
    "    <td><a href=\"\">Unit 8: Types</a></td>\n",
    "    <td>Not released</td>\n",
    "    <td>Not released</td>\n",
    "  </tr>\n",
    "</table>"
   ]
  }
 ],
 "metadata": {
  "kernelspec": {
   "display_name": "Java",
   "language": "java",
   "name": "java"
  },
  "language_info": {
   "name": "java"
  }
 },
 "nbformat": 4,
 "nbformat_minor": 2
}
