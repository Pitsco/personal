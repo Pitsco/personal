{
 "cells": [
  {
   "cell_type": "markdown",
   "metadata": {},
   "source": [
    "---\n",
    "- title: 2019 FRQ Practice\n",
    "- description: Question 2 from the FRQ section (Class)\n",
    "- layout: post\n",
    "- courses: { csa: {week: 4} }\n",
    "- categories: [C4.0]\n",
    "- type: tangibles\n",
    "---"
   ]
  },
  {
   "cell_type": "markdown",
   "metadata": {},
   "source": [
    "# Prompt: \n",
    "\n",
    "This question involves the implementation of a fitness tracking system that is represented by the StepTracker class. A StepTracker object is created with a parameter that defines the minimum\n",
    "number of steps that must be taken for a day to be considered active.\n",
    " The StepTracker class provides a constructor and the following methods.\n",
    "\n",
    "- addDailySteps, which accumulates information about steps, in readings taken once per day\n",
    "- activeDays, which returns the number of active days\n",
    "- averageSteps, which returns the average number of steps per day, calculated by dividing the\n",
    "total number of steps taken by the number of days tracked\n",
    "\n",
    "The following table contains a sample code execution sequence and the corresponding results. \n",
    "\n",
    "\n",
    "\n",
    "Write the complete StepTracker class, including the constructor and any required instance variables and methods. Your implementation must meet all specifications and conform to the example."
   ]
  },
  {
   "cell_type": "code",
   "execution_count": 3,
   "metadata": {},
   "outputs": [
    {
     "name": "stdout",
     "output_type": "stream",
     "text": [
      "Active Days: 0\n",
      "Average Steps: 7000.0\n",
      "Active Days: 1\n",
      "Average Steps: 9000.0\n",
      "Active Days: 2\n",
      "Average Steps: 10222.2\n"
     ]
    }
   ],
   "source": [
    "public class StepTracker {\n",
    "    private int minSteps;\n",
    "    private int totalSteps;\n",
    "    private int activeDays;\n",
    "    private int totalDays;\n",
    "\n",
    "    public StepTracker(int minSteps) {\n",
    "        this.minSteps = minSteps;\n",
    "        this.totalSteps = 0;\n",
    "        this.activeDays = 0;\n",
    "        this.totalDays = 0;\n",
    "    }\n",
    "\n",
    "    public void addDailySteps(int steps) {\n",
    "        totalSteps += steps;\n",
    "        totalDays++;\n",
    "        if (steps >= minSteps) {\n",
    "            activeDays++;\n",
    "        }\n",
    "    }\n",
    "\n",
    "    public int activeDays() {\n",
    "        return activeDays;\n",
    "    }\n",
    "\n",
    "    public double averageSteps() {\n",
    "        if (totalDays == 0) {\n",
    "            return 0.0;\n",
    "        } else {\n",
    "            return (double) totalSteps / totalDays;\n",
    "        }\n",
    "    }\n",
    "\n",
    "    public static void main(String[] args) {\n",
    "        // Create a StepTracker object with a minimum step requirement of 10,000\n",
    "        StepTracker tr = new StepTracker(10000);\n",
    "\n",
    "        // Add daily steps and test the methods\n",
    "        tr.addDailySteps(9000);\n",
    "        tr.addDailySteps(5000);\n",
    "        System.out.println(\"Active Days: \" + tr.activeDays()); // Should print 0\n",
    "        System.out.println(\"Average Steps: \" + tr.averageSteps()); // Should print 0.0\n",
    "\n",
    "        tr.addDailySteps(13000);\n",
    "        System.out.println(\"Active Days: \" + tr.activeDays()); // Should print 1\n",
    "        System.out.println(\"Average Steps: \" + tr.averageSteps()); // Should print 9000.0\n",
    "\n",
    "        tr.addDailySteps(23000);\n",
    "        tr.addDailySteps(1111);\n",
    "        System.out.println(\"Active Days: \" + tr.activeDays()); // Should print 2\n",
    "        System.out.println(\"Average Steps: \" + tr.averageSteps()); // Should print 10222.2\n",
    "    }\n",
    "}\n",
    "\n",
    "StepTracker.main(null);"
   ]
  },
  {
   "cell_type": "markdown",
   "metadata": {},
   "source": [
    "### StepTracker Class Definition"
   ]
  },
  {
   "cell_type": "code",
   "execution_count": 3,
   "metadata": {},
   "outputs": [],
   "source": [
    "public class StepTracker {\n",
    "}"
   ]
  },
  {
   "cell_type": "markdown",
   "metadata": {},
   "source": [
    "- It has instance variables and methods to track and calculate step-related information"
   ]
  },
  {
   "cell_type": "markdown",
   "metadata": {},
   "source": [
    "### Instance Variables"
   ]
  },
  {
   "cell_type": "code",
   "execution_count": 2,
   "metadata": {},
   "outputs": [],
   "source": [
    "private int minSteps;\n",
    "private int totalSteps;\n",
    "private int activeDays;\n",
    "private int totalDays;"
   ]
  },
  {
   "cell_type": "markdown",
   "metadata": {},
   "source": [
    "- minSteps: This variable holds the minimum number of steps required for a day to be considered active\n",
    "- totalSteps: This variable accumulates the total number of steps taken across all days\n",
    "- activeDays: It counts the number of days where the step count exceeded or equaled minSteps\n",
    "- totalDays: This variable keeps track of the total number of days for which step data has been recorded"
   ]
  },
  {
   "cell_type": "markdown",
   "metadata": {},
   "source": [
    "### Constructor"
   ]
  },
  {
   "cell_type": "code",
   "execution_count": null,
   "metadata": {},
   "outputs": [],
   "source": [
    "public StepTracker(int minSteps) {\n",
    "    this.minSteps = minSteps;\n",
    "    this.totalSteps = 0;\n",
    "    this.activeDays = 0;\n",
    "    this.totalDays = 0;\n",
    "}"
   ]
  },
  {
   "cell_type": "markdown",
   "metadata": {},
   "source": [
    "- The constructor initializes the minSteps instance variable with the provided minSteps parameter\n",
    "- It sets totalSteps, activeDays, and totalDays to zero, as there is no data recorded initially"
   ]
  },
  {
   "cell_type": "markdown",
   "metadata": {},
   "source": [
    "### addDailySteps Method"
   ]
  },
  {
   "cell_type": "code",
   "execution_count": null,
   "metadata": {},
   "outputs": [],
   "source": [
    "public int activeDays() {\n",
    "    return activeDays;\n",
    "}"
   ]
  },
  {
   "cell_type": "markdown",
   "metadata": {},
   "source": [
    "- addDailySteps is used to accumulate daily step counts\n",
    "- It increments totalSteps by the number of steps taken on the current day\n",
    "- totalDays is incremented to keep track of the total number of days\n",
    "- If the number of steps on the current day is greater than or equal to minSteps, it increments activeDays"
   ]
  },
  {
   "cell_type": "markdown",
   "metadata": {},
   "source": [
    "### averageSteps Method"
   ]
  },
  {
   "cell_type": "code",
   "execution_count": null,
   "metadata": {},
   "outputs": [],
   "source": [
    "public double averageSteps() {\n",
    "    if (totalDays == 0) {\n",
    "        return 0.0;\n",
    "    } else {\n",
    "        return (double) totalSteps / totalDays;\n",
    "    }\n",
    "}"
   ]
  },
  {
   "cell_type": "markdown",
   "metadata": {},
   "source": [
    "- averageSteps method calculates and returns the average number of steps per day\n",
    "- It handles the case where no data has been recorded yet by returning 0.0 to prevent division by zero"
   ]
  },
  {
   "cell_type": "markdown",
   "metadata": {},
   "source": [
    "### Main Method for Testing"
   ]
  },
  {
   "cell_type": "code",
   "execution_count": null,
   "metadata": {},
   "outputs": [],
   "source": [
    "public static void main(String[] args) {\n",
    "    // Create a StepTracker object with a minimum step requirement of 10,000\n",
    "    StepTracker tr = new StepTracker(10000);\n",
    "\n",
    "    // Add daily steps and test the methods\n",
    "    // ...\n",
    "\n",
    "}"
   ]
  },
  {
   "cell_type": "markdown",
   "metadata": {},
   "source": [
    "- The main method is used for testing the StepTracker class\n",
    "- It creates a StepTracker object tr with a minimum step requirement of 10,000, adds daily steps, and tests the activeDays and averageSteps methods"
   ]
  },
  {
   "cell_type": "markdown",
   "metadata": {},
   "source": [
    "hi"
   ]
  }
 ],
 "metadata": {
  "kernelspec": {
   "display_name": "Java",
   "language": "java",
   "name": "java"
  },
  "language_info": {
   "codemirror_mode": "java",
   "file_extension": ".jshell",
   "mimetype": "text/x-java-source",
   "name": "java",
   "pygments_lexer": "java",
   "version": "11.0.20.1+1-post-Ubuntu-0ubuntu122.04"
  },
  "orig_nbformat": 4
 },
 "nbformat": 4,
 "nbformat_minor": 2
}
