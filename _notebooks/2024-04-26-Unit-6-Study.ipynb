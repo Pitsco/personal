{
 "cells": [
  {
   "cell_type": "markdown",
   "metadata": {},
   "source": [
    "---\n",
    "- title: Unit 7 Study\n",
    "- description: Review the Generic Concepts of Unit 7 of AP CSA Exam \n",
    "- layout: post\n",
    "- courses: { csa: {week: 25} }\n",
    "- categories: [C4.0]\n",
    "- type: tangibles\n",
    "- comments: true\n",
    "---"
   ]
  },
  {
   "cell_type": "markdown",
   "metadata": {},
   "source": [
    "# Arraylists:"
   ]
  },
  {
   "cell_type": "code",
   "execution_count": 22,
   "metadata": {
    "vscode": {
     "languageId": "java"
    }
   },
   "outputs": [
    {
     "name": "stdout",
     "output_type": "stream",
     "text": [
      "salmon\n",
      "trout\n",
      "[salmon, trout]\n"
     ]
    }
   ],
   "source": [
    "public class ArrayandArrayList {\n",
    "    public static void main(String[] args){\n",
    "        String[] fishArr = new String[4];\n",
    "        fishArr[0] = \"trout\";\n",
    "        fishArr[2] = \"salmon\";\n",
    "        fishArr[1] = \"tuna\";\n",
    "        fishArr[1] = \"bass\"; //overriding index 1\n",
    "\n",
    "        ArrayList<String> fishArrList = new ArrayList<>();\n",
    "        fishArrList.add(\"salmon\");\n",
    "        fishArrList.add(\"trout\");\n",
    "        fishArrList.add(1, \"tuna\");\n",
    "        fishArrList.set(1, \"bass\"); //overriding index 1\n",
    "        //fish.ArrayList.remove(1); remove index 1, everything slides down\n",
    "        String removedFish = fishArrList.remove(1); //setting the removed index equal to a new string; essentially storing the removed variable\n",
    "        String aFish = fishArrList.get(0); //setting a String at index 0 equal to a variable\n",
    "\n",
    "        for (int i = 0; i < fishArrList.size(); i++){\n",
    "            System.out.println(fishArrList.get(i));\n",
    "        }\n",
    "\n",
    "        System.out.println(fishArrList);\n",
    "    }\n",
    "}\n",
    "\n",
    "ArrayandArrayList.main(null)"
   ]
  },
  {
   "cell_type": "code",
   "execution_count": 23,
   "metadata": {
    "vscode": {
     "languageId": "java"
    }
   },
   "outputs": [],
   "source": [
    "public class ArrayandArrayList {\n",
    "    public static void main(String[] args){\n",
    "        ArrayList<Integer> myNumbers = new ArrayList<>();\n",
    "        myNumbers.add(4);\n",
    "        myNumbers.get(0);\n",
    "    }\n",
    "}\n",
    "\n",
    "ArrayandArrayList.main(null)"
   ]
  },
  {
   "cell_type": "markdown",
   "metadata": {},
   "source": [
    "# Traversing an ArrayList:\n",
    "- Arrays in Java start at 0\n",
    "- .length will return the number of indexes in an array\n",
    "- traverse an array with a For Loop or a For-Each Loop"
   ]
  },
  {
   "cell_type": "code",
   "execution_count": 31,
   "metadata": {
    "vscode": {
     "languageId": "java"
    }
   },
   "outputs": [
    {
     "name": "stdout",
     "output_type": "stream",
     "text": [
      "3183\n",
      "1\n",
      "8\n",
      "[]\n"
     ]
    }
   ],
   "source": [
    "ArrayList<Integer> nums = new ArrayList<>(Arrays.asList(3, 1, 8));\n",
    "\n",
    "for (int temp : nums) {\n",
    "    System.out.print(temp);\n",
    "}\n",
    "\n",
    "for (int i = 0; i < nums.size(); i++){\n",
    "    System.out.println(nums.get(i));\n",
    "    nums.remove(i);\n",
    "    i--;\n",
    "}\n",
    "\n",
    "\n",
    "\n",
    "System.out.println(nums);\n"
   ]
  },
  {
   "cell_type": "code",
   "execution_count": 82,
   "metadata": {
    "vscode": {
     "languageId": "java"
    }
   },
   "outputs": [
    {
     "name": "stdout",
     "output_type": "stream",
     "text": [
      "[Hello]\n"
     ]
    }
   ],
   "source": [
    "public class ShoppingList {\n",
    "    private ArrayList<String> items;\n",
    "\n",
    "    public ShoppingList(ArrayList<String> newItemList) {\n",
    "        items = newItemList;\n",
    "    }\n",
    "\n",
    "    public ArrayList<String> removeAnItem(String itemToRemove) {\n",
    "        int count = 0;\n",
    "        ArrayList<String> removedItems = new ArrayList<String>();\n",
    "        for (int i = items.size() - 1; i >= 0; i--) {\n",
    "            if (items.get(i).equals(itemToRemove)) {\n",
    "                items.remove(i);\n",
    "                removedItems.add(itemToRemove);\n",
    "                count++;\n",
    "            }\n",
    "        }\n",
    "        return removedItems;\n",
    "    }\n",
    "\n",
    "    public static void main(String[] args){\n",
    "        ArrayList<String> newList = new ArrayList<>(Arrays.asList(\"Hello\", \"Hi\"));\n",
    "        ShoppingList list = new ShoppingList(newList);\n",
    "        ArrayList<String> removed2Items = list.removeAnItem(\"Hello\");\n",
    "        System.out.println(removed2Items);\n",
    "\n",
    "    }\n",
    "}\n",
    "\n",
    "ShoppingList.main(null)"
   ]
  },
  {
   "cell_type": "markdown",
   "metadata": {},
   "source": [
    "# Converting Array to Arraylist:"
   ]
  },
  {
   "cell_type": "code",
   "execution_count": 90,
   "metadata": {
    "vscode": {
     "languageId": "java"
    }
   },
   "outputs": [
    {
     "name": "stdout",
     "output_type": "stream",
     "text": [
      "[3, 6, 1, 7, 3, 1]\n"
     ]
    }
   ],
   "source": [
    "public class ArrayToArrayList {\n",
    "    public static void main(String[] args){\n",
    "        int[] Array = {3, 6, 1, 7, 3, 1};\n",
    "        ArrayList<Integer> aNewList = new ArrayList<>();\n",
    "\n",
    "        for (int temp : Array){\n",
    "            aNewList.add(temp);\n",
    "        }\n",
    "        System.out.println(aNewList);\n",
    "    }\n",
    "}\n",
    "\n",
    "ArrayToArrayList.main(null)\n"
   ]
  }
 ],
 "metadata": {
  "kernelspec": {
   "display_name": "Java",
   "language": "java",
   "name": "java"
  },
  "language_info": {
   "codemirror_mode": "java",
   "file_extension": ".jshell",
   "mimetype": "text/x-java-source",
   "name": "Java",
   "pygments_lexer": "java",
   "version": "17.0.10+7-Ubuntu-122.04.1"
  }
 },
 "nbformat": 4,
 "nbformat_minor": 2
}
