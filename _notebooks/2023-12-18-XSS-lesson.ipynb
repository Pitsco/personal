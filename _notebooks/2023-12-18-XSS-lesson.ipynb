{
 "cells": [
  {
   "cell_type": "markdown",
   "metadata": {},
   "source": [
    "---\n",
    "- title: XSS Lesson\n",
    "- description: lesson for XSS\n",
    "- layout: post\n",
    "- courses: { csa: {week: 15} }\n",
    "- categories: [C4.0]\n",
    "- type: tangibles\n",
    "---\n"
   ]
  },
  {
   "cell_type": "markdown",
   "metadata": {},
   "source": [
    "# What is XSS?\n",
    "XSS (Cross Site Scripting) is a security vunerability.\n",
    "\n",
    "**OCCURS WHEN** an attacker injects malicious scripts into web pages that are viewed by other users.\n",
    "\n",
    "The scripts can be executed in the context of a user's browser, leading to potential harm:\n",
    "1. Stealing sensitive information\n",
    "2. Session hijacking\n",
    "3. Defacing websites\n",
    "\n",
    "A term needed to know is **payload**: A \"payload\" refers to the malicious code or set of instructions that an perpetrator (attacker) delivers to a target system to achieve a specific objective, ex. stealing information from others.\n",
    "### **Popcorn hack:**\n",
    "What are two other possible harms of XSS?"
   ]
  },
  {
   "cell_type": "markdown",
   "metadata": {},
   "source": [
    "# 3 Main Types of XSS:\n",
    "\n",
    "### **Stored XSS:**\n",
    "**General Definition**: Occurs when the malicious script is permanently stored on the target server and served to users whenever they access the compromised page.\n",
    "\n",
    "![image](https://www.imperva.com/learn/wp-content/uploads/sites/13/2019/01/sorted-XSS.png)\n",
    "\n",
    "**Steps based on the diagram:**\n",
    "1. *Perpetrator Discovers Vulnerability:*\n",
    "    - Description: The attacker, known as the perpetrator, identifies a website that has a security vulnerability, often related to inadequate input validation or output encoding.\n",
    "    - Objective: The goal is to find a weakness that allows the injection of malicious scripts into the web application.\n",
    "2. *Injection of Malicious Script:*\n",
    "    - Description: The perpetrator injects a malicious script into the vulnerable website. This script is designed to execute specific actions when loaded by visitors' browsers.\n",
    "    - Objective: The injected script is crafted to steal sensitive information, commonly session cookies, from users who visit the compromised page.\n",
    "3. *Activation of Malicious Script:*\n",
    "    - Description: Whenever a visitor accesses the perpetrated website, the injected malicious script is activated within their browser.\n",
    "    - Objective: The script executes in the context of the user's session, enabling the attacker to carry out actions on behalf of the user or extract sensitive information.\n",
    "4. *Sending Stolen Session Cookies:*\n",
    "    - Description: The malicious script, now activated during each visitor's session, collects the session cookies of the users.\n",
    "    - Objective: The stolen session cookies are sent back to the perpetrator, who can then use these cookies to impersonate the users, gaining unauthorized access to their accounts.\n",
    "\n",
    "**Example:** An attacker discovers that a website allows user-generated content without proper input validation. They inject a script into a comment section, and whenever other users view that comment, the malicious script executes in their browsers, stealing their session cookies. The attacker then uses these stolen session cookies to log in as the compromised users."
   ]
  },
  {
   "cell_type": "markdown",
   "metadata": {},
   "source": [
    "### **Reflected XSS:**\n",
    "**General Definition:** The injected script is part of the user's request and reflected back to the user, often via a crafted link. Unlike a Stored XSS, it doesn't exist on the target server, rather it exists in the malicious link.\n",
    "\n",
    "![image](https://media.geeksforgeeks.org/wp-content/uploads/20210706191745/tuxpicom1625579254-660x373.jpg)\n",
    "\n",
    "**Steps based on the diagram:**\n",
    "1. *Perpetrator Sends Malicious Links:*\n",
    "    - Description: The attacker, known as the perpetrator, sends crafted and malicious links to potential victims.\n",
    "    - Objective: The links contain specially crafted payloads, often in the form of parameters in the URL, that exploit vulnerabilities on the targeted website.\n",
    "2. *User Clicks the Link and Execution in the Browser:*\n",
    "    - Description: A user receives the malicious link and clicks on it.\n",
    "    - Objective: The payload embedded in the link is executed within the user's browser, exploiting the vulnerability on the target website.\n",
    "3. *Browser Sends Private Data to the Attacker:*\n",
    "    - Description: As a result of the executed payload, the user's browser performs actions on the targeted website, often unintentionally.\n",
    "    - Objective: The payload may include code that steals sensitive information, such as session cookies or other private data, from the user's session.\n",
    "\n",
    "**Example:** An attacker discovers a website with a search feature that reflects the user's input in the URL without proper validation. The attacker sends a crafted link to a user, and when the user clicks it, the payload in the URL is reflected back by the website. This payload includes a script that steals the user's session cookie and sends it to the attacker."
   ]
  },
  {
   "cell_type": "markdown",
   "metadata": {},
   "source": [
    "### **DOM-based XSS:**\n",
    "**General Definition**: DOM-based Cross-Site Scripting (DOM-based XSS) is a type of Cross-Site Scripting attack where the vulnerability is located in the Document Object Model (DOM) of a web page. Unlike traditional XSS attacks, where the malicious payload is inserted into the HTML content, DOM-based XSS occurs in the client-side script itself. \n",
    "\n",
    "![img](https://www.researchgate.net/publication/348065719/figure/fig7/AS:974893847937024@1609444214143/DOM-based-XSS-Attack-Model.png)\n",
    "\n",
    "**Steps based on diagram:**\n",
    "1. *Attacker Crafts a Malicious URL:*\n",
    "    - Description: The attacker creates a specially crafted URL containing a malicious payload, typically in the fragment part of the URL (e.g., after the # symbol).\n",
    "    - Objective: The goal is to inject malicious JavaScript code into the victim's browser.\n",
    "2. *User Opens the Link:*\n",
    "    - Description: The attacker tricks the user into opening the malicious link, causing the victim's browser to make a request to the targeted website with the malicious payload.\n",
    "    - Objective: The user's action initiates the process of loading the targeted website.\n",
    "3. *Website Receives the Request:*\n",
    "    - Description: The targeted website receives the user's request, including the malicious payload in the URL fragment.\n",
    "    - Objective: Despite receiving the payload, the website does not directly include it in the response to the user.\n",
    "4. *Legitimate Script Execution:*\n",
    "    - Description: The website processes the request and sends a response to the user's browser. The response may include legitimate client-side scripts.\n",
    "    - Objective: The user's browser executes the legitimate scripts included in the response, causing the page to render as intended.\n",
    "5. *Execution of Malicious Script:*\n",
    "    - Description: During the legitimate script execution, the browser processes the malicious payload included in the page, leading to the execution of the attacker's injected script.\n",
    "    - Objective: The attacker's script is executed in the context of the user's session, allowing it to perform malicious actions, such as stealing sensitive information.\n",
    "6. *Sensitive Information Sent to Attacker:*\n",
    "    - Description: The executed malicious script carries out actions, such as stealing user-sensitive information (ex. session cookies), which is then sent to the attacker's server.\n",
    "    - Objective: The attacker gains unauthorized access to the victim's information, potentially leading to further exploitation.\n",
    "\n",
    "### **Popcorn Hack:**\n",
    "Provide an example of DOM-based XSS...\n",
    "\n",
    "**Example:**"
   ]
  }
 ],
 "metadata": {
  "kernelspec": {
   "display_name": "Java",
   "language": "java",
   "name": "java"
  },
  "language_info": {
   "name": "java",
   "version": "3.12.0"
  }
 },
 "nbformat": 4,
 "nbformat_minor": 2
}
