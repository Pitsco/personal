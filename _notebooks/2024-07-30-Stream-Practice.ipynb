{
 "cells": [
  {
   "cell_type": "markdown",
   "metadata": {},
   "source": [
    "---\n",
    "- title: Stream Practice\n",
    "- description: Fourth CSA FRQ and explanations\n",
    "- layout: post\n",
    "- courses: { csa: {week: 25} }\n",
    "- categories: [C4.0]\n",
    "- type: tangibles\n",
    "- comments: true\n",
    "---"
   ]
  },
  {
   "cell_type": "markdown",
   "metadata": {},
   "source": [
    "# Question 1\n",
    "Stream a list of int primitives between the range of 0 (inclusive) and 5 (exclusive).  Calculate and output the average."
   ]
  },
  {
   "cell_type": "code",
   "execution_count": 3,
   "metadata": {
    "vscode": {
     "languageId": "java"
    }
   },
   "outputs": [
    {
     "name": "stdout",
     "output_type": "stream",
     "text": [
      "Average: 2.0\n"
     ]
    }
   ],
   "source": [
    "public class AverageCalculator {\n",
    "    public static void main(String[] args) {\n",
    "        List<Integer> numbers = Arrays.asList(0, 1, 2, 3, 4);\n",
    "        \n",
    "        // Convert the list to a stream and calculate the average\n",
    "        OptionalDouble average = numbers.stream()\n",
    "                                        .mapToInt(Integer::intValue)\n",
    "                                        .average();\n",
    "        \n",
    "        // Check if the average is present and print it\n",
    "        if (average.isPresent()) {\n",
    "            System.out.println(\"Average: \" + average.getAsDouble());\n",
    "        } else {\n",
    "            System.out.println(\"The stream is empty.\");\n",
    "        }\n",
    "    }\n",
    "}\n",
    "\n",
    "AverageCalculator.main(null)"
   ]
  },
  {
   "cell_type": "markdown",
   "metadata": {},
   "source": [
    "# Question 2:\n",
    "Given the Item class (in the zip file), declare a List typed for Item with the following Item’s: \n",
    "\n",
    "a. id=1 name=”Screw” \n",
    "\n",
    "b. id=2 name=”Nail” \n",
    "\n",
    "c. id=3 name=”Bolt” \n",
    "\n",
    "Stream the list and sort it so that it outputs “BoltNailScrew” i.e. alphabetic name order. Use Stream’s forEach method to output the names (use the method reference version for the required Consumer lambda).   "
   ]
  },
  {
   "cell_type": "code",
   "execution_count": 5,
   "metadata": {
    "vscode": {
     "languageId": "java"
    }
   },
   "outputs": [
    {
     "name": "stdout",
     "output_type": "stream",
     "text": [
      "BoltNailScrew"
     ]
    }
   ],
   "source": [
    "public class Item {\n",
    "    private int id;\n",
    "    private String name;\n",
    "\n",
    "    public Item(int id, String name) {\n",
    "        this.id = id;\n",
    "        this.name = name;\n",
    "    }\n",
    "\n",
    "    public int getId() {\n",
    "        return id;\n",
    "    }\n",
    "\n",
    "    public String getName() {\n",
    "        return name;\n",
    "    }\n",
    "}\n",
    "\n",
    "public class ItemSorter {\n",
    "    public static void main(String[] args) {\n",
    "        // Create a list of Item objects\n",
    "        List<Item> items = Arrays.asList(\n",
    "            new Item(1, \"Screw\"),\n",
    "            new Item(2, \"Nail\"),\n",
    "            new Item(3, \"Bolt\")\n",
    "        );\n",
    "        \n",
    "        // Stream the list, sort it by the name, and print the names in sorted order\n",
    "        items.stream()\n",
    "             .sorted((item1, item2) -> item1.getName().compareTo(item2.getName()))\n",
    "             .map(Item::getName)\n",
    "             .forEach(System.out::print);\n",
    "    }\n",
    "}\n",
    "\n",
    "ItemSorter.main(null)"
   ]
  },
  {
   "cell_type": "markdown",
   "metadata": {},
   "source": [
    "# Question 3\n",
    "Generate a Stream<List<String>> using the Stream.of(Arrays.asList(“a”, “b”), Arrays.asList(“a”, “c”)) method call. Filter the stream so that only list’s that contain “c” make it through the filter. Flatten the Stream<List<String>> to a Stream<String> using the flatMap() operation. Note that flapMap() states in the API “Each mapped stream is closed after its contents have been placed into this [new] stream.”. Use forEach() to output the new stream.      "
   ]
  },
  {
   "cell_type": "code",
   "execution_count": 7,
   "metadata": {
    "vscode": {
     "languageId": "java"
    }
   },
   "outputs": [
    {
     "name": "stdout",
     "output_type": "stream",
     "text": [
      "a\n",
      "c\n"
     ]
    }
   ],
   "source": [
    "import java.util.Arrays;\n",
    "import java.util.List;\n",
    "import java.util.stream.Stream;\n",
    "\n",
    "public class Main {\n",
    "    public static void main(String[] args) {\n",
    "        Stream<List<String>> listOfLists = Stream.of(\n",
    "                Arrays.asList(\"a\", \"b\"),\n",
    "                Arrays.asList(\"a\", \"c\")\n",
    "        );\n",
    "\n",
    "        listOfLists\n",
    "                .filter(list -> list.contains(\"c\")) // Filter lists containing \"c\"\n",
    "                .flatMap(list -> list.stream()) // Flatten the Stream<List<String>> to Stream<String>\n",
    "                .forEach(System.out::println); // Output each element\n",
    "    }\n",
    "}\n",
    "Main.main(null)"
   ]
  },
  {
   "cell_type": "markdown",
   "metadata": {},
   "source": [
    "# Question 4:\n",
    "There are several parts to this:      \n",
    "a. Using 1, 2 and 3 create a List of Integers.  \n",
    "(QID 2.1738) \n",
    "i. Stream the list and calculate the sum, using the sum() method from IntStream.  \n",
    "ii. Stream the list again and calculate the maximum value, using the max() method from \n",
    "IntStream.  \n",
    "b. Given the Person class (in the zip file), declare a List typed for Person with the following \n",
    "Person’s: \n",
    "i. “Alan”, “Burke”, 22 \n",
    "ii. “Zoe”, “Peters”, 20 \n",
    "iii. “Peter”, “Castle”, 29 \n",
    "Using the max(Comparator) from Stream, calculate the oldest person in the list. \n",
    "c. Using 10, 47, 33 and 23 create a List of Integers. Stream the list and using the following \n",
    "versions of reduce(), calculate the maximum value: \n",
    "i. Optional<T> reduce(BinaryOperator<T> accumulator) \n",
    "ii. T reduce(T identity, BinaryOperator<T> accumulator)"
   ]
  },
  {
   "cell_type": "code",
   "execution_count": 10,
   "metadata": {
    "vscode": {
     "languageId": "java"
    }
   },
   "outputs": [
    {
     "name": "stdout",
     "output_type": "stream",
     "text": [
      "Sum: 6\n",
      "Maximum value: 3\n",
      "Oldest person: Peter Castle, Age: 29\n",
      "Maximum value using reduce(BinaryOperator<T> accumulator): 47\n",
      "Maximum value using reduce(T identity, BinaryOperator<T> accumulator): 47\n"
     ]
    }
   ],
   "source": [
    "import java.util.*;\n",
    "import java.util.stream.*;\n",
    "\n",
    "class Person {\n",
    "    private String firstName;\n",
    "    private String lastName;\n",
    "    private int age;\n",
    "\n",
    "    public Person(String firstName, String lastName, int age) {\n",
    "        this.firstName = firstName;\n",
    "        this.lastName = lastName;\n",
    "        this.age = age;\n",
    "    }\n",
    "\n",
    "    public String getFirstName() {\n",
    "        return firstName;\n",
    "    }\n",
    "\n",
    "    public String getLastName() {\n",
    "        return lastName;\n",
    "    }\n",
    "\n",
    "    public int getAge() {\n",
    "        return age;\n",
    "    }\n",
    "\n",
    "    @Override\n",
    "    public String toString() {\n",
    "        return firstName + \" \" + lastName + \", Age: \" + age;\n",
    "    }\n",
    "}\n",
    "\n",
    "public class Main {\n",
    "    public static void main(String[] args) {\n",
    "        // Part a: Create a list of integers and perform calculations\n",
    "        List<Integer> numbers = Arrays.asList(1, 2, 3);\n",
    "        int sum = numbers.stream().mapToInt(Integer::intValue).sum();\n",
    "        int max = numbers.stream().mapToInt(Integer::intValue).max().orElse(0);\n",
    "        System.out.println(\"Sum: \" + sum);\n",
    "        System.out.println(\"Maximum value: \" + max);\n",
    "\n",
    "        // Part b: Find the oldest person using max(Comparator)\n",
    "        List<Person> people = Stream.of(\n",
    "                new Person(\"Alan\", \"Burke\", 22),\n",
    "                new Person(\"Zoe\", \"Peters\", 20),\n",
    "                new Person(\"Peter\", \"Castle\", 29)\n",
    "        ).collect(Collectors.toList());\n",
    "        Person oldestPerson = people.stream()\n",
    "                                    .max(Comparator.comparingInt(Person::getAge))\n",
    "                                    .orElse(null);\n",
    "        System.out.println(\"Oldest person: \" + oldestPerson);\n",
    "\n",
    "        // Part c: Use reduce() to find the maximum value\n",
    "        List<Integer> numbers2 = Arrays.asList(10, 47, 33, 23);\n",
    "        Optional<Integer> max1 = numbers2.stream().reduce(Integer::max);\n",
    "        Integer max2 = numbers2.stream().reduce(Integer.MIN_VALUE, Integer::max);\n",
    "        System.out.println(\"Maximum value using reduce(BinaryOperator<T> accumulator): \" + max1.orElse(null));\n",
    "        System.out.println(\"Maximum value using reduce(T identity, BinaryOperator<T> accumulator): \" + max2);\n",
    "    }\n",
    "}\n",
    "\n",
    "Main.main(null)"
   ]
  },
  {
   "cell_type": "markdown",
   "metadata": {},
   "source": [
    "# Question 5:\n",
    "Code a method public static Optional<String> getGrade(int marks)         \n",
    "a. in the method getGrade: \n",
    "i. declare an empty optional, typed for String called grade \n",
    "ii. insert the following code: \n",
    "if (marks > 50) {grade = Optional.of(“PASS”);} else {grade.of(“FAIL”);} \n",
    "b.  in main(): \n",
    "i. declare an Optional, typed for String named grade1 which is initialised to the return \n",
    "value of calling getGrade(50) \n",
    "ii. declare an Optional, typed for String named grade2 which is initialised to the return \n",
    "value of calling getGrade(55) \n",
    "iii. using orElse() on grade1, output the value of grade1 or “UNKNOWN” \n",
    "iv. if(grade2.isPresent()) is true: use ifPresent(Consumer) to output the contents of \n",
    "grade2; if false, use orElse() to output the contents of grade2 or “Empty” \n",
    "v. Notes:  \n",
    "1. Optional’s are immutable. \n",
    "2. Optional.of(null); // NullPointerException \n",
    "3. Optional.ofNullable(null); // Optional.empty returned "
   ]
  },
  {
   "cell_type": "code",
   "execution_count": 9,
   "metadata": {
    "vscode": {
     "languageId": "java"
    }
   },
   "outputs": [
    {
     "name": "stdout",
     "output_type": "stream",
     "text": [
      "FAIL\n",
      "PASS\n"
     ]
    }
   ],
   "source": [
    "import java.util.Optional;\n",
    "\n",
    "public class Main {\n",
    "    public static void main(String[] args) {\n",
    "        Optional<String> grade1 = getGrade(50);\n",
    "        Optional<String> grade2 = getGrade(55);\n",
    "\n",
    "        // Output value of grade1 or \"UNKNOWN\" if empty\n",
    "        System.out.println(grade1.orElse(\"UNKNOWN\"));\n",
    "\n",
    "        // Output contents of grade2 if present, otherwise output \"Empty\"\n",
    "        if (grade2.isPresent()) {\n",
    "            grade2.ifPresent(System.out::println);\n",
    "        } else {\n",
    "            System.out.println(grade2.orElse(\"Empty\"));\n",
    "        }\n",
    "    }\n",
    "\n",
    "    public static Optional<String> getGrade(int marks) {\n",
    "        Optional<String> grade = Optional.empty(); // Declare an empty optional\n",
    "\n",
    "        // Set the value of grade based on marks\n",
    "        if (marks > 50) {\n",
    "            grade = Optional.of(\"PASS\");\n",
    "        } else {\n",
    "            grade = Optional.of(\"FAIL\");\n",
    "        }\n",
    "\n",
    "        return grade;\n",
    "    }\n",
    "}\n",
    "\n",
    "Main.main(null)"
   ]
  },
  {
   "cell_type": "markdown",
   "metadata": {},
   "source": [
    "# Question 6:\n",
    " Given the Book class (in the zip file),  declare a List typed for Book with the following Book’s: \n",
    "a. title=”Thinking in Java”, price=30.0 \n",
    "b. title=”Java in 24 hrs”, price=20.0 \n",
    "c. title=”Java Recipes”, price=10.0 \n",
    "Stream the books and calculate the average price of the books whose price is > 10.      \n",
    "Change the filter to books whose price is > 90. Ensure you do not get an exception."
   ]
  },
  {
   "cell_type": "code",
   "execution_count": 28,
   "metadata": {
    "vscode": {
     "languageId": "java"
    }
   },
   "outputs": [
    {
     "name": "stdout",
     "output_type": "stream",
     "text": [
      "Average price of books whose price is greater than 10: 25.0\n"
     ]
    }
   ],
   "source": [
    "import java.util.*;\n",
    "import java.util.stream.*;\n",
    "\n",
    "class Book {\n",
    "    private String title;\n",
    "    private double price;\n",
    "\n",
    "    public Book(String title, double price) {\n",
    "        this.title = title;\n",
    "        this.price = price;\n",
    "    }\n",
    "\n",
    "    public String getTitle() {\n",
    "        return title;\n",
    "    }\n",
    "\n",
    "    public double getPrice() {\n",
    "        return price;\n",
    "    }\n",
    "}\n",
    "\n",
    "public class Main {\n",
    "    public static void main(String[] args) {\n",
    "        List<Book> books = Arrays.asList(\n",
    "                new Book(\"Thinking in Java\", 30.0),\n",
    "                new Book(\"Java in 24 hrs\", 20.0),\n",
    "                new Book(\"Java Recipes\", 10.0)\n",
    "        );\n",
    "\n",
    "        double averagePrice = books.stream()\n",
    "                .filter(book -> book.getPrice() > 10) // Filter books whose price is greater than 10\n",
    "                .mapToDouble(Book::getPrice) // Map to double prices\n",
    "                .average() // Calculate average\n",
    "                .orElse(0.0); // Default value if no elements or average is NaN\n",
    "\n",
    "        System.out.println(\"Average price of books whose price is greater than 10: \" + averagePrice);\n",
    "    }\n",
    "}\n",
    "\n",
    "Main.main(null)"
   ]
  },
  {
   "cell_type": "markdown",
   "metadata": {},
   "source": [
    "# Question 7:\n",
    "Given the Book class (in the zip file),  declare a List typed for Book with the following Book’s: \n",
    "a. title=”Atlas Shrugged”, price=10.0 \n",
    "b. title=”Freedom at Midnight”, price=5.0 \n",
    "c. title=”Gone with the wind”, price=5.0 \n",
    "Stream the books and instantiate a Map named ‘bookMap’ that maps the book title to its price. To do \n",
    "this use the collect(Collectors.toMap(Function fnToGetKey, Function fnToGetValue)). Iterate \n",
    "through ‘bookMap’ (using the Map forEach(BiConsumer) method).  The BiConsumer only outputs \n",
    "prices where the title begins with “A”.           "
   ]
  },
  {
   "cell_type": "code",
   "execution_count": 11,
   "metadata": {
    "vscode": {
     "languageId": "java"
    }
   },
   "outputs": [
    {
     "name": "stdout",
     "output_type": "stream",
     "text": [
      "Title: Atlas Shrugged, Price: 10.0\n"
     ]
    }
   ],
   "source": [
    "import java.util.*;\n",
    "import java.util.stream.*;\n",
    "\n",
    "class Book {\n",
    "    private String title;\n",
    "    private double price;\n",
    "\n",
    "    public Book(String title, double price) {\n",
    "        this.title = title;\n",
    "        this.price = price;\n",
    "    }\n",
    "\n",
    "    public String getTitle() {\n",
    "        return title;\n",
    "    }\n",
    "\n",
    "    public double getPrice() {\n",
    "        return price;\n",
    "    }\n",
    "}\n",
    "\n",
    "public class Main {\n",
    "    public static void main(String[] args) {\n",
    "        List<Book> books = Arrays.asList(\n",
    "                new Book(\"Atlas Shrugged\", 10.0),\n",
    "                new Book(\"Freedom at Midnight\", 5.0),\n",
    "                new Book(\"Gone with the wind\", 5.0)\n",
    "        );\n",
    "\n",
    "        Map<String, Double> bookMap = books.stream()\n",
    "                .collect(Collectors.toMap(Book::getTitle, Book::getPrice));\n",
    "\n",
    "        bookMap.forEach((title, price) -> {\n",
    "            if (title.startsWith(\"A\")) {\n",
    "                System.out.println(\"Title: \" + title + \", Price: \" + price);\n",
    "            }\n",
    "        });\n",
    "    }\n",
    "}\n",
    "\n",
    "Main.main(null)"
   ]
  },
  {
   "cell_type": "markdown",
   "metadata": {},
   "source": [
    "# Question 8:\n",
    "Given the Book class (in the zip file),  declare a List typed for Book with the following Book’s: \n",
    "a. title=”Gone with the wind”, price=5.0 \n",
    "b. title=”Gone with the wind”, price=10.0 \n",
    "c. title=”Atlas shrugged”, price=15.0 \n",
    "In a pipeline which has no return type:       \n",
    " stream the books \n",
    "(QID 2.1847) \n",
    " using the collect() method, generate a Map that maps the book title to its price \n",
    " using forEach(), output the title and price of each entry in the map \n",
    "What happened and why? Fix this by using the Collectors.toMap(Function, Function, \n",
    "BinaryOperator) method.  "
   ]
  },
  {
   "cell_type": "code",
   "execution_count": 13,
   "metadata": {
    "vscode": {
     "languageId": "java"
    }
   },
   "outputs": [
    {
     "name": "stdout",
     "output_type": "stream",
     "text": [
      "Title: Atlas shrugged, Price: 15.0\n",
      "Title: Gone with the wind, Price: 5.0\n"
     ]
    }
   ],
   "source": [
    "import java.util.*;\n",
    "import java.util.stream.*;\n",
    "\n",
    "class Book {\n",
    "    private String title;\n",
    "    private double price;\n",
    "\n",
    "    public Book(String title, double price) {\n",
    "        this.title = title;\n",
    "        this.price = price;\n",
    "    }\n",
    "\n",
    "    public String getTitle() {\n",
    "        return title;\n",
    "    }\n",
    "\n",
    "    public double getPrice() {\n",
    "        return price;\n",
    "    }\n",
    "}\n",
    "\n",
    "public class Main {\n",
    "    public static void main(String[] args) {\n",
    "        List<Book> books = Arrays.asList(\n",
    "                new Book(\"Gone with the wind\", 5.0),\n",
    "                new Book(\"Gone with the wind\", 10.0),\n",
    "                new Book(\"Atlas shrugged\", 15.0)\n",
    "        );\n",
    "\n",
    "        Map<String, Double> bookMap = books.stream()\n",
    "                .collect(Collectors.toMap(Book::getTitle, Book::getPrice, (oldValue, newValue) -> oldValue));\n",
    "\n",
    "        bookMap.forEach((title, price) -> System.out.println(\"Title: \" + title + \", Price: \" + price));\n",
    "    }\n",
    "}\n",
    "\n",
    "Main.main(null)\n"
   ]
  },
  {
   "cell_type": "markdown",
   "metadata": {},
   "source": [
    "# Question 9:\n",
    "Given the Person class (in the zip file),  declare a List typed for Person with the following Person’s: \n",
    "a. name=”Bob”, age=31 \n",
    "b. name=”Paul”, age=32 \n",
    "c. name=”John”, age=33 \n",
    "Pipeline the following where the return type is double:     \n",
    " stream the people \n",
    " filter the stream for Person’s whose age is < 30  \n",
    " map to int primitives \n",
    " calculate the average age.  \n",
    "(QID 2.1810) \n",
    "This should generate a NoSuchElementException. Using orElse(), fix the pipeline (not the filter) so \n",
    "that 0.0 is returned instead of an exception being generated.  "
   ]
  },
  {
   "cell_type": "code",
   "execution_count": 14,
   "metadata": {
    "vscode": {
     "languageId": "java"
    }
   },
   "outputs": [
    {
     "name": "stdout",
     "output_type": "stream",
     "text": [
      "Average age: 0.0\n"
     ]
    }
   ],
   "source": [
    "import java.util.*;\n",
    "import java.util.stream.*;\n",
    "\n",
    "class Person {\n",
    "    private String name;\n",
    "    private int age;\n",
    "\n",
    "    public Person(String name, int age) {\n",
    "        this.name = name;\n",
    "        this.age = age;\n",
    "    }\n",
    "\n",
    "    public String getName() {\n",
    "        return name;\n",
    "    }\n",
    "\n",
    "    public int getAge() {\n",
    "        return age;\n",
    "    }\n",
    "}\n",
    "\n",
    "public class Main {\n",
    "    public static void main(String[] args) {\n",
    "        List<Person> people = Arrays.asList(\n",
    "                new Person(\"Bob\", 31),\n",
    "                new Person(\"Paul\", 32),\n",
    "                new Person(\"John\", 33)\n",
    "        );\n",
    "\n",
    "        double averageAge = people.stream()\n",
    "                .filter(person -> person.getAge() < 30)\n",
    "                .mapToInt(Person::getAge)\n",
    "                .average()\n",
    "                .orElse(0.0);\n",
    "\n",
    "        System.out.println(\"Average age: \" + averageAge);\n",
    "    }\n",
    "}\n",
    "\n",
    "Main.main(null)"
   ]
  },
  {
   "cell_type": "markdown",
   "metadata": {},
   "source": [
    "# Question 10:\n",
    "A question about Optional. Let us look at this in parts: \n",
    "\n",
    "a. Declare an Optional, typed for Double, named ‘price’ using the Optional.ofNullable(20.0). \n",
    "Output the Optional value for ‘price’ 3 times: using ifPresent(Consumer), orElse(T) and \n",
    "orElseGet(Supplier).          \n",
    "\n",
    "b. declare a new Optional, typed for Double, named ‘price2’ (or comment out (a) and re-use \n",
    "‘price’). Use Optional.ofNullable again but this time, pass in null.  \n",
    "\n",
    "    i. Output ‘price2’ in a normal System.out.println(). \n",
    "\n",
    "    ii. check to see if price2 isEmpty() and if so output “empty”. \n",
    "\n",
    "    iii. do (ii) again except this time use the more functional “ifPresent(Consumer)” method. \n",
    "\n",
    "    iv. initialise a Double x to the return of “price2.orElse(44.0)”. Output and observe the \n",
    "        value of x. \n",
    "\n",
    "c. declare a new Optional, typed for Double, named ‘price3’ (or comment out (b) and re-use \n",
    "‘price’). Use Optional.ofNullable passing in null.  \n",
    "    i. initialise a Double z to the return of “price3.orElseThrow(() -> new \n",
    "    \n",
    "RuntimeException(“Bad Code”). Output and observe the value of z."
   ]
  },
  {
   "cell_type": "code",
   "execution_count": 19,
   "metadata": {
    "vscode": {
     "languageId": "java"
    }
   },
   "outputs": [
    {
     "name": "stdout",
     "output_type": "stream",
     "text": [
      "ifPresent: 20.0\n",
      "orElse: 20.0\n",
      "orElseGet: 20.0\n",
      "Value of price2: Optional.empty\n",
      "isEmpty check: true\n",
      "Value of x: 44.0\n",
      "Value of z: 0.0\n"
     ]
    }
   ],
   "source": [
    "import java.util.*;\n",
    "\n",
    "public class Main {\n",
    "    public static void main(String[] args) {\n",
    "        // Part a\n",
    "        Optional<Double> price = Optional.ofNullable(20.0);\n",
    "        price.ifPresent(val -> System.out.println(\"ifPresent: \" + val));\n",
    "        System.out.println(\"orElse: \" + price.orElse(0.0));\n",
    "        System.out.println(\"orElseGet: \" + price.orElseGet(() -> 0.0));\n",
    "\n",
    "        // Part b\n",
    "        Optional<Double> price2 = Optional.ofNullable(null);\n",
    "        System.out.println(\"Value of price2: \" + price2);\n",
    "        System.out.println(\"isEmpty check: \" + price2.isEmpty());\n",
    "        price2.ifPresent(val -> System.out.println(\"ifPresent: \" + val));\n",
    "        Double x = price2.orElse(44.0);\n",
    "        System.out.println(\"Value of x: \" + x);\n",
    "\n",
    "        // Part c\n",
    "        Optional<Double> price3 = Optional.ofNullable(null);\n",
    "        Double z = price3.orElseThrow(() -> new RuntimeException(\"Bad Code\"));\n",
    "        System.out.println(\"Value of z: \" + z);        \n",
    "    }\n",
    "}\n",
    "\n",
    "Main.main(null)"
   ]
  },
  {
   "cell_type": "markdown",
   "metadata": {},
   "source": [
    "# Question 11:\n",
    " Given the AnotherBook class (in the zip file),  declare a List typed for AnotherBook namely ‘books’  \n",
    "with the following AnotherBook’s: \n",
    "a. title=”Gone with the wind”, genre=”Fiction”    \n",
    "b. title=”Bourne Ultimatum”, genre=”Thriller” \n",
    "c. title=”The Client”, genre=”Thriller” \n",
    "Declare the following: List<String> genreList = new ArrayList<>();  \n",
    "(QID 2.1858) \n",
    "Stream books so that genreList refers to a List containing the genres of the books in the books List."
   ]
  },
  {
   "cell_type": "code",
   "execution_count": 22,
   "metadata": {
    "vscode": {
     "languageId": "java"
    }
   },
   "outputs": [
    {
     "name": "stdout",
     "output_type": "stream",
     "text": [
      "[Fiction, Thriller, Thriller]\n"
     ]
    }
   ],
   "source": [
    "import java.util.*;\n",
    "import java.util.stream.*;\n",
    "\n",
    "class AnotherBook {\n",
    "    private String title;\n",
    "    private String genre;\n",
    "\n",
    "    public AnotherBook(String title, String genre) {\n",
    "        this.title = title;\n",
    "        this.genre = genre;\n",
    "    }\n",
    "\n",
    "    public String getGenre() {\n",
    "        return genre;\n",
    "    }\n",
    "}\n",
    "\n",
    "public class Main {\n",
    "    public static void main(String[] args) {\n",
    "        List<AnotherBook> books = Arrays.asList(\n",
    "                new AnotherBook(\"Gone with the wind\", \"Fiction\"),\n",
    "                new AnotherBook(\"Bourne Ultimatum\", \"Thriller\"),\n",
    "                new AnotherBook(\"The Client\", \"Thriller\")\n",
    "        );\n",
    "\n",
    "        List<String> genreList = books.stream()\n",
    "                                     .map(AnotherBook::getGenre)\n",
    "                                     .collect(Collectors.toList());\n",
    "\n",
    "        System.out.println(genreList);\n",
    "    }\n",
    "}\n",
    "\n",
    "\n",
    "Main.main(null)"
   ]
  },
  {
   "cell_type": "markdown",
   "metadata": {},
   "source": [
    "# Question 12:\n",
    "There are two parts:          \n",
    "a. Generate a DoubleStream using the of() method consisting of the numbers 0, 2 and 4. Note \n",
    "that this stream is a stream of primitives and not a stream of types. Filter in odd numbers only \n",
    "and sum the remaining stream. You should get 0.    \n",
    "(QID 2.2024) \n",
    "b. Using 1.0 and 3.0, generate a stream of Double’s. Map them to primitive double’s. Filter in \n",
    "even numbers only and calculate the average. Output the result without running the risk of \n",
    "generating an exception. "
   ]
  },
  {
   "cell_type": "code",
   "execution_count": 21,
   "metadata": {
    "vscode": {
     "languageId": "java"
    }
   },
   "outputs": [
    {
     "name": "stdout",
     "output_type": "stream",
     "text": [
      "Sum: 0.0\n",
      "Average: NaN\n"
     ]
    }
   ],
   "source": [
    "import java.util.*;\n",
    "import java.util.stream.*;\n",
    "\n",
    "public class Main {\n",
    "    public static void main(String[] args) {\n",
    "        // Part a\n",
    "        DoubleStream stream1 = DoubleStream.of(0, 2, 4);\n",
    "        double sum1 = stream1.filter(num -> num % 2 != 0).sum();\n",
    "        System.out.println(\"Sum: \" + sum1);\n",
    "\n",
    "        // Part b\n",
    "        Stream<Double> stream2 = Stream.of(1.0, 3.0);\n",
    "        double average = stream2.mapToDouble(Double::doubleValue)\n",
    "                                .filter(num -> num % 2 == 0)\n",
    "                                .average()\n",
    "                                .orElse(Double.NaN);\n",
    "        System.out.println(\"Average: \" + average);\n",
    "    }\n",
    "}\n",
    "\n",
    "Main.main(null)"
   ]
  },
  {
   "cell_type": "markdown",
   "metadata": {},
   "source": [
    "# Question 13:\n",
    "This question demonstrates lazy evaluation. Declare the following List<Integer> ls = \n",
    "Arrays.asList(11, 11, 22, 33, 33, 55, 66); \n",
    "a. stream the List (note that this is possible because List is a Collection and Collection defines a \n",
    "stream() method); ensure only distinct (unique) numbers are streamed; check if “any match” \n",
    "11. You should get true for this. \n",
    "b. stream the List again (this is necessary because once a stream is closed by a previous terminal \n",
    "operation, you must re-create the stream); check to see if “none match” the expression \n",
    "x%11>0. Note that the terminal operation noneMatch(Predicate) needs to return false for \n",
    "every element in the stream for noneMatch() to return true. In other words, “none of them \n",
    "match this….that’s correct, none of them do; return true”. You should get true here as well. "
   ]
  },
  {
   "cell_type": "code",
   "execution_count": 20,
   "metadata": {
    "vscode": {
     "languageId": "java"
    }
   },
   "outputs": [
    {
     "name": "stdout",
     "output_type": "stream",
     "text": [
      "Any match 11: true\n",
      "None match x%11>0: true\n"
     ]
    }
   ],
   "source": [
    "import java.util.*;\n",
    "\n",
    "public class Main {\n",
    "    public static void main(String[] args) {\n",
    "        List<Integer> ls = Arrays.asList(11, 11, 22, 33, 33, 55, 66);\n",
    "\n",
    "        // Part a\n",
    "        boolean anyMatch = ls.stream()\n",
    "                             .distinct()\n",
    "                             .anyMatch(num -> num == 11);\n",
    "        System.out.println(\"Any match 11: \" + anyMatch);\n",
    "\n",
    "        // Part b\n",
    "        boolean noneMatch = ls.stream()\n",
    "                              .distinct()\n",
    "                              .noneMatch(num -> num % 11 > 0);\n",
    "        System.out.println(\"None match x%11>0: \" + noneMatch);\n",
    "    }\n",
    "}\n",
    "\n",
    "Main.main(null)"
   ]
  }
 ],
 "metadata": {
  "kernelspec": {
   "display_name": "Java",
   "language": "java",
   "name": "java"
  },
  "language_info": {
   "codemirror_mode": "java",
   "file_extension": ".jshell",
   "mimetype": "text/x-java-source",
   "name": "Java",
   "pygments_lexer": "java",
   "version": "17.0.10+7-Ubuntu-122.04.1"
  }
 },
 "nbformat": 4,
 "nbformat_minor": 2
}
