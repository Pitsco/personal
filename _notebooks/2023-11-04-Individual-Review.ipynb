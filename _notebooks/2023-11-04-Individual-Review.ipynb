{
 "cells": [
  {
   "cell_type": "markdown",
   "metadata": {},
   "source": [
    "---\n",
    "- title: Final Project - Individual\n",
    "- description: Individual Code and Individual Blog \n",
    "- layout: post\n",
    "- courses: { csa: {week: 12} }\n",
    "- categories: [C4.0]\n",
    "- type: tangibles\n",
    "---\n"
   ]
  },
  {
   "cell_type": "markdown",
   "metadata": {},
   "source": [
    "# Individual Code:\n",
    "\n",
    "### Code contribution to project:\n",
    "\n",
    "\n",
    "### Github Analytics Review\n",
    "\n"
   ]
  },
  {
   "cell_type": "markdown",
   "metadata": {},
   "source": [
    "# Individual Blog:\n",
    "\n",
    "### Code in blog:\n",
    "[Big Commit with Javascript](https://github.com/CSA-Tri-1/DADDiJkstra-frontend/commit/9f0839c50ab759228ba573c35cd5d5cb2eeb411e)\n",
    "\n",
    "[]\n",
    "\n",
    "### Usage in blog: \n",
    "\n",
    "\n",
    "### CollegeBoard Quiz Notes:"
   ]
  },
  {
   "cell_type": "markdown",
   "metadata": {},
   "source": [
    "## Trimester 1 Reflection:\n",
    "\n",
    "### Memories and Learning:\n",
    "\n",
    "### Accomplishments:\n",
    "\n",
    "### What I can improve on:\n",
    "- Contributing to more of the main project\n",
    "- Comitting more\n"
   ]
  }
 ],
 "metadata": {
  "language_info": {
   "name": "python"
  }
 },
 "nbformat": 4,
 "nbformat_minor": 2
}
