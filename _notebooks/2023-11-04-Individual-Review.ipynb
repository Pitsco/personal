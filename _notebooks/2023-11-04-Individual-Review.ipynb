{
 "cells": [
  {
   "cell_type": "markdown",
   "metadata": {},
   "source": [
    "---\n",
    "- title: Final Project - Individual\n",
    "- description: Individual Code and Individual Blog \n",
    "- layout: post\n",
    "- courses: { csa: {week: 11} }\n",
    "- categories: [C4.0]\n",
    "- type: tangibles\n",
    "---\n"
   ]
  },
  {
   "cell_type": "markdown",
   "metadata": {},
   "source": [
    "# Individual Code:\n",
    "\n",
    "## Code contribution to project:\n",
    "[Big Commit with Javascript](https://github.com/CSA-Tri-1/DADDiJkstra-frontend/commit/9f0839c50ab759228ba573c35cd5d5cb2eeb411e)\n",
    "\n",
    "Code with comments: "
   ]
  },
  {
   "cell_type": "code",
   "execution_count": null,
   "metadata": {
    "vscode": {
     "languageId": "java"
    }
   },
   "outputs": [],
   "source": [
    "// Adding scroll and resize event listeners to the window\n",
    "window.addEventListener(\"scroll\", setScrollVar);\n",
    "window.addEventListener(\"resize\", setScrollVar);\n",
    "\n",
    "// Define the setScrollVar function\n",
    "function setScrollVar() {\n",
    "  // Get a reference to the HTML root element\n",
    "  const htmlElement = document.documentElement;\n",
    "\n",
    "  // Calculate the percentage of the screen height that has been scrolled\n",
    "  const percentOfScreenHeightScrolled =\n",
    "    htmlElement.scrollTop / htmlElement.clientHeight;\n",
    "\n",
    "  // Log the calculated percentage (limited to a maximum of 100)\n",
    "  console.log(Math.min(percentOfScreenHeightScrolled * 100, 100));\n",
    "\n",
    "  // Set a CSS custom property \"--scroll\" to the calculated percentage\n",
    "  htmlElement.style.setProperty(\n",
    "    \"--scroll\",\n",
    "    Math.min(percentOfScreenHeightScrolled * 100, 100)\n",
    "  );\n",
    "}\n",
    "\n",
    "// Call the setScrollVar function immediately to set initial values\n",
    "setScrollVar();\n",
    "\n",
    "// Create an IntersectionObserver to observe elements in the DOM\n",
    "const observer = new IntersectionObserver(entries => {\n",
    "  for (let i = entries.length - 1; i >= 0; i--) {\n",
    "    const entry = entries[i];\n",
    "\n",
    "    // Check if the observed element is intersecting with the viewport\n",
    "    if (entry.isIntersecting) {\n",
    "      // Hide all elements with a \"data-img\" attribute\n",
    "      document.querySelectorAll(\"[data-img]\").forEach(img => {\n",
    "        img.classList.remove(\"show\");\n",
    "      });\n",
    "\n",
    "      // Show the image specified in the dataset of the observed element\n",
    "      const img = document.querySelector(entry.target.dataset.imgToShow);\n",
    "      img?.classList.add(\"show\");\n",
    "\n",
    "      // Break the loop after showing the first intersecting element\n",
    "      break;\n",
    "    }\n",
    "  }\n",
    "});\n",
    "\n",
    "// Observe elements with a \"data-img-to-show\" attribute\n",
    "document.querySelectorAll(\"[data-img-to-show]\").forEach(section => {\n",
    "  observer.observe(section);\n",
    "});"
   ]
  },
  {
   "cell_type": "markdown",
   "metadata": {},
   "source": [
    "\n",
    "## Github Analytics Review\n",
    "[Github commits](https://github.com/Pitsco)\n",
    "\n",
    "### Original Repository\n",
    "\n",
    "![img](https://media.discordapp.net/attachments/934591169885790290/1170861289564798996/image.png?ex=655a948c&is=65481f8c&hm=848360be36823312e084a93244e31559b850c030d031f67c7215a6af62fb370a&=&width=423&height=425)\n",
    "\n",
    "### New Repository:\n",
    "![img](https://media.discordapp.net/attachments/934591169885790290/1170861700975706112/image.png?ex=655a94ef&is=65481fef&hm=934eca6ae5242b2184370a1db38d3ba99866a7235eed6d97bb020c85cb43d448&=&width=425&height=425)\n",
    "\n",
    "As you can see, I've not been committing as much as my other group members. My part of this was to write an about page with information about how our general code worked. Additionally, I set up the navbar, but that was all CSS and does not really count toward my part with javascript or java. Alex already talked to Mr. Mortensen about our team contributions, and I recognized that I need to step up my game in the next trimesters.\n",
    "\n",
    "I also have a bad habit of committing in less commits with more code, not little by little with smaller changes. This could be detrimental big commits/changes may not save sometimes, which in the end can cost a lot of time wasted. Although I've not faced that yet, I should be more catious by committing more changes so I don't lose much progress if my commits don't process through.\n",
    "\n",
    "[About Page](https://csa-tri-1.github.io/DADDiJkstra-frontend/pages/about)"
   ]
  },
  {
   "cell_type": "markdown",
   "metadata": {},
   "source": [
    "# Individual Blog:\n",
    "\n",
    "### Code in blog:\n",
    "[Timebox]({{site.baseurl}}/csa) with all my plans for the week and plans\n",
    "\n",
    "### Usage in blog: \n",
    "[Joint.JS Blog]()\n",
    "\n",
    "\n",
    "### CollegeBoard Quiz Notes:\n",
    "See my CollegeBoard Test with Review [Notes]({{site.baseurl}}/c4.0/2023/11/05/CollegeBoard-Practice-Test.html)\n",
    "\n",
    "See my Student Lesson [scores]({{site.baseurl}}/c4.0/2023/11/05/Student-Lessons-Grading.html)"
   ]
  },
  {
   "cell_type": "markdown",
   "metadata": {},
   "source": [
    "## Trimester 1 Reflection:\n",
    "\n",
    "### Memories and Learning:\n",
    "- I have never touched Javascript or Java before, new experience\n",
    "- PBL learning with matching game, first full on experience with javascript code.\n",
    "- Mom and ChatGPT has really helped me understood java and javascript\n",
    "- Understanding deployment with AWS\n",
    "\n",
    "### Accomplishments:\n",
    "- More collaborative with team, understood my role as developer\n",
    "    - Development with backend with [AWS](https://nighthawkcoders.github.io/teacher//c7.0/c7.1/c7.2/2023/09/27/aws-deployment_IPYNB_2_.html)\n",
    "        - Alex mainly helped me with development, followed instructions\n",
    "    - David helped me setting up VScode and cloning repositories in WSL, understood basic functions such as \"cd\" or \"gitclone\"\n",
    "    - Collaborated with Jishnu on frontend, about page and front page\n",
    "- Felt more engaged, spent more time coding than I have done in the past year in AP CSP\n",
    "\n",
    "### What I can improve on:\n",
    "- Contributing to more of the main project\n",
    "- Comitting more with less code > Committing less with more code\n",
    "- Touching more on backend, rather than just front end\n",
    "    - Something to do with machine learning in the next 2 tris (Alex's idea)? Sentiment Analysis?\n",
    "- Still be more engaged, sometimes I'm on my phone when I shouldn't be\n",
    "- Engagement of class lessons should be increased\n",
    "    - More particpation by raising hand\n",
    "\n"
   ]
  }
 ],
 "metadata": {
  "kernelspec": {
   "display_name": "Java",
   "language": "java",
   "name": "java"
  },
  "language_info": {
   "codemirror_mode": "java",
   "file_extension": ".jshell",
   "mimetype": "text/x-java-source",
   "name": "Java",
   "pygments_lexer": "java",
   "version": "11.0.20.1+1-post-Ubuntu-0ubuntu122.04"
  }
 },
 "nbformat": 4,
 "nbformat_minor": 2
}
