{
 "cells": [
  {
   "cell_type": "markdown",
   "metadata": {},
   "source": [
    "---\n",
    "- title: Collaboration Evidence + Video\n",
    "- description: collaboration evidence with crossover team with Code Monkeys, 30 second video about how I solved the FRQ\n",
    "- layout: post\n",
    "- courses: { csa: {week: 5} }\n",
    "- categories: [C4.0]\n",
    "- type: tangibles\n",
    "---"
   ]
  },
  {
   "cell_type": "markdown",
   "metadata": {},
   "source": [
    "## DADDJ\n",
    "\n",
    "### David Vasliv: \n",
    "- Part A: Find values in a certain column\n",
    "- Created variable that stored values, Has explanations of what he did\n",
    "- Part B: Test if array is latin square or not \n",
    "- Has explanation, iterated through testing and tested in separate arrays, tested for duplicate values\n",
    "\n",
    "### Alex Lu:\n",
    "- Created a class for lightbroad, has a constructor called lightboard, has a randomization in his code, \n",
    "- In evaluate light, has conditionals to return a boolean value of true or false. \n",
    "- Used nested for loops\n",
    "- Tested while loop for around 100-200 and if it stayed in a range of 46\n",
    "\n",
    "### Drew Reed:\n",
    "- Ask to create a calendar to \n",
    "- Part a looks at leap year\n",
    "- Starting at year 1, limited itself to th year itself, isn’t shown but implemented later in teh code:\n",
    "\n",
    "### Jishnu:\n",
    "- 2019: question 3, about array lists\n",
    "\n",
    "## Code Monkeys:\n",
    "### 2022 FRQ #2: Classes FRQ: 0.95/1\n",
    "- Creating a book class\n",
    "- Had to write classes, method, and constructor\n",
    "- Took another book as a parameter, write increase condition.\n",
    "- Recognize when to use the super function\n",
    "- Need to know @override \n",
    "- Public vs private scope\n",
    "- Setters and getters\n",
    "- Why the grade: Good explanation, go into more detail in vocabulary. \n",
    "\n",
    "### 2022 AP CSA FRQ #1: Methods and Control Structures, 0.93/1\n",
    "- Part a: getScore method\n",
    "- Part b: playManyTimes\n",
    "- Runs through the game num times\n",
    "- Needed for loop\n",
    "- Will update new high score if score beat the previous score\n",
    "- Bonus points will get iit up to 500 points\n",
    "- Why the grade: Good explanation, go into more detail in vocabulary.\n",
    "\n",
    "### 2022 FRQ #3: 0.92/1\n",
    "- Can lose points if you used unnecessary methods \n",
    "- Why the grade: Good explanation, go into more detail in vocabulary.\n",
    "\n",
    "### 2016 FRQ #2: Classes 0.88/1\n",
    "- Create a guessing game to guess a word\n",
    "- Write hiddenboard class\n",
    "- Player is given \n",
    "- Don't confused array and array lists\n",
    "- Include variables and constructors\n",
    "- Initialization and stuff\n",
    "- Created a loops through each character\n",
    "- Understand class, constructor, and variables in.\n",
    "- Why the grade: Good explanation, go into more detail in vocabulary. Also work in time management.\n",
    "\n",
    "### FRQ #4: 2D Array: 0.95/1\n",
    "- Repopulate method\n",
    "- Populate method returns none\n",
    "- can only return a value that is divisible by 10, not 100\n",
    "\n",
    "\n"
   ]
  },
  {
   "cell_type": "markdown",
   "metadata": {},
   "source": [
    "## Video: [video](https://youtu.be/ISbrmXcqU8s)"
   ]
  }
 ],
 "metadata": {
  "language_info": {
   "name": "python"
  },
  "orig_nbformat": 4
 },
 "nbformat": 4,
 "nbformat_minor": 2
}
