{
 "cells": [
  {
   "cell_type": "markdown",
   "metadata": {},
   "source": [
    "---\n",
    "- title: Individual Blog for Trimester 3\n",
    "- description: Fourth CSA FRQ and explanations\n",
    "- layout: post\n",
    "- courses: { csa: {week: 25} }\n",
    "- categories: [C4.0]\n",
    "- type: tangibles\n",
    "- comments: true\n",
    "---"
   ]
  },
  {
   "cell_type": "markdown",
   "metadata": {},
   "source": [
    "### [Individual Statistics Link](https://github.com/Pitsco)"
   ]
  },
  {
   "cell_type": "markdown",
   "metadata": {},
   "source": [
    "# College Board Review:\n",
    "### College Board MC Review Examples:\n",
    "[2015 MC](https://pitsco.github.io/personal//c4.0/2023/12/22/CB-2015-quiz-notes.html)\n",
    "\n",
    "[2014 MC](https://pitsco.github.io/personal/c4.0/2023/11/05/CollegeBoard-Practice-Test.html)\n",
    "\n",
    "### College Board FRQ Review Examples:\n",
    "<table>\n",
    "  <thead>\n",
    "    <tr>\n",
    "      <th>Topic</th>\n",
    "      <th>Link to Question</th>\n",
    "    </tr>\n",
    "  </thead>\n",
    "  <tbody>\n",
    "    <tr>\n",
    "      <td>Arraylist</td>\n",
    "      <td><a href=\"https://pitsco.github.io/personal/c4.0/2024/02/19/CSA-FRQ-Q1.html\">Question 1</a></td>\n",
    "    </tr>\n",
    "    <tr>\n",
    "      <td>Classes</td>\n",
    "      <td><a href=\"https://pitsco.github.io/personal/c4.0/2024/02/23/CSA-FRQ-Q2.html\">Question 2</a></td>\n",
    "    </tr>\n",
    "    <tr>\n",
    "      <td>2D Arrays</td>\n",
    "      <td><a href=\"https://pitsco.github.io/personal/c4.0/2024/02/24/CSA-FRQ-Q3.html\">Question 3</a></td>\n",
    "    </tr>\n",
    "    <tr>\n",
    "      <td>Method and Control Structures</td>\n",
    "      <td><a href=\"https://pitsco.github.io/personal/c4.0/2024/02/25/CSA-FRQ-Q4.html\">Question 4</a></td>\n",
    "    </tr>\n",
    "  </tbody>\n",
    "</table>\n",
    "\n",
    "\n",
    "[Overall Issue (Connection to PBL)](https://github.com/Pitsco/personal/issues/6)"
   ]
  },
  {
   "cell_type": "markdown",
   "metadata": {},
   "source": [
    "# Techincal Examples:\n",
    "[Debugging Practice](https://github.com/Pitsco/personal/issues/7)\n",
    "\n",
    "[Deployment Practice and Reference](https://github.com/Pitsco/personal/issues/5)"
   ]
  },
  {
   "cell_type": "markdown",
   "metadata": {},
   "source": [
    "# Old References to Project Trimester 1: \n",
    "[Fibonacci Algorithms, Frontend and Backend with Explanations](https://pitsco.github.io/personal/2023/12/10/Fibonacci_Algorithm_Blog.html)\n",
    "\n",
    "[Sorting Algorithms, Frontend and Backend with Explanations](https://pitsco.github.io/personal/2023/12/10/Sorting-Algorithm-Blog.html)"
   ]
  }
 ],
 "metadata": {
  "language_info": {
   "name": "python"
  }
 },
 "nbformat": 4,
 "nbformat_minor": 2
}
