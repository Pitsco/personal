{
 "cells": [
  {
   "attachments": {},
   "cell_type": "markdown",
   "metadata": {},
   "source": [
    "---\n",
    "toc: true\n",
    "comments: true\n",
    "layout: post\n",
    "title: Fibonacci Blog\n",
    "description: Explanation on our Fibonacci code\n",
    "courses: { compsci: {week: 1} }\n",
    "type: hacks\n",
    "---"
   ]
  },
  {
   "cell_type": "markdown",
   "metadata": {},
   "source": [
    "# FibonacciBase Abstract Class:"
   ]
  },
  {
   "cell_type": "code",
   "execution_count": null,
   "metadata": {
    "vscode": {
     "languageId": "java"
    }
   },
   "outputs": [],
   "source": [
    "package com.nighthawk.spring_portfolio.mvc.fibonacci;\n",
    "\n",
    "import java.util.ArrayList;\n",
    "import java.util.List;\n",
    "import java.util.Scanner;\n",
    "import java.util.stream.Collectors;\n",
    "import java.util.stream.Stream;\n",
    "\n",
    "abstract class FibonacciBase {//abstract class providing common functionality for Fibonacci implementations\n",
    "    public List<Long> calculateFibonacci(int num) {//method to calculate Fibonacci numbers and measure time\n",
    "        long startTime = System.nanoTime();\n",
    "        List<Long> fibonacciNumbers = performFibonacciCalculation(num);\n",
    "        long endTime = System.nanoTime();\n",
    "        displayResults(getMethodName(), endTime - startTime, fibonacciNumbers);\n",
    "        return fibonacciNumbers;\n",
    "    }\n",
    "    \n",
    "    protected abstract List<Long> performFibonacciCalculation(int num); //abstract method to be implemented by subclasses\n",
    "    protected abstract String getMethodName(); //abstract method to get the method name\n",
    "\n",
    "    private static void displayResults(String method, double timeTaken, List<Long> fibonacciNumbers) {//displaying results method\n",
    "        System.out.println(\"Method: \" + method);\n",
    "        System.out.println(\"Time taken: \" + timeTaken / 1e6 + \" milliseconds\"); //convert to milliseconds\n",
    "        System.out.println(\"Fibonacci numbers: \" + fibonacciNumbers);\n",
    "        System.out.println();\n",
    "    }\n",
    "}\n"
   ]
  },
  {
   "cell_type": "markdown",
   "metadata": {},
   "source": [
    "- FibonacciBase is an abstract class providing common functionality for Fibonacci implementations\n",
    "- calculateFibonacci method calculates Fibonacci numbers and measures the time taken\n",
    "- performFibonacciCalculation is an abstract method to be implemented by subclasses\n",
    "- getMethodName is an abstract method to get the method name\n",
    "- displayResults is a private static method displaying the results, including method name, time taken, and Fibonacci numbers"
   ]
  },
  {
   "cell_type": "markdown",
   "metadata": {},
   "source": [
    "# FibonacciFor Class"
   ]
  },
  {
   "cell_type": "code",
   "execution_count": null,
   "metadata": {
    "vscode": {
     "languageId": "java"
    }
   },
   "outputs": [],
   "source": [
    "class FibonacciFor extends FibonacciBase {//implementation of FibonacciBase using a for loop\n",
    "    @Override\n",
    "    protected List<Long> performFibonacciCalculation(int num) {\n",
    "        List<Long> result = new ArrayList<>();\n",
    "        long a = 0, b = 1;\n",
    "        for (int i = 0; i < num; i++) {\n",
    "            result.add(a);\n",
    "            long temp = a;\n",
    "            a = b;\n",
    "            b = temp + b;\n",
    "        }\n",
    "        return result;\n",
    "    }\n",
    "\n",
    "    @Override\n",
    "    protected String getMethodName() {\n",
    "        return \"For Loop\";\n",
    "    }\n",
    "}"
   ]
  },
  {
   "cell_type": "markdown",
   "metadata": {},
   "source": [
    "- FibonacciFor is a concrete class that extends FibonacciBase and implements the Fibonacci calculation using a for loop\n",
    "- performFibonacciCalculation method calculates Fibonacci numbers using a for loop\n",
    "- getMethodName method returns the method name, which is \"For Loop\""
   ]
  },
  {
   "cell_type": "markdown",
   "metadata": {},
   "source": [
    "# FibonacciWhile Class"
   ]
  },
  {
   "cell_type": "code",
   "execution_count": null,
   "metadata": {
    "vscode": {
     "languageId": "java"
    }
   },
   "outputs": [],
   "source": [
    "class FibonacciWhile extends FibonacciBase {//implementation of FibonacciBase class using a while loop\n",
    "    @Override\n",
    "    protected List<Long> performFibonacciCalculation(int num) {\n",
    "        List<Long> result = new ArrayList<>();\n",
    "        long a = 0, b = 1;\n",
    "        int count = 0;\n",
    "        while (count < num) {\n",
    "            result.add(a);\n",
    "            long temp = a;\n",
    "            a = b;\n",
    "            b = temp + b;\n",
    "            count++;\n",
    "        }\n",
    "        return result;\n",
    "    }\n",
    "\n",
    "    @Override\n",
    "    protected String getMethodName() {\n",
    "        return \"While Loop\";\n",
    "    }\n",
    "}\n"
   ]
  },
  {
   "cell_type": "markdown",
   "metadata": {},
   "source": [
    "- FibonacciWhile is a concrete class that extends FibonacciBase and implements the Fibonacci calculation using a while loop\n",
    "- performFibonacciCalculation method calculates Fibonacci numbers using a while loop\n",
    "- getMethodName method returns the method name, which is \"While Loop\""
   ]
  },
  {
   "cell_type": "markdown",
   "metadata": {},
   "source": [
    "# FibonacciRecursion Class"
   ]
  },
  {
   "cell_type": "code",
   "execution_count": null,
   "metadata": {
    "vscode": {
     "languageId": "java"
    }
   },
   "outputs": [],
   "source": [
    "class FibonacciRecursion extends FibonacciBase {//implementation of FibonacciBase using recursion\n",
    "    @Override\n",
    "    protected List<Long> performFibonacciCalculation(int num) {\n",
    "        List<Long> result = new ArrayList<>();\n",
    "        fibonacciRecursionStructure(num, 0, 1, result);\n",
    "        return result;\n",
    "    }\n",
    "\n",
    "    private static void fibonacciRecursionStructure(int num, long a, long b, List<Long> result) {//helper method for recursive calculation\n",
    "        if (num > 0) {\n",
    "            result.add(a);\n",
    "            fibonacciRecursionStructure(num - 1, b, a + b, result);\n",
    "        }\n",
    "    }\n",
    "\n",
    "    @Override\n",
    "    protected String getMethodName() {\n",
    "        return \"Recursion Loop\";\n",
    "    }\n",
    "}\n"
   ]
  },
  {
   "cell_type": "markdown",
   "metadata": {},
   "source": [
    "- FibonacciRecursion is a concrete class that extends FibonacciBase and implements the Fibonacci calculation using recursion\n",
    "- performFibonacciCalculation method calculates Fibonacci numbers using recursion\n",
    "- fibonacciRecursionStructure is a helper method for the recursive calculation\n",
    "- getMethodName method returns the method name, which is \"Recursion Loop\""
   ]
  },
  {
   "cell_type": "markdown",
   "metadata": {},
   "source": [
    "# FibonacciStream Class"
   ]
  },
  {
   "cell_type": "code",
   "execution_count": null,
   "metadata": {
    "vscode": {
     "languageId": "java"
    }
   },
   "outputs": [],
   "source": [
    "class FibonacciStream extends FibonacciBase {//implementation of FibonacciBase using Java Streams\n",
    "    @Override\n",
    "    protected List<Long> performFibonacciCalculation(int num) {\n",
    "        return Stream.iterate(new long[]{0, 1}, f -> new long[]{f[1], f[0] + f[1]})\n",
    "                .limit(num)\n",
    "                .mapToLong(f -> f[0])\n",
    "                .boxed()\n",
    "                .collect(Collectors.toList());\n",
    "    }\n",
    "\n",
    "    @Override\n",
    "    protected String getMethodName() {\n",
    "        return \"Stream Loop\";\n",
    "    }\n",
    "}\n"
   ]
  },
  {
   "cell_type": "markdown",
   "metadata": {},
   "source": [
    "- FibonacciRecursion is a concrete class that extends FibonacciBase and implements the Fibonacci calculation using recursion\n",
    "- performFibonacciCalculation method calculates Fibonacci numbers using recursion\n",
    "- fibonacciRecursionStructure is a helper method for the recursive calculation\n",
    "- getMethodName method returns the method name, which is \"Recursion Loop\""
   ]
  },
  {
   "cell_type": "markdown",
   "metadata": {},
   "source": [
    "# Fibonacci Class"
   ]
  },
  {
   "cell_type": "code",
   "execution_count": null,
   "metadata": {
    "vscode": {
     "languageId": "java"
    }
   },
   "outputs": [],
   "source": [
    "public class Fibonacci {//fibonacci class to demonstrate and compare different Fibonacci implementations\n",
    "    public static void main(String[] args) {\n",
    "        int num = getUserInput();\n",
    "\n",
    "        FibonacciBase fibonacciFor = new FibonacciFor();//instantiate and calculate Fibonacci using For Loop\n",
    "        fibonacciFor.calculateFibonacci(num);\n",
    "\n",
    "        FibonacciBase fibonacciWhile = new FibonacciWhile();//same for while loop\n",
    "        fibonacciWhile.calculateFibonacci(num);\n",
    "\n",
    "        FibonacciBase fibonacciRecursion = new FibonacciRecursion();//same for recursion loop\n",
    "        fibonacciRecursion.calculateFibonacci(num);\n",
    "\n",
    "        FibonacciBase fibonacciStream = new FibonacciStream();//same for stream loop\n",
    "        fibonacciStream.calculateFibonacci(num);\n",
    "    }\n",
    "\n",
    "    private static int getUserInput() {\n",
    "        Scanner scanner = new Scanner(System.in); //scanner for number fo Fibonacci numbers user wants to input\n",
    "        System.out.print(\"Enter the number of Fibonacci numbers to generate: \");\n",
    "        int num;\n",
    "        while (true) {\n",
    "            try {\n",
    "                num = scanner.nextInt();\n",
    "                if (num > 0) {\n",
    "                    break;\n",
    "                } else {\n",
    "                    System.out.print(\"Please enter a positive integer: \"); //asking only for positive integer\n",
    "                }\n",
    "            } catch (Exception e) {\n",
    "                System.out.print(\"Invalid input. Please enter a positive integer: \"); //will catch invalid input such as negative number or letter\n",
    "                scanner.next(); // consume invalid input\n",
    "                scanner.next(); //consume invalid input\n",
    "            }\n",
    "        }\n",
    "        scanner.close();\n",
    "        return num;\n",
    "    }\n",
    "}"
   ]
  },
  {
   "cell_type": "markdown",
   "metadata": {},
   "source": [
    "- Fibonacci is the main class that demonstrates and compares different Fibonacci implementations\n",
    "- main method initializes instances of Fibonacci implementations and calculates Fibonacci numbers using user input\n",
    "- getUserInput method retrieves the number of Fibonacci numbers the user wants to generate using a Scanner"
   ]
  },
  {
   "cell_type": "markdown",
   "metadata": {},
   "source": [
    "# Inheritance"
   ]
  },
  {
   "cell_type": "markdown",
   "metadata": {},
   "source": [
    "## Example: Utilization in the Fibonacci Class"
   ]
  },
  {
   "cell_type": "code",
   "execution_count": null,
   "metadata": {
    "vscode": {
     "languageId": "java"
    }
   },
   "outputs": [],
   "source": [
    "FibonacciBase fibonacciFor = new FibonacciFor();\n",
    "fibonacciFor.calculateFibonacci(num);\n",
    "\n",
    "FibonacciBase fibonacciWhile = new FibonacciWhile();\n",
    "fibonacciWhile.calculateFibonacci(num);\n",
    "\n",
    "FibonacciBase fibonacciRecursion = new FibonacciRecursion();\n",
    "fibonacciRecursion.calculateFibonacci(num);\n",
    "\n",
    "FibonacciBase fibonacciStream = new FibonacciStream();\n",
    "fibonacciStream.calculateFibonacci(num);"
   ]
  },
  {
   "cell_type": "markdown",
   "metadata": {},
   "source": [
    "In the Fibonacci class, instances of the concrete subclasses (FibonacciFor, FibonacciWhile, FibonacciRecursion, FibonacciStream) are created and assigned to variables of type FibonacciBase. This is possible because of the inheritance relationship; a subclass instance can be treated as an instance of its superclass.\n",
    "\n",
    "The calculateFibonacci method is then called on each instance, demonstrating polymorphism. The specific implementation of calculateFibonacci in each subclass is invoked based on the type of the object, allowing for flexibility and code reuse."
   ]
  }
 ],
 "metadata": {
  "kernelspec": {
   "display_name": "base",
   "language": "python",
   "name": "python3"
  },
  "language_info": {
   "codemirror_mode": {
    "name": "ipython",
    "version": 3
   },
   "file_extension": ".py",
   "mimetype": "text/x-python",
   "name": "python",
   "nbconvert_exporter": "python",
   "pygments_lexer": "ipython3",
   "version": "3.9.12"
  },
  "orig_nbformat": 4
 },
 "nbformat": 4,
 "nbformat_minor": 2
}
