{
 "cells": [
  {
   "attachments": {},
   "cell_type": "markdown",
   "metadata": {},
   "source": [
    "---\n",
    "- toc: true\n",
    "- comments: true\n",
    "- layout: post\n",
    "- title: Fibonacci Blog\n",
    "- description: Explanation on our Fibonacci code\n",
    "- courses: { compsci: {week: 13} }\n",
    "- type: hacks\n",
    "---"
   ]
  },
  {
   "cell_type": "markdown",
   "metadata": {},
   "source": [
    "# Frontend"
   ]
  },
  {
   "cell_type": "code",
   "execution_count": null,
   "metadata": {
    "vscode": {
     "languageId": "java"
    }
   },
   "outputs": [],
   "source": [
    "<script src=\"https://code.jscharting.com/latest/jscharting.js\"></script>\n",
    "\n",
    "<div style=\"height: 650px;\">\n",
    "    <div id=\"chartDiv\" style=\"max-width: 640px; height: 650px; margin: 0 auto;\">\n",
    "    </div>\n",
    "    <div class=\"container\">\n",
    "        <label for=\"numberInput\">Enter a number:</label>\n",
    "        <input type=\"number\" id=\"numberInput\" placeholder=\"Enter a number\">\n",
    "        <button id=\"calculateButton\" onclick=\"read_pull()\">Calculate Fibonacci</button>\n",
    "        <title>Fibonacci - Live Updating Table</title>\n",
    "        <style>\n",
    "          table {\n",
    "            border-collapse: collapse;\n",
    "            width: 50%;\n",
    "            margin: 20px;\n",
    "          }\n",
    "      \n",
    "          table, th, td {\n",
    "            border: 1px solid black;\n",
    "          }\n",
    "      \n",
    "          th, td {\n",
    "            padding: 10px;\n",
    "            text-align: left;\n",
    "          }\n",
    "      \n",
    "          th {\n",
    "            background-color: #f2f2f2;\n",
    "          }\n",
    "        </style>\n",
    "      </head>\n",
    "      <body>\n",
    "      \n",
    "      <table id=\"loopTable\">\n",
    "        <thead>\n",
    "          <tr>\n",
    "            <th>Name of Loop</th>\n",
    "            <th>Time Taken</th>\n",
    "            <th>Steps Taken</th>\n",
    "            <th>Final Result</th>\n",
    "          </tr>\n",
    "        </thead>\n",
    "        <tbody>\n",
    "          <tr>\n",
    "            <td>For Loop</td>\n",
    "            <td id=\"forLoopTime\">-</td>\n",
    "            <td id=\"forLoopSteps\">-</td>\n",
    "            <td id=\"forLoopResult\">-</td>\n",
    "          </tr>\n",
    "          <tr>\n",
    "            <td>While Loop</td>\n",
    "            <td id=\"whileLoopTime\">-</td>\n",
    "            <td id=\"whileLoopSteps\">-</td>\n",
    "            <td id=\"whileLoopResult\">-</td>\n",
    "          </tr>\n",
    "          <tr>\n",
    "            <td>Recursion Loop</td>\n",
    "            <td id=\"recursionLoopTime\">-</td>\n",
    "            <td id=\"recursionLoopSteps\">-</td>\n",
    "            <td id=\"recursionLoopResult\">-</td>\n",
    "          </tr>\n",
    "          <tr>\n",
    "            <td>Stream Loop</td>\n",
    "            <td id=\"streamLoopTime\">-</td>\n",
    "            <td id=\"streamLoopSteps\">-</td>\n",
    "            <td id=\"streamLoopResult\">-</td>\n",
    "          </tr>\n",
    "        </tbody>\n",
    "      </table>\n",
    "    </div>\n",
    "</div>\n",
    "\n",
    "<script>\n",
    "    var chart = JSC.chart('chartDiv', { \n",
    "        debug: true, \n",
    "        type: 'horizontal column solid', \n",
    "        title_label: { \n",
    "            text: 'Time took to Run each Fibonacci Method',\n",
    "            style_fontWeight: 'bold',\n",
    "            position: 'top middle',\n",
    "            style_fontSize: 16 \n",
    "        }, \n",
    "        legend_visible: true, \n",
    "        legend_template: \"%icon %name\",\n",
    "        yAxis: { \n",
    "            scale_range: { padding: 0.1, min: 0 }, \n",
    "            orientation: 'opposite',\n",
    "            label_text: \"Method\",\n",
    "            label_style_fontWeight: 'bold'\n",
    "        }, \n",
    "        xAxis: { \n",
    "            defaultTick_label_width: 100, \n",
    "            label_text: \"Time\",\n",
    "            label_style_fontWeight: 'bold',\n",
    "            crosshair: { \n",
    "                enabled: true, \n",
    "                gridLine_visible: false, \n",
    "                outline_width: 0, \n",
    "                label_style_fontWeight: 'bold'\n",
    "            } \n",
    "        }, \n",
    "        defaultSeries_palette: 'default', \n",
    "        defaultPoint: { \n",
    "            outline_width: 0, \n",
    "            tooltip: '<b>%yValue</b>', \n",
    "        }, \n",
    "        defaultTooltip_label_text: '%points', \n",
    "        series: makeSeries(getData()) \n",
    "    }); \n",
    "  \n",
    "    var chartData = getData();\n",
    "\n",
    "function makeSeries(data) {\n",
    "  return [\n",
    "    {\n",
    "      points: data.map(function (item) {\n",
    "        return {\n",
    "          name: item.type,\n",
    "          y: item.value,\n",
    "          method: item.name\n",
    "        };\n",
    "      })\n",
    "    }\n",
    "  ];\n",
    "}\n",
    "\n",
    "function updateChart(newData) {\n",
    "  // Update existing data with new data\n",
    "  chartData = chartData.concat(newData);\n",
    "\n",
    "  // Update chart series with the new data\n",
    "  chart.options({ series: makeSeries(chartData) });\n",
    "\n",
    "  // Redraw the chart\n",
    "  chart.update('modify', 'refresh');\n",
    "}\n",
    "\n",
    "function getData() {\n",
    "  return [\n",
    "\n",
    "  ];\n",
    "}\n",
    "</script>\n",
    "\n",
    "<script>\n",
    "const base_url = \"http://localhost:8799/api/fibonacci/\";\n",
    "\n",
    "function read_pull() {\n",
    "    const userFiboInput = document.getElementById(\"numberInput\").value;\n",
    "    console.log(userFiboInput);\n",
    "\n",
    "    // set options for cross-origin header request\n",
    "    const authOptions = {\n",
    "        method: 'GET', // GET request \n",
    "        mode: 'cors', // no-cors, cors, same-origin\n",
    "        cache: 'default', // default, no-cache, reload, force-cache, only-if-cached\n",
    "        // credentials: 'include',\n",
    "        headers: {\n",
    "            'Content-Type': 'application/json',\n",
    "        },\n",
    "    };\n",
    "\n",
    "    // Fetch data for the \"for\" loop\n",
    "    fetch(base_url + \"for/\" + userFiboInput, authOptions)\n",
    "      .then(response => response.json())\n",
    "      .then(data => updateTableRow(\"forLoop\", data));\n",
    "\n",
    "    // Fetch data for the \"while\" loop\n",
    "    fetch(base_url + \"while/\" + userFiboInput, authOptions)\n",
    "      .then(response => response.json())\n",
    "      .then(data => updateTableRow(\"whileLoop\", data));\n",
    "\n",
    "    // Fetch data for the \"recursion\" loop\n",
    "    fetch(base_url + \"recursion/\" + userFiboInput, authOptions)\n",
    "      .then(response => response.json())\n",
    "      .then(data => updateTableRow(\"recursionLoop\", data));\n",
    "\n",
    "    // Fetch data for the \"stream\" loop\n",
    "    fetch(base_url + \"stream/\" + userFiboInput, authOptions)\n",
    "      .then(response => response.json())\n",
    "      .then(data => updateTableRow(\"streamLoop\", data));\n",
    "  }\n",
    "\n",
    "  function updateTableRow(loopName, data) {\n",
    "    document.getElementById(loopName + \"Time\").textContent = data.timeTaken;\n",
    "    document.getElementById(loopName + \"Steps\").textContent = data.intermediateSteps;\n",
    "    document.getElementById(loopName + \"Result\").textContent = data.fibonacciNumbers;\n",
    "  \n",
    "    updateChart([\n",
    "      {\n",
    "        type: 'Fibonacci (' + loopName + ')',\n",
    "        name: loopName,\n",
    "        value: data.timeTaken,\n",
    "      }\n",
    "      ]);\n",
    "  }\n",
    "</script>"
   ]
  },
  {
   "cell_type": "markdown",
   "metadata": {},
   "source": [
    "We integrated the JSCharting library to create a dynamic chart visualizing the time taken to run various Fibonacci calculation methods. The page includes an HTML table to display the results of different loop types (for, while, recursion, and stream) alongside their respective execution times, step counts, and final results. Users can input a number and click a button to trigger the calculation of Fibonacci numbers using different loop methods. The JavaScript code interacts with a Fibonacci API, fetching data for each loop type asynchronously and updating both the table and the chart with the obtained results. The chart displays the execution times for each method, providing a visual comparison. The integration of dynamic data fetching, charting, and table updating makes this code a comprehensive example of combining interactive visualization and API interaction in a web application."
   ]
  },
  {
   "cell_type": "markdown",
   "metadata": {},
   "source": [
    "# Backend"
   ]
  },
  {
   "cell_type": "markdown",
   "metadata": {},
   "source": [
    "# FibonacciBase Abstract Class:"
   ]
  },
  {
   "cell_type": "code",
   "execution_count": null,
   "metadata": {
    "vscode": {
     "languageId": "java"
    }
   },
   "outputs": [],
   "source": [
    "package com.nighthawk.spring_portfolio.mvc.fibonacci;\n",
    "\n",
    "import java.util.ArrayList;\n",
    "import java.util.List;\n",
    "import java.util.Scanner;\n",
    "import java.util.stream.Collectors;\n",
    "import java.util.stream.Stream;\n",
    "\n",
    "abstract class FibonacciBase {//abstract class providing common functionality for Fibonacci implementations\n",
    "    public List<Long> calculateFibonacci(int num) {//method to calculate Fibonacci numbers and measure time\n",
    "        long startTime = System.nanoTime();\n",
    "        List<Long> fibonacciNumbers = performFibonacciCalculation(num);\n",
    "        long endTime = System.nanoTime();\n",
    "        displayResults(getMethodName(), endTime - startTime, fibonacciNumbers);\n",
    "        return fibonacciNumbers;\n",
    "    }\n",
    "    \n",
    "    protected abstract List<Long> performFibonacciCalculation(int num); //abstract method to be implemented by subclasses\n",
    "    protected abstract String getMethodName(); //abstract method to get the method name\n",
    "\n",
    "    private static void displayResults(String method, double timeTaken, List<Long> fibonacciNumbers) {//displaying results method\n",
    "        System.out.println(\"Method: \" + method);\n",
    "        System.out.println(\"Time taken: \" + timeTaken / 1e6 + \" milliseconds\"); //convert to milliseconds\n",
    "        System.out.println(\"Fibonacci numbers: \" + fibonacciNumbers);\n",
    "        System.out.println();\n",
    "    }\n",
    "}\n"
   ]
  },
  {
   "cell_type": "markdown",
   "metadata": {},
   "source": [
    "- FibonacciBase is an abstract class providing common functionality for Fibonacci implementations\n",
    "- calculateFibonacci method calculates Fibonacci numbers and measures the time taken\n",
    "- performFibonacciCalculation is an abstract method to be implemented by subclasses\n",
    "- getMethodName is an abstract method to get the method name\n",
    "- displayResults is a private static method displaying the results, including method name, time taken, and Fibonacci numbers"
   ]
  },
  {
   "cell_type": "markdown",
   "metadata": {},
   "source": [
    "# FibonacciFor Class"
   ]
  },
  {
   "cell_type": "code",
   "execution_count": null,
   "metadata": {
    "vscode": {
     "languageId": "java"
    }
   },
   "outputs": [],
   "source": [
    "class FibonacciFor extends FibonacciBase {//implementation of FibonacciBase using a for loop\n",
    "    @Override\n",
    "    protected List<Long> performFibonacciCalculation(int num) {\n",
    "        List<Long> result = new ArrayList<>();\n",
    "        long a = 0, b = 1;\n",
    "        for (int i = 0; i < num; i++) {\n",
    "            result.add(a);\n",
    "            long temp = a;\n",
    "            a = b;\n",
    "            b = temp + b;\n",
    "        }\n",
    "        return result;\n",
    "    }\n",
    "\n",
    "    @Override\n",
    "    protected String getMethodName() {\n",
    "        return \"For Loop\";\n",
    "    }\n",
    "}"
   ]
  },
  {
   "cell_type": "markdown",
   "metadata": {},
   "source": [
    "- FibonacciFor is a concrete class that extends FibonacciBase and implements the Fibonacci calculation using a for loop\n",
    "- performFibonacciCalculation method calculates Fibonacci numbers using a for loop\n",
    "- getMethodName method returns the method name, which is \"For Loop\""
   ]
  },
  {
   "cell_type": "markdown",
   "metadata": {},
   "source": [
    "# FibonacciWhile Class"
   ]
  },
  {
   "cell_type": "code",
   "execution_count": null,
   "metadata": {
    "vscode": {
     "languageId": "java"
    }
   },
   "outputs": [],
   "source": [
    "class FibonacciWhile extends FibonacciBase {//implementation of FibonacciBase class using a while loop\n",
    "    @Override\n",
    "    protected List<Long> performFibonacciCalculation(int num) {\n",
    "        List<Long> result = new ArrayList<>();\n",
    "        long a = 0, b = 1;\n",
    "        int count = 0;\n",
    "        while (count < num) {\n",
    "            result.add(a);\n",
    "            long temp = a;\n",
    "            a = b;\n",
    "            b = temp + b;\n",
    "            count++;\n",
    "        }\n",
    "        return result;\n",
    "    }\n",
    "\n",
    "    @Override\n",
    "    protected String getMethodName() {\n",
    "        return \"While Loop\";\n",
    "    }\n",
    "}\n"
   ]
  },
  {
   "cell_type": "markdown",
   "metadata": {},
   "source": [
    "- FibonacciWhile is a concrete class that extends FibonacciBase and implements the Fibonacci calculation using a while loop\n",
    "- performFibonacciCalculation method calculates Fibonacci numbers using a while loop\n",
    "- getMethodName method returns the method name, which is \"While Loop\""
   ]
  },
  {
   "cell_type": "markdown",
   "metadata": {},
   "source": [
    "# FibonacciRecursion Class"
   ]
  },
  {
   "cell_type": "code",
   "execution_count": null,
   "metadata": {
    "vscode": {
     "languageId": "java"
    }
   },
   "outputs": [],
   "source": [
    "class FibonacciRecursion extends FibonacciBase {//implementation of FibonacciBase using recursion\n",
    "    @Override\n",
    "    protected List<Long> performFibonacciCalculation(int num) {\n",
    "        List<Long> result = new ArrayList<>();\n",
    "        fibonacciRecursionStructure(num, 0, 1, result);\n",
    "        return result;\n",
    "    }\n",
    "\n",
    "    private static void fibonacciRecursionStructure(int num, long a, long b, List<Long> result) {//helper method for recursive calculation\n",
    "        if (num > 0) {\n",
    "            result.add(a);\n",
    "            fibonacciRecursionStructure(num - 1, b, a + b, result);\n",
    "        }\n",
    "    }\n",
    "\n",
    "    @Override\n",
    "    protected String getMethodName() {\n",
    "        return \"Recursion Loop\";\n",
    "    }\n",
    "}\n"
   ]
  },
  {
   "cell_type": "markdown",
   "metadata": {},
   "source": [
    "- FibonacciRecursion is a concrete class that extends FibonacciBase and implements the Fibonacci calculation using recursion\n",
    "- performFibonacciCalculation method calculates Fibonacci numbers using recursion\n",
    "- fibonacciRecursionStructure is a helper method for the recursive calculation\n",
    "- getMethodName method returns the method name, which is \"Recursion Loop\""
   ]
  },
  {
   "cell_type": "markdown",
   "metadata": {},
   "source": [
    "# FibonacciStream Class"
   ]
  },
  {
   "cell_type": "code",
   "execution_count": null,
   "metadata": {
    "vscode": {
     "languageId": "java"
    }
   },
   "outputs": [],
   "source": [
    "class FibonacciStream extends FibonacciBase {//implementation of FibonacciBase using Java Streams\n",
    "    @Override\n",
    "    protected List<Long> performFibonacciCalculation(int num) {\n",
    "        return Stream.iterate(new long[]{0, 1}, f -> new long[]{f[1], f[0] + f[1]})\n",
    "                .limit(num)\n",
    "                .mapToLong(f -> f[0])\n",
    "                .boxed()\n",
    "                .collect(Collectors.toList());\n",
    "    }\n",
    "\n",
    "    @Override\n",
    "    protected String getMethodName() {\n",
    "        return \"Stream Loop\";\n",
    "    }\n",
    "}\n"
   ]
  },
  {
   "cell_type": "markdown",
   "metadata": {},
   "source": [
    "- FibonacciRecursion is a concrete class that extends FibonacciBase and implements the Fibonacci calculation using recursion\n",
    "- performFibonacciCalculation method calculates Fibonacci numbers using recursion\n",
    "- fibonacciRecursionStructure is a helper method for the recursive calculation\n",
    "- getMethodName method returns the method name, which is \"Recursion Loop\""
   ]
  },
  {
   "cell_type": "markdown",
   "metadata": {},
   "source": [
    "# Fibonacci Class"
   ]
  },
  {
   "cell_type": "code",
   "execution_count": null,
   "metadata": {
    "vscode": {
     "languageId": "java"
    }
   },
   "outputs": [],
   "source": [
    "public class Fibonacci {//fibonacci class to demonstrate and compare different Fibonacci implementations\n",
    "    public static void main(String[] args) {\n",
    "        int num = getUserInput();\n",
    "\n",
    "        FibonacciBase fibonacciFor = new FibonacciFor();//instantiate and calculate Fibonacci using For Loop\n",
    "        fibonacciFor.calculateFibonacci(num);\n",
    "\n",
    "        FibonacciBase fibonacciWhile = new FibonacciWhile();//same for while loop\n",
    "        fibonacciWhile.calculateFibonacci(num);\n",
    "\n",
    "        FibonacciBase fibonacciRecursion = new FibonacciRecursion();//same for recursion loop\n",
    "        fibonacciRecursion.calculateFibonacci(num);\n",
    "\n",
    "        FibonacciBase fibonacciStream = new FibonacciStream();//same for stream loop\n",
    "        fibonacciStream.calculateFibonacci(num);\n",
    "    }\n",
    "\n",
    "    private static int getUserInput() {\n",
    "        Scanner scanner = new Scanner(System.in); //scanner for number fo Fibonacci numbers user wants to input\n",
    "        System.out.print(\"Enter the number of Fibonacci numbers to generate: \");\n",
    "        int num;\n",
    "        while (true) {\n",
    "            try {\n",
    "                num = scanner.nextInt();\n",
    "                if (num > 0) {\n",
    "                    break;\n",
    "                } else {\n",
    "                    System.out.print(\"Please enter a positive integer: \"); //asking only for positive integer\n",
    "                }\n",
    "            } catch (Exception e) {\n",
    "                System.out.print(\"Invalid input. Please enter a positive integer: \"); //will catch invalid input such as negative number or letter\n",
    "                scanner.next(); // consume invalid input\n",
    "                scanner.next(); //consume invalid input\n",
    "            }\n",
    "        }\n",
    "        scanner.close();\n",
    "        return num;\n",
    "    }\n",
    "}"
   ]
  },
  {
   "cell_type": "markdown",
   "metadata": {},
   "source": [
    "- Fibonacci is the main class that demonstrates and compares different Fibonacci implementations\n",
    "- main method initializes instances of Fibonacci implementations and calculates Fibonacci numbers using user input\n",
    "- getUserInput method retrieves the number of Fibonacci numbers the user wants to generate using a Scanner"
   ]
  },
  {
   "cell_type": "markdown",
   "metadata": {},
   "source": [
    "# Inheritance"
   ]
  },
  {
   "cell_type": "markdown",
   "metadata": {},
   "source": [
    "## Example: Utilization in the Fibonacci Class"
   ]
  },
  {
   "cell_type": "code",
   "execution_count": null,
   "metadata": {
    "vscode": {
     "languageId": "java"
    }
   },
   "outputs": [],
   "source": [
    "FibonacciBase fibonacciFor = new FibonacciFor();\n",
    "fibonacciFor.calculateFibonacci(num);\n",
    "\n",
    "FibonacciBase fibonacciWhile = new FibonacciWhile();\n",
    "fibonacciWhile.calculateFibonacci(num);\n",
    "\n",
    "FibonacciBase fibonacciRecursion = new FibonacciRecursion();\n",
    "fibonacciRecursion.calculateFibonacci(num);\n",
    "\n",
    "FibonacciBase fibonacciStream = new FibonacciStream();\n",
    "fibonacciStream.calculateFibonacci(num);"
   ]
  },
  {
   "cell_type": "markdown",
   "metadata": {},
   "source": [
    "In the Fibonacci class, instances of the concrete subclasses (FibonacciFor, FibonacciWhile, FibonacciRecursion, FibonacciStream) are created and assigned to variables of type FibonacciBase. This is possible because of the inheritance relationship; a subclass instance can be treated as an instance of its superclass.\n",
    "\n",
    "The calculateFibonacci method is then called on each instance, demonstrating polymorphism. The specific implementation of calculateFibonacci in each subclass is invoked based on the type of the object, allowing for flexibility and code reuse."
   ]
  },
  {
   "cell_type": "markdown",
   "metadata": {},
   "source": [
    "# UserInput method"
   ]
  },
  {
   "cell_type": "code",
   "execution_count": null,
   "metadata": {
    "vscode": {
     "languageId": "java"
    }
   },
   "outputs": [],
   "source": [
    "private static int getUserInput() {\n",
    "    Scanner scanner = new Scanner(System.in); //scanner for number fo Fibonacci numbers user wants to input\n",
    "    System.out.print(\"Enter the number of Fibonacci numbers to generate: \");\n",
    "    int num;\n",
    "    while (true) {\n",
    "        try {\n",
    "            num = scanner.nextInt();\n",
    "            if (num > 0) {\n",
    "                break;\n",
    "            } else {\n",
    "                System.out.print(\"Please enter a positive integer: \"); //asking only for positive integer\n",
    "            }\n",
    "        } catch (Exception e) {\n",
    "            System.out.print(\"Invalid input. Please enter a positive integer: \"); //will catch invalid input such as negative number or letter\n",
    "            scanner.next(); //consume invalid input\n",
    "        }\n",
    "    }\n",
    "    scanner.close();\n",
    "    return num;\n",
    "}"
   ]
  },
  {
   "cell_type": "markdown",
   "metadata": {},
   "source": [
    "This Java code defines a method named getUserInput that prompts the user to enter the number of Fibonacci numbers they want to generate. Here's the steps of the code:\n",
    "\n",
    "1. It creates a Scanner object to read input from the user.\n",
    "2. The user is prompted to enter the number of Fibonacci numbers to generate.\n",
    "3. The code uses a while loop to continuously prompt the user until a valid input is provided.\n",
    "\n",
    "### Within the loop:\n",
    "4. It attempts to read an integer from the user using scanner.nextInt().\n",
    "5. If the input is a positive integer (num > 0), the loop breaks.\n",
    "6. If the input is not a positive integer, an error message is displayed, and the user is prompted again.\n",
    "7. If an exception is caught (e.g., input is not an integer), an error message is displayed, and the invalid input is consumed using scanner.next() to prevent an infinite loop.\n",
    "8. After a valid input is obtained, the Scanner is closed, and the entered number is returned."
   ]
  }
 ],
 "metadata": {
  "kernelspec": {
   "display_name": "base",
   "language": "python",
   "name": "python3"
  },
  "language_info": {
   "codemirror_mode": {
    "name": "ipython",
    "version": 3
   },
   "file_extension": ".py",
   "mimetype": "text/x-python",
   "name": "python",
   "nbconvert_exporter": "python",
   "pygments_lexer": "ipython3",
   "version": "3.9.12"
  },
  "orig_nbformat": 4
 },
 "nbformat": 4,
 "nbformat_minor": 2
}
