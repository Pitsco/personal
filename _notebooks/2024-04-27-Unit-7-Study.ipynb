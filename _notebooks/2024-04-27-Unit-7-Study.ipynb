{
 "cells": [
  {
   "cell_type": "markdown",
   "metadata": {},
   "source": [
    "---\n",
    "- title: Unit 6 Study\n",
    "- description: Review the Generic Concepts of Unit 6 of AP CSA Exam \n",
    "- layout: post\n",
    "- courses: { csa: {week: 25} }\n",
    "- categories: [C4.0]\n",
    "- type: tangibles\n",
    "- comments: true\n",
    "---"
   ]
  },
  {
   "cell_type": "markdown",
   "metadata": {},
   "source": [
    "# Using Arrays:\n",
    "- Arrays can hold multiple values of the same data type\n",
    "- They are objects, but they hold either primitive types or reference types\n",
    "- Arrays in Java start at index 0"
   ]
  },
  {
   "cell_type": "code",
   "execution_count": 35,
   "metadata": {
    "vscode": {
     "languageId": "java"
    }
   },
   "outputs": [
    {
     "name": "stdout",
     "output_type": "stream",
     "text": [
      "2\n",
      "0\n",
      "0\n",
      "12\n",
      "0\n"
     ]
    }
   ],
   "source": [
    "    int [] x = new int [4];\n",
    "    int [] y = {3, 5, 7, 2};\n",
    "\n",
    "    x[2] = 12;\n",
    "\n",
    "    //y[4] = 21; out of bounds error\n",
    "\n",
    "    System.out.println(y[3]);\n",
    "    \n",
    "    for (int i = 0; i < x.length; i++){\n",
    "    System.out.println(x[i]);\n",
    "        }\n"
   ]
  },
  {
   "cell_type": "code",
   "execution_count": 32,
   "metadata": {
    "vscode": {
     "languageId": "java"
    }
   },
   "outputs": [],
   "source": [
    "public class Array2 {\n",
    "    public static void main(String[] args){\n",
    "        int a = 3;\n",
    "        int b = a;\n",
    "        b = 100;\n",
    "        \n",
    "        int [] c = {1, 2, 3, 4}; //pointed is located in stack, but the data of the array is located in the heap!!\n",
    "        int [] d = c; //same objects on the heap because d is set equal to c\n",
    "\n",
    "        d[1] = 99; //affects both objects\n",
    "        d = new int[5];\n",
    "\n",
    "        int [] e = {5, 6, 7, 8};\n",
    "        int [] f = {5, 6, 7, 8}; //separate objects on the heap!!\n",
    "        f[1] = 99;\n",
    "    }\n",
    "}\n",
    "\n",
    "Array2.main(null)"
   ]
  },
  {
   "cell_type": "markdown",
   "metadata": {},
   "source": [
    "# Traversing an Array:\n",
    "- Arrays in Java start at 0\n",
    "- .length will return the number of indexes in an array\n",
    "- traverse an array with a For Loop or a For-Each Loop"
   ]
  },
  {
   "cell_type": "code",
   "execution_count": 1,
   "metadata": {
    "vscode": {
     "languageId": "java"
    }
   },
   "outputs": [
    {
     "name": "stdout",
     "output_type": "stream",
     "text": [
      "2 5 2 1 5 8 32\n"
     ]
    }
   ],
   "source": [
    "int[] x = {2, 1, 5, 8};\n",
    "\n",
    "for (int i = 0; i < x.length; i += 2){\n",
    "    System.out.print(x[i] + \" \");\n",
    "}\n",
    "\n",
    "// enhanced for loop, for each loop\n",
    "//can't skip indexes\n",
    "//can't modify data within array\n",
    "for (int t : x){\n",
    "    System.out.print(t + \" \");\n",
    "}\n",
    "\n",
    "\n",
    "int sum = 0;\n",
    "for (int i = 0; i < x.length; i++){\n",
    "    x[i] *= 2;\n",
    "    sum += x[i];\n",
    "}\n",
    "\n",
    "System.out.println(sum);"
   ]
  },
  {
   "cell_type": "markdown",
   "metadata": {},
   "source": [
    "# Reversing an array:\n",
    "- can be reversed by swapping values of the first half and the second half\n",
    "- values can also be swapped by copying values to the opposite index in a temporary array"
   ]
  },
  {
   "cell_type": "code",
   "execution_count": 57,
   "metadata": {
    "vscode": {
     "languageId": "java"
    }
   },
   "outputs": [
    {
     "name": "stdout",
     "output_type": "stream",
     "text": [
      "7\n",
      "1\n",
      "6\n",
      "2\n",
      "4\n"
     ]
    }
   ],
   "source": [
    "public class Array {\n",
    "    public static void main(String[] args) {\n",
    "        int[] x = {4, 2, 6, 1, 7};\n",
    "\n",
    "        // Reverse the array\n",
    "        for (int i = 0; i < x.length / 2; i++) {\n",
    "            int temp = x[i]; //temp is set = 4\n",
    "            x[i] = x[x.length - i - 1]; // 4 is set equal to (5-0-1 = 4), which is 7\n",
    "            x[x.length - i - 1] = temp; //index 4 is set = 4\n",
    "        }\n",
    "\n",
    "        // Print the reversed array\n",
    "        for (int i = 0; i < x.length; i++) {\n",
    "            System.out.println(x[i]);\n",
    "        }\n",
    "    }\n",
    "}\n",
    "\n",
    "Array.main(null);"
   ]
  },
  {
   "cell_type": "markdown",
   "metadata": {},
   "source": [
    "# Find the Largest Number in an Array:"
   ]
  },
  {
   "cell_type": "code",
   "execution_count": 60,
   "metadata": {
    "vscode": {
     "languageId": "java"
    }
   },
   "outputs": [
    {
     "name": "stdout",
     "output_type": "stream",
     "text": [
      "10\n"
     ]
    }
   ],
   "source": [
    "public class FindLargest {\n",
    "    public static void main(String[] args) {\n",
    "        int[] anArray = {-2, 1, 6, -3, 10, 8};\n",
    "\n",
    "        int largest = anArray[0];\n",
    "\n",
    "        for (int i = 0; i < anArray.length; i++){\n",
    "            if (largest < anArray[i]){\n",
    "                largest = anArray[i];\n",
    "            }\n",
    "        }\n",
    "        System.out.println(largest);\n",
    "    }\n",
    "}\n",
    "\n",
    "FindLargest.main(null);"
   ]
  }
 ],
 "metadata": {
  "kernelspec": {
   "display_name": "Java",
   "language": "java",
   "name": "java"
  },
  "language_info": {
   "codemirror_mode": "java",
   "file_extension": ".jshell",
   "mimetype": "text/x-java-source",
   "name": "Java",
   "pygments_lexer": "java",
   "version": "17.0.10+7-Ubuntu-122.04.1"
  }
 },
 "nbformat": 4,
 "nbformat_minor": 2
}
