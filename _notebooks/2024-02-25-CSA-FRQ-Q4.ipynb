{
 "cells": [
  {
   "cell_type": "markdown",
   "metadata": {},
   "source": [
    "---\n",
    "- title: CSA FRQ 4\n",
    "- description: Fourth CSA FRQ and explanations\n",
    "- layout: post\n",
    "- courses: { csa: {week: 17} }\n",
    "- categories: [C4.0]\n",
    "- type: tangibles\n",
    "- comments: true\n",
    "---"
   ]
  },
  {
   "cell_type": "markdown",
   "metadata": {},
   "source": [
    "# CSA FRQ #4\n",
    "\n",
    "## Directions:\n",
    "### SHOW ALL YOUR WORK. REMEMBER THAT PROGRAM SEGMENTS ARE TO BE WRITTEN IN JAVA.\n",
    "\n",
    "### Notes:\n",
    "- Assume that the classes listed in the Java Quick Reference have been imported where appropriate.\n",
    "- Unless otherwise noted in the question, assume that parameters in method calls are not null and that methods are called only when their preconditions are satisfied.\n",
    "- In writing solutions for each question, you may use any of the accessible methods that are listed in classes defined in that question. Writing significant amounts of code that can be replaced by a call to one of these methods will not receive full credit.\n"
   ]
  },
  {
   "cell_type": "markdown",
   "metadata": {},
   "source": [
    "This question involves the design of an interface, writing a class that implements the interface, and writing a method that uses the interface.\n",
    "\n",
    "(a) A number group represents a group of integers defined in some way. It could be empty, or it could contain one or more integers.\n",
    "\n",
    "Write an interface named NumberGroup that represents a group of integers. The interface should have a single contains method that determines if a given integer is in the group. For example, if group1 is of type NumberGroup, and it contains only the two numbers -5 and 3, then group1.contains(-5) would return true, and group1.contains(2) would return false.\n",
    "Write the complete NumberGroup interface. It must have exactly one method."
   ]
  },
  {
   "cell_type": "code",
   "execution_count": 1,
   "metadata": {},
   "outputs": [],
   "source": [
    "public interface NumberGroup {\n",
    "    boolean contains(int number);\n",
    "}"
   ]
  },
  {
   "cell_type": "markdown",
   "metadata": {},
   "source": [
    "(b) A range represents a number group that contains all (and only) the integers between a minimum value and a maximum value, inclusive.\n",
    "Write the Range class, which is a NumberGroup. The Range class represents the group of int values that range from a given minimum value up through a given maximum value, inclusive. For example,the declaration\n",
    "\n",
    "NumberGroup range1 = new Range(-3, 2);\n",
    "\n",
    "\n",
    "represents the group of integer values -3, -2, -1, 0, 1, 2.\n",
    "\n",
    "Write the complete Range class. Include all necessary instance variables and methods as well as a constructor that takes two int parameters. The first parameter represents the minimum value, and the second parameter represents the maximum value of the range. You may assume that the minimum is less than or equal to the maximum."
   ]
  },
  {
   "cell_type": "code",
   "execution_count": 9,
   "metadata": {},
   "outputs": [
    {
     "name": "stdout",
     "output_type": "stream",
     "text": [
      "test.contains(1): true\n"
     ]
    },
    {
     "name": "stdout",
     "output_type": "stream",
     "text": [
      "test.contains(10): false\n"
     ]
    }
   ],
   "source": [
    "public interface NumberGroup {\n",
    "    boolean contains(int number);\n",
    "}\n",
    "\n",
    "public class Range implements NumberGroup {\n",
    "    private int min;\n",
    "    private int max; //instance variables\n",
    "\n",
    "    public Range(int min, int max) { //constructor\n",
    "        this.min = min;\n",
    "        this.max = max;\n",
    "    }\n",
    "\n",
    "    @Override\n",
    "    public boolean contains(int number) {\n",
    "        return number >= min && number <= max; //testing if value is in the range\n",
    "    }\n",
    "}\n",
    "\n",
    "NumberGroup Rangetest = new Range(-3, 2);\n",
    "System.out.println(\"test.contains(1): \" + Rangetest.contains(1));\n",
    "System.out.println(\"test.contains(10): \" + Rangetest.contains(10));\n"
   ]
  },
  {
   "cell_type": "markdown",
   "metadata": {},
   "source": [
    "(c) The MultipleGroups class (not shown) represents a collection of NumberGroup objects and isa NumberGroup. The MultipleGroups class stores the number groups in the instance variable groupList (shown below), which is initialized in the constructor.\n",
    "\n",
    "private List<NumberGroup> groupList;\n",
    "\n",
    "Write the MultipleGroups method contains. The method takes an integer and returns true if and only if the integer is contained in one or more of the number groups in groupList.\n",
    "\n",
    "For example, suppose multiple1 has been declared as an instance of MultipleGroups and consists of the three ranges created by the calls new Range(5, 8), new Range(10, 12), and new Range(1, 6). The following table shows the results of several calls to contains.\n",
    "\n",
    "![image](https://raw.githubusercontent.com/Pitsco/personal/main/images/cb2015/cb2015-4a.png)"
   ]
  },
  {
   "cell_type": "code",
   "execution_count": 33,
   "metadata": {},
   "outputs": [
    {
     "name": "stdout",
     "output_type": "stream",
     "text": [
      "Contains 2? true, Contains 6? true, Contains 9? false\n"
     ]
    }
   ],
   "source": [
    "public interface NumberGroup {\n",
    "    boolean contains(int number);\n",
    "}\n",
    "\n",
    "public class MultipleGroups implements NumberGroup {\n",
    "    private List<NumberGroup> groupList;\n",
    "\n",
    "    public MultipleGroups(List<NumberGroup> groupList) {\n",
    "        this.groupList = groupList;\n",
    "    }\n",
    "\n",
    "    public boolean contains(int number) {\n",
    "        for (NumberGroup group : groupList) {\n",
    "            if (group.contains(number)) {\n",
    "                return true;\n",
    "            }\n",
    "        }\n",
    "        return false;\n",
    "    }\n",
    "\n",
    "}\n",
    "\n",
    "MultipleGroups multiple1 = new MultipleGroups(List.of(new Range(5, 8), new Range(10, 12), new Range(1, 6)));\n",
    "boolean result1 = multiple1.contains(2);\n",
    "boolean result2 = multiple1.contains(6);\n",
    "boolean result3 = multiple1.contains(9); // Example call to contains\n",
    "System.out.println(\"Contains 2? \" + result1 + \", Contains 6? \" + result2 + \", Contains 9? \" + result3);"
   ]
  },
  {
   "cell_type": "markdown",
   "metadata": {},
   "source": [
    "## Explanation and Reflection:\n",
    "As I've not experineced interface enough compared to the rest of the topics, understanding the basics of interface took time and had to look up how it works. Once I understood the basics, this problem was actually not that challenging at all compared to the rest of the questions.\n",
    "\n",
    "I've learned that an interface is a collection of abstract methods. It defines a contract that classes must adhere to. Unlike abstract classes, an interface can only have abstract methods (methods without a body) and constants (final variables). Any class that implements an interface must provide  implementations for all the methods declared in the interface. \n",
    "\n",
    "When understanding interfaces, I thought that the structure kind of looks like the same as inheritance. This is probably because they both provide a way to achieve abstraction and share common behavior among classes.\n",
    "\n",
    "Here is an example below as demonstration:\n",
    "\n",
    "**Interface:**\n",
    "```cs\n",
    "// Example interface\n",
    "interface SoundMaker {\n",
    "    void makeSound();\n",
    "}\n",
    "\n",
    "// Class implementing the interface\n",
    "class Cat implements SoundMaker {\n",
    "    @Override\n",
    "    public void makeSound() {\n",
    "        System.out.println(\"Meow! Meow!\");\n",
    "    }\n",
    "}\n",
    "```\n",
    "The Dog class extends the Animal class, inheriting the makeSound method. Now, when an instance of Dog is created, it can use the makeSound method from the Animal class.\n",
    "\n",
    "**Inheritance:**\n",
    "```cs\n",
    "// Base class using inheritance\n",
    "class Animal {\n",
    "    void makeSound() {\n",
    "        System.out.println(\"Some generic sound\");\n",
    "    }\n",
    "}\n",
    "\n",
    "// Derived class inheriting from Animal\n",
    "class Dog extends Animal {\n",
    "    @Override\n",
    "    void makeSound() {\n",
    "        System.out.println(\"Woof! Woof!\");\n",
    "    }\n",
    "}\n",
    "```\n",
    "In this example, the Dog class extends the Animal class, inheriting the makeSound method. Now, when an instance of Dog is created, it can use the makeSound method from the Animal class.\n",
    "\n",
    "Inheritance, demonstrated by the Dog class inheriting from the Animal class, allows the inherited class to reuse and extend the behavior of the base class. Similarly, interfaces, as seen in the Cat class implementing the SoundMaker interface, allow for classes that need to provide specific functionality. This promotes code consistency as classes implementing the interface are required to adhere to the specified methods.\n",
    "\n",
    "In the problem, we can see that this line:\n",
    "```\n",
    "boolean contains(int number);\n",
    "```\n",
    "is called in this if statement:\n",
    "```\n",
    "if (group.contains(number)) {\n",
    "               return true;\n",
    "           }\n",
    "````\n",
    "to declare whether or not the number provided is in the array or not. If it isn't it will respond with a boolean value (true or false)."
   ]
  }
 ],
 "metadata": {
  "kernelspec": {
   "display_name": "Java",
   "language": "java",
   "name": "java"
  },
  "language_info": {
   "codemirror_mode": "java",
   "file_extension": ".jshell",
   "mimetype": "text/x-java-source",
   "name": "java",
   "pygments_lexer": "java",
   "version": "17.0.9+9-Ubuntu-122.04"
  }
 },
 "nbformat": 4,
 "nbformat_minor": 2
}
