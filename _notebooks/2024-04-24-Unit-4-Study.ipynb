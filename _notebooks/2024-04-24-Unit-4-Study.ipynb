{
 "cells": [
  {
   "cell_type": "markdown",
   "metadata": {},
   "source": [
    "---\n",
    "- title: Unit 4 Study\n",
    "- description: Review the Generic Concepts of Unit 4 of AP CSA Exam \n",
    "- layout: post\n",
    "- courses: { csa: {week: 25} }\n",
    "- categories: [C4.0]\n",
    "- type: tangibles\n",
    "- comments: true\n",
    "---"
   ]
  },
  {
   "cell_type": "markdown",
   "metadata": {},
   "source": [
    "# Iteration and Loops\n",
    "- For loops let us repeat a command or commands\n",
    "- each loop declares a varible that acts as a counter\n",
    "- counter variable will be progressed in the loop and can be used for various purposes"
   ]
  },
  {
   "cell_type": "code",
   "execution_count": 2,
   "metadata": {},
   "outputs": [
    {
     "name": "stdout",
     "output_type": "stream",
     "text": [
      "0\n",
      "1\n",
      "2\n",
      "3\n"
     ]
    }
   ],
   "source": [
    "public class ForLoop {    \n",
    "    public static void main(String[] args){\n",
    "        for (int i = 0; i < 4; i ++){\n",
    "            System.out.println(i);\n",
    "        }\n",
    "    }\n",
    "}\n",
    "\n",
    "ForLoop.main(null);"
   ]
  },
  {
   "cell_type": "markdown",
   "metadata": {},
   "source": [
    "# while loops do while loops\n",
    "- while loops repeat commands while a boolean expression remains true\n",
    "- Do While loops check boolean expressions at the end of the loop and at least will run once"
   ]
  },
  {
   "cell_type": "code",
   "execution_count": null,
   "metadata": {},
   "outputs": [],
   "source": [
    "public class WhileLoop { \n",
    "    public static void main(String[] args){\n",
    "        int i = 4;\n",
    "        while (i > 0){\n",
    "            System.out.println(i);\n",
    "            i--;\n",
    "        }\n",
    "    }\n",
    "}\n",
    "\n",
    "WhileLoop.main(null);"
   ]
  },
  {
   "cell_type": "markdown",
   "metadata": {},
   "source": [
    "# Reverse String"
   ]
  },
  {
   "cell_type": "code",
   "execution_count": 7,
   "metadata": {},
   "outputs": [
    {
     "name": "stdout",
     "output_type": "stream",
     "text": [
      "s\n",
      "sl\n",
      "sli\n",
      "slip\n",
      "slipu\n",
      "slipup\n",
      "Final reversed word: slipup\n"
     ]
    }
   ],
   "source": [
    "public class Reversestring{\n",
    "    public static void main(String[] args){\n",
    "        String original = \"pupils\";\n",
    "        String reverse = \"\";\n",
    "\n",
    "        for(int i = original.length() - 1; i >= 0; i--){\n",
    "            reverse = reverse + original.substring(i, i + 1);\n",
    "            System.out.println(reverse);\n",
    "        }\n",
    "        \n",
    "        System.out.println(\"Final reversed word: \" + reverse);\n",
    "    }\n",
    "}\n",
    "\n",
    "Reversestring.main(null);"
   ]
  },
  {
   "cell_type": "markdown",
   "metadata": {},
   "source": [
    "# Nested Loop\n",
    "- loop inside a loop\n",
    "- outer loop runs once, inner loop will go through entire cycle\n",
    "- Nested loops is helpful when it comes to 2D arrays"
   ]
  },
  {
   "cell_type": "code",
   "execution_count": 11,
   "metadata": {},
   "outputs": [
    {
     "name": "stdout",
     "output_type": "stream",
     "text": [
      "# # # # # # "
     ]
    }
   ],
   "source": [
    "public class NestedLoop{\n",
    "    public static void main(String[] args){\n",
    "        for (int i = 0; i < 2; i++){ //loops 2 times\n",
    "            for (int j = 0; j< 3; j++){// loops 3 times\n",
    "                System.out.print(\"# \"); \n",
    "            }\n",
    "        }\n",
    "    }\n",
    "}\n",
    "\n",
    "NestedLoop.main(null);"
   ]
  }
 ],
 "metadata": {
  "kernelspec": {
   "display_name": "Java",
   "language": "java",
   "name": "java"
  },
  "language_info": {
   "codemirror_mode": "java",
   "file_extension": ".jshell",
   "mimetype": "text/x-java-source",
   "name": "java",
   "pygments_lexer": "java",
   "version": "17.0.10+7-Ubuntu-122.04.1"
  }
 },
 "nbformat": 4,
 "nbformat_minor": 2
}
