{
 "cells": [
  {
   "cell_type": "markdown",
   "metadata": {},
   "source": [
    "---\n",
    "- title: Unit 10.2 Recursive Searching and Sorting - Teacher notebook\n",
    "- description: Lesson on the College Board Unit 10.2 Recursive Searching and Sorting.\n",
    "- layout: post\n",
    "- courses: { csa: {week: 8} }\n",
    "- categories: [C4.0]\n",
    "- type: tangibles\n",
    "---\n"
   ]
  },
  {
   "cell_type": "markdown",
   "metadata": {},
   "source": [
    "# 10.2 Binary Search"
   ]
  },
  {
   "cell_type": "markdown",
   "metadata": {},
   "source": [
    "Binary Search vs Linear Search"
   ]
  },
  {
   "cell_type": "markdown",
   "metadata": {},
   "source": [
    "target number - 24\n",
    "\n",
    "intArray - 0 2 4 6 8 10 12 14 16 18 20 22 24 26 28 30 32 34 36 38 40\n",
    "\n",
    "How many times iterated through for Linear Search? \n",
    "\n",
    "Answer:"
   ]
  },
  {
   "cell_type": "code",
   "execution_count": 15,
   "metadata": {
    "vscode": {
     "languageId": "java"
    }
   },
   "outputs": [
    {
     "name": "stdout",
     "output_type": "stream",
     "text": [
      "Target found at index: 12\n"
     ]
    }
   ],
   "source": [
    "public class BinarySearch {\n",
    "    public static void main(String[] args) {\n",
    "        int[] intArray = {0, 2, 4, 6, 8, 10, 12, 14, 16, 18, 20, 22, 24, 26, 28, 30, 32, 34, 36, 38, 40}; // Example array\n",
    "        int target = 24; // Example target value\n",
    "        int result = recBinarySearch(intArray, 0, intArray.length - 1, target);\n",
    "\n",
    "        if (result == -1) {\n",
    "            System.out.println(\"Target not found in the array.\");\n",
    "        } else {\n",
    "            System.out.println(\"Target found at index: \" + result);\n",
    "        }\n",
    "    }\n",
    "\n",
    "    public static int recBinarySearch(int[] intArray, int lowPosition, int highPosition, int target) {\n",
    "        if (lowPosition > highPosition) {\n",
    "            return -1; // Element not found in the array\n",
    "        } else {\n",
    "            int midPosition = (lowPosition + highPosition) / 2;\n",
    "            if (intArray[midPosition] < target) {\n",
    "                return recBinarySearch(intArray, midPosition + 1, highPosition, target);\n",
    "            } else if (intArray[midPosition] > target) {\n",
    "                return recBinarySearch(intArray, lowPosition, midPosition - 1, target);\n",
    "            } else {\n",
    "                return midPosition; // Element found at midPosition\n",
    "            }\n",
    "        }\n",
    "    }\n",
    "}\n",
    "\n",
    "BinarySearch.main(null);"
   ]
  },
  {
   "cell_type": "markdown",
   "metadata": {},
   "source": [
    "### Call 1\n",
    "Index = 0 - 20, midPosition = 10, midPosition value = 20\n",
    "\n",
    "Since 24 > 20, \n",
    "\n",
    "then... \n",
    "\n",
    "lowPosition = midPosition + 1 = 11\n",
    "highPosition = highPosition = 20\n",
    "\n",
    "### Call 2\n",
    "Index = 11-20, midPosition index = 15, midPosition value = 30\n",
    "\n",
    "Since 24 < 30,\n",
    "\n",
    "then...\n",
    "\n",
    "lowPosition = lowPosition = 11\n",
    "high position = midPosition - 1 = 14\n",
    "\n",
    "\n",
    "### Call 3\n",
    "Index = 11-14, midPosition index = 12, midPosition value = 24\n",
    "\n",
    "Since 24 = 24,\n",
    "\n",
    "then...\n",
    "\n",
    "return midPosition;\n",
    "\n",
    "In total, our recursive calls to the method 3 times."
   ]
  },
  {
   "cell_type": "markdown",
   "metadata": {},
   "source": [
    "## Merge Sort"
   ]
  },
  {
   "cell_type": "code",
   "execution_count": null,
   "metadata": {
    "vscode": {
     "languageId": "java"
    }
   },
   "outputs": [],
   "source": []
  },
  {
   "cell_type": "markdown",
   "metadata": {},
   "source": [
    "## Popcorn Hack\n",
    "Create a subclass and a superclass by calling the methods from the superclass from the subclass using the keyword super.\n"
   ]
  },
  {
   "cell_type": "code",
   "execution_count": null,
   "metadata": {
    "vscode": {
     "languageId": "java"
    }
   },
   "outputs": [],
   "source": []
  }
 ],
 "metadata": {
  "kernelspec": {
   "display_name": "Java",
   "language": "java",
   "name": "java"
  },
  "language_info": {
   "codemirror_mode": "java",
   "file_extension": ".jshell",
   "mimetype": "text/x-java-source",
   "name": "Java",
   "pygments_lexer": "java",
   "version": "11.0.20.1+1-post-Ubuntu-0ubuntu122.04"
  }
 },
 "nbformat": 4,
 "nbformat_minor": 2
}
