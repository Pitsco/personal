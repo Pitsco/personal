{
 "cells": [
  {
   "cell_type": "markdown",
   "metadata": {},
   "source": [
    "---\n",
    "# this is YAML front matter\n",
    "- layout: post\n",
    "- title: Jekyll in HTML notes\n",
    "- description: Blog about Jekyll in HTML used in our project\n",
    "- categories: [C4.0]\n",
    "- type: tangibles\n",
    "- courses: { csa: {week: 10} }\n",
    "---"
   ]
  },
  {
   "cell_type": "markdown",
   "metadata": {},
   "source": [
    "[Reference](https://github.com/CSA-Tri-1/DADDiJkstra-frontend/blob/main/pages/about.html) for Jekyll with HTML in about page\n",
    "\n",
    "# Information with Jekyll in about page: \n",
    "\n",
    "### YAML Front Matter: \n",
    "Jekyll uses YAML front matter to define metadata for a page. In the code you provided, the front matter is enclosed in triple dashes (---) at the beginning of the file and includes information such as the layout to use and the title of the page.\n",
    "\n",
    "```\n",
    "---\n",
    "layout: default\n",
    "title: About\n",
    "---\n",
    "```\n",
    "\n",
    "### Layouts: \n",
    "The layout for this page is specified in the front matter as \"default.\" Jekyll allows you to define layouts for your pages, which can include common elements like headers, footers, and styles, and can be reused across multiple pages.\n",
    "\n",
    "### Linking CSS and JavaScript: \n",
    "Jekyll allows you to include external CSS and JavaScript files using HTML link and script elements. In the code, you see references to CSS and JavaScript files in the \"assets/css\" and \"assets/scripts\" directories, respectively. The use of {{ site.baseurl }} in the file paths allows Jekyll to generate the correct paths when building the site, taking into account the base URL of your site.\n",
    "\n",
    "```\n",
    "<link rel=\"stylesheet\" href=\"{{ site.baseurl }}/assets/css/about.css\" /> <!-- Jekyll with HTML-->\n",
    "<script src=\"{{ site.baseurl }}/assets/scripts/about.js\" defer></script> <!-- Jekyll with HTML-->\n",
    "```\n",
    "\n",
    "\n",
    "### Markdown to HTML Conversion: \n",
    "Jekyll can convert markdown content to HTML. While the code provided doesn't include markdown content, it's a common practice to write content in markdown format, which Jekyll processes and converts into HTML when building the site.\n",
    "\n",
    "### Summary: \n",
    "Jekyll is used in this code to structure the HTML page, define metadata, link CSS and JavaScript files, and convert markdown content to HTML. When building a site with Jekyll, it generates the final HTML pages based on these templates and configurations.\n"
   ]
  },
  {
   "cell_type": "code",
   "execution_count": 4,
   "metadata": {},
   "outputs": [
    {
     "ename": "CompilationException",
     "evalue": "",
     "output_type": "error",
     "traceback": [
      "\u001b[1m\u001b[31mincompatible types: invalid method reference\u001b[0m",
      "\u001b[1m\u001b[31m    unexpected static method fibonacciFor(int) found in bound lookup\u001b[0m",
      "",
      "\u001b[1m\u001b[31mincompatible types: invalid method reference\u001b[0m",
      "\u001b[1m\u001b[31m    unexpected static method fibonacciWhile(int) found in bound lookup\u001b[0m",
      "",
      "\u001b[1m\u001b[31mincompatible types: invalid method reference\u001b[0m",
      "\u001b[1m\u001b[31m    unexpected static method fibonacciRecursive(int) found in bound lookup\u001b[0m",
      "",
      "\u001b[1m\u001b[31mincompatible types: invalid method reference\u001b[0m",
      "\u001b[1m\u001b[31m    unexpected static method fibonacciStream(int) found in bound lookup\u001b[0m",
      ""
     ]
    }
   ],
   "source": []
  }
 ],
 "metadata": {
  "kernelspec": {
   "display_name": "Java",
   "language": "java",
   "name": "java"
  },
  "language_info": {
   "codemirror_mode": "java",
   "file_extension": ".jshell",
   "mimetype": "text/x-java-source",
   "name": "java",
   "pygments_lexer": "java",
   "version": "11.0.20.1+1-post-Ubuntu-0ubuntu122.04"
  }
 },
 "nbformat": 4,
 "nbformat_minor": 2
}
