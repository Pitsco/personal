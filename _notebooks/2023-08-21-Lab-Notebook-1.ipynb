{
 "cells": [
  {
   "cell_type": "markdown",
   "metadata": {},
   "source": [
    "---\n",
    "# this is YAML front matter\n",
    "- layout: post\n",
    "- title: Lab Notebook 1\n",
    "- description: Progress with hacks for week 0!\n",
    "- categories: [C4.0]\n",
    "- type: tangibles\n",
    "- courses: { csa: {week: 0} }\n",
    "---"
   ]
  },
  {
   "cell_type": "markdown",
   "metadata": {},
   "source": [
    "# Linux Hacks\n",
    "\n",
    "Installing Ubuntu: \n",
    "sudo apt update\n",
    "sudo apt upgrade -y\n",
    "\n",
    "Finding Ubuntu Version:\n",
    "lsb_release -a\n",
    "\n",
    "Getting Github Info:\n",
    "git config --global --get <user.name>\n",
    "git config --global --get <user.email>\n",
    "\n",
    "User.name is your name in github while user.email is your email that you used to sign in into github.\n",
    "\n",
    "Testing/Installing Python:\n",
    "- \"sudo apt install -y python3\" will install python, resulting in the terminal \"Installing Python...\"\n",
    "- If python is installed, it will return \"Python is already installed.\"\n",
    "- You may check the version through: \"python3 --version\"\n",
    "\n",
    "Testing Ruby:\n",
    "- Install ruby through \"sudo apt install -y ruby-full build-essential zlib1g-dev\"\n",
    "- If installed, it should state \"Ruby is already installed.\"\n",
    "- To check the version, type \"ruby -v\"\n",
    "\n",
    "Testing Jupyter:\n",
    "- Use the command \"sudo apt-get install -y jupyter-notebook\" to install Jupyter\n",
    "- It should say \"Jupyter is already installed\" if Bundler is already installed\n",
    "- Check the version through \"jupyter --version\"\n",
    "\n",
    "Testing Bundler:\n",
    "- Use the command \"gem install jekyll bundler\" to install Bundler\n",
    "- It should say \"Bundler is already installed\" if Bundler is already installed\n",
    "\n",
    "Some Linux commands used for later usage: \n",
    "ls: List files and directories in the current directory.\n",
    "cd: Change the current directory.\n",
    "pwd: Print the current working directory.\n",
    "cp: Copy files or directories.\n",
    "mv: Move or rename files or directories.\n",
    "rm: Remove files or directories.\n",
    "grep: Search for patterns in files.\n",
    "chmod: Change file permissions.\n",
    "top: Display system resource usage.\n",
    "df: Display disk space usage.\n",
    "ps: List currently running processes.\n",
    "cat: Display the contents of a file.\n"
   ]
  }
 ],
 "metadata": {
  "kernelspec": {
   "display_name": "Java",
   "language": "java",
   "name": "java"
  },
  "language_info": {
   "name": "java"
  },
  "orig_nbformat": 4
 },
 "nbformat": 4,
 "nbformat_minor": 2
}
