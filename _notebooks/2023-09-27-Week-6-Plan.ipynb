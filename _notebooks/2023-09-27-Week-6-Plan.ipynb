{
 "cells": [
  {
   "cell_type": "markdown",
   "metadata": {},
   "source": [
    "---\n",
    "# this is YAML front matter\n",
    "- layout: post\n",
    "- title: Week 6 Plan\n",
    "- description: My plans on what I want to do day by day on week 6!\n",
    "- categories: [C4.0]\n",
    "- type: plans\n",
    "- courses: { csa: {week: 6} }\n",
    "---"
   ]
  },
  {
   "cell_type": "markdown",
   "metadata": {},
   "source": [
    "# Thursday (9/27)\n",
    "- Polish Java Hello Hacks\n",
    "- Finish Java Console Game Hacks\n",
    "\n",
    "# Friday (9/28)\n",
    "- Live Review!\n",
    "- Begin to understand week 2 blogs + hacks\n",
    "\n",
    "# Saturday (9/29)\n",
    "- Fix css with arrows\n",
    "- Possibly begin to work on hacks\n",
    "\n",
    "# Sunday (9/30)\n",
    "- Work on hacks\n",
    "\n",
    "# Monday (10/1)\n",
    "- Check up on partner\n",
    "    - Check progress with hacks + ask for any additional help\n",
    "\n",
    "# Tuesday (10/2)\n",
    "- Finish hacks\n",
    "\n",
    "# Wednesday (10/3)\n",
    "- Live Review:\n",
    "- Prepare/review for week 3 blogs + hacks\n"
   ]
  }
 ],
 "metadata": {
  "language_info": {
   "name": "python"
  },
  "orig_nbformat": 4
 },
 "nbformat": 4,
 "nbformat_minor": 2
}
