{
 "cells": [
  {
   "cell_type": "markdown",
   "metadata": {},
   "source": [
    "---\n",
    "- title: Lambda Practice\n",
    "- description: Fourth CSA FRQ and explanations\n",
    "- layout: post\n",
    "- courses: { csa: {week: 25} }\n",
    "- categories: [C4.0]\n",
    "- type: tangibles\n",
    "- comments: true\n",
    "---"
   ]
  },
  {
   "cell_type": "markdown",
   "metadata": {},
   "source": [
    "# Question 1\n",
    "In main() invoke the consumer() method; in consumer() do the following:\n",
    "\n",
    "a) Using a lambda expression, implement the Printable interface (typed for String). The relevant method just prints out the String argument it receives. Invoke the relevant method, passing in \"Printable lambda\".\n",
    "\n",
    "b) Using both a lambda expression and a method reference, implement 1a using a Consumer."
   ]
  },
  {
   "cell_type": "code",
   "execution_count": 14,
   "metadata": {},
   "outputs": [
    {
     "name": "stdout",
     "output_type": "stream",
     "text": [
      "example\n",
      "Consumer lambda\n",
      "ConsumerMR\n"
     ]
    }
   ],
   "source": [
    "import java.util.function.Consumer;\n",
    "\n",
    "interface Printable {\n",
    "    void print(String message);\n",
    "}\n",
    "\n",
    "public class Main {\n",
    "    public static void consumer() {\n",
    "        Printable example = message -> System.out.println(message);\n",
    "        example.print(\"example\");\n",
    "\n",
    "        Consumer<String> consumerLambda = (message) -> System.out.println(message);\n",
    "        consumerLambda.accept(\"Consumer lambda\");\n",
    "\n",
    "        Consumer<String> consumerMR = System.out::println;\n",
    "        consumerMR.accept(\"ConsumerMR\");\n",
    "    }\n",
    "\n",
    "\n",
    "    public static void main(String[] args) {\n",
    "        consumer();\n",
    "    }\n",
    "}\n",
    "\n",
    "Main.main(null)"
   ]
  },
  {
   "cell_type": "markdown",
   "metadata": {},
   "source": [
    "# Question 2\n",
    "In main() invoke the supplier() method; in supplier() do the following:\n",
    "\n",
    "a) Using a lambda expression, implement the Retrievable interface (typed for Integer). The relevant method just returns 77. Invoke the relevant method.\n",
    "\n",
    "b) Using a lambda expression, implement 2a using a Supplier."
   ]
  },
  {
   "cell_type": "code",
   "execution_count": 23,
   "metadata": {},
   "outputs": [
    {
     "name": "stdout",
     "output_type": "stream",
     "text": [
      "77\n",
      "77\n"
     ]
    }
   ],
   "source": [
    "import java.util.function.Supplier;\n",
    "\n",
    "interface Retrievable<T> {\n",
    "    T retrieve(); //part a\n",
    "} \n",
    "public class Main {\n",
    "    public static void Supplier() {\n",
    "        Retrievable<Integer> example0 = () -> 77;\n",
    "        System.out.println(example0.retrieve());\n",
    "\n",
    "        Supplier<Integer> example1 = () -> 77; //part b\n",
    "        System.out.println(example1.get());   \n",
    "    }\n",
    "\n",
    "    public static void main(String[] args) {\n",
    "        Supplier();\n",
    "    }\n",
    "}\n",
    "\n",
    "Main.main(null)"
   ]
  },
  {
   "cell_type": "markdown",
   "metadata": {},
   "source": [
    "# Question 3\n",
    "In main() invoke the predicate() method; in predicate() do the following:\n",
    "\n",
    "a) Using a lambda expression, implement the Evaluate interface (typed for Integer). The relevant method returns true if the argument passed is < 0, otherwise it returns false. Invoke the relevant method twice – the first time pass in -1 and the second time pass in +1\n",
    "\n",
    "b) Using a lambda expression, implement 3a using a Predicate.\n",
    "\n",
    "c) Declare a generically-typed check() method (not in UML). The first parameter is generic and the second parameter is a Predicate, also generically typed. The check() method returns true/false. Invoke the check() method with the following Predicate lambda expressions:\n",
    "\n",
    "- we want to know if a number is even (true) – invoke check() with 4 and 7 (true and false).\n",
    "\n",
    "- we want to know if a String begins with “Mr.” – invoke check() with “Mr. Joe Bloggs” and “Ms. Ann Bloggs”\n",
    "\n",
    "- we want to know if a person is an adult (age >= 18) – invoke check() with “Mike” who is 33 and 1.8 (metres assumed) in height; and “Ann” who is 13 and 1.4 (metres) in height."
   ]
  },
  {
   "cell_type": "code",
   "execution_count": 46,
   "metadata": {},
   "outputs": [
    {
     "name": "stdout",
     "output_type": "stream",
     "text": [
      "true\n",
      "false\n",
      "Is 4 an even number? true\n",
      "Is 7 an even number? false\n",
      "Starts with \"Mr.\"? true\n",
      "Starts with \"Mr.\"? false\n",
      "Is Mike an adult? true\n",
      "Is Ann an adult? false\n"
     ]
    }
   ],
   "source": [
    "import java.util.function.Predicate;\n",
    "\n",
    "interface Evaluate<T> {\n",
    "    boolean evaluate(T t); // part a\n",
    "} \n",
    "\n",
    "public class Main {\n",
    "    public static <T> boolean check(T value, Predicate<T> predicate) {\n",
    "        return predicate.test(value);\n",
    "    }\n",
    "    \n",
    "    public static void Predicate() {\n",
    "        Evaluate<Integer> example0 = (Integer t) -> t < 0;\n",
    "        System.out.println(example0.evaluate(-1));\n",
    "        System.out.println(example0.evaluate(1));\n",
    "\n",
    "        Predicate<Integer> checking = num -> num % 2 == 0;\n",
    "        System.out.println(\"Is 4 an even number? \" + check(4, checking));\n",
    "        System.out.println(\"Is 7 an even number? \" + check(7, checking));\n",
    "\n",
    "        Predicate<String> startsWithMr = str -> str.startsWith(\"Mr.\");\n",
    "\n",
    "        // Test with Strings\n",
    "        System.out.println(\"Starts with \\\"Mr.\\\"? \" + check(\"Mr. Joe Bloggs\", startsWithMr)); // Should print true\n",
    "        System.out.println(\"Starts with \\\"Mr.\\\"? \" + check(\"Ms. Ann Bloggs\", startsWithMr)); // Should print false\n",
    "\n",
    "        // Predicate to check if a person is an adult (age >= 18)\n",
    "        Predicate<Person> isAdult = person -> person.getAge() >= 18;\n",
    "\n",
    "        // Test with persons\n",
    "        Person mike = new Person(\"Mike\", 33, 1.8);\n",
    "        Person ann = new Person(\"Ann\", 13, 1.4);\n",
    "        System.out.println(\"Is Mike an adult? \" + check(mike, isAdult)); // Should print true\n",
    "        System.out.println(\"Is Ann an adult? \" + check(ann, isAdult)); // Should print false\n",
    "    }\n",
    "\n",
    "    public static class Person {\n",
    "        private String name;\n",
    "        private int age;\n",
    "        private double height; // assumed in meters\n",
    "    \n",
    "        public Person(String name, int age, double height) {\n",
    "            this.name = name;\n",
    "            this.age = age;\n",
    "            this.height = height;\n",
    "        }\n",
    "    \n",
    "        public String getName() {\n",
    "            return name;\n",
    "        }\n",
    "    \n",
    "        public int getAge() {\n",
    "            return age;\n",
    "        }\n",
    "    \n",
    "        public double getHeight() {\n",
    "            return height;\n",
    "        }\n",
    "    }\n",
    "\n",
    "    public static void main(String[] args) {\n",
    "        Predicate();\n",
    "    }\n",
    "}\n",
    "\n",
    "Main.main(null);"
   ]
  },
  {
   "cell_type": "markdown",
   "metadata": {},
   "source": [
    "# Question 4\n",
    "In main() invoke the function() method; in function() do the following:\n",
    "\n",
    "a) Using a lambda expression, implement the Functionable interface - the input type is Integer and the return type is String. The relevant method returns the number passed in appended to the String “Number is: ”. Invoke the relevant method passing in 25.\n",
    "\n",
    "b) Using a lambda expression, implement 4a using a Function."
   ]
  },
  {
   "cell_type": "code",
   "execution_count": 49,
   "metadata": {},
   "outputs": [
    {
     "name": "stdout",
     "output_type": "stream",
     "text": [
      "Number is: 25\n",
      "Number is: 25\n"
     ]
    }
   ],
   "source": [
    "import java.util.function.Function;\n",
    "\n",
    "interface Functionable {\n",
    "    String operate(Integer number);\n",
    "}\n",
    "\n",
    "public class Main {\n",
    "    public static void function() {\n",
    "        // Part a: Using a lambda expression to implement the Functionable interface\n",
    "        Functionable func = (Integer number) -> \"Number is: \" + number;\n",
    "        System.out.println(func.operate(25));\n",
    "\n",
    "        // Part b: Using a lambda expression and Function to implement 4a\n",
    "        Function<Integer, String> funcWithFunction = (Integer number) -> \"Number is: \" + number;\n",
    "        System.out.println(funcWithFunction.apply(25));\n",
    "    }\n",
    "\n",
    "    public static void main(String[] args) {\n",
    "        function();\n",
    "    }\n",
    "}\n",
    "\n",
    "\n",
    "Main.main(null)"
   ]
  },
  {
   "cell_type": "markdown",
   "metadata": {},
   "source": [
    "# Question 5:\n",
    "Given the following implementation of the getPeople() method:\n",
    "\n",
    "private static List<Person> getPeople() {\n",
    "\n",
    "List<Person> result = new ArrayList<>();\n",
    "\n",
    "result.add(new Person(\"Mike\", 33, 1.8));\n",
    "\n",
    "result.add(new Person(\"Mary\", 25, 1.4));\n",
    "\n",
    "result.add(new Person(\"Alan\", 34, 1.7));\n",
    "\n",
    "result.add(new Person(\"Zoe\", 30, 1.5));\n",
    "\n",
    "return result;\n",
    "\n",
    "}\n",
    "\n",
    "In main(), invoke the getPeople() – store the result in a variable named listPeople."
   ]
  },
  {
   "cell_type": "code",
   "execution_count": 58,
   "metadata": {},
   "outputs": [
    {
     "name": "stdout",
     "output_type": "stream",
     "text": [
      "Name: Mike, Age: 33, Height: 1.8\n",
      "Name: Mary, Age: 25, Height: 1.4\n",
      "Name: Alan, Age: 34, Height: 1.7\n",
      "Name: Zoe, Age: 30, Height: 1.5\n"
     ]
    }
   ],
   "source": [
    "public class Person {\n",
    "    private String name;\n",
    "    private int age;\n",
    "    private double height;\n",
    "\n",
    "    public Person(String name, int age, double height) {\n",
    "        this.name = name;\n",
    "        this.age = age;\n",
    "        this.height = height;\n",
    "    }\n",
    "\n",
    "    public String getName() {\n",
    "        return name;\n",
    "    }\n",
    "\n",
    "    public int getAge() {\n",
    "        return age;\n",
    "    }\n",
    "\n",
    "    public double getHeight() {\n",
    "        return height;\n",
    "    }\n",
    "}\n",
    "\n",
    "public class Main {\n",
    "    public static void main(String[] args) {\n",
    "        List<Person> listPeople = getPeople();\n",
    "        \n",
    "        // Now you can use listPeople as needed\n",
    "        // For example, printing the details of each person in the list:\n",
    "        for (Person person : listPeople) {\n",
    "            System.out.println(\"Name: \" + person.getName() + \", Age: \" + person.getAge() + \", Height: \" + person.getHeight());\n",
    "        }\n",
    "    }\n",
    "\n",
    "    private static List<Person> getPeople() {\n",
    "        List<Person> result = new ArrayList<>();\n",
    "\n",
    "        result.add(new Person(\"Mike\", 33, 1.8));\n",
    "        result.add(new Person(\"Mary\", 25, 1.4));\n",
    "        result.add(new Person(\"Alan\", 34, 1.7));\n",
    "        result.add(new Person(\"Zoe\", 30, 1.5));\n",
    "\n",
    "        return result;\n",
    "    }\n",
    "}\n",
    "\n",
    "Main.main(null)"
   ]
  },
  {
   "cell_type": "markdown",
   "metadata": {},
   "source": [
    "# Question 6\n",
    "In main(), invoke the sortAge() method passing down listPeople; in sortAge() do the following:\n",
    "\n",
    "a) Using the Iterable sort() method (note: List extends Iterable), and the Comparator.comparing() method, sort the Person objects in ascending age order. Note that the argument to Comparator.comparing() requires a Function (In, Out) that returns a Comparable (a class that implements Comparable). From that, the comparing() method generates a Comparator that it passes to the sort() method.\n",
    "\n",
    "- Note that as of Java 8, the List interface supports the sort() method directly so there is no need to use the Collections.sort(): i.e. instead of Collections.sort(list, comparatorRef); we now have list.sort(comparatorRef);\n",
    "\n",
    "b) Output the sorted list using the Iterable forEach() method passing in a lambda expression.\n"
   ]
  },
  {
   "cell_type": "code",
   "execution_count": 68,
   "metadata": {},
   "outputs": [
    {
     "name": "stdout",
     "output_type": "stream",
     "text": [
      "Name: Mary, Age: 25, Height: 1.4\n",
      "Name: Zoe, Age: 30, Height: 1.5\n",
      "Name: Mike, Age: 33, Height: 1.8\n",
      "Name: Alan, Age: 34, Height: 1.7\n"
     ]
    }
   ],
   "source": [
    "public class Person {\n",
    "    private String name;\n",
    "    private int age;\n",
    "    private double height;\n",
    "\n",
    "    public Person(String name, int age, double height) {\n",
    "        this.name = name;\n",
    "        this.age = age;\n",
    "        this.height = height;\n",
    "    }\n",
    "\n",
    "    public String getName() {\n",
    "        return name;\n",
    "    }\n",
    "\n",
    "    public int getAge() {\n",
    "        return age;\n",
    "    }\n",
    "\n",
    "    public double getHeight() {\n",
    "        return height;\n",
    "    }\n",
    "}\n",
    "\n",
    "public class Main {\n",
    "    public static void main(String[] args) {\n",
    "        List<Person> listPeople = getPeople();\n",
    "\n",
    "        // Sort the list by age in ascending order\n",
    "        listPeople.sort((person1, person2) -> Integer.compare(person1.getAge(), person2.getAge()));\n",
    "        listPeople.sort(Comparator.comparing(Person::getAge));\n",
    "\n",
    "        // Output the sorted list using lambda expression\n",
    "        listPeople.forEach(person -> System.out.println(\"Name: \" + person.getName() + \", Age: \" + person.getAge() + \", Height: \" + person.getHeight()));\n",
    "    }\n",
    "\n",
    "    private static List<Person> getPeople() {\n",
    "        List<Person> result = new ArrayList<>();\n",
    "\n",
    "        result.add(new Person(\"Mike\", 33, 1.8));\n",
    "        result.add(new Person(\"Mary\", 25, 1.4));\n",
    "        result.add(new Person(\"Alan\", 34, 1.7));\n",
    "        result.add(new Person(\"Zoe\", 30, 1.5));\n",
    "\n",
    "        return result;\n",
    "    }\n",
    "}\n",
    "\n",
    "Main.main(null)"
   ]
  },
  {
   "cell_type": "markdown",
   "metadata": {},
   "source": [
    "# Question 7:\n",
    "In main(), invoke the sortName() method passing down listPeople; in sortName() do the following:\n",
    "\n",
    "a) As in 6a except sort the Person objects in ascending name order.\n",
    "\n",
    "b) Output the sorted list using the Iterable forEach() method passing in a lambda expression."
   ]
  },
  {
   "cell_type": "code",
   "execution_count": 65,
   "metadata": {},
   "outputs": [
    {
     "name": "stdout",
     "output_type": "stream",
     "text": [
      "Name: Alan, Age: 34, Height: 1.7\n",
      "Name: Mary, Age: 25, Height: 1.4\n",
      "Name: Mike, Age: 33, Height: 1.8\n",
      "Name: Zoe, Age: 30, Height: 1.5\n"
     ]
    }
   ],
   "source": [
    "public class Main {\n",
    "    public static void sortName(List<Person> listPeople) {\n",
    "        // Part a: Sort the list by name in ascending order\n",
    "        listPeople.sort((person1, person2) -> person1.getName().compareTo(person2.getName())); //lambda\n",
    "        listPeople.sort(Comparator.comparing(Person::getName)); //method reference\n",
    "\n",
    "        // Part b: Output the sorted list\n",
    "        listPeople.forEach(person -> System.out.println(\"Name: \" + person.getName() + \", Age: \" + person.getAge() + \", Height: \" + person.getHeight()));\n",
    "    }\n",
    "\n",
    "    public static void main(String[] args) {\n",
    "        List<Person> listPeople = getPeople();\n",
    "        \n",
    "        // Invoke the sortName() method passing the list of Person objects\n",
    "        sortName(listPeople);\n",
    "    }\n",
    "\n",
    "    private static List<Person> getPeople() {\n",
    "        List<Person> result = new ArrayList<>();\n",
    "\n",
    "        result.add(new Person(\"Mike\", 33, 1.8));\n",
    "        result.add(new Person(\"Mary\", 25, 1.4));\n",
    "        result.add(new Person(\"Alan\", 34, 1.7));\n",
    "        result.add(new Person(\"Zoe\", 30, 1.5));\n",
    "\n",
    "        return result;\n",
    "    }\n",
    "}\n",
    "\n",
    "Main.main(null)"
   ]
  },
  {
   "cell_type": "markdown",
   "metadata": {},
   "source": [
    "# Question 8:\n",
    "In main(), invoke the sortHeight() method passing down listPeople; in sortHeight() do the following:\n",
    "\n",
    "a) As in 6a except sort the Person objects in ascending height order.\n",
    "\n",
    "b) Output the sorted list using the Iterable forEach() method passing in a lambda expression."
   ]
  },
  {
   "cell_type": "code",
   "execution_count": 69,
   "metadata": {},
   "outputs": [
    {
     "name": "stdout",
     "output_type": "stream",
     "text": [
      "Name: Mary, Age: 25, Height: 1.4\n",
      "Name: Zoe, Age: 30, Height: 1.5\n",
      "Name: Alan, Age: 34, Height: 1.7\n",
      "Name: Mike, Age: 33, Height: 1.8\n"
     ]
    }
   ],
   "source": [
    "public class Main {\n",
    "    public static void sortHeight(List<Person> listPeople) {\n",
    "        // Part a: Sort the list by name in ascending order\n",
    "        listPeople.sort((person1, person2) -> Double.compare(person1.getHeight(), person2.getHeight()));\n",
    "        listPeople.sort(Comparator.comparing(Person::getHeight));\n",
    "\n",
    "        // Part b: Output the sorted list\n",
    "        listPeople.forEach(person -> System.out.println(\"Name: \" + person.getName() + \", Age: \" + person.getAge() + \", Height: \" + person.getHeight()));\n",
    "    }\n",
    "\n",
    "    public static void main(String[] args) {\n",
    "        List<Person> listPeople = getPeople();\n",
    "        \n",
    "        // Invoke the sortHeight() method passing the list of Person objects\n",
    "        sortHeight(listPeople);\n",
    "    }\n",
    "\n",
    "    private static List<Person> getPeople() {\n",
    "        List<Person> result = new ArrayList<>();\n",
    "\n",
    "        result.add(new Person(\"Mike\", 33, 1.8));\n",
    "        result.add(new Person(\"Mary\", 25, 1.4));\n",
    "        result.add(new Person(\"Alan\", 34, 1.7));\n",
    "        result.add(new Person(\"Zoe\", 30, 1.5));\n",
    "\n",
    "        return result;\n",
    "    }\n",
    "}\n",
    "\n",
    "Main.main(null)"
   ]
  }
 ],
 "metadata": {
  "kernelspec": {
   "display_name": "Java",
   "language": "java",
   "name": "java"
  },
  "language_info": {
   "codemirror_mode": "java",
   "file_extension": ".jshell",
   "mimetype": "text/x-java-source",
   "name": "java",
   "pygments_lexer": "java",
   "version": "17.0.10+7-Ubuntu-122.04.1"
  }
 },
 "nbformat": 4,
 "nbformat_minor": 2
}
