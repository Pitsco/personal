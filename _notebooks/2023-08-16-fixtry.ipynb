{
 "cells": [
  {
   "cell_type": "markdown",
   "metadata": {},
   "source": [
    "---\n",
    "- title: JS Output w/ Objects\n",
    "- description: Quick launch into Variables, Functions, Arrays, Classes, Objects.\n",
    "- layout: post\n",
    "- courses: { csa: {week: 2} }\n",
    "- categories: [C4.0]\n",
    "- type: hacks\n",
    "---"
   ]
  }
 ],
 "metadata": {
  "language_info": {
   "name": "python"
  },
  "orig_nbformat": 4
 },
 "nbformat": 4,
 "nbformat_minor": 2
}
