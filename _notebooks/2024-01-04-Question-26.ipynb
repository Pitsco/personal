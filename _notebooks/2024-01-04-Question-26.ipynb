{
 "cells": [
  {
   "cell_type": "markdown",
   "metadata": {},
   "source": [
    "---\n",
    "- title: Question 26 on the 2015 CollegeBoard MCQ\n",
    "- description: Analysis and Hacks on Question 26\n",
    "- layout: post\n",
    "- courses: { csa: {week: 17} }\n",
    "- categories: [C4.0]\n",
    "- type: tangibles\n",
    "---"
   ]
  },
  {
   "cell_type": "markdown",
   "metadata": {},
   "source": [
    "### Question 26:\n",
    "![d](https://raw.githubusercontent.com/Pitsco/personal/main/images/cb-corrections5.png)"
   ]
  },
  {
   "cell_type": "markdown",
   "metadata": {},
   "source": [
    "### What is it requiring?\n",
    "\n",
    "Pretty straight forward, asking what will print out as a result of calling the method `start()`. However, why is this question easy to mess up?\n",
    "\n",
    "Most common mistake: You **MUST** be careful when see which string is brought in. "
   ]
  },
  {
   "cell_type": "markdown",
   "metadata": {},
   "source": [
    "### Step by Step Breakdown Code:"
   ]
  },
  {
   "cell_type": "code",
   "execution_count": 6,
   "metadata": {},
   "outputs": [
    {
     "name": "stdout",
     "output_type": "stream",
     "text": [
      "1 2 3 4 5 6 blackboard"
     ]
    }
   ],
   "source": [
    "public class CBq26 {\n",
    "    public static void changeIt(int[] arr, int val, String word) {\n",
    "        arr = new int[5];\n",
    "        val = 0;\n",
    "        word = word.substring(0, 5);\n",
    "\n",
    "        for (int k = 0; k < arr.length; k++) {\n",
    "            arr[k] = 0;\n",
    "        }\n",
    "    }\n",
    "\n",
    "    public static void start() {\n",
    "        int[] nums = {1, 2, 3, 4, 5};\n",
    "        int value = 6;\n",
    "        String name = \"blackboard\";\n",
    "\n",
    "        changeIt(nums, value, name); \n",
    "\n",
    "        for (int k = 0; k < nums.length; k++) {\n",
    "            System.out.print(nums[k] + \" \");\n",
    "        }\n",
    "        \n",
    "        System.out.print(value + \" \");\n",
    "        System.out.print(name);\n",
    "    }\n",
    "\n",
    "    public static void main(String[] args) {\n",
    "        start();\n",
    "    }\n",
    "}\n",
    "\n",
    "CBq26.main(null);"
   ]
  },
  {
   "cell_type": "markdown",
   "metadata": {},
   "source": [
    "### Step by Step Analysis:\n",
    "1. The code doesn't use any variables that belong to the entire class, only those within the \"start\" method. These variables only exist within that method.\n",
    "\n",
    "2. The \"changeIt\" method doesn't print anything, and it doesn't change the values of the variables passed to it. So, the variables stay the same after \"changeIt\" is called.\n",
    "\n",
    "3. Options a, c, and d can be ruled out because \"name\" isn't modified after being defined in the \"start\" method.\n",
    "\n",
    "4. In the \"start\" method, variables are just printed, not modified. The \"nums\" array, the \"value\" variable, and the \"name\" variable are printed out, but their values aren't changed."
   ]
  },
  {
   "cell_type": "markdown",
   "metadata": {},
   "source": [
    "### What if we changed String `name` to String `word`?"
   ]
  },
  {
   "cell_type": "code",
   "execution_count": 3,
   "metadata": {},
   "outputs": [
    {
     "name": "stdout",
     "output_type": "stream",
     "text": [
      "1 2 3 4 5 6 blackboard"
     ]
    }
   ],
   "source": [
    "public class CBq26 {\n",
    "    public static void changeIt(int[] arr, int val, String word) {\n",
    "        arr = new int[5];\n",
    "        val = 0;\n",
    "        word = word.substring(0, 5);\n",
    "\n",
    "        for (int k = 0; k < arr.length; k++) { //array nums is changed to {0, 0, 0, 0, 0}\n",
    "            arr[k] = 0;\n",
    "        }\n",
    "    }\n",
    "\n",
    "    public static void start() {\n",
    "        int[] nums = {1, 2, 3, 4, 5}; //array nums is passed through the method changeIt()\n",
    "        int value = 6;\n",
    "        String word = \"blackboard\"; //string \"blackboard\" is passed through the method changeIt()\n",
    "\n",
    "        changeIt(nums, value, word);\n",
    "\n",
    "        for (int k = 0; k < nums.length; k++) {\n",
    "            System.out.print(nums[k] + \" \");\n",
    "        }\n",
    "        \n",
    "        System.out.print(value + \" \");\n",
    "        System.out.print(word);\n",
    "    }\n",
    "\n",
    "    public static void main(String[] args) {\n",
    "        start();\n",
    "    }\n",
    "}\n",
    "\n",
    "CBq26.main(null);"
   ]
  },
  {
   "cell_type": "markdown",
   "metadata": {},
   "source": [
    "### Popcorn hack:\n",
    "Why does the word \"blackboard\"  and still not change?"
   ]
  },
  {
   "cell_type": "code",
   "execution_count": 1,
   "metadata": {},
   "outputs": [
    {
     "name": "stdout",
     "output_type": "stream",
     "text": [
      "Word changed locally: black\n",
      "1 2 3 4 5 6 blackboard"
     ]
    }
   ],
   "source": [
    "public class CBq26 {\n",
    "    public static void changeIt(int[] arr, int val, String word) {\n",
    "        arr = new int[5];\n",
    "        val = 0;\n",
    "        word = word.substring(0, 5);\n",
    "        System.out.println(\"Word changed locally: \" + word);\n",
    "\n",
    "        for (int k = 0; k < arr.length; k++) {\n",
    "            arr[k] = 0;\n",
    "        }\n",
    "    }\n",
    "\n",
    "    public static void start() {\n",
    "        int[] nums = {1, 2, 3, 4, 5};\n",
    "        int value = 6;\n",
    "        String name = \"blackboard\";\n",
    "        String word = \"blackboard\"; \n",
    "\n",
    "        changeIt(nums, value, name);\n",
    "\n",
    "        for (int k = 0; k < nums.length; k++) {\n",
    "            System.out.print(nums[k] + \" \");\n",
    "        }\n",
    "        \n",
    "        System.out.print(value + \" \");\n",
    "        System.out.print(name);\n",
    "    }\n",
    "\n",
    "    public static void main(String[] args) {\n",
    "        start();\n",
    "    }\n",
    "}\n",
    "\n",
    "CBq26.main(null);"
   ]
  },
  {
   "cell_type": "markdown",
   "metadata": {},
   "source": [
    "Remember, `string` is immutable, meaning it can't be changed after created. \n",
    "\n",
    "This concept is also applied with the array \"nums\", where although it is changed, it is only changed locally (respective to the method)."
   ]
  },
  {
   "cell_type": "code",
   "execution_count": 27,
   "metadata": {},
   "outputs": [
    {
     "name": "stdout",
     "output_type": "stream",
     "text": [
      "0 0 0 0 0 "
     ]
    }
   ],
   "source": [
    "public class CBq26 {\n",
    "\n",
    "    static int[] arr; //declare arr as a static variable\n",
    "\n",
    "    public static void main(String[] args) {\n",
    "        int[] nums = {1, 2, 3, 4, 5};\n",
    "\n",
    "        arr = new int[nums.length]; //initialize arr with the same length as nums\n",
    "\n",
    "        for (int k = 0; k < arr.length; k++) {\n",
    "            arr[k] = 0;\n",
    "        }\n",
    "\n",
    "        for (int k = 0; k < arr.length; k++) {\n",
    "            System.out.print(arr[k] + \" \"); //print arr array elements individually\n",
    "        }\n",
    "    }\n",
    "}\n",
    "\n",
    "CBq26.main(null);"
   ]
  },
  {
   "cell_type": "markdown",
   "metadata": {},
   "source": [
    "# Hacks\n",
    "1. Finish popcorn hacks\n",
    "2. Create a Java program that defines a Car class with static and instance variables, and implement methods for displaying car information and obtaining the total number of cars, then demonstrate these functionalities in the main method."
   ]
  }
 ],
 "metadata": {
  "kernelspec": {
   "display_name": "Java",
   "language": "java",
   "name": "java"
  },
  "language_info": {
   "codemirror_mode": "java",
   "file_extension": ".jshell",
   "mimetype": "text/x-java-source",
   "name": "java",
   "pygments_lexer": "java",
   "version": "17.0.9+9-Ubuntu-122.04"
  }
 },
 "nbformat": 4,
 "nbformat_minor": 2
}
