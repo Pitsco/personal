{
 "cells": [
  {
   "cell_type": "markdown",
   "metadata": {},
   "source": [
    "---\n",
    "- title: CSA FRQ 3\n",
    "- description: Third CSA FRQ and explanations\n",
    "- layout: post\n",
    "- courses: { csa: {week: 17} }\n",
    "- categories: [C4.0]\n",
    "- type: tangibles\n",
    "- comments: true\n",
    "---"
   ]
  },
  {
   "cell_type": "markdown",
   "metadata": {},
   "source": [
    "# CSA FRQ #3\n",
    "\n",
    "## Directions:\n",
    "### SHOW ALL YOUR WORK. REMEMBER THAT PROGRAM SEGMENTS ARE TO BE WRITTEN IN JAVA.\n",
    "\n",
    "### Notes:\n",
    "- Assume that the classes listed in the Java Quick Reference have been imported where appropriate.\n",
    "- Unless otherwise noted in the question, assume that parameters in method calls are not null and that methods are called only when their preconditions are satisfied.\n",
    "- In writing solutions for each question, you may use any of the accessible methods that are listed in classes defined in that question. Writing significant amounts of code that can be replaced by a call to one of these methods will not receive full credit.\n"
   ]
  },
  {
   "cell_type": "markdown",
   "metadata": {},
   "source": [
    "A two-dimensional array of integers in which most elements are zero is called a sparse array. Because most elements have a value of zero, memory can be saved by storing only the non-zero values along with their row and column indexes. The following complete SparseArrayEntry class is used to represent non-zero elements in a sparse array. A SparseArrayEntry object cannot be modified after it has been constructed.\n",
    "\n",
    "![image](https://raw.githubusercontent.com/Pitsco/personal/main/images/cb2015/cb2015-3ai.png)\n",
    "\n",
    "The SparseArray class represents a sparse array. It contains a list of SparseArrayEntry objects, each of which represents one of the non-zero elements in the array. The entries representing the non-zero elements are stored in the list in no particular order. Each non-zero element is represented by exactly one entry in the list.\n",
    "\n",
    "![image](https://raw.githubusercontent.com/Pitsco/personal/main/images/cb2015/cb2015-3aii.png)\n",
    "\n",
    "The following table shows an example of a two-dimensional sparse array. Empty cells in the table indicate zero values.\n",
    "\n",
    "![image](https://raw.githubusercontent.com/Pitsco/personal/main/images/cb2015/cb2015-3aiii.png)\n",
    "\n",
    "The sample array can be represented by a SparseArray object, sparse, with the following instance variable values. The items in entries are in no particular order; one possible ordering is shown below.\n",
    "\n",
    "![image](https://raw.githubusercontent.com/Pitsco/personal/main/images/cb2015/cb2015-3aiiii.png)\n",
    "\n",
    "(a) Write the SparseArray method getValueAt. The method returns the value of the sparse array element at a given row and column in the sparse array. If the list entries contains an entry with the specified row and column, the value associated with the entry is returned. If there is no entry in entries corresponding to the specified row and column, 0 is returned.\n",
    "In the example above, the call sparse.getValueAt(3, 1) would return -9, and sparse.getValueAt(3, 3) would return 0.\n",
    "\n",
    "Complete method getValueAt below.\n",
    "\n",
    "![image](https://raw.githubusercontent.com/Pitsco/personal/main/images/cb2015/cb2015-3aiiiii.png)"
   ]
  },
  {
   "cell_type": "code",
   "execution_count": 1,
   "metadata": {
    "vscode": {
     "languageId": "java"
    }
   },
   "outputs": [],
   "source": [
    "public int getValueAt(int row, int col) {\n",
    "    for (SparseArrayEntry entry : entries) {\n",
    "        if (entry.getRow() == row && entry.getCol() == col) {\n",
    "            return entry.getValue();\n",
    "        }\n",
    "    }\n",
    "    return 0;\n",
    "}"
   ]
  },
  {
   "cell_type": "markdown",
   "metadata": {},
   "source": [
    "(b) Write the SparseArray method removeColumn. After removing a specified column from a sparsearray:\n",
    "\n",
    "All entries in the list entries with column indexes matching col are removed from the list.\n",
    "\n",
    "All entries in the list entries with column indexes greater than col are replaced by entries with column indexes that are decremented by one (moved one column to the left).\n",
    "\n",
    "The number of columns in the sparse array is adjusted to reflect the column removed.\n",
    "\n",
    "The sample object sparse from the beginning of the question is repeated for your convenience.\n",
    "\n",
    "![image](https://raw.githubusercontent.com/Pitsco/personal/main/images/cb2015/cb2015-3bi.png)\n",
    "\n",
    "The shaded entries in entries, below, correspond to the shaded column above.\n",
    "\n",
    "![image](https://raw.githubusercontent.com/Pitsco/personal/main/images/cb2015/cb2015-3bii.png)\n",
    "\n",
    "When sparse has the state shown above, the call sparse.removeColumn(1) could result insparse having the following values in its instance variables (since entries is in no particular order, itwould be equally valid to reverse the order of its two items). The shaded areas below show the changes.\n",
    "\n",
    "\n",
    "An array labeled entries is shown that is a horizontal row with two boxes. In the first box it reads row 1, column 3, value 4. In the second box it reads row 2, column 0, value 1. The first box is shaded grey.\n",
    "\n",
    "![image](https://raw.githubusercontent.com/Pitsco/personal/main/images/cb2015/cb2015-3biii.png)"
   ]
  },
  {
   "cell_type": "code",
   "execution_count": 9,
   "metadata": {
    "vscode": {
     "languageId": "java"
    }
   },
   "outputs": [
    {
     "name": "stdout",
     "output_type": "stream",
     "text": [
      "test.contains(1): true\n"
     ]
    },
    {
     "name": "stdout",
     "output_type": "stream",
     "text": [
      "test.contains(10): false\n"
     ]
    }
   ],
   "source": [
    "public void removeColumn(int col) {\n",
    "    List<SparseArrayEntry> updatedEntries = new ArrayList<>(); //create a new list to store updated entries\n",
    "\n",
    "    for (SparseArrayEntry entry : entries) {//iterate through the entries to update and remove the specified column\n",
    "        if (entry.getCol() == col) {\n",
    "            continue; // Skip the entry if it belongs to the specified column\n",
    "        } \n",
    "        else if (entry.getCol() > col) {\n",
    "            updatedEntries.add(new SparseArrayEntry(entry.getRow(), entry.getCol() - 1, entry.getValue())); //decrement the column index for entries with columns greater than col\n",
    "        } \n",
    "        else {\n",
    "            updatedEntries.add(entry); //keep entries with columns less than col unchanged\n",
    "        }\n",
    "    }\n",
    "\n",
    "    //update the entries list with the new list\n",
    "    entries = updatedEntries;\n",
    "\n",
    "    //adjust the number of columns in the sparse array\n",
    "    numCols--;\n",
    "}"
   ]
  },
  {
   "cell_type": "markdown",
   "metadata": {},
   "source": [
    "## Runtime:"
   ]
  },
  {
   "cell_type": "code",
   "execution_count": 4,
   "metadata": {
    "vscode": {
     "languageId": "java"
    }
   },
   "outputs": [
    {
     "name": "stdout",
     "output_type": "stream",
     "text": [
      "Initial Sparse Array:\n",
      "0\t0\t0\t0\t0\t\n",
      "0\t5\t0\t0\t4\t\n",
      "1\t0\t0\t0\t0\t\n",
      "0\t-9\t0\t0\t0\t\n",
      "\n",
      "Sparse Array after removing column 1:\n",
      "0\t0\t0\t0\t\n",
      "0\t0\t0\t4\t\n",
      "1\t0\t0\t0\t\n",
      "0\t0\t0\t0\t\n"
     ]
    }
   ],
   "source": [
    "import java.util.ArrayList;\n",
    "import java.util.List;\n",
    "\n",
    "class SparseArrayEntry {\n",
    "    private int row;\n",
    "    private int col;\n",
    "    private int value;\n",
    "\n",
    "    public SparseArrayEntry(int r, int c, int v) {\n",
    "        row = r; //constructor\n",
    "        col = c;\n",
    "        value = v;\n",
    "    }\n",
    "\n",
    "    public int getRow() {\n",
    "        return row;\n",
    "    }\n",
    "\n",
    "    public int getCol() {\n",
    "        return col;\n",
    "    }\n",
    "\n",
    "    public int getValue() {\n",
    "        return value;\n",
    "    }\n",
    "}\n",
    "\n",
    "public class SparseArray {\n",
    "    private int numRows; //instance variables\n",
    "    private int numCols;\n",
    "    private List<SparseArrayEntry> entries;\n",
    "\n",
    "    public SparseArray() {\n",
    "        numRows = 4;\n",
    "        numCols = 5;\n",
    "        entries = new ArrayList<>();\n",
    "    }\n",
    "\n",
    "    public int getNumRows() {\n",
    "        return numRows;\n",
    "    }\n",
    "\n",
    "    public int getNumCols() {\n",
    "        return numCols;\n",
    "    }\n",
    "\n",
    "    public int getValueAt(int row, int col) {\n",
    "        for (SparseArrayEntry entry : entries) {\n",
    "            if (entry.getRow() == row && entry.getCol() == col) {\n",
    "                return entry.getValue();\n",
    "            }\n",
    "        }\n",
    "        return 0;\n",
    "    }\n",
    "\n",
    "    public void removeColumn(int col) {\n",
    "        List<SparseArrayEntry> updatedEntries = new ArrayList<>();\n",
    "\n",
    "        for (SparseArrayEntry entry : entries) {\n",
    "            if (entry.getCol() == col) {\n",
    "                continue;\n",
    "            } else if (entry.getCol() > col) {\n",
    "                updatedEntries.add(new SparseArrayEntry(entry.getRow(), entry.getCol() - 1, entry.getValue()));\n",
    "            } else {\n",
    "                updatedEntries.add(entry);\n",
    "            }\n",
    "        }\n",
    "\n",
    "        entries = updatedEntries;\n",
    "        numCols--;\n",
    "    }\n",
    "\n",
    "    public static void main(String[] args) {\n",
    "        SparseArray sparse = new SparseArray();\n",
    "\n",
    "        sparse.entries.add(new SparseArrayEntry(1, 4, 4));\n",
    "        sparse.entries.add(new SparseArrayEntry(2, 0, 1));\n",
    "        sparse.entries.add(new SparseArrayEntry(3, 1, -9));\n",
    "        sparse.entries.add(new SparseArrayEntry(1, 1, 5));\n",
    "\n",
    "        //displaying initial state\n",
    "        System.out.println(\"Initial Sparse Array:\");\n",
    "        for (int i = 0; i < sparse.getNumRows(); i++) {\n",
    "            for (int j = 0; j < sparse.getNumCols(); j++) {\n",
    "                System.out.print(sparse.getValueAt(i, j) + \"\\t\");\n",
    "            }\n",
    "            System.out.println();\n",
    "        }\n",
    "\n",
    "        //removing column 1\n",
    "        sparse.removeColumn(1);\n",
    "\n",
    "        //displaying the updated state\n",
    "        System.out.println(\"\\nSparse Array after removing column 1:\");\n",
    "        for (int i = 0; i < sparse.getNumRows(); i++) {\n",
    "            for (int j = 0; j < sparse.getNumCols(); j++) {\n",
    "                System.out.print(sparse.getValueAt(i, j) + \"\\t\");\n",
    "            }\n",
    "            System.out.println();\n",
    "        }\n",
    "    }\n",
    "}\n",
    "\n",
    "SparseArray.main(null);"
   ]
  },
  {
   "cell_type": "markdown",
   "metadata": {},
   "source": [
    "## Explanation and Reflection:\n",
    "This was probably the hardest problem for me as I don't have a strong understanding of what sparse arrays are. However, after digging around online and asking chatgpt for some understanding help, I understood that in simple terms, a sparse array in this context is like a grid where most of the grid cells have a value of zero. It only keeps track of the cells that have non-zero values along with their positions (row and column). \n",
    "\n",
    "In the quesiton above, there are two classes involved: SparseArrayEntry for each non-zero value, and SparseArray to represent the whole grid with its dimensions and non-zero entries. The code includes methods to get the value at a specific position and to remove a column efficiently. This way, we can work with large grids more efficiently because we only focus on the parts that have actual values. \n",
    "\n",
    "```cs\n",
    "class SparseArrayEntry {\n",
    "    private int row;\n",
    "    private int col;\n",
    "    private int value;\n",
    "}\n",
    "```\n",
    "The SparseArrayEntry class represents a non-zero element in a sparse array. Each instance of this class holds information about a specific element, including its row index (row), column index (col), and the actual value of the element (value). This class is designed to make it easy to create and retrieve information about individual non-zero entries within a sparse array.\n",
    "\n",
    "```cs\n",
    "public class SparseArray {\n",
    "    private int numRows;\n",
    "    private int numCols;\n",
    "    private List<SparseArrayEntry> entries;\n",
    "\n",
    "    public int getValueAt(int row, int col) {\n",
    "        for (SparseArrayEntry entry : entries) {\n",
    "            if (entry.getRow() == row && entry.getCol() == col) {\n",
    "                return entry.getValue();\n",
    "            }\n",
    "        }\n",
    "        return 0;\n",
    "    }\n",
    "\n",
    "    public void removeColumn(int col) {\n",
    "        List<SparseArrayEntry> updatedEntries = new ArrayList<>();\n",
    "\n",
    "        for (SparseArrayEntry entry : entries) {\n",
    "            if (entry.getCol() == col) {\n",
    "                continue;\n",
    "            } else if (entry.getCol() > col) {\n",
    "                updatedEntries.add(new SparseArrayEntry(entry.getRow(), entry.getCol() - 1, entry.getValue()));\n",
    "            } else {\n",
    "                updatedEntries.add(entry);\n",
    "            }\n",
    "        }\n",
    "\n",
    "        entries = updatedEntries;\n",
    "        numCols--;\n",
    "    }\n",
    "}\n",
    "\n",
    "```\n",
    "The SparseArray class serves as a container for a sparse array. It keeps track of the number of rows (numRows) and columns (numCols) in the array, along with a list of SparseArrayEntry objects (entries) representing the non-zero elements. This class provides methods to retrieve the dimensions of the array and efficiently access values at specific positions using the getValueAt method. The removeColumn method allows for the removal of a specified column, adjusting the entries and column indexes accordingly. \n",
    "\n"
   ]
  }
 ],
 "metadata": {
  "kernelspec": {
   "display_name": "Java",
   "language": "java",
   "name": "java"
  },
  "language_info": {
   "codemirror_mode": "java",
   "file_extension": ".jshell",
   "mimetype": "text/x-java-source",
   "name": "Java",
   "pygments_lexer": "java",
   "version": "17.0.9+9-Ubuntu-122.04"
  }
 },
 "nbformat": 4,
 "nbformat_minor": 2
}
