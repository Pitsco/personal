{
 "cells": [
  {
   "cell_type": "markdown",
   "metadata": {},
   "source": [
    "---\n",
    "# this is YAML front matter\n",
    "- layout: post\n",
    "- title: Week 11 Plan\n",
    "- description: My plans on what I want to do day by day on week 11!\n",
    "- categories: [C4.0]\n",
    "- type: plans\n",
    "- courses: { csa: {week: 11} }\n",
    "---"
   ]
  },
  {
   "cell_type": "markdown",
   "metadata": {},
   "source": [
    "# Thursday (11/2)\n",
    "- Polish Java Hello Hacks\n",
    "- Finish Java Console Game Hacks\n",
    "\n",
    "# Friday (11/3)\n",
    "- Live Review!\n",
    "- Begin to understand week 2 blogs + hacks\n",
    "\n",
    "# Saturday (11/4)\n",
    "- Fix css with arrows\n",
    "- Possibly begin to work on hacks\n",
    "\n",
    "# Sunday (11/5)\n",
    "- Work on hacks\n",
    "\n",
    "# Monday (11/6)\n",
    "- Check up on partner\n",
    "    - Check progress with hacks + ask for any additional help\n",
    "\n",
    "# Tuesday (11/7)\n",
    "- Halloween!\n",
    "\n",
    "# Wednesday (11/8)\n",
    "- Live Review:\n",
    "- Prepare/review for week 3 blogs + hacks\n"
   ]
  }
 ],
 "metadata": {
  "language_info": {
   "name": "python"
  },
  "orig_nbformat": 4
 },
 "nbformat": 4,
 "nbformat_minor": 2
}
