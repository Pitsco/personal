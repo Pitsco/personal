{
 "cells": [
  {
   "cell_type": "markdown",
   "metadata": {},
   "source": [
    "---\n",
    "- title: Events I Participated in\n",
    "- description: Fourth CSA FRQ and explanations\n",
    "- layout: post\n",
    "- courses: { csa: {week: 25} }\n",
    "- categories: [C4.0]\n",
    "- type: tangibles\n",
    "- comments: true\n",
    "---"
   ]
  },
  {
   "cell_type": "markdown",
   "metadata": {},
   "source": [
    "# Night of the Museum (5/29):\n",
    "![image](https://raw.githubusercontent.com/Pitsco/personal/main/images/68747470733a2f2f6d656469612e646973636f72646170702e6e65742f6174746163686d656e74732f3835313636333536373932393038313839382f313234353537303537333137303531313839322f494d475f373239382e6a70673f65783d363635393362376526697.webp)\n",
    "\n",
    "![image2](https://raw.githubusercontent.com/Pitsco/personal/main/images/68747470733a2f2f6d656469612e646973636f72646170702e6e65742f6174746163686d656e74732f3835313636333536373932393038313839382f313234353537303639343837323433363734362f494d475f373238392e6a70673f65783d363635393362396226697.webp)\n",
    "\n",
    "![image3](https://raw.githubusercontent.com/Pitsco/personal/main/images/68747470733a2f2f6d656469612e646973636f72646170702e6e65742f6174746163686d656e74732f3835313636333536373932393038313839382f313234353537303730323838333535333338312f494d475f373238312e6a70673f65783d363635393362396426697.webp)\n",
    "\n",
    "![image3](https://raw.githubusercontent.com/Pitsco/personal/main/images/IMG_7295.jpg)\n",
    "\n",
    "# Night of the Museum (2/16):\n",
    "### Reflection on glows/grows from your demo/presentations:\n",
    "The enthusiasm from the participants was evident as they eagerly explored how our predictions played out, expressing genuine joy in both victory and defeat. One of the strengths of our team was the comprehensive understanding each member possessed regarding the project, allowing us to articulate the intricacies to outsiders in an accessible manner. However, as we reflect on our demonstration, we recognize an area for improvement. There were instances where visitors to our table received varying levels of exposure to our project. Some were shown solely the draft, while others, who lingered longer, were introduced to both the drafting page and the individual statistics page. For future presentations, we aim to ensure that every visitor has a consistent and comprehensive experience with our project. This will be a focal point for enhancement in preparation for the upcoming Night at the Museum event next trimester.\n",
    "\n",
    "## Blog / article on you and team\n",
    "### Reflection on glows/grows from your demo/presentations\n",
    "![image](https://github.com/CSA-trimester-2/nba-analysis-final/assets/89278326/d5c104ee-ed22-4583-8dfb-3a66b6781bc8)\n",
    "\n",
    "Reflecting on our project presentation, it seems that despite the numerous visitors who showed interest by taking a closer look, we may have missed an opportunity to truly engage with them. While they observed the demo of our project, there was a noticeable lack of interactive participation, and this realization prompts a reevaluation of our approach. It's plausible that the appeal of basketball, as a sport, didn't resonate as strongly with some of our visitors compared to other interests. In hindsight, a potential oversight was not actively encouraging more individuals to experience our project firsthand, particularly through trying out the distinctive features like our fantasy and individual pages. To foster a more immersive understanding and recieve valuable feedback, a more hands-on approach, where visitors actively engage with the features, could have been implemented. This reflection underscores the importance of not only showcasing but also facilitating direct interaction to elicit a more comprehensive and diverse range of perspectives on our project.\n",
    "\n",
    "### Visuals or pics of team and people you talked:\n",
    "![image](https://github.com/CSA-trimester-2/nba-analysis-final/assets/89278326/34442f5f-1b07-448c-859d-e99ba8467f7f)\n",
    "\n",
    "Talked to two different teams, one is talked about more below. Above is the sign language recognition.\n",
    "\n",
    "## Blog on event:\n",
    "### Something you saw in CompSci that impressed:\n",
    "![image](https://github.com/CSA-trimester-2/nba-analysis-final/assets/89278326/df88548d-5926-4f86-8392-47df44e033fb)\n",
    "Krishiv's team project, featuring a football chat that tracks down football teams, presents a unique and interesting take on the intersection of technology and sports. The concept of integrating a chat system with functionality to follow football teams adds a layer of practicality and real-world application to the project. This approach not only caters to sports enthusiasts but also showcases the versatility of computer science in creating tools that enhance user engagement in the realm of sports. In comparing this project with your basketball draft, there are some notable similarities and differences. Both projects fall within the sports domain, using technology to provide interactive experiences for users. While your basketball draft focuses on predicting outcomes and engaging users in the drafting process, Krishiv's team project centers around facilitating communication and information tracking related to football teams.\n",
    "\n",
    "### Something you saw outside of CompSci that you liked:\n",
    "![image](https://github.com/CSA-trimester-2/nba-analysis-final/assets/89278326/f1d765c1-e9e3-46e9-af0e-fc376885e9df)\n",
    "\n",
    "This trimester's art exhibits a noticeable increase in effort, with a prime example being a unique fish drawing that stands out from typical drawings. The artist's difference from the ordinary by drawing fish that are layered over each other rather than drawn on a flat surface demonstrates a commendable level of creativity. The genuine look of the artwork implies a strong attention to detail, suggesting that the artist invested time in studying fish anatomy, textures, and behavior. This dedication to authenticity, combined with the sophisticated technique of layering, highlights a higher level of technical proficiency. The decision to deviate from traditional approaches also indicates a personal expression and style, making the artwork more compelling and thought-provoking. The use of innovative concepts, experimentation with mediums or tools, and potential incorporation of narrative elements contribute to the overall freshness and uniqueness of the artwork. This improvement may be a result of feedback and a commitment to growth, reflecting the artist's evolving skills and creative journey.\n",
    "\n",
    "\n",
    "# Dance Performance Regards to Sorting Algorithms\n",
    "\n",
    "### First Performance - Pool Noodles:\n",
    "In the first performance, I loved the rapping and thought it was really creative. The costumes of this group were also really good and well put together. The narrator was also super engaging and very clearly explained all of their performance.\n",
    "\n",
    "### Second Performance - Our Performance:\n",
    "My group performed the second one. I thought my group's performance was also very engaging and fun. We also did two different sorts so I thought we did a good job for managing to do both of the sorts.\n",
    "\n",
    "### Third Performance - Bubble Sort:\n",
    "I thought this theme of the bacheleorte was very intersting and creative. I loved the idea of having two people paired up and thought it was really creative. Also I thought it was funny how one group member carried the other.\n",
    "\n",
    "### Fourth - Murder Mystery:\n",
    "I loved how this performance was like a play almost and I thought it was really creative. They had very creative lines I wish we couldn've modeled their performance a little more with more active lines.\n",
    "| 1 | 2 |\n",
    "| --- | --- |\n",
    "| [Practice Video](https://www.youtube.com/watch?v=FyDWarOKnFU), [Specific Practice #1](https://drive.google.com/file/d/1TOLTBjX-MJNuXB9ZglD9uXXjq7wbXTfb/view) | [Performance Video](https://www.youtube.com/watch?v=-2_5y01plFk)|"
   ]
  }
 ],
 "metadata": {
  "language_info": {
   "name": "python"
  }
 },
 "nbformat": 4,
 "nbformat_minor": 2
}
