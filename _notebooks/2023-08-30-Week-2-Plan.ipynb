{
 "cells": [
  {
   "cell_type": "markdown",
   "metadata": {},
   "source": [
    "---\n",
    "# this is YAML front matter\n",
    "- layout: post\n",
    "- title: Week 2 Plan\n",
    "- description: My plans on what I want to do day by day on week 2!\n",
    "- categories: [C4.0]\n",
    "- type: plans\n",
    "- courses: { csa: {week: 2} }\n",
    "---"
   ]
  },
  {
   "cell_type": "markdown",
   "metadata": {},
   "source": [
    "# Thursday (8/31)\n",
    "- Polish Java Hello Hacks\n",
    "- Finish Java Console Game Hacks\n",
    "\n",
    "# Friday (9/1)\n",
    "- Live Review!\n",
    "- Begin to understand week 2 blogs + hacks\n",
    "\n",
    "# Saturday (9/2)\n",
    "- Fix css with arrows\n",
    "- Possibly begin to work on hacks\n",
    "\n",
    "# Sunday (9/3)\n",
    "- Work on hacks\n",
    "\n",
    "# Monday (9/4)\n",
    "- Check up on partner\n",
    "    - Check progress with hacks + ask for any additional help\n",
    "\n",
    "# Tuesday (9/5)\n",
    "- Finish hacks\n",
    "\n",
    "# Wednesday (9/6)\n",
    "- Live Review:\n",
    "- Prepare/review for week 3 blogs + hacks\n"
   ]
  }
 ],
 "metadata": {
  "language_info": {
   "name": "python"
  },
  "orig_nbformat": 4
 },
 "nbformat": 4,
 "nbformat_minor": 2
}
