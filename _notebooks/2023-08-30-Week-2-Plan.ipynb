{
 "cells": [
  {
   "cell_type": "markdown",
   "metadata": {},
   "source": [
    "---\n",
    "# this is YAML front matter\n",
    "- layout: post\n",
    "- title: Week 2 Plan\n",
    "- description: My plans on what I want to do day by day on week 2!\n",
    "- categories: [C4.0]\n",
    "- type: plans\n",
    "- courses: { csa: {week: 2} }\n",
    "---"
   ]
  },
  {
   "cell_type": "markdown",
   "metadata": {},
   "source": [
    "# Thursday (8/31)\n",
    "- Fix css with arrows\n",
    "# Friday (9/1)\n",
    "\n",
    "# Saturday (9/2)\n",
    "\n",
    "# Sunday (9/3)\n",
    "\n",
    "# Monday (9/4)\n",
    "\n",
    "# Tuesday (9/5)\n",
    "\n",
    "# Wednesday (9/6)\n",
    "- Live Review:\n",
    "- Prepare:\n"
   ]
  }
 ],
 "metadata": {
  "language_info": {
   "name": "python"
  },
  "orig_nbformat": 4
 },
 "nbformat": 4,
 "nbformat_minor": 2
}
