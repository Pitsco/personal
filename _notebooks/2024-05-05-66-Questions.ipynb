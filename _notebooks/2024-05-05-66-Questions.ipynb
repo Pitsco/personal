{
 "cells": [
  {
   "cell_type": "markdown",
   "metadata": {},
   "source": [
    "---\n",
    "- title: 66 Questions\n",
    "- description: Practicing the 66 mc questions on collegeboard\n",
    "- layout: post\n",
    "- courses: { csa: {week: 25} }\n",
    "- categories: [C4.0]\n",
    "- type: tangibles\n",
    "- comments: true\n",
    "---"
   ]
  },
  {
   "cell_type": "markdown",
   "metadata": {},
   "source": [
    "# Question 17:\n"
   ]
  },
  {
   "cell_type": "code",
   "execution_count": 1,
   "metadata": {},
   "outputs": [
    {
     "name": "stdout",
     "output_type": "stream",
     "text": [
      "5\n"
     ]
    }
   ],
   "source": [
    "String str = \"a black cat sat on a table\";\n",
    "\n",
    "int counter = 0;\n",
    "\n",
    "for (int i = 0; i < str.length() - 1; i++) {\n",
    "\n",
    "    if (str.substring(i, i + 1).equals(\"a\") && !str.substring(i + 1, i + 2).equals(\"b\")){\n",
    "        counter++;\n",
    "    }\n",
    "}\n",
    "\n",
    "System.out.println(counter);"
   ]
  },
  {
   "cell_type": "code",
   "execution_count": 10,
   "metadata": {},
   "outputs": [
    {
     "name": "stdout",
     "output_type": "stream",
     "text": [
      "3\n"
     ]
    }
   ],
   "source": [
    "int[] nums = {7, 10, 10, 15, 15, 15, 15, 10, 10, 10, 15, 10, 10};\n",
    "\n",
    "public int findLongest(int target)\n",
    "{\n",
    "    int lenCount = 0;\n",
    "    int maxLen = 0;\n",
    "\n",
    "    for (int val : nums){\n",
    "        if (val == target) {\n",
    "            lenCount++;\n",
    "        }\n",
    "        else {\n",
    "            if (lenCount > maxLen){\n",
    "            maxLen = lenCount;\n",
    "            }\n",
    "            lenCount = 0;\n",
    "        }\n",
    "        }\n",
    "    if (lenCount > maxLen){\n",
    "        maxLen = lenCount;\n",
    "    }\n",
    "    return maxLen;\n",
    "}\n",
    "\n",
    "System.out.println(findLongest(10));"
   ]
  },
  {
   "cell_type": "code",
   "execution_count": 14,
   "metadata": {},
   "outputs": [
    {
     "name": "stdout",
     "output_type": "stream",
     "text": [
      "I do not fear computers. \n"
     ]
    },
    {
     "name": "stdout",
     "output_type": "stream",
     "text": [
      "I fear the lack of them.\n",
      "I fear the lack of them.\n",
      "--Isaac Asimov\n"
     ]
    }
   ],
   "source": [
    "System.out.print(\"I do not fear computers. \");   // Line 1\n",
    "\n",
    "System.out.println(\"I fear the lack of them.\");\n",
    "System.out.println(\"I fear the lack of them.\");   // Line 2\n",
    "\n",
    "System.out.println(\"--Isaac Asimov\");            // Line 3"
   ]
  },
  {
   "cell_type": "code",
   "execution_count": 16,
   "metadata": {},
   "outputs": [
    {
     "name": "stdout",
     "output_type": "stream",
     "text": [
      "*"
     ]
    },
    {
     "name": "stdout",
     "output_type": "stream",
     "text": [
      "*\n",
      "*\n"
     ]
    }
   ],
   "source": [
    "System.out.print(\"*\");     // Line 1\n",
    "System.out.print(\"*\");   // Line 2\n",
    "\n",
    "System.out.println();    // Line 3\n",
    "\n",
    "System.out.println(\"*\"); // Line 4"
   ]
  },
  {
   "cell_type": "code",
   "execution_count": 20,
   "metadata": {},
   "outputs": [
    {
     "name": "stdout",
     "output_type": "stream",
     "text": [
      "OneTwo\n",
      "ThreeFour"
     ]
    }
   ],
   "source": [
    "System.out.print(\"One\");   // Line 1\n",
    "\n",
    "System.out.println(\"Two\");   // Line 2\n",
    "\n",
    "System.out.print(\"Three\"); // Line 3\n",
    "\n",
    "System.out.print(\"Four\");  // Line 4"
   ]
  }
 ],
 "metadata": {
  "kernelspec": {
   "display_name": "Java",
   "language": "java",
   "name": "java"
  },
  "language_info": {
   "codemirror_mode": "java",
   "file_extension": ".jshell",
   "mimetype": "text/x-java-source",
   "name": "java",
   "pygments_lexer": "java",
   "version": "17.0.10+7-Ubuntu-122.04.1"
  }
 },
 "nbformat": 4,
 "nbformat_minor": 2
}
