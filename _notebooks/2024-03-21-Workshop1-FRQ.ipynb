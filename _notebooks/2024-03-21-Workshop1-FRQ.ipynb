{
 "cells": [
  {
   "cell_type": "markdown",
   "metadata": {},
   "source": [
    "---\n",
    "- title: Workshop 1 FRQ\n",
    "- description: 2 FRQs\n",
    "- layout: post\n",
    "- courses: { csa: {week: 25} }\n",
    "- categories: [C4.0]\n",
    "- type: tangibles\n",
    "- comments: true\n",
    "---"
   ]
  },
  {
   "cell_type": "markdown",
   "metadata": {},
   "source": [
    "## Question 4: Math Class (Unit 2)\n",
    "Situation: You are developing a scientific calculator application where users need to perform various mathematical operations.\n",
    "\n",
    "### (a) Discuss the purpose and utility of the Math class in Java programming. Provide examples of at least three methods provided by the Math class and explain their usage.\n",
    "\n",
    "In Java programming, the Math class is a part of the Java API and is included in the `java.lang` package by default. It provides a set of methods for performing common mathematical operations. \n",
    "\n",
    "`Math.abs(double a)`:\n",
    "```cs\n",
    "double number = -10.5;\n",
    "double absValue = Math.abs(number); // absValue will be 10.5\n",
    "```\n",
    "This method returns the absolute value of a given number. The absolute value of a number is its distance from zero on the number line, disregarding its sign.\n",
    "\n",
    "`Math.sqrt(double a)`:\n",
    "``` cs\n",
    "double number = 25;\n",
    "double sqrtValue = Math.sqrt(number); // sqrtValue will be 5.0\n",
    "```\n",
    "This method returns the square root of a given non-negative number. It calculates the non-negative square root of the argument.\n",
    "\n",
    "`Math.pow(double base, double exponent)`:\n",
    "``` cs\n",
    "double base = 2;\n",
    "double exponent = 3;\n",
    "double result = Math.pow(base, exponent); // result will be 8.0 (2^3)\n",
    "```\n",
    "This method returns the value of the first argument raised to the power of the second argument. It's useful for performing exponentiation.\n",
    "\n",
    "These are just a few examples of methods provided by the Math class. There are many more methods available in the class, including trigonometric functions like sin, cos, tan, logarithmic functions like log, log10, rounding functions like ceil, floor, and more. The Math class simplifies mathematical operations in Java programs by providing these ready-to-use methods, thereby saving developers from having to implement them from scratch.\n",
    "\n",
    "### (b) You need to implement a method calculateSquareRoot that takes a double number as input and returns its square root using the Math class. Write the method signature and the method implementation. Include comments to explain your code.\n",
    "\n",
    "### Code:\n"
   ]
  },
  {
   "cell_type": "code",
   "execution_count": 3,
   "metadata": {},
   "outputs": [
    {
     "name": "stdout",
     "output_type": "stream",
     "text": [
      "Square root of 16.0 is 4.0\n"
     ]
    }
   ],
   "source": [
    "public class SquareRootCalculator {\n",
    "    public static double calculateSquareRoot(double number) {//method to calculate square root using Math class\n",
    "        double squareRoot = Math.sqrt(number);//using Math.sqrt() method to calculate square root\n",
    "        return squareRoot;\n",
    "    }\n",
    "\n",
    "    public static void main(String[] args) {\n",
    "        double number = 16.0; //example with 16.0 as a double number\n",
    "        double result = calculateSquareRoot(number); //putting the number through the method of \"calculateSquareRoot\"\n",
    "        System.out.println(\"Square root of \" + number + \" is \" + result);\n",
    "    }\n",
    "}\n",
    "\n",
    "SquareRootCalculator.main(null);"
   ]
  },
  {
   "cell_type": "markdown",
   "metadata": {},
   "source": [
    "## Question 5: If, While, Else (Unit 3-4)\n",
    "Situation: You are developing a simple grading system where you need to determine if a given score is passing or failing.\n",
    "\n",
    "### (a) Explain the roles and usage of the if statement, while loop, and else statement in Java programming. Provide examples illustrating each.\n",
    "\n",
    "**If Statement:**\n",
    "The if statement in Java is used to make decisions based on certain conditions. It allows you to execute a block of code only if a specified condition is true. Down below is the basic skeleton of an if statement.\n",
    "```cs\n",
    "if (condition) {\n",
    "    // code to be executed if condition is true\n",
    "}\n",
    "```\n",
    "\n",
    "This is a basic example of how a if statement should work.\n",
    "```cs\n",
    "int x = 10;\n",
    "if (x > 5) {\n",
    "    System.out.println(\"x is greater than 5\");\n",
    "}\n",
    "```\n",
    "The if statement should print \"x is greater than 5\".\n",
    "\n",
    "**While loop:**\n",
    "The while loop is used to repeatedly execute a block of code as long as a specified condition is true. It's typically used when you don't know in advance how many times the code should be executed.\n",
    "\n",
    "```cs\n",
    "while (condition) {\n",
    "    // code to be executed\n",
    "}\n",
    "```\n",
    "\n",
    "```cs\n",
    "int i = 0;\n",
    "while (i < 5) {\n",
    "    System.out.println(\"Value of i: \" + i);\n",
    "    i++;\n",
    "}\n",
    "```\n",
    "The while loop should print \"Value of i:\" 5 times (0-4 index, which is 5 numbers) with numbers 0-4 following it, respectively. \n",
    "\n",
    "**Else Statement**:\n",
    "The else statement follows an if statement and executes a block of code if the if condition is false. It's used to handle cases where the condition specified in the if statement evaluates to false.\n",
    "\n",
    "Skeleton:\n",
    "```cs\n",
    "if (condition) {\n",
    "    // code to be executed if condition is true\n",
    "} \n",
    "    else {\n",
    "        // code to be executed if condition is false\n",
    "    }\n",
    "```\n",
    "\n",
    "Example:\n",
    "```cs\n",
    "int y = 5;\n",
    "if (y > 10) {\n",
    "    System.out.println(\"y is greater than 10\");\n",
    "} \n",
    "    else {\n",
    "        System.out.println(\"y is not greater than 10\");\n",
    "    }\n",
    "```\n",
    "Else statement should print out \"y is not greater than 10\" because the if statement is false. Therefore, the code runs through the else statement and it's true (therefore the statement is printed out).\n",
    "\n",
    "### (b) You need to implement a method printGradeStatus that takes an integer score as input and prints “Pass” if the score is greater than or equal to 60, and “Fail” otherwise. Write the method signature and the method implementation. Include comments to explain your code.\n",
    "\n",
    "### Code:"
   ]
  },
  {
   "cell_type": "code",
   "execution_count": 5,
   "metadata": {},
   "outputs": [
    {
     "name": "stdout",
     "output_type": "stream",
     "text": [
      "Pass\n",
      "Fail\n"
     ]
    }
   ],
   "source": [
    "public class GradeChecker {\n",
    "    // Method to print \"Pass\" if score is >= 60, otherwise \"Fail\"\n",
    "    public static void printGradeStatus(int score) {\n",
    "        // Check if the score is greater than or equal to 60\n",
    "        if (score >= 60) {\n",
    "            //if score is greater/equal to 60, it should print \"Pass\"\n",
    "            System.out.println(\"Pass\");\n",
    "        } \n",
    "            else {\n",
    "                // If score is less than 60, it should print \"Fail\"\n",
    "                System.out.println(\"Fail\");\n",
    "            }\n",
    "    }\n",
    "\n",
    "    public static void main(String[] args) {\n",
    "        printGradeStatus(75);  // Should print \"Pass\"\n",
    "        printGradeStatus(45);  // Should print \"Fail\"\n",
    "    }\n",
    "}\n",
    "\n",
    "GradeChecker.main(null);"
   ]
  }
 ],
 "metadata": {
  "kernelspec": {
   "display_name": "Java",
   "language": "java",
   "name": "java"
  },
  "language_info": {
   "codemirror_mode": "java",
   "file_extension": ".jshell",
   "mimetype": "text/x-java-source",
   "name": "java",
   "pygments_lexer": "java",
   "version": "17.0.10+7-Ubuntu-122.04.1"
  }
 },
 "nbformat": 4,
 "nbformat_minor": 2
}
