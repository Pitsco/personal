{
 "cells": [
  {
   "cell_type": "markdown",
   "metadata": {},
   "source": [
    "---\n",
    "- title: Unit 9.4 Inheritance - Teacher notebook\n",
    "- description: Lesson on the College Board Unit 9.4 Inheritance, Super Class.\n",
    "- layout: post\n",
    "- courses: { csa: {week: 8} }\n",
    "- categories: [C4.0]\n",
    "- type: tangibles\n",
    "---\n"
   ]
  },
  {
   "cell_type": "markdown",
   "metadata": {},
   "source": [
    "# 9.4 Super Keyword"
   ]
  },
  {
   "cell_type": "markdown",
   "metadata": {},
   "source": [
    "## Using the super keyword to call a superclass's method."
   ]
  },
  {
   "cell_type": "code",
   "execution_count": 18,
   "metadata": {},
   "outputs": [
    {
     "name": "stdout",
     "output_type": "stream",
     "text": [
      "BalletDancer class: \n",
      "Honing my craft!\n",
      "Leaping...\n",
      "Spinning...\n"
     ]
    }
   ],
   "source": [
    "public class Performer { //superclass\n",
    "    public void practice(){\n",
    "        System.out.println(\"Honing my craft!\");\n",
    "    }\n",
    "    public void perform(){\n",
    "        System.out.println(\"Performing for an audience!\");\n",
    "    }\n",
    "}\n",
    "\n",
    "public class Dancer extends Performer { //subclass\n",
    "    public void perform(){\n",
    "        System.out.println(\"Dancing on the stage!\");\n",
    "    }\n",
    "}\n",
    "\n",
    "public class BalletDancer extends Dancer { //subclass\n",
    "    public void jete(){\n",
    "        System.out.println(\"Leaping...\");\n",
    "    }\n",
    "    public void pirouette(){\n",
    "        System.out.println(\"Spinning...\");\n",
    "    }\n",
    "    public void perform(){\n",
    "        jete();\n",
    "        pirouette();\n",
    "    }\n",
    "        public static void main(String[] args){\n",
    "            BalletDancer derrick = new BalletDancer();\n",
    "            derrick.practice();\n",
    "            derrick.perform();\n",
    "        }\n",
    "}\n",
    "\n",
    "System.out.println(\"BalletDancer class: \");\n",
    "BalletDancer.main(null);"
   ]
  },
  {
   "cell_type": "code",
   "execution_count": null,
   "metadata": {},
   "outputs": [],
   "source": [
    "public class Performer { //superclass of Dancer class\n",
    "    public void practice(){\n",
    "        System.out.println(\"Honing my craft!\");\n",
    "    }\n",
    "    public void perform(){\n",
    "        System.out.println(\"Performing for an audience!\");\n",
    "    }\n",
    "}\n",
    "\n",
    "public class Dancer extends Performer { //superclass of BalletDancer class\n",
    "    public void perform(){\n",
    "        System.out.println(\"Dancing on the stage!\");\n",
    "    }\n",
    "}\n",
    "\n",
    "public class BalletDancer extends Dancer {\n",
    "    public void jete(){\n",
    "        System.out.println(\"Leaping...\");\n",
    "    }\n",
    "    public void pirouette(){\n",
    "        System.out.println(\"Spinning...\");\n",
    "    }\n",
    "    public void perform(){ \n",
    "        perform();//Why is this wrong?\n",
    "        jete();\n",
    "        pirouette();\n",
    "    }\n",
    "        public static void main(String[] args){\n",
    "            BalletDancer derrick = new BalletDancer();\n",
    "            derrick.practice();\n",
    "            derrick.perform();\n",
    "        }\n",
    "}\n",
    "\n",
    "System.out.println(\"BalletDancer class: \");\n",
    "BalletDancer.main(null);"
   ]
  },
  {
   "cell_type": "markdown",
   "metadata": {},
   "source": [
    "### Note:\n",
    "Super keyword can be placed in any order as it prints out chronologically. \n",
    "\n",
    "```\n",
    "    public void perform(){ \n",
    "        super.perform();\n",
    "        jete();\n",
    "        pirouette();\n",
    "    }\n",
    "```\n",
    "\n",
    "will print out...\n",
    "\n",
    "``` \n",
    "Honing my craft!\n",
    "Dancing on the stage!\n",
    "Leaping...\n",
    "Spinning...\n",
    "```\n",
    "\n",
    "### However, if we were to write:\n",
    "\n",
    "```\n",
    "    public void perform(){ \n",
    "        jete();\n",
    "        pirouette();\n",
    "        super.perform();\n",
    "    }\n",
    "```\n",
    "\n",
    "It will print out...\n",
    "\n",
    "```\n",
    "Honing my craft!\n",
    "Leaping...\n",
    "Spinning...\n",
    "Dancing on the stage!\n",
    "```"
   ]
  },
  {
   "cell_type": "markdown",
   "metadata": {},
   "source": [
    "## What if we use 2 super keywords?"
   ]
  },
  {
   "cell_type": "code",
   "execution_count": 32,
   "metadata": {},
   "outputs": [
    {
     "name": "stdout",
     "output_type": "stream",
     "text": [
      "BalletDancer class: \n",
      "Honing my craft!\n",
      "Performing for an audience!\n",
      "Dancing on the stage!\n",
      "Leaping...\n",
      "Spinning...\n"
     ]
    }
   ],
   "source": [
    "public class Performer { //superclass\n",
    "    public void practice(){\n",
    "        System.out.println(\"Honing my craft!\");\n",
    "    }\n",
    "    public void perform(){\n",
    "        System.out.println(\"Performing for an audience!\");\n",
    "    }\n",
    "}\n",
    "\n",
    "public class Dancer extends Performer { //subclass\n",
    "    public void perform(){\n",
    "        super.perform();\n",
    "        System.out.println(\"Dancing on the stage!\");\n",
    "    }\n",
    "}\n",
    "\n",
    "public class BalletDancer extends Dancer { //subclass\n",
    "    public void jete(){\n",
    "        System.out.println(\"Leaping...\");\n",
    "    }\n",
    "    public void pirouette(){\n",
    "        System.out.println(\"Spinning...\");\n",
    "    }\n",
    "    public void perform(){\n",
    "        super.perform();\n",
    "        jete();\n",
    "        pirouette();\n",
    "    }\n",
    "        public static void main(String[] args){\n",
    "            BalletDancer derrick = new BalletDancer();\n",
    "            derrick.practice();\n",
    "            derrick.perform();\n",
    "        }\n",
    "}\n",
    "\n",
    "System.out.println(\"BalletDancer class: \");\n",
    "BalletDancer.main(null);"
   ]
  },
  {
   "cell_type": "markdown",
   "metadata": {},
   "source": [
    "## Popcorn Hack\n",
    "Create a subclass and a superclass by calling the methods from the superclass from the subclass using the keyword super.\n"
   ]
  },
  {
   "cell_type": "code",
   "execution_count": null,
   "metadata": {},
   "outputs": [],
   "source": []
  }
 ],
 "metadata": {
  "kernelspec": {
   "display_name": "Java",
   "language": "java",
   "name": "java"
  },
  "language_info": {
   "codemirror_mode": "java",
   "file_extension": ".jshell",
   "mimetype": "text/x-java-source",
   "name": "java",
   "pygments_lexer": "java",
   "version": "11.0.20.1+1-post-Ubuntu-0ubuntu122.04"
  }
 },
 "nbformat": 4,
 "nbformat_minor": 2
}
