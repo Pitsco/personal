{
 "cells": [
  {
   "cell_type": "markdown",
   "metadata": {},
   "source": [
    "---\n",
    "- title: Unit 9.4 Inheritance - Teacher notebook\n",
    "- description: Lesson on the College Board Unit 9.4 Inheritance, Super Class.\n",
    "- layout: post\n",
    "- courses: { csa: {week: 8} }\n",
    "- categories: [C4.0]\n",
    "- type: tangibles\n",
    "---\n"
   ]
  },
  {
   "cell_type": "markdown",
   "metadata": {},
   "source": [
    "# 9.4 Super Keyword"
   ]
  },
  {
   "cell_type": "markdown",
   "metadata": {},
   "source": []
  },
  {
   "cell_type": "code",
   "execution_count": 2,
   "metadata": {
    "vscode": {
     "languageId": "java"
    }
   },
   "outputs": [
    {
     "name": "stdout",
     "output_type": "stream",
     "text": [
      "Buddy is eating.\n",
      "Buddy is sleeping.\n",
      "Buddy is barking.\n"
     ]
    }
   ],
   "source": [
    "// Superclass (Parent Class)\n",
    "class Animal {\n",
    "    String name;\n",
    "\n",
    "    public Animal(String name) {\n",
    "        this.name = name;\n",
    "    }\n",
    "\n",
    "    public void eat() {\n",
    "        System.out.println(name + \" is eating.\");\n",
    "    }\n",
    "\n",
    "    public void sleep() {\n",
    "        System.out.println(name + \" is sleeping.\");\n",
    "    }\n",
    "}\n",
    "\n",
    "// Subclass (Child Class)\n",
    "class Dog extends Animal {\n",
    "    public Dog(String name) {\n",
    "        super(name); // Call the superclass constructor\n",
    "\n",
    "    public void act() {\n",
    "        System.out.println(\"Moving\");\n",
    "    }\n",
    "}\n",
    "\n",
    "    public void bark() {\n",
    "        System.out.println(name + \" is barking.\");\n",
    "    }\n",
    "}\n",
    "\n",
    "public class Main {\n",
    "    public static void main(String[] args) {\n",
    "        Dog myDog = new Dog(\"Buddy\");\n",
    "        myDog.eat();   // Inherited from Animal\n",
    "        myDog.sleep(); // Inherited from Animal\n",
    "        myDog.bark();  // Defined in Dog subclass\n",
    "    }\n",
    "}\n",
    "\n",
    "Main.main(null);"
   ]
  }
 ],
 "metadata": {
  "kernelspec": {
   "display_name": "Java",
   "language": "java",
   "name": "java"
  },
  "language_info": {
   "codemirror_mode": "java",
   "file_extension": ".jshell",
   "mimetype": "text/x-java-source",
   "name": "Java",
   "pygments_lexer": "java",
   "version": "11.0.20.1+1-post-Ubuntu-0ubuntu122.04"
  }
 },
 "nbformat": 4,
 "nbformat_minor": 2
}
