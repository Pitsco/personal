{
 "cells": [
  {
   "cell_type": "markdown",
   "metadata": {},
   "source": [
    "---\n",
    "- title: 66 Questions\n",
    "- description: Practicing the 66 mc questions on collegeboard\n",
    "- layout: post\n",
    "- courses: { csa: {week: 25} }\n",
    "- categories: [C4.0]\n",
    "- type: tangibles\n",
    "- comments: true\n",
    "---"
   ]
  },
  {
   "cell_type": "markdown",
   "metadata": {},
   "source": [
    "# 2019 #1 Practice AP Exam:"
   ]
  },
  {
   "cell_type": "code",
   "execution_count": 6,
   "metadata": {},
   "outputs": [
    {
     "name": "stdout",
     "output_type": "stream",
     "text": [
      "13\n"
     ]
    }
   ],
   "source": [
    "public static boolean isLeapYear(int year){\n",
    "    if (year % 4 == 0){\n",
    "        return true;\n",
    "    }\n",
    "    return false;\n",
    "}\n",
    "\n",
    "public static int numberOfLeapYears(int year1, int year2){\n",
    "    int totalYears = year2 - year1;\n",
    "    int numberOfLeapYear = 0;\n",
    "    for (int i = 0; i < totalYears; i++){\n",
    "        if (isLeapYear(i) == true){\n",
    "        numberOfLeapYear++;\n",
    "        }\n",
    "    }\n",
    "    return numberOfLeapYear;\n",
    "}\n",
    "\n",
    "System.out.println(numberOfLeapYears(2000, 2050))"
   ]
  },
  {
   "cell_type": "code",
   "execution_count": 7,
   "metadata": {},
   "outputs": [],
   "source": [
    "public static int dayOfWeek(int month, int day, int year){\n",
    "    int dayOfTheWeek = 0;\n",
    "    int firstDayOfTheYear = firstDayOfYear(year);\n",
    "    int dayOfTheYear = dayOfYear(month, day, year);\n",
    "\n",
    "    int setDate = (firstDayOfTheYear + dayOfTheYear - 1) % 7;\n",
    "\n",
    "    return setDate;\n",
    "}"
   ]
  },
  {
   "cell_type": "markdown",
   "metadata": {},
   "source": [
    "# 2019 FRQ #3:"
   ]
  },
  {
   "cell_type": "code",
   "execution_count": 32,
   "metadata": {},
   "outputs": [
    {
     "name": "stdout",
     "output_type": "stream",
     "text": [
      "[<q>, </q>, </q>]\n"
     ]
    }
   ],
   "source": [
    "String openDel = \"<q>\";\n",
    "String closeDel = \"</q>\";\n",
    "\n",
    "public ArrayList<String> getDelimitersList(String[] tokens){\n",
    "    ArrayList<String> delimeters = new ArrayList<>();\n",
    "    for (int i = 0; i < tokens.length; i++){\n",
    "        if (tokens[i] == openDel || tokens[i] == closeDel){\n",
    "        delimeters.add(tokens[i]);\n",
    "        }\n",
    "    }\n",
    "    return delimeters;\n",
    "}\n",
    "\n",
    "String[] hello = new String[]{\"<q>\", \"yy\", \"</q>\", \"zz\", \"</q>\"};\n",
    "System.out.println(getDelimitersList(hello));"
   ]
  },
  {
   "cell_type": "code",
   "execution_count": 50,
   "metadata": {},
   "outputs": [
    {
     "name": "stdout",
     "output_type": "stream",
     "text": [
      "false\n"
     ]
    }
   ],
   "source": [
    "String openDel = \"<sup>\";\n",
    "String closeDel = \"</sup>\";\n",
    "\n",
    "public boolean isBalanced(ArrayList<String> delimiters){\n",
    "    int numOpenDel = 0;\n",
    "    int numCloseDel = 0;\n",
    "    for (int i = 0; i < delimiters.size(); i++){\n",
    "        if (delimiters.get(i) == openDel){\n",
    "            numOpenDel++;\n",
    "        }\n",
    "        else if (delimiters.get(i) == closeDel) {\n",
    "            numCloseDel++;\n",
    "        }\n",
    "    }\n",
    "\n",
    "    if (numCloseDel == numOpenDel){\n",
    "        return true;\n",
    "    }\n",
    "    return false;\n",
    "}\n",
    "\n",
    "ArrayList<String> hello = new ArrayList<>(Arrays.asList(\"<sup>\", \"</sup>\", \"</sup>\", \"<sup>, </sup>\"));\n",
    "System.out.println(isBalanced(hello));"
   ]
  },
  {
   "cell_type": "markdown",
   "metadata": {},
   "source": [
    "# 2018 #3 Practice FRQ"
   ]
  },
  {
   "cell_type": "code",
   "execution_count": 87,
   "metadata": {},
   "outputs": [],
   "source": [
    "public ArrayList<String> WordPairList(String[] words) {\n",
    "    ArrayList<String> allPairs = new ArrayList<String>();\n",
    "        for (int i = 0; i < words.length - 1; i++){\n",
    "            for (int j = i + 1; j < words.length; j++){\n",
    "                WordPair newPair = new WordPair(words[i], words[j]);\n",
    "                allPairs.add(newPair);\n",
    "            }\n",
    "        }\n",
    "        return allPairs;\n",
    "    }"
   ]
  },
  {
   "cell_type": "code",
   "execution_count": 88,
   "metadata": {},
   "outputs": [],
   "source": [
    "public int numMatches(){\n",
    "    int matches = 0;\n",
    "    for (int i = 0; i < allPairs.size(); i++){\n",
    "        WordPair pair = allPairs.get(i);\n",
    "        if (pairs.getFirst().equals(pairs.getSecond())){\n",
    "            matches++;\n",
    "        }\n",
    "    }\n",
    "    return matches;\n",
    "}"
   ]
  },
  {
   "cell_type": "markdown",
   "metadata": {},
   "source": [
    "# 2018 #1 Practice FRQ"
   ]
  },
  {
   "cell_type": "code",
   "execution_count": null,
   "metadata": {},
   "outputs": [],
   "source": [
    "public boolean stimulate(){\n",
    "    boolean success = false;\n",
    "    int total = 0;\n",
    "    int position = 0;\n",
    "    for (int i = 0; i <= maxHops; i++){\n",
    "        position += hopDistance();\n",
    "        if (position > goalDistance){\n",
    "            success = true;\n",
    "        }\n",
    "        if (total < 0){\n",
    "            return sucess;\n",
    "        }\n",
    "        if (i = maxHops){\n",
    "            return success;\n",
    "        }\n",
    "    }\n",
    "    return success;\n",
    "}"
   ]
  },
  {
   "cell_type": "code",
   "execution_count": null,
   "metadata": {},
   "outputs": [],
   "source": [
    "public double runStimulations(int num){\n",
    "    double simulationUntilTrue = 0.0;\n",
    "    if (stimulate() == true){\n",
    "        position += num;\n",
    "    }\n",
    "\n",
    "    return stimulateUntilTrue;\n",
    "}"
   ]
  },
  {
   "cell_type": "markdown",
   "metadata": {},
   "source": [
    "# 2023 AP CSA Exam:"
   ]
  },
  {
   "cell_type": "code",
   "execution_count": 89,
   "metadata": {},
   "outputs": [],
   "source": [
    "public int findFreeBlock(int period, int duration){\n",
    "    boolean isAvailible = false;\n",
    "    if (isMinuteFree(period, duration) == true){\n",
    "        return startMinute;\n",
    "    }\n",
    "    return -1;\n",
    "}\n",
    "\n",
    "//score 3/5"
   ]
  },
  {
   "cell_type": "code",
   "execution_count": 6,
   "metadata": {},
   "outputs": [
    {
     "name": "stdout",
     "output_type": "stream",
     "text": [
      "F J \n",
      "G K \n",
      "H L \n"
     ]
    }
   ],
   "source": [
    "String[][] letters = {\n",
    "    {\"A\", \"B\", \"C\", \"D\"},\n",
    "    {\"E\", \"F\", \"G\", \"H\"},\n",
    "    {\"I\", \"J\", \"K\", \"L\"}\n",
    "};\n",
    "\n",
    "for (int col = 1; col < letters[0].length; col++) {\n",
    "    for (int row = 1; row < letters.length; row++) {\n",
    "        System.out.print(letters[row][col] + \" \");\n",
    "    }\n",
    "    System.out.println();\n",
    "}\n"
   ]
  },
  {
   "cell_type": "code",
   "execution_count": 8,
   "metadata": {},
   "outputs": [
    {
     "name": "stdout",
     "output_type": "stream",
     "text": [
      "This is a void method.\n"
     ]
    }
   ],
   "source": [
    "public class Example {\n",
    "    // A void method that prints a message\n",
    "    public static void printMessage() {\n",
    "        System.out.println(\"This is a void method.\");\n",
    "    }\n",
    "\n",
    "    public static void main(String[] args) {\n",
    "        // Calling the void method\n",
    "        printMessage();\n",
    "    }\n",
    "}\n",
    "Example.main(null)\n"
   ]
  },
  {
   "cell_type": "code",
   "execution_count": 16,
   "metadata": {},
   "outputs": [
    {
     "ename": "UnresolvedReferenceException",
     "evalue": "Attempt to use definition snippet with unresolved references in Snippet:ClassKey(Main)#24-\n\npublic class Main {\n    public static void main(String[] args) {\n        // With message method in class A\n        System.out.println(\"With message method in class A:\");\n        A obj1 = new B(); // Line 1\n        B obj2 = new B(); // Line 2\n        System.out.println(obj1.message(3));   // Line 3\n        System.out.println(obj2.message(2));   // Line 4\n\n        // Without message method in class A\n        System.out.println(\"\\nWithout message method in class A:\");\n        AWithoutMessage obj3 = new BWithoutMessage(); // Line 1\n        BWithoutMessage obj4 = new BWithoutMessage(); // Line 2\n        System.out.println(obj3.message(3));   // Line 3\n        System.out.println(obj4.message(2));   // Line 4\n    }\n}",
     "output_type": "error",
     "traceback": [
      "\u001b[1m\u001b[30m|   \u001b[1m\u001b[30m\u001b[0m",
      "\u001b[1m\u001b[30m|   \u001b[1m\u001b[30m\u001b[0m",
      "\u001b[1m\u001b[30m|   \u001b[1m\u001b[30mpublic class Main {\u001b[0m",
      "\u001b[1m\u001b[30m|   \u001b[1m\u001b[30m    public static void main(String[] args) {\u001b[0m",
      "\u001b[1m\u001b[30m|   \u001b[1m\u001b[30m        // With message method in class A\u001b[0m",
      "\u001b[1m\u001b[30m|   \u001b[1m\u001b[30m        System.out.println(\"With message method in class A:\");\u001b[0m",
      "\u001b[1m\u001b[30m|   \u001b[1m\u001b[30m        A obj1 = new B(); // Line 1\u001b[0m",
      "\u001b[1m\u001b[30m|   \u001b[1m\u001b[30m        B obj2 = new B(); // Line 2\u001b[0m",
      "\u001b[1m\u001b[30m|   \u001b[1m\u001b[30m        System.out.println(obj1.message(3));   // Line 3\u001b[0m",
      "\u001b[1m\u001b[30m|   \u001b[1m\u001b[30m        System.out.println(obj2.message(2));   // Line 4\u001b[0m",
      "\u001b[1m\u001b[30m|   \u001b[1m\u001b[30m\u001b[0m",
      "\u001b[1m\u001b[30m|   \u001b[1m\u001b[30m        // Without message method in class A\u001b[0m",
      "\u001b[1m\u001b[30m|   \u001b[1m\u001b[30m        System.out.println(\"\\nWithout message method in class A:\");\u001b[0m",
      "\u001b[1m\u001b[30m|   \u001b[1m\u001b[30m        AWithoutMessage obj3 = new BWithoutMessage(); // Line 1\u001b[0m",
      "\u001b[1m\u001b[30m|   \u001b[1m\u001b[30m        BWithoutMessage obj4 = new BWithoutMessage(); // Line 2\u001b[0m",
      "\u001b[1m\u001b[30m|   \u001b[1m\u001b[30m        System.out.println(obj3.message(3));   // Line 3\u001b[0m",
      "\u001b[1m\u001b[30m|   \u001b[1m\u001b[30m        System.out.println(obj4.message(2));   // Line 4\u001b[0m",
      "\u001b[1m\u001b[30m|   \u001b[1m\u001b[30m    }\u001b[0m",
      "\u001b[1m\u001b[30m|   \u001b[1m\u001b[30m}\u001b[0m",
      "\u001b[1m\u001b[31mUnresolved dependencies:\u001b[0m",
      "\u001b[1m\u001b[31m   - method message(int)\u001b[0m"
     ]
    }
   ],
   "source": [
    "class A {\n",
    "    public String message(int i) {\n",
    "        return \"A\" + i;\n",
    "    }\n",
    "}\n",
    "\n",
    "class B extends A {\n",
    "    public String message(int i) {\n",
    "        return \"B\" + i;\n",
    "    }\n",
    "}\n",
    "\n",
    "public class Main {\n",
    "    public static void main(String[] args) {\n",
    "        // With message method in class A\n",
    "        System.out.println(\"With message method in class A:\");\n",
    "        A obj1 = new B(); // Line 1\n",
    "        B obj2 = new B(); // Line 2\n",
    "        System.out.println(obj1.message(3));   // Line 3\n",
    "        System.out.println(obj2.message(2));   // Line 4\n",
    "\n",
    "        // Without message method in class A\n",
    "        System.out.println(\"\\nWithout message method in class A:\");\n",
    "        AWithoutMessage obj3 = new BWithoutMessage(); // Line 1\n",
    "        BWithoutMessage obj4 = new BWithoutMessage(); // Line 2\n",
    "        System.out.println(obj3.message(3));   // Line 3\n",
    "        System.out.println(obj4.message(2));   // Line 4\n",
    "    }\n",
    "}\n",
    "\n",
    "// Class definitions without message method in class A\n",
    "class AWithoutMessage {}\n",
    "class BWithoutMessage extends AWithoutMessage {\n",
    "    public String message(int i) {\n",
    "        return \"B\" + i;\n",
    "    }\n",
    "\n",
    "}\n",
    "\n",
    "Main.main(null)\n"
   ]
  },
  {
   "cell_type": "code",
   "execution_count": 29,
   "metadata": {},
   "outputs": [
    {
     "name": "stdout",
     "output_type": "stream",
     "text": [
      "of\n",
      "of\n",
      "of\n",
      "spring\n",
      "[Ljava.lang.String;@571c126d\n"
     ]
    }
   ],
   "source": [
    "public static String[] strArrMethod(String[] arr)\n",
    "\n",
    "{\n",
    "\n",
    "String[] result = new String[arr.length];\n",
    "\n",
    "for (int j = 0; j < arr.length; j++)\n",
    "\n",
    "{\n",
    "\n",
    "String sm = arr[j];\n",
    "\n",
    "for (int k = j + 1; k < arr.length; k++)\n",
    "\n",
    "{\n",
    "\n",
    "if (arr[k].length() < sm.length())\n",
    "\n",
    "{\n",
    "\n",
    "sm = arr[k]; // Line 12\n",
    "\n",
    "}\n",
    "\n",
    "}\n",
    "\n",
    "result[j] = sm;\n",
    "\n",
    "}\n",
    "\n",
    "return result;\n",
    "\n",
    "}\n",
    "\n",
    "String[] testOne = {\"first\", \"day\", \"of\", \"spring\"};\n",
    "\n",
    "String[] resultOne = strArrMethod(testOne);\n",
    "for (int i = 0; i < resultOne.length; i++){\n",
    "    System.out.println(resultOne[i]);\n",
    "}\n",
    "System.out.println(resultOne);"
   ]
  },
  {
   "cell_type": "code",
   "execution_count": 38,
   "metadata": {},
   "outputs": [
    {
     "name": "stdout",
     "output_type": "stream",
     "text": [
      "AAAAAABBB"
     ]
    }
   ],
   "source": [
    "\n",
    "for (int i = 0; i < 6; i++)\n",
    "{\n",
    "   System.out.print(\"A\");\n",
    "}\n",
    "\n",
    "for (int j = 1; j <= 3; j++)\n",
    "{\n",
    "   for (int k = 1; k < 2; k++)\n",
    "   {\n",
    "      System.out.print(\"B\");\n",
    "   }\n",
    "}"
   ]
  },
  {
   "cell_type": "markdown",
   "metadata": {},
   "source": [
    "# 2017 AP CSA FRQ #1"
   ]
  },
  {
   "cell_type": "code",
   "execution_count": 28,
   "metadata": {},
   "outputs": [
    {
     "name": "stdout",
     "output_type": "stream",
     "text": [
      "1234\n",
      "123\n",
      "12\n",
      "1\n",
      "0\n",
      "[1, 2, 3, 4, 5]\n",
      "true\n"
     ]
    }
   ],
   "source": [
    "import java.util.ArrayList;\n",
    "\n",
    "public class Digits {\n",
    "    private ArrayList<Integer> digitList;\n",
    "\n",
    "    public Digits(int num) {\n",
    "        digitList = new ArrayList<>();\n",
    "        while (num > 0) {\n",
    "            int digit = num % 10; // Extract the last digit\n",
    "            digitList.add(0, digit); // Add the digit to the beginning of digitList\n",
    "            num /= 10;\n",
    "            System.out.println(num);\n",
    "        }\n",
    "    }\n",
    "\n",
    "    public boolean isStrictlyIncreasing() {\n",
    "        boolean isIncreasing = true;\n",
    "        for (int i = 0; i < digitList.size() - 1; i++) {\n",
    "            if (digitList.get(i) >= digitList.get(i + 1)) {\n",
    "                isIncreasing = false;\n",
    "                break; // Once we find a non-increasing pair, we can stop checking\n",
    "            }\n",
    "        }\n",
    "        return isIncreasing;\n",
    "    }\n",
    "\n",
    "    public static void main(String[] args) {\n",
    "        Digits newInstance = new Digits(12345);\n",
    "        System.out.println(newInstance.digitList);\n",
    "        System.out.println(newInstance.isStrictlyIncreasing());\n",
    "    }\n",
    "}\n",
    "\n",
    "\n",
    "Digits.main(null)"
   ]
  },
  {
   "cell_type": "markdown",
   "metadata": {},
   "source": [
    "# 2022 FRQ #1"
   ]
  },
  {
   "cell_type": "code",
   "execution_count": 30,
   "metadata": {},
   "outputs": [],
   "source": [
    "public int getScore(){\n",
    "    int totalScore = 0;\n",
    "    if (levelOne.goalReached() == true){\n",
    "        totalScore += getPoints();\n",
    "\n",
    "        if (levelTwo.goalReached() == true){\n",
    "            totalScore += getPoints();\n",
    "        }\n",
    "        if (levelThree.goalReached() == true){\n",
    "            totalScore += getPoints();\n",
    "        }\n",
    "    }\n",
    "\n",
    "    if(isBonus() == true){\n",
    "        totalScore *= 3;\n",
    "    }\n",
    "\n",
    "    return totalScore;\n",
    "}"
   ]
  },
  {
   "cell_type": "code",
   "execution_count": 32,
   "metadata": {},
   "outputs": [
    {
     "ename": "CompilationException",
     "evalue": "",
     "output_type": "error",
     "traceback": [
      "\u001b[1m\u001b[30m|   \u001b[1m\u001b[30m            highestScore = \u001b[0m\u001b[1m\u001b[30m\u001b[41mplay\u001b[0m\u001b[1m\u001b[30m().getScore(); // can't chain method\u001b[0m",
      "\u001b[1m\u001b[31mcannot find symbol\u001b[0m",
      "\u001b[1m\u001b[31m  symbol:   method play()\u001b[0m",
      "",
      "\u001b[1m\u001b[30m|   \u001b[1m\u001b[30mpublic int playManyTimes(int num)\u001b[0m\u001b[1m\u001b[30m\u001b[41m{\u001b[0m",
      "\u001b[1m\u001b[30m|   \u001b[1m\u001b[30m\u001b[41m    int highestScore = 0;\u001b[0m",
      "\u001b[1m\u001b[30m|   \u001b[1m\u001b[30m\u001b[41m    for (int i = 0; i < num; i++){\u001b[0m",
      "\u001b[1m\u001b[30m|   \u001b[1m\u001b[30m\u001b[41m        if (i > highestScore){\u001b[0m",
      "\u001b[1m\u001b[30m|   \u001b[1m\u001b[30m\u001b[41m            highestScore = play().getScore(); // can't chain method\u001b[0m",
      "\u001b[1m\u001b[30m|   \u001b[1m\u001b[30m\u001b[41m        }\u001b[0m",
      "\u001b[1m\u001b[30m|   \u001b[1m\u001b[30m\u001b[41m    }\u001b[0m",
      "\u001b[1m\u001b[30m|   \u001b[1m\u001b[30m\u001b[41m}\u001b[0m",
      "\u001b[1m\u001b[31mmissing return statement\u001b[0m",
      ""
     ]
    }
   ],
   "source": [
    "/* public int playManyTimes(int num){\n",
    "    int highestScore = 0;\n",
    "    for (int i = 0; i < num; i++){\n",
    "        if (i > highestScore){\n",
    "            highestScore = play().getScore(); // can't chain method, especially if there is a void type\n",
    "        }\n",
    "    }\n",
    "}\n",
    "*/\n",
    "\n",
    "public int playManyTimes(int num){\n",
    "    int highestScore = 0;\n",
    "    for (int i = 0; i < num; i++){\n",
    "        play();\n",
    "        int tempScore = getScore();\n",
    "        if (tempScore > highestScore){\n",
    "            highestScore = tempScore; // can't chain method\n",
    "        }\n",
    "    }\n",
    "}"
   ]
  },
  {
   "cell_type": "markdown",
   "metadata": {},
   "source": [
    "# 2022 FRQ #2:"
   ]
  },
  {
   "cell_type": "code",
   "execution_count": 61,
   "metadata": {},
   "outputs": [
    {
     "name": "stdout",
     "output_type": "stream",
     "text": [
      "Biology-49.75-3\n",
      "false\n",
      "true\n",
      "false\n"
     ]
    }
   ],
   "source": [
    "public class Book {\n",
    "    /** The title of the book */\n",
    "    private String title;\n",
    "\n",
    "    /** The price of the book */\n",
    "    private double price;\n",
    "\n",
    "    /** Creates a new Book with given title and price */\n",
    "    public Book(String bookTitle, double bookPrice) {\n",
    "        this.title = bookTitle;\n",
    "        this.price = bookPrice;\n",
    "    }\n",
    "\n",
    "    /** Returns the title of the book */\n",
    "    public String getTitle() {\n",
    "        return title;\n",
    "    }\n",
    "\n",
    "    /** Returns the price of the book */\n",
    "    public double getPrice() {\n",
    "        return price;\n",
    "    }\n",
    "\n",
    "    /** Returns a string containing the title and price of the Book */\n",
    "    public String getBookInfo() {\n",
    "        return title + \"-\" + price;\n",
    "    }\n",
    "\n",
    "}\n",
    "\n",
    "\n",
    "public class Textbook extends Book {\n",
    "    private int edition;\n",
    "\n",
    "    public Textbook(String bookTitle, double bookPrice, int edition){\n",
    "        super(bookTitle, bookPrice);\n",
    "        this.edition = edition;\n",
    "    }\n",
    "\n",
    "    public boolean canSubstituteFor(Textbook other){\n",
    "        boolean canSubstitute = false;\n",
    "        if (other.getTitle().equals(getTitle()) && other.edition > edition){\n",
    "            canSubstitute = true;\n",
    "        }\n",
    "\n",
    "        return canSubstitute;\n",
    "    }\n",
    "\n",
    "    public String getBookInfo() {\n",
    "        return getTitle() + \"-\" + getPrice() + \"-\" + edition;\n",
    "    }\n",
    "}\n",
    "\n",
    "public class main{\n",
    "    public static void main(String[] args){\n",
    "        Textbook bio2015 = new Textbook(\"Biology\", 49.75, 3);\n",
    "        Textbook bio2017 = new Textbook(\"Biology\", 20.2, 3);\n",
    "        Textbook bio2019 = new Textbook(\"Biology\", 49.75, 4);\n",
    "        Textbook math2019 = new Textbook(\"Math\", 49.75, 4);\n",
    "        System.out.println(bio2015.getBookInfo());\n",
    "        System.out.println(bio2015.canSubstituteFor(bio2017));\n",
    "        System.out.println(bio2015.canSubstituteFor(bio2019));\n",
    "        System.out.println(bio2015.canSubstituteFor(math2019));\n",
    "\n",
    "    }\n",
    "}\n",
    "\n",
    "main.main(null)"
   ]
  },
  {
   "cell_type": "markdown",
   "metadata": {},
   "source": [
    "# 2022 Question 3"
   ]
  },
  {
   "cell_type": "code",
   "execution_count": 2,
   "metadata": {},
   "outputs": [
    {
     "name": "stdout",
     "output_type": "stream",
     "text": [
      "Average Rating: 3.4\n",
      "Average Rating: [Good! Thx., Great!, Poor! Bad.]\n"
     ]
    }
   ],
   "source": [
    "import java.util.ArrayList;\n",
    "\n",
    "public class Review { \n",
    "    private int rating; \n",
    "    private String comment;\n",
    "\n",
    "    public Review(int r, String c) { \n",
    "        rating = r; \n",
    "        comment = c; \n",
    "    } \n",
    "\n",
    "    public int getRating() { \n",
    "        return rating; \n",
    "    } \n",
    "\n",
    "    public String getComment() {\n",
    "        return comment; \n",
    "    } \n",
    "}\n",
    "\n",
    "public class ReviewAnalysis {\n",
    "    private Review[] allReviews;\n",
    "\n",
    "    public ReviewAnalysis(Review[] reviews) {\n",
    "        allReviews = reviews;\n",
    "    }\n",
    "\n",
    "    public double getAverageRating() { //part b\n",
    "        double totalRating = 0;\n",
    "        for (int i = 0; i < allReviews.length; i++) {\n",
    "            totalRating += allReviews[i].getRating();\n",
    "        }\n",
    "        return totalRating / allReviews.length;\n",
    "    }\n",
    "\n",
    "    public ArrayList<String> collectComments() { //part b\n",
    "        ArrayList<String> allComments = new ArrayList<>();\n",
    "    \n",
    "        for (int i = 0; i < allReviews.length; i++) {\n",
    "            if (allReviews[i].getComment().contains(\"!\")) {\n",
    "                allComments.add(allReviews[i].getComment());\n",
    "            }\n",
    "        }\n",
    "    \n",
    "        for (int j = 0; j < allComments.size(); j++) {\n",
    "            String comment = allComments.get(j);\n",
    "            if (!comment.endsWith(\"!\") && !comment.endsWith(\".\")) {\n",
    "                comment += \".\";\n",
    "                allComments.set(j, comment);\n",
    "            }\n",
    "        }\n",
    "    \n",
    "        return allComments;\n",
    "    }\n",
    "}\n",
    "\n",
    "public class Main {\n",
    "    public static void main(String[] args) {\n",
    "        Review[] reviews = {\n",
    "            new Review(4, \"Good! Thx\"),\n",
    "            new Review(3, \"OK Site\"),\n",
    "            new Review(5, \"Great!\"),\n",
    "            new Review(2, \"Poor! Bad.\"),\n",
    "            new Review(3, \"\")\n",
    "        };\n",
    "\n",
    "        ReviewAnalysis analysis = new ReviewAnalysis(reviews);\n",
    "        System.out.println(\"Average Rating: \" + analysis.getAverageRating());\n",
    "        System.out.println(\"Average Rating: \" + analysis.collectComments());\n",
    "    }\n",
    "}\n",
    "\n",
    "Main.main(null);"
   ]
  },
  {
   "cell_type": "markdown",
   "metadata": {},
   "source": [
    "# 2022 Question 4"
   ]
  },
  {
   "cell_type": "code",
   "execution_count": 142,
   "metadata": {},
   "outputs": [
    {
     "name": "stdout",
     "output_type": "stream",
     "text": [
      "50 60 90 20 \n",
      "10 10 10 80 \n",
      "30 0 0 70 \n",
      "0\n"
     ]
    }
   ],
   "source": [
    "public class Data {\n",
    "    public static final int MAX = 100;\n",
    "    private int[][] grid;\n",
    "\n",
    "    public void repopulate(){\n",
    "        for (int i = 0; i < grid.length; i++){\n",
    "            for (int j = 0; j < grid[i].length; j++){\n",
    "                grid[i][j] = (int)(Math.random()* MAX);\n",
    "                while (grid[i][j] % 10 != 0){\n",
    "                    grid[i][j] = (int)(Math.random()* MAX);\n",
    "                    if (grid[i][j] % 10 == 0){\n",
    "                        grid[i][j] = grid[i][j];\n",
    "                    }\n",
    "                }\n",
    "            }\n",
    "        }\n",
    "    }\n",
    "    \n",
    "    public int countIncreasingcols(){\n",
    "    int counter = 0;\n",
    "    boolean ifIncreasing = true;\n",
    "    for (int i = 0; i < grid.length; i++) { // Iterate over rows\n",
    "        \n",
    "        for (int j = 0; j < grid[i].length - 1; j++) {\n",
    "            if (grid[i][j] >= grid[i][j + 1]) { // Check if current element is not less than the next element in the row\n",
    "                ifIncreasing = false;\n",
    "                break;\n",
    "            }\n",
    "        }\n",
    "        }\n",
    "        if (ifIncreasing){\n",
    "            counter++;\n",
    "    }\n",
    "    return counter;\n",
    "}\n",
    "\n",
    "    \n",
    "    public void printGrid() {\n",
    "        for (int i = 0; i < grid.length; i++) {\n",
    "            for (int j = 0; j < grid[i].length; j++) {\n",
    "                System.out.print(grid[i][j] + \" \");\n",
    "            }\n",
    "            System.out.println();\n",
    "        }\n",
    "    }\n",
    "\n",
    "    public static void main(String[] args){\n",
    "        int[][] grid = {\n",
    "            {1, 2, 3, 4},\n",
    "            {2, 2, 3, 4},\n",
    "            {3, 2, 4, 2}\n",
    "        };\n",
    "        Data newInstance = new Data();\n",
    "        newInstance.grid = grid;\n",
    "        newInstance.repopulate();\n",
    "        \n",
    "        // Print the populated grid\n",
    "        newInstance.printGrid();\n",
    "        System.out.println(newInstance.countIncreasingcols());\n",
    "    }\n",
    "}\n",
    "\n",
    "Data.main(null)\n"
   ]
  }
 ],
 "metadata": {
  "kernelspec": {
   "display_name": "Java",
   "language": "java",
   "name": "java"
  },
  "language_info": {
   "codemirror_mode": "java",
   "file_extension": ".jshell",
   "mimetype": "text/x-java-source",
   "name": "java",
   "pygments_lexer": "java",
   "version": "17.0.10+7-Ubuntu-122.04.1"
  }
 },
 "nbformat": 4,
 "nbformat_minor": 2
}
