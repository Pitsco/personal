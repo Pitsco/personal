{
 "cells": [
  {
   "cell_type": "markdown",
   "metadata": {},
   "source": [
    "---\n",
    "- title: Algorythmetic Performance\n",
    "- description: Review on Performance\n",
    "- layout: post\n",
    "- courses: { csa: {week: 25} }\n",
    "- categories: [C4.0]\n",
    "- type: tangibles\n",
    "- comments: true\n",
    "---"
   ]
  },
  {
   "cell_type": "markdown",
   "metadata": {},
   "source": [
    "# 4 Performances Ranking:\n",
    "\n",
    "### First Performance - Pool Noodles:\n",
    "In the first performance, I loved the rapping and thought it was really creative. The costumes of this group were also really good and well put together. The narrator was also super engaging and very clearly explained all of their performance.\n",
    "\n",
    "### Second Performance - Our Performance:\n",
    "My group performed the second one. I thought my group's performance was also very engaging and fun. We also did two different sorts so I thought we did a good job for managing to do both of the sorts.\n",
    "\n",
    "### Third Performance - Bubble Sort:\n",
    "I thought this theme of the bacheleorte was very intersting and creative. I loved the idea of having two people paired up and thought it was really creative. Also I thought it was funny how one group member carried the other.\n",
    "\n",
    "### Fourth - Murder Mystery:\n",
    "I loved how this performance was like a play almost and I thought it was really creative. They had very creative lines I wish we couldn've modeled their performance a little more with more active lines."
   ]
  },
  {
   "cell_type": "markdown",
   "metadata": {},
   "source": []
  }
 ],
 "metadata": {
  "kernelspec": {
   "display_name": "Java",
   "language": "java",
   "name": "java"
  },
  "language_info": {
   "codemirror_mode": "java",
   "file_extension": ".jshell",
   "mimetype": "text/x-java-source",
   "name": "java",
   "pygments_lexer": "java",
   "version": "17.0.10+7-Ubuntu-122.04.1"
  }
 },
 "nbformat": 4,
 "nbformat_minor": 2
}
