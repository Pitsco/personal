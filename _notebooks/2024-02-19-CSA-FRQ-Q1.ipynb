{
 "cells": [
  {
   "cell_type": "markdown",
   "metadata": {},
   "source": [
    "---\n",
    "- title: CSA FRQ 1\n",
    "- description: First CSA FRQ and explanations\n",
    "- layout: post\n",
    "- courses: { csa: {week: 17} }\n",
    "- categories: [C4.0]\n",
    "- type: tangibles\n",
    "- comments: true\n",
    "---"
   ]
  },
  {
   "cell_type": "markdown",
   "metadata": {},
   "source": [
    "# CSA FRQ #1\n",
    "\n",
    "## Directions:\n",
    "### SHOW ALL YOUR WORK. REMEMBER THAT PROGRAM SEGMENTS ARE TO BE WRITTEN IN JAVA.\n",
    "\n",
    "### Notes:\n",
    "- Assume that the classes listed in the Java Quick Reference have been imported where appropriate.\n",
    "\n",
    "- Unless otherwise noted in the question, assume that parameters in method calls are not null and that methods are called only when their preconditions are satisfied.\n",
    "\n",
    "- In writing solutions for each question, you may use any of the accessible methods that are listed in classes defined in that question. Writing significant amounts of code that can be replaced by a call to one of these methods will not receive full credit.\n",
    "\n",
    "- This question involves reasoning about one-dimensional and two-dimensional arrays of integers. You will write three static methods, all of which are in a single enclosing class, named DiverseArray (not shown). The first method returns the sum of the values of a one-dimensional array; the second method returns an array that represents the sums of the rows of a two-dimensional array; and the third method analyzes row sums.\n",
    "\n"
   ]
  },
  {
   "cell_type": "markdown",
   "metadata": {},
   "source": [
    "### Part a\n",
    "(a) Write a static method arraySum that calculates and returns the sum of the entries in a specified one-dimensional array. The following example shows an array arr1 and the value returned by a call to arraySum.\n",
    "\n",
    "![image](https://raw.githubusercontent.com/Pitsco/personal/main/images/cb2015/cb2015-1a.png)\n",
    "\n",
    "\n",
    "Complete method arraySum below.\n",
    "\n",
    "/ * * Returns the sum of the entries in the one-dimensional array arr.\n",
    "\n",
    "* /\n",
    "\n",
    "public static int arraySum (int [ ] arr)"
   ]
  },
  {
   "cell_type": "code",
   "execution_count": 11,
   "metadata": {
    "vscode": {
     "languageId": "java"
    }
   },
   "outputs": [
    {
     "name": "stdout",
     "output_type": "stream",
     "text": [
      "16\n"
     ]
    }
   ],
   "source": [
    "public class Parta {\n",
    "    public static void main(String[] args) {\n",
    "        int[] arr = {1, 3, 2, 7, 3};\n",
    "        int sum = arraySum(arr);\n",
    "        System.out.println(sum);\n",
    "    }\n",
    "\n",
    "    public static int arraySum(int[] arr) {\n",
    "        int sum = 0; \n",
    "        for (int i = 0; i < arr.length; i++) {// Iterate through the array and add up the elements\n",
    "            sum += arr[i];\n",
    "        }\n",
    "        return sum;\n",
    "    }\n",
    "}\n",
    "\n",
    "Parta.main(null);"
   ]
  },
  {
   "cell_type": "markdown",
   "metadata": {},
   "source": [
    "### Part b\n",
    "\n",
    "(b) Write a static method rowSums that calculates the sums of each of the rows in a given two-dimensional array and returns these sums in a one-dimensional array. The method has one parameter, a two-dimensional array arr2D of int values. The array is in row-major order: arr2D [ r ] [ c ] is the entry at row r and column c. The method returns a one-dimensional array with one entry for each row of arr2D such that each entry is the sum of the corresponding row in arr2D. As a reminder, each row of a two-dimensional array is a one-dimensional array.\n",
    "\n",
    "For example, if mat1 is the array represented by the following table, the call rowSums(mat1) returns the array {16, 32, 28, 20}.\n",
    "\n",
    "![image](https://raw.githubusercontent.com/Pitsco/personal/main/images/cb2015/cb2015-1b.png)\n",
    "\n",
    "Assume that arraySum works as specified, regardless of what you wrote in part (a). You must use arraySum appropriately to receive full credit.\n",
    "\n",
    "Complete method rowSums below.\n",
    "\n",
    "/ * * Returns a one-dimensional array in which the entry at index k is the sum of\n",
    "\n",
    "* the entries of row k of the two-dimensional array arr2D.\n",
    "\n",
    "* /\n",
    "\n",
    "public static int [ ] rowSums(int [ ] [ ] arr2D)"
   ]
  },
  {
   "cell_type": "code",
   "execution_count": 9,
   "metadata": {
    "vscode": {
     "languageId": "java"
    }
   },
   "outputs": [
    {
     "name": "stdout",
     "output_type": "stream",
     "text": [
      "Row Sums: {16, 32, 28, 20}\n"
     ]
    }
   ],
   "source": [
    "public class Partb {\n",
    "\n",
    "    /*\n",
    "     * Returns a one-dimensional array in which the entry at index k is the sum of\n",
    "     * the entries of row k of the two-dimensional array arr2D.\n",
    "     */\n",
    "    public static int[] rowSums(int[][] arr2D) {\n",
    "        int numRows = arr2D.length;\n",
    "        int[] sums = new int[numRows];\n",
    "\n",
    "        for (int i = 0; i < numRows; i++) {\n",
    "            // Use the arraySum method to calculate the sum of each row\n",
    "            sums[i] = arraySum(arr2D[i]);\n",
    "        }\n",
    "\n",
    "        return sums;\n",
    "    }\n",
    "\n",
    "    // part a\n",
    "    public static int arraySum(int[] arr) {\n",
    "        int sum = 0; \n",
    "        for (int i = 0; i < arr.length; i++) {// Iterate through the array and add up the elements\n",
    "            sum += arr[i];\n",
    "        }\n",
    "        return sum;\n",
    "    }\n",
    "\n",
    "    public static void main(String[] args) { \n",
    "        int[][] mat1 = {\n",
    "            {1, 3, 2, 7, 3},\n",
    "            {10, 10, 4, 6, 2},\n",
    "            {5, 3, 5, 9, 6},\n",
    "            {7, 6, 4, 2, 1}\n",
    "        };\n",
    "\n",
    "        int[] result = rowSums(mat1);\n",
    "\n",
    "        // Print the result\n",
    "        System.out.print(\"Row Sums: {\");\n",
    "        for (int i = 0; i < result.length; i++) {\n",
    "            System.out.print(result[i]);\n",
    "            if (i < result.length - 1) {\n",
    "                System.out.print(\", \");\n",
    "            }\n",
    "        }\n",
    "        System.out.println(\"}\");\n",
    "    }\n",
    "}\n",
    "\n",
    "Partb.main(null);"
   ]
  },
  {
   "cell_type": "markdown",
   "metadata": {},
   "source": [
    "### Part c\n",
    "c) A two-dimensional array is diverse if no two of its rows have entries that sum to the same value. In the following examples, the array mat1 is diverse because each row sum is different, but the array mat2 is not diverse because the first and last rows have the same sum.\n",
    "\n",
    "![image](https://raw.githubusercontent.com/Pitsco/personal/main/images/cb2015/cb2015-1ci.png)\n",
    "\n",
    "Write a static method isDiverse that determines whether or not a given two-dimensional array is diverse. The method has one parameter: a two-dimensional array arr2D of int values. The method should return true if all the row sums in the given array are unique; otherwise, it should return false. In the arrays shown above, the call isDiverse (mat1) returns true and the call isDiverse(mat2) returns false.\n",
    "\n",
    "![image](https://raw.githubusercontent.com/Pitsco/personal/main/images/cb2015/cb2015-1cii.png)\n",
    "\n",
    "\n",
    "Assume that arraySum and rowSums work as specified, regardless of what you wrote in parts (a) and(b). You must use rowSums appropriately to receive full credit.\n",
    "Complete method isDiverse below.\n",
    "\n",
    "/ * * Returns true if all rows in arr2D have different row sums;\n",
    "* false otherwise.\n",
    "\n",
    "* /public static boolean isDiverse(int [ ] [ ] arr2D)"
   ]
  },
  {
   "cell_type": "code",
   "execution_count": 12,
   "metadata": {
    "vscode": {
     "languageId": "java"
    }
   },
   "outputs": [
    {
     "name": "stdout",
     "output_type": "stream",
     "text": [
      "mat1 is diverse: true\n",
      "mat2 is diverse: false\n"
     ]
    }
   ],
   "source": [
    "public class DiverseArrayChecker {\n",
    "    // part a\n",
    "    public static int arraySum(int[] arr) {\n",
    "        int sum = 0;\n",
    "        // iterate through the array and add up the elements\n",
    "        for (int i = 0; i < arr.length; i++) {\n",
    "            sum += arr[i];\n",
    "        }\n",
    "        return sum;\n",
    "    }\n",
    "\n",
    "    // part b\n",
    "    public static int[] rowSums(int[][] arr2D) {\n",
    "        int numRows = arr2D.length;\n",
    "        int[] sums = new int[numRows];\n",
    "            for (int i = 0; i < numRows; i++) {\n",
    "            // use the arraySum method to calculate the sum of each row\n",
    "            sums[i] = arraySum(arr2D[i]);\n",
    "            }\n",
    "        return sums;\n",
    "    }\n",
    "\n",
    "    public static boolean isDiverse(int[][] arr2D) {\n",
    "        int[] sums = rowSums(arr2D);\n",
    "        for (int i = 0; i < sums.length - 1; i++) {\n",
    "            for (int j = i + 1; j < sums.length; j++) {\n",
    "                if (sums[i] == sums[j]) {\n",
    "                    return false;\n",
    "                }\n",
    "            }\n",
    "        }\n",
    "        return true;\n",
    "    }\n",
    "\n",
    "    public static void main(String[] args) {\n",
    "        int[][] mat1 = {\n",
    "            {1, 3, 2, 7, 3},\n",
    "            {10, 10, 4, 6, 2},\n",
    "            {5, 3, 5, 9, 6},\n",
    "            {7, 6, 4, 2, 1}\n",
    "        };\n",
    "\n",
    "        int[][] mat2 = {\n",
    "            {1, 1, 5, 3, 4},\n",
    "            {12, 7, 6, 1, 9},\n",
    "            {8, 11, 10, 2, 5},\n",
    "            {3, 2, 3, 0, 6}\n",
    "        };\n",
    "\n",
    "        System.out.println(\"mat1 is diverse: \" + isDiverse(mat1));\n",
    "        System.out.println(\"mat2 is diverse: \" + isDiverse(mat2));\n",
    "    }\n",
    "}\n",
    "\n",
    "DiverseArrayChecker.main(null);"
   ]
  },
  {
   "cell_type": "markdown",
   "metadata": {},
   "source": [
    "## Explanation and Reflection:\n",
    "Part a and Part b of this frq were pretty easy to me. Calculating sums and iterating through lists/arrays are all a piece of cake to me. I think the biggest issue I have was with the `isDiverse` method in part c:\n",
    "\n",
    "```cs\n",
    "    public static boolean isDiverse(int[][] arr2D) {\n",
    "        int[] sums = rowSums(arr2D);\n",
    "        for (int i = 0; i < sums.length - 1; i++) {\n",
    "            for (int j = i + 1; j < sums.length; j++) {\n",
    "                if (sums[i] == sums[j]) {\n",
    "                    return false;\n",
    "                }\n",
    "            }\n",
    "        }\n",
    "        return true;\n",
    "    }\n",
    "```\n",
    "\n",
    "In past MC's, I've had troubles with 2D arrays and iterating with them (especially with a for loop nested within another). It was quite hard understanding how they work. However, in this case, we are not iterating by row and column. Instead, we are checking whether any rows are equal. The reason why a nested for loop is used is to check the SPECIFIC rows, not columns. IF the sum of row[i] is equal to the sum of row [j], then the sums are marked false.\n",
    "\n",
    "For example with the first array of:\n",
    "```cs\n",
    "        int[][] mat1 = {\n",
    "            {1, 3, 2, 7, 3},\n",
    "            {10, 10, 4, 6, 2},\n",
    "            {5, 3, 5, 9, 6},\n",
    "            {7, 6, 4, 2, 1}\n",
    "        };\n",
    "```\n",
    "\n",
    "The outer loop starts with i = 0, and the inner loop starts with j = i + 1 = 1.\n",
    "\n",
    "It compares sums[0] (which is 16) with sums[1] (which is 32), and they are not equal.\n",
    "It compares sums[0] with sums[2] (which is 28), and they are not equal.\n",
    "It compares sums[0] with sums[3] (which is 20), and they are not equal.\n",
    "The outer loop increments to i = 1, and the inner loop starts with j = i + 1 = 2.\n",
    "\n",
    "It compares sums[1] (which is 32) with sums[2] (which is 28), and they are not equal.\n",
    "It compares sums[1] with sums[3] (which is 20), and they are not equal.\n",
    "The outer loop increments to i = 2, and the inner loop starts with j = i + 1 = 3.\n",
    "\n",
    "It compares sums[2] (which is 28) with sums[3] (which is 20), and they are not equal.\n",
    "The outer loop increments to i = 3, but there is no inner loop as j = i + 1 = 4 is beyond the array bounds.\n",
    "\n",
    "Since no pair of rows has equal sums, the method correctly returns true. "
   ]
  }
 ],
 "metadata": {
  "kernelspec": {
   "display_name": "Java",
   "language": "java",
   "name": "java"
  },
  "language_info": {
   "codemirror_mode": "java",
   "file_extension": ".jshell",
   "mimetype": "text/x-java-source",
   "name": "Java",
   "pygments_lexer": "java",
   "version": "17.0.9+9-Ubuntu-122.04"
  }
 },
 "nbformat": 4,
 "nbformat_minor": 2
}
