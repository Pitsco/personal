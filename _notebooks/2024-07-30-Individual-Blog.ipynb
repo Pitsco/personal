{
 "cells": [
  {
   "cell_type": "markdown",
   "metadata": {},
   "source": [
    "---\n",
    "- title: Individual Blog\n",
    "- description: Fourth CSA FRQ and explanations\n",
    "- layout: post\n",
    "- courses: { csa: {week: 25} }\n",
    "- categories: [C4.0]\n",
    "- type: tangibles\n",
    "- comments: true\n",
    "---"
   ]
  },
  {
   "cell_type": "markdown",
   "metadata": {},
   "source": [
    "### [Individual Statistics Link](https://github.com/Pitsco)"
   ]
  },
  {
   "cell_type": "markdown",
   "metadata": {},
   "source": [
    "# AP Exam Self Study Material\n",
    "\n",
    "## College Board MC Review Examples\n",
    "\n",
    "- [2015 MC](https://pitsco.github.io/personal/c4.0/2023/12/22/CB-2015-quiz-notes.html)\n",
    "- [2014 MC](https://pitsco.github.io/personal/c4.0/2023/11/05/CollegeBoard-Practice-Test.html)\n",
    "\n",
    "## College Board FRQ Review Examples\n",
    "\n",
    "| Topic                               | Link to Question                                                                 |\n",
    "|-------------------------------------|---------------------------------------------------------------------------------|\n",
    "| Arraylist                           | [Question 1](https://pitsco.github.io/personal/c4.0/2024/02/19/CSA-FRQ-Q1.html)  |\n",
    "| Classes                             | [Question 2](https://pitsco.github.io/personal/c4.0/2024/02/23/CSA-FRQ-Q2.html)  |\n",
    "| 2D Arrays                           | [Question 3](https://pitsco.github.io/personal/c4.0/2024/02/24/CSA-FRQ-Q3.html)  |\n",
    "| Method and Control Structures       | [Question 4](https://pitsco.github.io/personal/c4.0/2024/02/25/CSA-FRQ-Q4.html)  |\n",
    "\n",
    "## Overall Issue (Connection to PBL)\n",
    "\n",
    "- [Overall Issue (Connection to PBL)](https://github.com/Pitsco/personal/issues/6)\n",
    "\n",
    "## Unit Study Material\n",
    "\n",
    "| Unit                               | Link to Browser                                                                   |\n",
    "|------------------------------------|------------------------------------------------------------------------------------|\n",
    "| Unit 1 – Primitive Types           | [Unit 1](https://pitsco.github.io/personal/c4.0/2024/04/21/Unit-1-Study.html)      |\n",
    "| Unit 2 – Using Objects             | [Unit 2](https://pitsco.github.io/personal/c4.0/2024/04/21/Unit-1-Study.html)      |\n",
    "| Unit 3 – Boolean Expressions       | [Unit 3](https://pitsco.github.io/personal/c4.0/2024/04/21/Unit-1-Study.html)      |\n",
    "| Unit 4 – Iteration                 | [Unit 4](https://pitsco.github.io/personal/c4.0/2024/04/21/Unit-1-Study.html)      |\n",
    "| Unit 5 – Writing Classes           | [Unit 5](https://pitsco.github.io/personal/c4.0/2024/04/21/Unit-1-Study.html)      |\n",
    "| Unit 6 – Array                     | [Unit 6](https://pitsco.github.io/personal/c4.0/2024/04/21/Unit-1-Study.html)      |\n",
    "| Unit 7 – Array List                | [Unit 7](https://pitsco.github.io/personal/c4.0/2024/04/21/Unit-1-Study.html)      |\n",
    "| Unit 8 – 2D Array                  | [Unit 8](https://pitsco.github.io/personal/c4.0/2024/04/21/Unit-1-Study.html)      |\n",
    "| Unit 9 – Inheritance               | [Unit 9](https://pitsco.github.io/personal/c4.0/2024/04/21/Unit-1-Study.html)      |\n",
    "| Unit 10 – Recursion                | [Unit 10](https://pitsco.github.io/personal/c4.0/2024/04/21/Unit-1-Study.html)     |\n",
    "\n",
    "## Technical Examples\n",
    "\n",
    "- [Debugging Practice](https://github.com/Pitsco/personal/issues/7)\n",
    "- [Deployment Practice and Reference](https://github.com/Pitsco/personal/issues/5)\n",
    "\n",
    "## Old References to Project Trimester 1\n",
    "\n",
    "- [Fibonacci Algorithms, Frontend and Backend with Explanations](https://pitsco.github.io/personal/2023/12/10/Fibonacci_Algorithm_Blog.html)\n",
    "- [Sorting Algorithms, Frontend and Backend with Explanations](https://pitsco.github.io/personal/2023/12/10/Sorting-Algorithm-Blog.html)\n",
    "\n",
    "## Machine Learning References\n",
    "\n",
    "- [Machine Learning References](https://github.com/Pitsco/personal/issues/8)\n"
   ]
  }
 ],
 "metadata": {
  "language_info": {
   "name": "python"
  }
 },
 "nbformat": 4,
 "nbformat_minor": 2
}
