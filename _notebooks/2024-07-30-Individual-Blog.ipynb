{
 "cells": [
  {
   "cell_type": "markdown",
   "metadata": {},
   "source": [
    "---\n",
    "- title: Individual Blog\n",
    "- description: Fourth CSA FRQ and explanations\n",
    "- layout: post\n",
    "- courses: { csa: {week: 25} }\n",
    "- categories: [C4.0]\n",
    "- type: tangibles\n",
    "- comments: true\n",
    "---"
   ]
  },
  {
   "cell_type": "markdown",
   "metadata": {},
   "source": [
    "### [Individual Statistics Link](https://github.com/Pitsco)"
   ]
  },
  {
   "cell_type": "markdown",
   "metadata": {},
   "source": [
    "# College Board Review:\n",
    "### College Board MC Review Examples:\n",
    "[2015 MC](https://pitsco.github.io/personal//c4.0/2023/12/22/CB-2015-quiz-notes.html)\n",
    "\n",
    "[2014 MC](https://pitsco.github.io/personal/c4.0/2023/11/05/CollegeBoard-Practice-Test.html)\n",
    "\n",
    "### College Board FRQ Review Examples:\n",
    "<table>\n",
    "  <thead>\n",
    "    <tr>\n",
    "      <th>Topic</th>\n",
    "      <th>Link to Question</th>\n",
    "    </tr>\n",
    "  </thead>\n",
    "  <tbody>\n",
    "    <tr>\n",
    "      <td>Arraylist</td>\n",
    "      <td><a href=\"https://pitsco.github.io/personal/c4.0/2024/02/19/CSA-FRQ-Q1.html\">Question 1</a></td>\n",
    "    </tr>\n",
    "    <tr>\n",
    "      <td>Classes</td>\n",
    "      <td><a href=\"https://pitsco.github.io/personal/c4.0/2024/02/23/CSA-FRQ-Q2.html\">Question 2</a></td>\n",
    "    </tr>\n",
    "    <tr>\n",
    "      <td>2D Arrays</td>\n",
    "      <td><a href=\"https://pitsco.github.io/personal/c4.0/2024/02/24/CSA-FRQ-Q3.html\">Question 3</a></td>\n",
    "    </tr>\n",
    "    <tr>\n",
    "      <td>Method and Control Structures</td>\n",
    "      <td><a href=\"https://pitsco.github.io/personal/c4.0/2024/02/25/CSA-FRQ-Q4.html\">Question 4</a></td>\n",
    "    </tr>\n",
    "  </tbody>\n",
    "</table>\n",
    "\n",
    "\n",
    "[Overall Issue (Connection to PBL)](https://github.com/Pitsco/personal/issues/6)"
   ]
  },
  {
   "cell_type": "markdown",
   "metadata": {},
   "source": [
    "<head>\n",
    "    <meta charset=\"UTF-8\">\n",
    "    <meta name=\"viewport\" content=\"width=device-width, initial-scale=1.0\">\n",
    "    <title>AP Exam Self Study Material</title>\n",
    "</head>\n",
    "<body>\n",
    "    <h1>Self Study for AP Exam Material</h1>\n",
    "    <table border=\"1\">\n",
    "        <thead>\n",
    "            <tr>\n",
    "                <th>Topic</th>\n",
    "                <th>Link to Browser</th>\n",
    "            </tr>\n",
    "        </thead>\n",
    "        <tbody>\n",
    "            <tr>\n",
    "                <td>Unit 1 – Primitive Types</td>\n",
    "                <td><a href=\"https://pitsco.github.io/personal/c4.0/2024/04/21/Unit-1-Study.html\">Unit 1</a></td>\n",
    "            </tr>\n",
    "            <tr>\n",
    "                <td>Unit 2 – Using Objects</td>\n",
    "                <td><a href=\"https://pitsco.github.io/personal/c4.0/2024/04/21/Unit-1-Study.html\">Unit 2</a></td>\n",
    "            </tr>\n",
    "            <tr>\n",
    "                <td>Unit 3 – Boolean Expressions</td>\n",
    "                <td><a href=\"https://pitsco.github.io/personal/c4.0/2024/04/21/Unit-1-Study.html\">Unit 3</a></td>\n",
    "            </tr>\n",
    "            <tr>\n",
    "                <td>Unit 4 – Iteration</td>\n",
    "                <td><a href=\"https://pitsco.github.io/personal/c4.0/2024/04/21/Unit-1-Study.html\">Unit 4</a></td>\n",
    "            </tr>\n",
    "            <tr>\n",
    "                <td>Unit 5 – Writing Classes</td>\n",
    "                <td><a href=\"https://pitsco.github.io/personal/c4.0/2024/04/21/Unit-1-Study.html\">Unit 5</a></td>\n",
    "            </tr>\n",
    "            <tr>\n",
    "                <td>Unit 6 – Array</td>\n",
    "                <td><a href=\"https://pitsco.github.io/personal/c4.0/2024/04/21/Unit-1-Study.html\">Unit 6</a></td>\n",
    "            </tr>\n",
    "            <tr>\n",
    "                <td>Unit 7 – Array List</td>\n",
    "                <td><a href=\"https://pitsco.github.io/personal/c4.0/2024/04/21/Unit-1-Study.html\">Unit 7</a></td>\n",
    "            </tr>\n",
    "            <tr>\n",
    "                <td>Unit 8 – 2D Array</td>\n",
    "                <td><a href=\"https://pitsco.github.io/personal/c4.0/2024/04/21/Unit-1-Study.html\">Unit 8</a></td>\n",
    "            </tr>\n",
    "            <tr>\n",
    "                <td>Unit 9 – Inheritance</td>\n",
    "                <td><a href=\"https://pitsco.github.io/personal/c4.0/2024/04/21/Unit-1-Study.html\">Unit 9</a></td>\n",
    "            </tr>\n",
    "            <tr>\n",
    "                <td>Unit 10 – Recursion</td>\n",
    "                <td><a href=\"https://pitsco.github.io/personal/c4.0/2024/04/21/Unit-1-Study.html\">Unit 10</a></td>\n",
    "            </tr>\n",
    "        </tbody>\n",
    "    </table>\n",
    "</body>"
   ]
  },
  {
   "cell_type": "markdown",
   "metadata": {},
   "source": [
    "# Techincal Examples:\n",
    "[Debugging Practice](https://github.com/Pitsco/personal/issues/7)\n",
    "\n",
    "\n",
    "\n",
    "[Deployment Practice and Reference](https://github.com/Pitsco/personal/issues/5)"
   ]
  },
  {
   "cell_type": "markdown",
   "metadata": {},
   "source": [
    "# Old References to Project Trimester 1: \n",
    "[Fibonacci Algorithms, Frontend and Backend with Explanations](https://pitsco.github.io/personal/2023/12/10/Fibonacci_Algorithm_Blog.html)\n",
    "\n",
    "[Sorting Algorithms, Frontend and Backend with Explanations](https://pitsco.github.io/personal/2023/12/10/Sorting-Algorithm-Blog.html)"
   ]
  },
  {
   "cell_type": "markdown",
   "metadata": {},
   "source": [
    "## [Machine Learning References](https://github.com/Pitsco/personal/issues/8)"
   ]
  }
 ],
 "metadata": {
  "language_info": {
   "name": "python"
  }
 },
 "nbformat": 4,
 "nbformat_minor": 2
}
