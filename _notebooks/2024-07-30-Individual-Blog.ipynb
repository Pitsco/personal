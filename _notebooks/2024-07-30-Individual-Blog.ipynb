{
 "cells": [
  {
   "cell_type": "markdown",
   "metadata": {},
   "source": [
    "---\n",
    "- title: Individual Blog\n",
    "- description: Fourth CSA FRQ and explanations\n",
    "- layout: post\n",
    "- courses: { csa: {week: 25} }\n",
    "- categories: [C4.0]\n",
    "- type: tangibles\n",
    "- comments: true\n",
    "---"
   ]
  },
  {
   "cell_type": "markdown",
   "metadata": {},
   "source": [
    "### [Individual Statistics Link](https://github.com/Pitsco)\n",
    "\n",
    "### [Linkedin](https://www.linkedin.com/in/derrick-huang-30a9b0240/)"
   ]
  },
  {
   "cell_type": "markdown",
   "metadata": {},
   "source": [
    "## Machine Learning References\n",
    "[Research Paper for CCIR](https://docs.google.com/document/d/1_575a5hAQGO-7pBOH6bUVmYaq5ABJVvQB9EGZTaP06M/edit)\n",
    "\n",
    "### Specific Presentations on Learning\n",
    "[Word2Vec: Skipgram](https://docs.google.com/presentation/d/18CeCmyvF00gdGHwpeWPgYNN8dw1TAhZpfrW7DAvfCB4/edit?usp=sharing)\n",
    "\n",
    "[Bias in Word Embeddings](https://docs.google.com/presentation/d/14LludgojSkUU3r244cm7zAvoUSyNO2165azcBWau0eo/edit?usp=sharing)\n",
    "\n",
    "[Spearman and Pearson](https://docs.google.com/presentation/d/1cGtHaCEioDsbvXH2LuOJKJQOjiGZNfryWEQrpImV7hQ/edit?usp=sharing)\n",
    "\n",
    "[Neural Networking](https://docs.google.com/presentation/d/1W0j50C2iT3YXFOsJPkln7BWABxgp8RjDaVmgDYLv79o/edit?usp=sharing)\n",
    "\n",
    "[Experiment with Text Classifier](https://docs.google.com/presentation/d/1mFr_T-aFGeSjsw-boKkq0RkYjctZsOPFIJ4_wXaI3v0/edit?usp=sharing)\n",
    "\n",
    "[Architecture with Transformers](https://docs.google.com/presentation/d/1crGu4XM_SPTvwpa7QyQOyaqaHh1EY2VlUeMU0pKXNBA/edit?usp=sharing)\n",
    "\n",
    "[Tokenization](https://docs.google.com/presentation/d/1Fzqv962cuaKwe3GyODgIhm8yJao_dIvu3vxjaaabyOU/edit?usp=sharing)\n",
    "\n",
    "# Favorite Projects:\n",
    "### [Project 1 with AI]({{site.baseurl}}/c4.0/2024/05/30/Second-Project.html)\n",
    "### [Project 2 with Sorting Algorithms]({{site.baseurl}}/c4.0/2024/05/30/First-Project.html)\n",
    "\n",
    "## Events I particpated in\n",
    "- [Images of N@TM, Sorting Algorithmic Dance]({{site.baseurl}}/c4.0/2024/05/30/Events-I-Participated-in.html)\n",
    "\n",
    "\n",
    "# AP Exam Self Study Material\n",
    "\n",
    "## College Board MC Review Examples\n",
    "\n",
    "- [2015 MC](https://pitsco.github.io/personal/c4.0/2023/12/22/CB-2015-quiz-notes.html)\n",
    "- [2014 MC](https://pitsco.github.io/personal/c4.0/2023/11/05/CollegeBoard-Practice-Test.html)\n",
    "\n",
    "## College Board FRQ Review Examples\n",
    "\n",
    "| Topic                               | Link to Question                                                                 |\n",
    "|-------------------------------------|---------------------------------------------------------------------------------|\n",
    "| Arraylist                           | [Question 1](https://pitsco.github.io/personal/c4.0/2024/02/19/CSA-FRQ-Q1.html)  |\n",
    "| Classes                             | [Question 2](https://pitsco.github.io/personal/c4.0/2024/02/23/CSA-FRQ-Q2.html)  |\n",
    "| 2D Arrays                           | [Question 3](https://pitsco.github.io/personal/c4.0/2024/02/24/CSA-FRQ-Q3.html)  |\n",
    "| Method and Control Structures       | [Question 4](https://pitsco.github.io/personal/c4.0/2024/02/25/CSA-FRQ-Q4.html)  |\n",
    "\n",
    "## Overall Issue (Connection to PBL)\n",
    "\n",
    "- [Overall Issue (Connection to PBL)](https://github.com/Pitsco/personal/issues/6)\n",
    "\n",
    "## Unit Study Material\n",
    "\n",
    "| Unit                               | Link to Browser                                                                   |\n",
    "|------------------------------------|------------------------------------------------------------------------------------|\n",
    "| Unit 1 – Primitive Types           | [Unit 1](https://pitsco.github.io/personal/c4.0/2024/04/21/Unit-1-Study.html)      |\n",
    "| Unit 2 – Using Objects             | [Unit 2](https://pitsco.github.io/personal/c4.0/2024/04/21/Unit-1-Study.html)      |\n",
    "| Unit 3 – Boolean Expressions       | [Unit 3](https://pitsco.github.io/personal/c4.0/2024/04/21/Unit-1-Study.html)      |\n",
    "| Unit 4 – Iteration                 | [Unit 4](https://pitsco.github.io/personal/c4.0/2024/04/21/Unit-1-Study.html)      |\n",
    "| Unit 5 – Writing Classes           | [Unit 5](https://pitsco.github.io/personal/c4.0/2024/04/21/Unit-1-Study.html)      |\n",
    "| Unit 6 – Array                     | [Unit 6](https://pitsco.github.io/personal/c4.0/2024/04/21/Unit-1-Study.html)      |\n",
    "| Unit 7 – Array List                | [Unit 7](https://pitsco.github.io/personal/c4.0/2024/04/21/Unit-1-Study.html)      |\n",
    "| Unit 8 – 2D Array                  | [Unit 8](https://pitsco.github.io/personal/c4.0/2024/04/21/Unit-1-Study.html)      |\n",
    "| Unit 9 – Inheritance               | [Unit 9](https://pitsco.github.io/personal/c4.0/2024/04/21/Unit-1-Study.html)      |\n",
    "| Unit 10 – Recursion                | [Unit 10](https://pitsco.github.io/personal/c4.0/2024/04/21/Unit-1-Study.html)     |\n",
    "\n",
    "## Technical Examples\n",
    "\n",
    "- [Debugging Practice](https://github.com/Pitsco/personal/issues/7)\n",
    "- [Deployment Practice and Reference](https://github.com/Pitsco/personal/issues/5)"
   ]
  }
 ],
 "metadata": {
  "language_info": {
   "name": "python"
  }
 },
 "nbformat": 4,
 "nbformat_minor": 2
}
