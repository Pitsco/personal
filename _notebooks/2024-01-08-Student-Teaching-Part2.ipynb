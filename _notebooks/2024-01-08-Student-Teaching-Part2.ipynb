{
 "cells": [
  {
   "cell_type": "markdown",
   "metadata": {},
   "source": [
    "---\n",
    "- title: Student Teaching Part 2\n",
    "- description: Student Teaching Part 2 + Key Indicators\n",
    "- layout: post\n",
    "- courses: { csa: {week: 17} }\n",
    "- categories: [C4.0]\n",
    "- type: tangibles\n",
    "---"
   ]
  },
  {
   "cell_type": "markdown",
   "metadata": {},
   "source": [
    "Blog showing your and  key assets and projects\n",
    "\n",
    "College Board prep and assets\n",
    "\n",
    "Blog timebox / Key Issues and other organization showing how you know where you have been and where you are going \n",
    "\n",
    "GitHub commits for first half of the year\n",
    "\n",
    "Something you are passionate about in the upcoming project\n",
    "\n",
    "Anything else you want to talk about"
   ]
  },
  {
   "cell_type": "markdown",
   "metadata": {},
   "source": [
    "# P1, Derrick Huang, Happy New Year\n",
    "\n",
    "|  | Score, Grader Verification | Runtime | Extras | Key Indicators: Blog, GitHub File(s) and Key Commits |\n",
    "|---|---|---|---|---|\n",
    "| SASS hacks | 0.95, graded by Vishnu | [SASS Blog](https://pitsco.github.io/personal/c4.0/2023/12/05/FinalSASSLesson.html) |  | [SASS Notebook](https://github.com/Pitsco/personal/blob/main/_notebooks/2023-12-05-FinalSASSLesson.ipynb), [Popcorn hacks + hacks commit](https://github.com/Pitsco/personal/commit/a2283030a1b985650853209c4ffc9901e538bbae) |                                                      \n",
    "| jQuery hacks | 0.90, graded by Finn | [CRUD, Jquery Blog](https://pitsco.github.io/personal/c4.0/2023/12/07/CRUD-JQUERY-HACKS.html) |  | [CRUD, Jquery Notebook](https://github.com/Pitsco/personal/blob/main/_notebooks/2023-12-07-CRUD-JQUERY-HACKS.ipynb), [Popcorn hacks + hacks commit](https://github.com/Pitsco/personal/commit/fc383d50a51b58557bc0d09c9a3fad90b516dab2) |\n",
    "| Thymeleaf hacks | N/A | N/A | N/A | [404 Page Implemented onto miniproject commit](https://github.com/CSA-Tri-2/JDK-backend/commit/8d6b2ab1f3942db11c1d5c7fe7384fd84239d41e) |\n",
    "| SQL, HashMap hacks | 0.95, graded by AJ | [SQL, Hashmap Blog](https://pitsco.github.io/personal/2023/12/13/HashmapsHashsetsCollections.html) | Created notes based on Person.java, seen at the bottom of blog | [SQL, Hashmap Notebook](https://github.com/Pitsco/personal/blob/main/_notebooks/2023-12-13-HashmapsHashsetsCollections.ipynb), [Popcorn hacks + hacks commit](https://github.com/Pitsco/personal/commit/fc383d50a51b58557bc0d09c9a3fad90b516dab2) |\n",
    "| JWT hacks | 0.89, by Kevin | [JWT Blog](https://pitsco.github.io/personal/c4.0/2023/12/19/JWTLesson.html) |  | [JWT Notebook](https://github.com/Pitsco/personal/blob/main/_notebooks/2023-12-19-JWTLesson.ipynb), [Popcorn hacks + hacks commit](https://github.com/Pitsco/personal/commit/d39e78fc74f464977c860dbe6493b59e1441b03b), [Draw.io diagram commit](https://github.com/Pitsco/personal/commit/0558a499e2769265aa37022b88308694bb75e093)|\n",
    "| CORS, dotEnv, Exploits hacks | 1/1 | N/A | N/A | [Individual contribution to teaching lesson](https://github.com/Pitsco/personal/blob/main/_notebooks/2023-12-18-XSS-lesson.ipynb) |\n",
    "| CB Quiz | 29/39, 1.3/2 | [CB Quiz Blog](https://pitsco.github.io/personal/c4.0/2023/12/22/CB-2015-quiz-notes.html) | Code runtime for each question missed | [CB Quiz Notebook](https://github.com/Pitsco/personal/blob/main/_notebooks/2023-12-22-CB-2015-quiz-notes.ipynb), [~8 small commits with corrections](https://github.com/Pitsco/personal/commits/main/?author=Pitsco&since=2023-12-22&until=2024-01-07), [Glows and Grows Commit](https://github.com/Pitsco/personal/commit/b0b4d9866c9e559e4c7e4a6b6c620d4a9c9c51ef) |             \n",
    "| Totals: | Median Score: 0.95 | Number complete: 5 | Extra Count effort: 2 | Key Commit Count: 8 |\n",
    "\n",
    "### [Extra](https://github.com/Pitsco/personal/issues/3)"
   ]
  }
 ],
 "metadata": {
  "kernelspec": {
   "display_name": "Java",
   "language": "java",
   "name": "java"
  },
  "language_info": {
   "codemirror_mode": "java",
   "file_extension": ".jshell",
   "mimetype": "text/x-java-source",
   "name": "java",
   "pygments_lexer": "java",
   "version": "17.0.9+9-Ubuntu-122.04"
  }
 },
 "nbformat": 4,
 "nbformat_minor": 2
}
