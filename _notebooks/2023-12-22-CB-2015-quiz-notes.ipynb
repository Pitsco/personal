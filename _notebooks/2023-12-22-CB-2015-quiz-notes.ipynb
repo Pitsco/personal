{
 "cells": [
  {
   "cell_type": "markdown",
   "metadata": {},
   "source": [
    "---\n",
    "- title: 2015 CollegeBoard MCQ Review\n",
    "- description: Blog on corrections, journey, learnings, discovery\n",
    "- layout: post\n",
    "- courses: { csa: {week: 17} }\n",
    "- categories: [C4.0]\n",
    "- type: tangibles\n",
    "---"
   ]
  },
  {
   "cell_type": "markdown",
   "metadata": {},
   "source": [
    "# Corrections:\n",
    "## Question 9:\n",
    "![d](https://raw.githubusercontent.com/Pitsco/personal/main/images/cb-corrections1.png)"
   ]
  },
  {
   "cell_type": "markdown",
   "metadata": {},
   "source": [
    "When first analyzing this question, I first thought if a dice is 1 to 6, inclusive, it must contain integers 1 through 6. That must mean integers 1, 2, 3, 4, 5, 6, are included (which is 6 numbers). Therefore, options B and D should be out of the equation. I probably misclicked with B as I meant to select A. This means that we are left with options A, C, and E. The reason why I chose A initially is because I didn't see the word \"independent\", and therefore chosing A means that it would only generate 1 random int from the range (0 to 5, because of its index) and not 2 seperate dices. \n",
    "\n",
    "We are now left with 2 options, C and E. Both answers contain Math.random to generate a double value from 0 to 1. If we were to multiply by 6, we would get a range from 0 to 6. Transforming the value by using `int` will change the double value to an int value, and therefore changing the range to 0 to 5. \n",
    "\n",
    "The reason the answer is not C, but E is because of the range. As mentioned above, the range will be from 0 to 5, granting only a dice that generates numbers from 0 to 5. Adding 2 will make up the range for 1 to 6 since adding 1 (2 times) will shift the dices range from 0-5 to 1-6. Essentially, the answer should be `1 + (int)(Math.random()*6) + 1 + (int)(Math.random()*6)`, but it is shortened to `2 + (int)(Math.random()*6) + (int)(Math.random()*6)`. \n",
    "\n",
    "Down below I show a simple demonstration of how this works:"
   ]
  },
  {
   "cell_type": "code",
   "execution_count": 18,
   "metadata": {},
   "outputs": [
    {
     "name": "stdout",
     "output_type": "stream",
     "text": [
      "Simplified Version\n",
      "The sum of two dice rolls is: 10\n",
      " \n",
      "Unsimplified Version\n"
     ]
    },
    {
     "name": "stdout",
     "output_type": "stream",
     "text": [
      "The sum of two dice rolls is: 12\n"
     ]
    }
   ],
   "source": [
    "System.out.println(\"Simplified Version\");\n",
    "public class DiceSimulationSimplified {\n",
    "    public static void main(String[] args) {\n",
    "        int die1 = (int)(Math.random() *6) + 1; //using Math.random function, we generate a random number from 1 to 6\n",
    "        int die2 = (int)(Math.random() *6) + 1; //does it again\n",
    "        int sum = die1 + die2; //adding both dies together\n",
    "\n",
    "        System.out.println(\"The sum of two dice rolls is: \" + sum);\n",
    "    }\n",
    "}\n",
    "DiceSimulationSimplified.main(null);\n",
    "\n",
    "System.out.println(\" \");\n",
    "System.out.println(\"Unsimplified Version\");\n",
    "public class DiceSimulationUnsimplfied {\n",
    "    public static void main(String[] args) {\n",
    "        int sum = 2 + (int)(Math.random() * 6) + (int)(Math.random() * 6);//combining both functions above\n",
    "\n",
    "        System.out.println(\"The sum of two dice rolls is: \" + sum);\n",
    "    }\n",
    "}\n",
    "\n",
    "DiceSimulationUnsimplfied.main(null);"
   ]
  },
  {
   "cell_type": "markdown",
   "metadata": {},
   "source": [
    "## Question 12:\n",
    "![232](https://raw.githubusercontent.com/Pitsco/personal/main/images/cb-corrections2.png)"
   ]
  },
  {
   "cell_type": "markdown",
   "metadata": {},
   "source": [
    "When I first initially solved this problem, I spent roughly 1 minute on it. It should not be that hard as it is a simple boolean expression. I kind of rushed through this problem without giving it enough thought. I did this problem again with the analysis down below.\n",
    "\n",
    "### Here is a breakdown with step by step analysis:\n",
    "Expression: (x && y) && !(x || y)\n",
    "\n",
    "Let's assume x and y are both true\n",
    "\n",
    "Step 1: `(x && y)` - If both x and y are true, (x && y) should result in the boolean value of true\n",
    "\n",
    "Step 2: `(x || y)` - If both x and y are true, (x || y) should result in the boolean value of true (even if only one variable is true)\n",
    "\n",
    "Step 3: `!(x || y)` - This means that if the expression (x || y) were to be true, then it would become false because of the \"NOT\" (!) operator. In our case, it would change (x || y) from becoming true to false\n",
    "\n",
    "Step 4: `(x && y) && !(x || y)` - Combining it all together, we have the expression (x && y), which is true, and !(x || y), which is false, which would result in (true && false), which equals false. \n",
    "\n",
    "### This code also relates with DeMorgan's Law: \n",
    "![d](https://blog.penjee.com/wp-content/uploads/2016/12/demorgans-law-formula_all.png)\n",
    "\n",
    "With the notation `!(x || y)`, DeMorgan's Law allows us to change that to `(!x && !y)`, which means if both x and y were set initially to true, that means both values would turn to false. If both x and y are false, then the expression `(!x && !y)` would result in false. \n",
    "\n",
    "### Down below I also show it with code:"
   ]
  },
  {
   "cell_type": "code",
   "execution_count": 17,
   "metadata": {},
   "outputs": [
    {
     "name": "stdout",
     "output_type": "stream",
     "text": [
      "Simplified Example:\n",
      "Result: false\n",
      " \n"
     ]
    },
    {
     "name": "stdout",
     "output_type": "stream",
     "text": [
      "Unsimplified Example: \n",
      "Step 1: true\n",
      "Step 2: true\n",
      "Step 3: false\n",
      "Step 4: false\n"
     ]
    }
   ],
   "source": [
    "System.out.println(\"Simplified Example:\" );\n",
    "public class BooleanSimplifiedExample {\n",
    "    public static void main(String[] args) {\n",
    "        boolean x = true;\n",
    "        boolean y = true;\n",
    "        boolean result = (x && y) && !(x || y);\n",
    "        System.out.println(\"Result: \" + result);\n",
    "    }\n",
    "}\n",
    "BooleanSimplifiedExample.main(null);\n",
    "\n",
    "System.out.println(\" \");\n",
    "System.out.println(\"Unsimplified Example: \");\n",
    "public class BooleanUnsimplifiedExample {\n",
    "    public static void main(String[] args) {\n",
    "        boolean x = true;\n",
    "        boolean y = true;\n",
    "\n",
    "        boolean result1 = (x && y); //Step 1 with the AND boolean expression\n",
    "        boolean result2 = (x || y); //Step 2 with the OR boolean expression\n",
    "        boolean result3 = !(result2); //Step 3 with the NOT boolean expression\n",
    "        boolean result4 = (result1) && (result3); //Step 4 with the AND boolean expression\n",
    "\n",
    "        System.out.println(\"Step 1: \" + result1);\n",
    "        System.out.println(\"Step 2: \" + result2);\n",
    "        System.out.println(\"Step 3: \" + result3);\n",
    "        System.out.println(\"Step 4: \" + result4);\n",
    "    }\n",
    "}\n",
    "BooleanUnsimplifiedExample.main(null);"
   ]
  },
  {
   "cell_type": "markdown",
   "metadata": {},
   "source": [
    "## Question 13:\n",
    "![d](https://raw.githubusercontent.com/Pitsco/personal/main/images/cb-corrections3.png)\n"
   ]
  },
  {
   "cell_type": "markdown",
   "metadata": {},
   "source": [
    "To be honest, when I first looked at the answer I chose, I don't understand why I chose that. The array I chose grew in increments of 3 for every index. The mystery value is equivalent to three, so I might have been confused with that. \n",
    "\n",
    "Now further analyzing the code, the answer should be A because if we were to test the first three index:\n",
    "\n",
    "1st iteration:\n",
    "k = 1, x = 3 because mystery(3) is called, so `numbers[1] = numbers[0] + 3` --> `numbers[1] = 17 + 3`, therefore the 1st index in the new array is 20.\n",
    "\n",
    "2nd iteration:\n",
    "k = 1 + 3, k = 4\n",
    "k = 4, x = 3 because mystery(3) is called, so `numbers[4] = numbers[3] + 3` --> `numbers[4] = 42 + 3`, therefore the 4th index in the new array is 45.\n",
    "\n",
    "3rd iteration:\n",
    "k = 4 + 3, k = 7\n",
    "k = 7, x = 3 because mystery(3) is called, so `numbers[7] = numbers[6] + 3` --> `numbers[7] = 48 + 3`, therefore the 7th index in the new array is 51.\n",
    "\n",
    "The other numbers remain unchanged. \n",
    "\n",
    "Down below is code to show the process as well."
   ]
  },
  {
   "cell_type": "code",
   "execution_count": 20,
   "metadata": {},
   "outputs": [
    {
     "name": "stdout",
     "output_type": "stream",
     "text": [
      "Initial numbers:\n",
      "17 34 21 42 15 69 48 25 39 \n",
      " \n",
      "Numbers after mystery(3):\n",
      "17 20 21 42 45 69 48 51 39 \n"
     ]
    }
   ],
   "source": [
    "public class MysteryArray {\n",
    "    private int[] numbers;\n",
    "\n",
    "    public MysteryArray(int[] numbers) { //constructor\n",
    "        this.numbers = numbers;\n",
    "    }\n",
    "\n",
    "    public void mystery(int x) { //code from questino\n",
    "        for (int k = 1; k < numbers.length; k = k + x) {\n",
    "            numbers[k] = numbers[k - 1] + x;\n",
    "        }\n",
    "    }\n",
    "\n",
    "    public void printNumbers() { //printing the numbers not seperately, displays nicely\n",
    "        for (int number : numbers) {\n",
    "            System.out.print(number + \" \");\n",
    "        }\n",
    "        System.out.println();\n",
    "    }\n",
    "\n",
    "    public static void main(String[] args) {\n",
    "        int[] initialNumbers = {17, 34, 21, 42, 15, 69, 48, 25, 39};\n",
    "        MysteryArray mysteryArray = new MysteryArray(initialNumbers);\n",
    "\n",
    "        System.out.println(\"Initial numbers:\");\n",
    "        mysteryArray.printNumbers();\n",
    "\n",
    "        mysteryArray.mystery(3);\n",
    "\n",
    "        System.out.println(\" \");\n",
    "        System.out.println(\"Numbers after mystery(3) is called:\");\n",
    "        mysteryArray.printNumbers();\n",
    "    }\n",
    "}\n",
    "\n",
    "MysteryArray.main(null);"
   ]
  },
  {
   "cell_type": "markdown",
   "metadata": {},
   "source": [
    "\n",
    "### Question 22:\n",
    "![d](https://raw.githubusercontent.com/Pitsco/personal/main/images/cb-corrections4.png)\n",
    "\n",
    "\n",
    "### Question 26:\n",
    "![d](https://raw.githubusercontent.com/Pitsco/personal/main/images/cb-corrections5.png)\n",
    "\n",
    "\n",
    "### Question 30:\n",
    "![d](https://raw.githubusercontent.com/Pitsco/personal/main/images/cb-corrections6.png)\n",
    "\n",
    "\n",
    "### Question 32:\n",
    "![d](https://raw.githubusercontent.com/Pitsco/personal/main/images/cb-corrections7.png)\n",
    "\n",
    "\n",
    "### Question 33:\n",
    "![d](https://raw.githubusercontent.com/Pitsco/personal/main/images/cb-corrections8.png)\n",
    "\n",
    "\n",
    "### Question 34:\n",
    "![d](https://raw.githubusercontent.com/Pitsco/personal/main/images/cb-corrections9.png)\n",
    "\n",
    "\n",
    "### Question 38:\n",
    "![d](https://raw.githubusercontent.com/Pitsco/personal/main/images/cb-corrections10.png)"
   ]
  },
  {
   "cell_type": "markdown",
   "metadata": {},
   "source": [
    "# Journey, Learning, Discovery (reflection)\n",
    "\n",
    "![d](https://raw.githubusercontent.com/Pitsco/personal/main/images/cb-corrections11.png)\n",
    "\n",
    " Upon reflecting on my recent College Board test, I noticed a couple of areas where I need to up my game. Keeping an eye on object types and Boolean types, especially De Morgan's Law, is something I realized needs more attention. Arrays and array lists gave me a hard time in the last test, so I'm still working on getting the hang of them for the next one. On the bright side, I did see some progress in understanding inheritance and recursion. Overall, I've got my sights set on smoothing out the rough spots and building on what's going well for better performance in the upcoming tests."
   ]
  }
 ],
 "metadata": {
  "kernelspec": {
   "display_name": "Java",
   "language": "java",
   "name": "java"
  },
  "language_info": {
   "codemirror_mode": "java",
   "file_extension": ".jshell",
   "mimetype": "text/x-java-source",
   "name": "java",
   "pygments_lexer": "java",
   "version": "17.0.9+9-Ubuntu-122.04"
  }
 },
 "nbformat": 4,
 "nbformat_minor": 2
}
