{
 "cells": [
  {
   "cell_type": "markdown",
   "metadata": {},
   "source": [
    "---\n",
    "- title: 2015 CollegeBoard MCQ Review\n",
    "- description: Blog on corrections, journey, learnings, discovery\n",
    "- layout: post\n",
    "- courses: { csa: {week: 17} }\n",
    "- categories: [C4.0]\n",
    "- type: tangibles\n",
    "---"
   ]
  },
  {
   "cell_type": "markdown",
   "metadata": {},
   "source": [
    "# Corrections:\n",
    "## Question 9:\n",
    "![d](https://raw.githubusercontent.com/Pitsco/personal/main/images/cb-corrections1.png)"
   ]
  },
  {
   "cell_type": "markdown",
   "metadata": {},
   "source": [
    "When first analyzing this question, I first thought if a dice is 1 to 6, inclusive, it must contain integers 1 through 6. That must mean integers 1, 2, 3, 4, 5, 6, are included (which is 6 numbers). Therefore, options B and D should be out of the equation. I probably misclicked with B as I meant to select A. This means that we are left with options A, C, and E. The reason why I chose A initially is because I didn't see the word \"independent\", and therefore chosing A means that it would only generate 1 random int from the range (0 to 5, because of its index) and not 2 seperate dices. \n",
    "\n",
    "We are now left with 2 options, C and E. Both answers contain Math.random to generate a double value from 0 to 1. If we were to multiply by 6, we would get a range from 0 to 6. Transforming the value by using `int` will change the double value to an int value, and therefore changing the range to 0 to 5. \n",
    "\n",
    "The reason the answer is not C, but E is because of the range. As mentioned above, the range will be from 0 to 5, granting only a dice that generates numbers from 0 to 5. Adding 2 will make up the range for 1 to 6 since adding 1 (2 times) will shift the dices range from 0-5 to 1-6. Essentially, the answer should be `1 + (int)(Math.random()*6) + 1 + (int)(Math.random()*6)`, but it is shortened to `2 + (int)(Math.random()*6) + (int)(Math.random()*6)`. \n",
    "\n",
    "Down below I show a simple demonstration of how this works:"
   ]
  },
  {
   "cell_type": "code",
   "execution_count": 18,
   "metadata": {
    "vscode": {
     "languageId": "java"
    }
   },
   "outputs": [
    {
     "name": "stdout",
     "output_type": "stream",
     "text": [
      "Simplified Version\n",
      "The sum of two dice rolls is: 10\n",
      " \n",
      "Unsimplified Version\n"
     ]
    },
    {
     "name": "stdout",
     "output_type": "stream",
     "text": [
      "The sum of two dice rolls is: 12\n"
     ]
    }
   ],
   "source": [
    "System.out.println(\"Simplified Version\");\n",
    "public class DiceSimulationSimplified {\n",
    "    public static void main(String[] args) {\n",
    "        int die1 = (int)(Math.random() *6) + 1; //using Math.random function, we generate a random number from 1 to 6\n",
    "        int die2 = (int)(Math.random() *6) + 1; //does it again\n",
    "        int sum = die1 + die2; //adding both dies together\n",
    "\n",
    "        System.out.println(\"The sum of two dice rolls is: \" + sum);\n",
    "    }\n",
    "}\n",
    "DiceSimulationSimplified.main(null);\n",
    "\n",
    "System.out.println(\" \");\n",
    "System.out.println(\"Unsimplified Version\");\n",
    "public class DiceSimulationUnsimplfied {\n",
    "    public static void main(String[] args) {\n",
    "        int sum = 2 + (int)(Math.random() * 6) + (int)(Math.random() * 6);//combining both functions above\n",
    "\n",
    "        System.out.println(\"The sum of two dice rolls is: \" + sum);\n",
    "    }\n",
    "}\n",
    "\n",
    "DiceSimulationUnsimplfied.main(null);"
   ]
  },
  {
   "cell_type": "markdown",
   "metadata": {},
   "source": [
    "## Question 12:\n",
    "![232](https://raw.githubusercontent.com/Pitsco/personal/main/images/cb-corrections2.png)"
   ]
  },
  {
   "cell_type": "markdown",
   "metadata": {},
   "source": [
    "When I first initially solved this problem, I spent roughly 1 minute on it. It should not be that hard as it is a simple boolean expression. I kind of rushed through this problem without giving it enough thought. I did this problem again with the analysis down below.\n",
    "\n",
    "### Here is a breakdown with step by step analysis:\n",
    "Expression: (x && y) && !(x || y)\n",
    "\n",
    "Let's assume x and y are both true\n",
    "\n",
    "Step 1: `(x && y)` - If both x and y are true, `(x && y)` should result in the boolean value of true\n",
    "\n",
    "Step 2: `(x || y)` - If both x and y are true, `(x || y)` should result in the boolean value of true (even if only one variable is true)\n",
    "\n",
    "Step 3: `!(x || y)` - This means that if the expression `(x || y)` were to be true, then it would become false because of the \"NOT\" (!) operator. In our case, it would change (x || y) from becoming true to false\n",
    "\n",
    "Step 4: `(x && y) && !(x || y)` - Combining it all together, we have the expression (x && y), which is true, and !(x || y), which is false, which would result in (true && false), which equals false. \n",
    "\n",
    "### This code also relates with DeMorgan's Law: \n",
    "![d](https://blog.penjee.com/wp-content/uploads/2016/12/demorgans-law-formula_all.png)\n",
    "\n",
    "With the notation `!(x || y)`, DeMorgan's Law allows us to change that to `(!x && !y)`, which means if both x and y were set initially to true, that means both values would turn to false. If both x and y are false, then the expression `(!x && !y)` would result in false. \n",
    "\n",
    "### Down below I also show it with code:"
   ]
  },
  {
   "cell_type": "code",
   "execution_count": 17,
   "metadata": {
    "vscode": {
     "languageId": "java"
    }
   },
   "outputs": [
    {
     "name": "stdout",
     "output_type": "stream",
     "text": [
      "Simplified Example:\n",
      "Result: false\n",
      " \n"
     ]
    },
    {
     "name": "stdout",
     "output_type": "stream",
     "text": [
      "Unsimplified Example: \n",
      "Step 1: true\n",
      "Step 2: true\n",
      "Step 3: false\n",
      "Step 4: false\n"
     ]
    }
   ],
   "source": [
    "System.out.println(\"Simplified Example:\" );\n",
    "public class BooleanSimplifiedExample {\n",
    "    public static void main(String[] args) {\n",
    "        boolean x = true;\n",
    "        boolean y = true;\n",
    "        boolean result = (x && y) && !(x || y);\n",
    "        System.out.println(\"Result: \" + result);\n",
    "    }\n",
    "}\n",
    "BooleanSimplifiedExample.main(null);\n",
    "\n",
    "System.out.println(\" \");\n",
    "System.out.println(\"Unsimplified Example: \");\n",
    "public class BooleanUnsimplifiedExample {\n",
    "    public static void main(String[] args) {\n",
    "        boolean x = true;\n",
    "        boolean y = true;\n",
    "\n",
    "        boolean result1 = (x && y); //Step 1 with the AND boolean expression\n",
    "        boolean result2 = (x || y); //Step 2 with the OR boolean expression\n",
    "        boolean result3 = !(result2); //Step 3 with the NOT boolean expression\n",
    "        boolean result4 = (result1) && (result3); //Step 4 with the AND boolean expression\n",
    "\n",
    "        System.out.println(\"Step 1: \" + result1);\n",
    "        System.out.println(\"Step 2: \" + result2);\n",
    "        System.out.println(\"Step 3: \" + result3);\n",
    "        System.out.println(\"Step 4: \" + result4);\n",
    "    }\n",
    "}\n",
    "BooleanUnsimplifiedExample.main(null);"
   ]
  },
  {
   "cell_type": "markdown",
   "metadata": {},
   "source": [
    "## Question 13:\n",
    "![d](https://raw.githubusercontent.com/Pitsco/personal/main/images/cb-corrections3.png)\n"
   ]
  },
  {
   "cell_type": "markdown",
   "metadata": {},
   "source": [
    "To be honest, when I first looked at the answer I chose, I don't understand why I chose that. The array I chose grew in increments of 3 for every index. The mystery value is equivalent to three, so I might have been confused with that. \n",
    "\n",
    "Now further analyzing the code, the answer should be A because if we were to test the first three index:\n",
    "\n",
    "1st iteration:\n",
    "k = 1, x = 3 because mystery(3) is called, so `numbers[1] = numbers[0] + 3` --> `numbers[1] = 17 + 3`, therefore the 1st index in the new array is 20.\n",
    "\n",
    "2nd iteration:\n",
    "k = 1 + 3, k = 4\n",
    "k = 4, x = 3 because mystery(3) is called, so `numbers[4] = numbers[3] + 3` --> `numbers[4] = 42 + 3`, therefore the 4th index in the new array is 45.\n",
    "\n",
    "3rd iteration:\n",
    "k = 4 + 3, k = 7\n",
    "k = 7, x = 3 because mystery(3) is called, so `numbers[7] = numbers[6] + 3` --> `numbers[7] = 48 + 3`, therefore the 7th index in the new array is 51.\n",
    "\n",
    "The other numbers remain unchanged. \n",
    "\n",
    "Down below is code to show the process as well."
   ]
  },
  {
   "cell_type": "code",
   "execution_count": 20,
   "metadata": {
    "vscode": {
     "languageId": "java"
    }
   },
   "outputs": [
    {
     "name": "stdout",
     "output_type": "stream",
     "text": [
      "Initial numbers:\n",
      "17 34 21 42 15 69 48 25 39 \n",
      " \n",
      "Numbers after mystery(3):\n",
      "17 20 21 42 45 69 48 51 39 \n"
     ]
    }
   ],
   "source": [
    "public class MysteryArray {\n",
    "    private int[] numbers;\n",
    "\n",
    "    public MysteryArray(int[] numbers) { //constructor\n",
    "        this.numbers = numbers;\n",
    "    }\n",
    "\n",
    "    public void mystery(int x) { //code from question\n",
    "        for (int k = 1; k < numbers.length; k = k + x) {\n",
    "            numbers[k] = numbers[k - 1] + x;\n",
    "        }\n",
    "    }\n",
    "\n",
    "    public void printNumbers() { //printing the numbers not seperately, displays nicely\n",
    "        for (int number : numbers) {\n",
    "            System.out.print(number + \" \");\n",
    "        }\n",
    "        System.out.println();\n",
    "    }\n",
    "\n",
    "    public static void main(String[] args) {\n",
    "        int[] initialNumbers = {17, 34, 21, 42, 15, 69, 48, 25, 39};\n",
    "        MysteryArray mysteryArray = new MysteryArray(initialNumbers); //initializing new array, calling constructor\n",
    "\n",
    "        System.out.println(\"Initial numbers:\");\n",
    "        mysteryArray.printNumbers();\n",
    "\n",
    "        mysteryArray.mystery(3);\n",
    "\n",
    "        System.out.println(\" \");\n",
    "        System.out.println(\"Numbers after mystery(3) is called:\");\n",
    "        mysteryArray.printNumbers();\n",
    "    }\n",
    "}\n",
    "\n",
    "MysteryArray.main(null);"
   ]
  },
  {
   "cell_type": "markdown",
   "metadata": {},
   "source": [
    "### Question 22:\n",
    "![d](https://raw.githubusercontent.com/Pitsco/personal/main/images/cb-corrections4.png)\n"
   ]
  },
  {
   "cell_type": "markdown",
   "metadata": {},
   "source": [
    "From further analysis, I realized that the answer is A, and not D. I redid it the first time and thought it was E, but then I realized the error I made.\n",
    "\n",
    "How I thought it was D:\n",
    "I did not fully realize that r = 0, meaning that if numbers[0].length was set to the row length, which is 3, that means the outside for loop would iterate 3 times. That would give an error because the there are only two rows in the 2D array. Down below, you can tell that the output goes from 1 to 2, then 4 to 5, because the code segment prints out 3 rows and 2 columns."
   ]
  },
  {
   "cell_type": "code",
   "execution_count": 9,
   "metadata": {
    "vscode": {
     "languageId": "java"
    }
   },
   "outputs": [
    {
     "name": "stdout",
     "output_type": "stream",
     "text": [
      "1245"
     ]
    },
    {
     "name": "stderr",
     "output_type": "stream",
     "text": [
      "Caught an ArrayIndexOutOfBoundsException: Index 2 out of bounds for length 2\n",
      "java.lang.ArrayIndexOutOfBoundsException: Index 2 out of bounds for length 2\n",
      "\tat REPL.$JShell$15D$AnswerChoiceD.main($JShell$15D.java:25)\n",
      "\tat REPL.$JShell$22.do_it$($JShell$22.java:18)\n",
      "\tat java.base/jdk.internal.reflect.NativeMethodAccessorImpl.invoke0(Native Method)\n",
      "\tat java.base/jdk.internal.reflect.NativeMethodAccessorImpl.invoke(NativeMethodAccessorImpl.java:77)\n",
      "\tat java.base/jdk.internal.reflect.DelegatingMethodAccessorImpl.invoke(DelegatingMethodAccessorImpl.java:43)\n",
      "\tat java.base/java.lang.reflect.Method.invoke(Method.java:568)\n",
      "\tat io.github.spencerpark.ijava.execution.IJavaExecutionControl.lambda$execute$1(IJavaExecutionControl.java:95)\n",
      "\tat java.base/java.util.concurrent.FutureTask.run(FutureTask.java:264)\n",
      "\tat java.base/java.util.concurrent.ThreadPoolExecutor.runWorker(ThreadPoolExecutor.java:1136)\n",
      "\tat java.base/java.util.concurrent.ThreadPoolExecutor$Worker.run(ThreadPoolExecutor.java:635)\n",
      "\tat java.base/java.lang.Thread.run(Thread.java:840)\n"
     ]
    }
   ],
   "source": [
    "public class AnswerChoiceD {\n",
    "    public static void main(String[] args) {\n",
    "        int[][] numbers = {\n",
    "            {1, 2, 3},\n",
    "            {4, 5, 6}\n",
    "        };\n",
    "\n",
    "        try {\n",
    "            for (int r = 0; r < numbers[0].length; r++) {\n",
    "                for (int c = 0; c < numbers.length; c++) {\n",
    "                    System.out.print(numbers[r][c]);\n",
    "                }\n",
    "            }\n",
    "        } \n",
    "            catch (ArrayIndexOutOfBoundsException e) {\n",
    "                System.err.println(\"Caught an ArrayIndexOutOfBoundsException: \" + e.getMessage()); //catches the out of bounds error\n",
    "                e.printStackTrace();\n",
    "            }\n",
    "    }\n",
    "}\n",
    "\n",
    "AnswerChoiceD.main(null);"
   ]
  },
  {
   "cell_type": "markdown",
   "metadata": {},
   "source": [
    "How I thought it was E:\n",
    "As I caught my mistake with D, I looked at E instantly because it swapped the column and rows. However, the reason why this answer is wrong because of the way it prints out. It starts with index 0 for both rows and then prints it out like that chronologically. Therefore, it will print out the value of 142536."
   ]
  },
  {
   "cell_type": "code",
   "execution_count": 4,
   "metadata": {
    "vscode": {
     "languageId": "java"
    }
   },
   "outputs": [
    {
     "name": "stdout",
     "output_type": "stream",
     "text": [
      "142536"
     ]
    }
   ],
   "source": [
    "public class AnswerChoiceE {\n",
    "    public static void main(String[] args) {\n",
    "        int[][] numbers = {\n",
    "            {1, 2, 3},\n",
    "            {4, 5, 6}\n",
    "        };\n",
    "        \n",
    "        for (int c = 0; c < numbers[0].length; c++) {\n",
    "            for (int r = 0; r < numbers.length; r++) {\n",
    "                System.out.print(numbers[r][c]);\n",
    "            }\n",
    "        }\n",
    "    }\n",
    "}\n",
    "\n",
    "AnswerChoiceE.main(null);"
   ]
  },
  {
   "cell_type": "markdown",
   "metadata": {},
   "source": [
    "The reason why the answer is E is because it uses an enhanced for loop to print out the numbers in each row in order. The outer for loop starts off by going through the first row by printing out the int `n` for each row. It does that until there are no more rows that are needed to be printed out."
   ]
  },
  {
   "cell_type": "code",
   "execution_count": 11,
   "metadata": {
    "vscode": {
     "languageId": "java"
    }
   },
   "outputs": [
    {
     "name": "stdout",
     "output_type": "stream",
     "text": [
      "123456"
     ]
    }
   ],
   "source": [
    "public class AnswerChoiceA {\n",
    "    public static void main(String[] args) {\n",
    "        int[][] numbers = {\n",
    "            {1, 2, 3},\n",
    "            {4, 5, 6}\n",
    "        };\n",
    "\n",
    "        for (int[] row : numbers) {\n",
    "            for (int n : row) {\n",
    "                System.out.print(n);\n",
    "            }\n",
    "        }\n",
    "    }\n",
    "}\n",
    "\n",
    "AnswerChoiceA.main(null);"
   ]
  },
  {
   "cell_type": "markdown",
   "metadata": {},
   "source": [
    "### Question 26:\n",
    "![d](https://raw.githubusercontent.com/Pitsco/personal/main/images/cb-corrections5.png)"
   ]
  },
  {
   "cell_type": "markdown",
   "metadata": {},
   "source": [
    "To be honest I don't even know how I got this wrong. Did I misclick the answer? There was no point in selecting the option C as `String name = \"blackboard\"` was not modified at all.\n",
    "\n",
    "This question goes back to my revisions in question 13 because it has the same printing format as the method `start()` in the question by using a for loop:\n"
   ]
  },
  {
   "cell_type": "code",
   "execution_count": 1,
   "metadata": {
    "vscode": {
     "languageId": "java"
    }
   },
   "outputs": [],
   "source": [
    "public void printNumbers() { //printing the numbers not seperately, displays nicely\n",
    "    for (int number : numbers) {\n",
    "        System.out.print(number + \" \");\n",
    "    }\n",
    "    System.out.println();\n",
    "}"
   ]
  },
  {
   "cell_type": "markdown",
   "metadata": {},
   "source": [
    "Down in the example class below, I used the code from the question and showed how it works. Going back to the explanation above, the String name \"blackboard\" is not passed through the `changeIt()` method, and therefore is not changed at all. However, if I were to set the string \"word\" to \"blackboard\", it would return the substring of it locally in the method. However, it would not change if it is called back into the method `start()`. Shown down below:"
   ]
  },
  {
   "cell_type": "code",
   "execution_count": 33,
   "metadata": {
    "vscode": {
     "languageId": "java"
    }
   },
   "outputs": [
    {
     "name": "stdout",
     "output_type": "stream",
     "text": [
      "Word changed locally: black\n",
      "1 2 3 4 5 6 blackboard"
     ]
    }
   ],
   "source": [
    "public class Class {\n",
    "\n",
    "    public static void changeIt(int[] arr, int val, String word) {\n",
    "        arr = new int[5];\n",
    "        val = 0;\n",
    "        word = word.substring(0, 5);\n",
    "        System.out.println(\"Word changed locally: \" + word);\n",
    "\n",
    "        for (int k = 0; k < arr.length; k++) {\n",
    "            arr[k] = 0;\n",
    "        }\n",
    "    }\n",
    "\n",
    "    public static void start() {\n",
    "        int[] nums = {1, 2, 3, 4, 5};\n",
    "        int value = 6;\n",
    "        String name = \"blackboard\";\n",
    "        String word = \"blackboard\"; //example where the string \"blackboard\" is passed through the method changeIt()\n",
    "\n",
    "        changeIt(nums, value, name);\n",
    "\n",
    "        for (int k = 0; k < nums.length; k++) {\n",
    "            System.out.print(nums[k] + \" \");\n",
    "        }\n",
    "        System.out.print(value + \" \");\n",
    "        System.out.print(name);\n",
    "    }\n",
    "\n",
    "    public static void main(String[] args) {\n",
    "        start();\n",
    "    }\n",
    "}\n",
    "\n",
    "Class.main(null);"
   ]
  },
  {
   "cell_type": "markdown",
   "metadata": {},
   "source": [
    "### Question 30:\n",
    "![d](https://raw.githubusercontent.com/Pitsco/personal/main/images/cb-corrections6.png)"
   ]
  },
  {
   "cell_type": "markdown",
   "metadata": {},
   "source": [
    "This one is very easy as it is only asks for else if conditions. I most likely misclicked because it is very apparent that option 3 mixes the total cost of the boxes. Additionally, it states that `numBoxes > 0` so that condition will always be met. Option 1 is wrong because there is no else statement to prevent the next if statement from overriding the previous if statement."
   ]
  },
  {
   "cell_type": "code",
   "execution_count": 19,
   "metadata": {
    "vscode": {
     "languageId": "java"
    }
   },
   "outputs": [
    {
     "name": "stdout",
     "output_type": "stream",
     "text": [
      "Enter the number of boxes: "
     ]
    },
    {
     "name": "stdout",
     "output_type": "stream",
     "text": [
      "Option I: 25.0\n",
      "Option II: 15.0\n",
      "Option III: 25.0\n"
     ]
    }
   ],
   "source": [
    "import java.util.Scanner;\n",
    "\n",
    "public class InkPenPricing {\n",
    "    public static double getCostOptionI(int numBoxes) {\n",
    "        double totalCost = 0.0;\n",
    "        if (numBoxes >= 10) {\n",
    "            totalCost = numBoxes * 1.50;\n",
    "        }\n",
    "        if (numBoxes >= 5) {\n",
    "            totalCost = numBoxes * 3.00;\n",
    "        }\n",
    "        if (numBoxes > 0) {\n",
    "            totalCost = numBoxes * 5.00;\n",
    "        }\n",
    "        return totalCost;\n",
    "    }\n",
    "\n",
    "    public static double getCostOptionII(int numBoxes) {\n",
    "        double totalCost = 0.0;\n",
    "\n",
    "        if (numBoxes >= 10) {\n",
    "            totalCost = numBoxes * 1.50;\n",
    "        } \n",
    "        else if (numBoxes >= 5) {\n",
    "            totalCost = numBoxes * 3.00;\n",
    "        } \n",
    "        else {\n",
    "            totalCost = numBoxes * 5.00;\n",
    "        }\n",
    "        return totalCost;\n",
    "    }\n",
    "\n",
    "    public static double getCostOptionIII(int numBoxes) {\n",
    "        double totalCost = 0.0;\n",
    "        if (numBoxes > 0) {\n",
    "            totalCost = numBoxes * 5.00;\n",
    "        } \n",
    "        else if (numBoxes >= 5) {\n",
    "            totalCost = numBoxes * 3.00;\n",
    "        } \n",
    "        else if (numBoxes >= 10) {\n",
    "            totalCost = numBoxes * 1.50;\n",
    "        }\n",
    "        return totalCost;\n",
    "    }\n",
    "\n",
    "    public static void main(String[] args) {\n",
    "        Scanner scanner = new Scanner(System.in);\n",
    "        System.out.print(\"Enter the number of boxes: \");\n",
    "        int numBoxes = scanner.nextInt();\n",
    "        System.out.println(\"Option I: \" + getCostOptionI(numBoxes));\n",
    "        System.out.println(\"Option II: \" + getCostOptionII(numBoxes));\n",
    "        System.out.println(\"Option III: \" + getCostOptionIII(numBoxes));\n",
    "        scanner.close();\n",
    "    }\n",
    "}\n",
    "\n",
    "InkPenPricing.main(null);"
   ]
  },
  {
   "cell_type": "markdown",
   "metadata": {},
   "source": [
    "### Question 32:\n",
    "![d](https://raw.githubusercontent.com/Pitsco/personal/main/images/cb-corrections7.png)\n"
   ]
  },
  {
   "cell_type": "markdown",
   "metadata": {},
   "source": [
    "### Question 33:\n",
    "![d](https://raw.githubusercontent.com/Pitsco/personal/main/images/cb-corrections8.png)\n",
    "\n",
    "\n",
    "### Question 34:\n",
    "![d](https://raw.githubusercontent.com/Pitsco/personal/main/images/cb-corrections9.png)\n",
    "\n",
    "\n",
    "### Question 38:\n",
    "![d](https://raw.githubusercontent.com/Pitsco/personal/main/images/cb-corrections10.png)"
   ]
  },
  {
   "cell_type": "markdown",
   "metadata": {},
   "source": [
    "# Journey, Learning, Discovery (reflection)\n",
    "\n",
    "![d](https://raw.githubusercontent.com/Pitsco/personal/main/images/cb-corrections11.png)\n",
    "\n",
    " Upon reflecting on my recent College Board test, I noticed a couple of areas where I need to up my game. Keeping an eye on object types and Boolean types, especially De Morgan's Law, is something I realized needs more attention. Arrays and array lists gave me a hard time in the last test, so I'm still working on getting the hang of them for the next one. On the bright side, I did see some progress in understanding inheritance and recursion. Overall, I've got my sights set on smoothing out the rough spots and building on what's going well for better performance in the upcoming tests."
   ]
  }
 ],
 "metadata": {
  "kernelspec": {
   "display_name": "Java",
   "language": "java",
   "name": "java"
  },
  "language_info": {
   "codemirror_mode": "java",
   "file_extension": ".jshell",
   "mimetype": "text/x-java-source",
   "name": "Java",
   "pygments_lexer": "java",
   "version": "17.0.9+9-Ubuntu-122.04"
  }
 },
 "nbformat": 4,
 "nbformat_minor": 2
}
