{
 "cells": [
  {
   "cell_type": "markdown",
   "metadata": {},
   "source": [
    "---\n",
    "- title: 2015 CollegeBoard MCQ Review\n",
    "- description: Blog on corrections, journey, learnings, discovery\n",
    "- layout: post\n",
    "- courses: { csa: {week: 17} }\n",
    "- categories: [C4.0]\n",
    "- type: tangibles\n",
    "---"
   ]
  },
  {
   "cell_type": "markdown",
   "metadata": {},
   "source": [
    "# Corrections:\n",
    "### Question 9:\n",
    "![d](https://raw.githubusercontent.com/Pitsco/personal/main/images/cb-corrections1.png)"
   ]
  },
  {
   "cell_type": "markdown",
   "metadata": {},
   "source": [
    "When first analyzing this question, I first thought if a dice is 1 to 6, inclusive, it must contain integers 1 through 6. That must mean integers 1, 2, 3, 4, 5, 6, are included (which is 6 numbers). Therefore, options B and D should be out of the equation. I probably misclicked with B as I meant to select A. This means that we are left with options A, C, and E. The reason why I chose A initially is because I didn't see the word \"independent\", and therefore chosing A means that it would only generate 1 random int from the range (0 to 5, because of its index) and not 2 seperate dices. \n",
    "\n",
    "We are now left with 2 options, C and E. Both answers contain Math.random to generate a double value from 0 to 1. If we were to multiply by 6, we would get a range from 0 to 6. Transforming the value by using `int` will change the double value to an int value, and therefore changing the range to 0 to 5. \n",
    "\n",
    "The reason the answer is not C, but E is because of the range. As mentioned above, the range will be from 0 to 5, granting only a dice that generates numbers from 0 to 5. Adding 2 will make up the range for 1 to 6 since adding 1 (2 times) will shift the dices range from 0-5 to 1-6. Essentially, the answer should be `1 + (int)(Math.random()*6) + 1 + (int)(Math.random()*6)`, but it is shortened to `2 + (int)(Math.random()*6) + (int)(Math.random()*6)`. \n",
    "\n",
    "Down below I show a simple demonstration of how this works:"
   ]
  },
  {
   "cell_type": "code",
   "execution_count": 18,
   "metadata": {
    "vscode": {
     "languageId": "java"
    }
   },
   "outputs": [
    {
     "name": "stdout",
     "output_type": "stream",
     "text": [
      "Simplified Version\n",
      "The sum of two dice rolls is: 10\n",
      " \n",
      "Unsimplified Version\n"
     ]
    },
    {
     "name": "stdout",
     "output_type": "stream",
     "text": [
      "The sum of two dice rolls is: 12\n"
     ]
    }
   ],
   "source": [
    "System.out.println(\"Simplified Version\");\n",
    "public class DiceSimulationSimplified {\n",
    "    public static void main(String[] args) {\n",
    "        int die1 = (int) (Math.random() * 6) + 1; //using Math.random function, we generate a random number from 1 to 6\n",
    "        int die2 = (int) (Math.random() * 6) + 1; //does it again\n",
    "        int sum = die1 + die2; //adding both dies together\n",
    "\n",
    "        System.out.println(\"The sum of two dice rolls is: \" + sum);\n",
    "    }\n",
    "}\n",
    "DiceSimulationSimplified.main(null);\n",
    "\n",
    "System.out.println(\" \");\n",
    "System.out.println(\"Unsimplified Version\");\n",
    "public class DiceSimulationUnsimplfied {\n",
    "    public static void main(String[] args) {\n",
    "        int sum = 2 + (int) (Math.random() * 6) + (int) (Math.random() * 6);//combining both functions above\n",
    "\n",
    "        System.out.println(\"The sum of two dice rolls is: \" + sum);\n",
    "    }\n",
    "}\n",
    "\n",
    "DiceSimulationUnsimplfied.main(null);"
   ]
  },
  {
   "cell_type": "markdown",
   "metadata": {},
   "source": [
    "\n",
    "\n",
    "### Question 12:\n",
    "![232](https://raw.githubusercontent.com/Pitsco/personal/main/images/cb-corrections2.png)\n",
    "\n",
    "### Question 13:\n",
    "![d](https://raw.githubusercontent.com/Pitsco/personal/main/images/cb-corrections3.png)\n",
    "\n",
    "\n",
    "### Question 22:\n",
    "![d](https://raw.githubusercontent.com/Pitsco/personal/main/images/cb-corrections4.png)\n",
    "\n",
    "\n",
    "### Question 26:\n",
    "![d](https://raw.githubusercontent.com/Pitsco/personal/main/images/cb-corrections5.png)\n",
    "\n",
    "\n",
    "### Question 30:\n",
    "![d](https://raw.githubusercontent.com/Pitsco/personal/main/images/cb-corrections6.png)\n",
    "\n",
    "\n",
    "### Question 32:\n",
    "![d](https://raw.githubusercontent.com/Pitsco/personal/main/images/cb-corrections7.png)\n",
    "\n",
    "\n",
    "### Question 33:\n",
    "![d](https://raw.githubusercontent.com/Pitsco/personal/main/images/cb-corrections8.png)\n",
    "\n",
    "\n",
    "### Question 34:\n",
    "![d](https://raw.githubusercontent.com/Pitsco/personal/main/images/cb-corrections9.png)\n",
    "\n",
    "\n",
    "### Question 38:\n",
    "![d](https://raw.githubusercontent.com/Pitsco/personal/main/images/cb-corrections10.png)"
   ]
  },
  {
   "cell_type": "markdown",
   "metadata": {},
   "source": [
    "# Journey, Learning, Discovery (reflection)\n",
    "\n",
    "![d](https://raw.githubusercontent.com/Pitsco/personal/main/images/cb-corrections11.png)\n",
    "\n",
    " Upon reflecting on my recent College Board test, I noticed a couple of areas where I need to up my game. Keeping an eye on object types and Boolean types, especially De Morgan's Law, is something I realized needs more attention. Arrays and array lists gave me a hard time in the last test, so I'm still working on getting the hang of them for the next one. On the bright side, I did see some progress in understanding inheritance and recursion. Overall, I've got my sights set on smoothing out the rough spots and building on what's going well for better performance in the upcoming tests."
   ]
  }
 ],
 "metadata": {
  "kernelspec": {
   "display_name": "Java",
   "language": "java",
   "name": "java"
  },
  "language_info": {
   "codemirror_mode": "java",
   "file_extension": ".jshell",
   "mimetype": "text/x-java-source",
   "name": "Java",
   "pygments_lexer": "java",
   "version": "17.0.9+9-Ubuntu-122.04"
  }
 },
 "nbformat": 4,
 "nbformat_minor": 2
}
