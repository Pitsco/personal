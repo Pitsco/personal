{
 "cells": [
  {
   "cell_type": "markdown",
   "metadata": {},
   "source": [
    "---\n",
    "# this is YAML front matter\n",
    "- layout: post\n",
    "- title: Lab Notebook 4\n",
    "- description: Progress with hacks for week 3!\n",
    "- categories: [C4.0]\n",
    "- type: tangibles\n",
    "- courses: { csa: {week: 3} }\n",
    "---"
   ]
  }
 ],
 "metadata": {
  "language_info": {
   "name": "python"
  },
  "orig_nbformat": 4
 },
 "nbformat": 4,
 "nbformat_minor": 2
}
