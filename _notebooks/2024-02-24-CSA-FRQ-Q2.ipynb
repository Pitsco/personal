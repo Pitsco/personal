{
 "cells": [
  {
   "cell_type": "markdown",
   "metadata": {},
   "source": [
    "---\n",
    "- title: CSA FRQ 2\n",
    "- description: Second CSA FRQ and explanations\n",
    "- layout: post\n",
    "- courses: { csa: {week: 17} }\n",
    "- categories: [C4.0]\n",
    "- type: tangibles\n",
    "- comments: true\n",
    "---"
   ]
  },
  {
   "cell_type": "markdown",
   "metadata": {},
   "source": [
    "# CSA FRQ #1\n",
    "\n",
    "## Directions:\n",
    "### SHOW ALL YOUR WORK. REMEMBER THAT PROGRAM SEGMENTS ARE TO BE WRITTEN IN JAVA.\n",
    "\n",
    "### Notes:\n",
    "- Assume that the classes listed in the Java Quick Reference have been imported where appropriate.\n",
    "- Unless otherwise noted in the question, assume that parameters in method calls are not null and that methods are called only when their preconditions are satisfied.\n",
    "- In writing solutions for each question, you may use any of the accessible methods that are listed in classes defined in that question. Writing significant amounts of code that can be replaced by a call to one of these methods will not receive full credit.\n"
   ]
  },
  {
   "cell_type": "markdown",
   "metadata": {},
   "source": [
    "\n",
    "Consider a guessing game in which a player tries to guess a hidden word. The hidden word contains only capital letters and has a length known to the player. A guess contains only capital letters and has the same length as the hidden word.\n",
    "\n",
    "After a guess is made, the player is given a hint that is based on a comparison between the hidden word and the guess. Each position in the hint contains a character that corresponds to the letter in the same position in the guess. The following rules determine the characters that appear in the hint.\n",
    "\n",
    "![image](https://raw.githubusercontent.com/Pitsco/personal/main/images/cb2015/cb2015-2i.png)\n",
    "\n",
    "A table is shown with two columns titled If the letter in the guess is... on the left and the corresponding character in the hint is on the right. The first row reads also in the same position in the hidden word on the left, and the matching letter on the right. The second row reads also in the hidden word but in a different position on the left, and a plus sign on the right. The third row reads not in the hidden word on the left, and an asterisk on the right.\n",
    "\n",
    "The HiddenWord class will be used to represent the hidden word in the game. The hidden word is passed to the constructor. The class contains a method, getHint, that takes a guess and produces a hint.\n",
    "\n",
    "For example, suppose the variable puzzle is declared as follows.\n",
    "\n",
    "HiddenWord puzzle = new HiddenWord(\"HARPS\");\n",
    "\n",
    "The following table shows several guesses and the hints that would be produced.\n",
    "\n",
    "![image](https://raw.githubusercontent.com/Pitsco/personal/main/images/cb2015/cb2015-2ii.png)\n",
    "\n",
    "A table is shown with two columns titled Call to getHint on the left and String returned on the right. The first row reads puzzle dot getHint open parentheses \"AAAAA\" close parentheses on the left, and \"plus A plus plus plus\" on the right. The second row reads puzzle dot getHint open parentheses \"HELLO\" close parentheses on the left, and \"H asterisk asterisk asterisk asterisk\" on the right. The third row reads puzzle dot getHint open parentheses \"HEART\" close parentheses on the left, and \"H asterisk plus plus asterisk\" on the right. The fourth row reads puzzle dot getHint open parentheses \"HARMS\" close parentheses on the left, and \"HAR asterisk S\" on the right. The fifth row reads puzzle dot getHint open parentheses \"HARPS\" close parentheses on the left, and \"HARPS\" on the right.\n",
    "\n",
    "Write the complete HiddenWord class, including any necessary instance variables, its constructor, and the method, getHint, described above. You may assume that the length of the guess is the same as the length of the hidden word.\n"
   ]
  },
  {
   "cell_type": "markdown",
   "metadata": {},
   "source": [
    "### Static way of how code works\n"
   ]
  },
  {
   "cell_type": "code",
   "execution_count": 1,
   "metadata": {},
   "outputs": [
    {
     "name": "stdout",
     "output_type": "stream",
     "text": [
      "+A+++\n",
      "H****\n",
      "H*++*\n",
      "HAR*S\n",
      "HARPS\n"
     ]
    }
   ],
   "source": [
    "public class HiddenWord {\n",
    "    private String hiddenWord;\n",
    "\n",
    "    public HiddenWord(String word) { // Constructor\n",
    "        this.hiddenWord = word;\n",
    "    }\n",
    "\n",
    "    public String getHint(String guess) {// Method to get the hint based on the guess\n",
    "        StringBuilder hint = new StringBuilder();\n",
    "\n",
    "        for (int i = 0; i < hiddenWord.length(); i++) {// Check each letter in the guess against the hidden word\n",
    "            char guessChar = guess.charAt(i);\n",
    "            char hiddenChar = hiddenWord.charAt(i);\n",
    "\n",
    "            if (guessChar == hiddenChar) { // If the letter is in the same position, append the letter\n",
    "                hint.append(hiddenChar);\n",
    "            } else if (hiddenWord.indexOf(guessChar) != -1) {\n",
    "                hint.append(\"+\");// If the letter is in a different position, append a plus sign\n",
    "            } else {\n",
    "                hint.append(\"*\"); //if the letter is not in the hidden word, append an asterisk\n",
    "            }\n",
    "        }\n",
    "\n",
    "        return hint.toString();\n",
    "    }\n",
    "\n",
    "    public static void main(String[] args) {\n",
    "        HiddenWord puzzle = new HiddenWord(\"HARPS\");\n",
    "\n",
    "        System.out.println(puzzle.getHint(\"AAAAA\"));  \n",
    "        System.out.println(puzzle.getHint(\"HELLO\"));  \n",
    "        System.out.println(puzzle.getHint(\"HEART\")); \n",
    "        System.out.println(puzzle.getHint(\"HARMS\"));\n",
    "        System.out.println(puzzle.getHint(\"HARPS\"));   \n",
    "    }\n",
    "}\n",
    "\n",
    "HiddenWord.main(null);"
   ]
  },
  {
   "cell_type": "markdown",
   "metadata": {},
   "source": [
    "### User input with scanner"
   ]
  },
  {
   "cell_type": "code",
   "execution_count": 5,
   "metadata": {},
   "outputs": [
    {
     "name": "stdout",
     "output_type": "stream",
     "text": [
      "Enter the hidden word: "
     ]
    },
    {
     "name": "stdout",
     "output_type": "stream",
     "text": [
      "Enter your guess: Hint: +A+++\n",
      "Enter your guess: Hint: H****\n",
      "Enter your guess: Hint: H*++*\n",
      "Enter your guess: Hint: HAR*S\n",
      "Enter your guess: Hint: HARPS\n",
      "Congratulations! You guessed the hidden word.\n"
     ]
    }
   ],
   "source": [
    "import java.util.Scanner;\n",
    "\n",
    "public class HiddenWord {\n",
    "    private String hiddenWord;\n",
    "\n",
    "    public HiddenWord(String word) { //constructor\n",
    "        this.hiddenWord = word;\n",
    "    }\n",
    "\n",
    "    // Method to get the hint based on the guess\n",
    "    public String getHint(String guess) {\n",
    "        String hint = \"\";\n",
    "\n",
    "        // Check each letter in the guess against the hidden word\n",
    "        for (int i = 0; i < hiddenWord.length(); i++) {\n",
    "            char guessChar = guess.charAt(i);\n",
    "            char hiddenChar = hiddenWord.charAt(i);\n",
    "\n",
    "            hint += getHintCharacter(guessChar, hiddenChar);\n",
    "        }\n",
    "        return hint;\n",
    "    }\n",
    "\n",
    "    // Helper method to determine the hint character for a pair of characters\n",
    "    private String getHintCharacter(char guessChar, char hiddenChar) {\n",
    "        if (guessChar == hiddenChar) {\n",
    "            return String.valueOf(hiddenChar);\n",
    "        } \n",
    "        else if (hiddenWord.indexOf(guessChar) != -1) {\n",
    "            return \"+\";\n",
    "        } \n",
    "        else {\n",
    "            return \"*\";\n",
    "        }\n",
    "    }\n",
    "\n",
    "    public static void main(String[] args) {\n",
    "        Scanner scanner = new Scanner(System.in);\n",
    "\n",
    "        // Take input for the hidden word\n",
    "        System.out.print(\"Enter the hidden word: \");\n",
    "        String hiddenWord = scanner.next().toUpperCase(); // Convert to uppercase for consistency\n",
    "        HiddenWord puzzle = new HiddenWord(hiddenWord);\n",
    "\n",
    "        // Take multiple guesses until the correct word is guessed\n",
    "        while (true) {\n",
    "            System.out.print(\"Enter your guess: \");\n",
    "            String guess = scanner.next().toUpperCase(); // Convert to uppercase for consistency\n",
    "\n",
    "            if (guess.length() != hiddenWord.length()) {\n",
    "                System.out.println(\"Please enter a guess with the same length as the hidden word.\");\n",
    "                continue; // Skip the rest of the loop and ask for another guess\n",
    "            }\n",
    "\n",
    "            String hint = puzzle.getHint(guess);\n",
    "            System.out.println(\"Hint: \" + hint);\n",
    "\n",
    "            if (hint.equals(hiddenWord)) {\n",
    "                System.out.println(\"Congratulations! You guessed the hidden word.\");\n",
    "                break; // Exit the loop if the correct word is guessed\n",
    "            }\n",
    "        }\n",
    "        scanner.close();\n",
    "    }\n",
    "}\n",
    "\n",
    "HiddenWord.main(null);"
   ]
  },
  {
   "cell_type": "markdown",
   "metadata": {},
   "source": [
    "## Explanation and Reflection:\n",
    "\n",
    "Compared to the first quesiton with arrays, I find this question a bit more trickier because it isn't as straight forward. It may seem confusing to someone who hasn't ever played this game. In question 1, it was just iterating through arrays and finding the sum of that array. Now, we are required to build classes with constructors and methods that iterate through for loops to find whether or not a character is valid. \n",
    "\n",
    "When solving this question, the most important piece of code is:\n",
    "```cs\n",
    "public String getHint(String guess) {\n",
    "        StringBuilder hint = new StringBuilder();\n",
    "\n",
    "        for (int i = 0; i < hiddenWord.length(); i++) { //check each letter in the guess against the hidden word\n",
    "            char guessChar = guess.charAt(i);\n",
    "            char hiddenChar = hiddenWord.charAt(i);\n",
    "\n",
    "            if (guessChar == hiddenChar) {\n",
    "                hint.append(hiddenChar); //if the letter is in the same position, append the letter\n",
    "            } \n",
    "            else if (hiddenWord.indexOf(guessChar) != -1) { // same thing but using a + sign if letter is in the word but not in the right spot\n",
    "                hint.append(\"+\");\n",
    "            } \n",
    "            else { // If the letter is not in the hidden word, append an asterisk\n",
    "                hint.append(\"*\");\n",
    "            }\n",
    "        }\n",
    "        return hint.toString();\n",
    "    }\n",
    "```\n",
    "\n",
    "When first looking at the problem, it came to me that the question wanted me to build a program that is similar to Wordle. I was thinking about iterating through each character and then replacing the character based on if it was in the hidden word or not but that would be way too long and complicated. Instead, I used `StringBuilder` to easily modify the string after it has been constructed. \n",
    "\n"
   ]
  }
 ],
 "metadata": {
  "kernelspec": {
   "display_name": "Java",
   "language": "java",
   "name": "java"
  },
  "language_info": {
   "codemirror_mode": "java",
   "file_extension": ".jshell",
   "mimetype": "text/x-java-source",
   "name": "java",
   "pygments_lexer": "java",
   "version": "17.0.9+9-Ubuntu-122.04"
  }
 },
 "nbformat": 4,
 "nbformat_minor": 2
}
