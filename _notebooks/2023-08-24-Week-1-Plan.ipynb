{
 "cells": [
  {
   "cell_type": "markdown",
   "metadata": {},
   "source": [
    "---\n",
    "# this is YAML front matter\n",
    "- layout: post\n",
    "- title: Week 1 Plan\n",
    "- description: My plans on what I want to do day by day on week 1\n",
    "- categories: [C4.0]\n",
    "- type: plans\n",
    "- courses: { csa: {week: 1} }\n",
    "---"
   ]
  },
  {
   "cell_type": "markdown",
   "metadata": {},
   "source": [
    "# Thursday (8/24)\n",
    "- Read over blogs (Java Hello and Java Console Games)\n",
    "\n",
    "# Friday (8/25)\n",
    "- Talk with partner with our ideas for both hacks\n",
    "    - Possibly showing each other progress\n",
    "\n",
    "# Saturday (8/26)\n",
    "- Nothing\n",
    "\n",
    "# Sunday (8/27)\n",
    "- Create Category Folders\n",
    "    - Includes plans + lab notebooks\n",
    "\n",
    "# Monday (8/28)\n",
    "- Worked on Java Hello Hack\n",
    "\n",
    "# Tuesday (8/29)\n",
    "- Finish Java Hello hacks\n",
    "- Finish Week 0 Plans\n",
    "\n",
    "# Wednesday (8/30)\n",
    "- Adding Snake, Game of Life, and Calculator\n",
    "- Finish Week 1 + Week 2 plans\n",
    "- Finish Java Console Games hacks"
   ]
  }
 ],
 "metadata": {
  "language_info": {
   "name": "python"
  },
  "orig_nbformat": 4
 },
 "nbformat": 4,
 "nbformat_minor": 2
}
