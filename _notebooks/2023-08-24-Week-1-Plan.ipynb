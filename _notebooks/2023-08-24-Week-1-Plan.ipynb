{
 "cells": [
  {
   "cell_type": "markdown",
   "metadata": {},
   "source": [
    "---\n",
    "# this is YAML front matter\n",
    "- layout: post\n",
    "- title: Week 1 Plan\n",
    "- description: My plans on what I want to do day by day on week 1\n",
    "!\n",
    "- categories: [C4.0]\n",
    "- type: plans\n",
    "- courses: { csa: {week: 1} }\n",
    "---"
   ]
  },
  {
   "cell_type": "markdown",
   "metadata": {},
   "source": [
    "# Thursday (8/24)\n",
    "\n",
    "# Friday (8/25)\n",
    "\n",
    "# Saturday (8/26)\n",
    "\n",
    "# Sunday (8/27)\n",
    "\n",
    "# Monday (8/28)\n",
    "\n",
    "# Tuesday (8/29)\n",
    "\n",
    "# Wednesday (8/30)\n"
   ]
  }
 ],
 "metadata": {
  "language_info": {
   "name": "python"
  },
  "orig_nbformat": 4
 },
 "nbformat": 4,
 "nbformat_minor": 2
}
