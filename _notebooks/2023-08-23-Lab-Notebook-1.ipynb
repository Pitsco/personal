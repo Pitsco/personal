{
 "cells": [
  {
   "cell_type": "markdown",
   "metadata": {},
   "source": [
    "---\n",
    "# this is YAML front matter\n",
    "- layout: post\n",
    "- title: Lab Notebook 1\n",
    "- description: Progress with hacks for week 1!\n",
    "- categories: [C4.0]\n",
    "- type: tangibles\n",
    "- courses: { csa: {week: 1} }\n",
    "---"
   ]
  },
  {
   "cell_type": "markdown",
   "metadata": {},
   "source": [
    "# Java Hello\n"
   ]
  },
  {
   "cell_type": "code",
   "execution_count": 4,
   "metadata": {
    "vscode": {
     "languageId": "java"
    }
   },
   "outputs": [
    {
     "name": "stdout",
     "output_type": "stream",
     "text": [
      "2023 Toyota Camry is now running.\n",
      "2023 Toyota Camry is running.\n",
      "2023 Toyota Camry has stopped.\n",
      "2023 Toyota Camry has stopped.\n",
      "Updated year of the car: 2024\n"
     ]
    }
   ],
   "source": [
    "// class definition\n",
    "class Car {\n",
    "    // instance variables\n",
    "    private String make;\n",
    "    private String model;\n",
    "    private int year;\n",
    "    private boolean isRunning;\n",
    "\n",
    "    // constructor\n",
    "    public Car(String make, String model, int year) {\n",
    "        this.make = make;\n",
    "        this.model = model;\n",
    "        this.year = year;\n",
    "        this.isRunning = false;\n",
    "    }\n",
    "\n",
    "    // method to start the car\n",
    "    public void start() {\n",
    "        isRunning = true;\n",
    "        System.out.println(year + \" \" + make + \" \" + model + \" is now running.\");\n",
    "    }\n",
    "\n",
    "    // method to stop the car\n",
    "    public void stop() {\n",
    "        isRunning = false;\n",
    "        System.out.println(year + \" \" + make + \" \" + model + \" has stopped.\");\n",
    "    }\n",
    "\n",
    "    // method to check if the car is running\n",
    "    public boolean isCarRunning() {\n",
    "        return isRunning;\n",
    "    }\n",
    "\n",
    "    // method to set the year of the car\n",
    "    public void setYear(int newYear) {\n",
    "        year = newYear;\n",
    "    }\n",
    "\n",
    "    // method to get the year of the car\n",
    "    public int getYear() {\n",
    "        return year;\n",
    "    }\n",
    "\n",
    "    // method to get the make of the car\n",
    "    public String getMake() {\n",
    "        return make;\n",
    "    }\n",
    "\n",
    "    // method to get the model of the car\n",
    "    public String getModel() {\n",
    "        return model;\n",
    "    }\n",
    "}\n",
    "\n",
    "public class CarExample {\n",
    "    public static void main(String[] args) {\n",
    "        // instantiate an object of the Car class\n",
    "        Car myCar = new Car(\"Toyota\", \"Camry\", 2023);\n",
    "\n",
    "        // call methods on the object\n",
    "        myCar.start();\n",
    "        System.out.println(myCar.getYear() + \" \" + myCar.getMake() + \" \" + myCar.getModel() + \" is running.\");\n",
    "\n",
    "        myCar.stop();\n",
    "        System.out.println(myCar.getYear() + \" \" + myCar.getMake() + \" \" + myCar.getModel() + \" has stopped.\");\n",
    "\n",
    "        // method to change the year of the car\n",
    "        myCar.setYear(2024);\n",
    "        System.out.println(\"Updated year of the car: \" + myCar.getYear());\n",
    "    }\n",
    "}\n",
    "\n",
    "CarExample.main(null);\n"
   ]
  },
  {
   "cell_type": "markdown",
   "metadata": {},
   "source": [
    "## Explain Anatomy of a Class in comments of program (Diagram key parts of the class):"
   ]
  },
  {
   "cell_type": "code",
   "execution_count": 2,
   "metadata": {
    "vscode": {
     "languageId": "java"
    }
   },
   "outputs": [],
   "source": [
    "class Car {\n",
    "    // instance variables\n",
    "    private String make;\n",
    "    private String model;\n",
    "    private int year;\n",
    "    private boolean isRunning;\n",
    "\n",
    "    // constructor\n",
    "    public Car(String make, String model, int year) {\n",
    "        this.make = make;\n",
    "        this.model = model;\n",
    "        this.year = year;\n",
    "        this.isRunning = false;\n",
    "    }\n",
    "\n",
    "    // method to start the car\n",
    "    public void start() {\n",
    "        isRunning = true;\n",
    "        System.out.println(year + \" \" + make + \" \" + model + \" is now running.\");\n",
    "    }\n",
    "\n",
    "    // method to stop the car\n",
    "    public void stop() {\n",
    "        isRunning = false;\n",
    "        System.out.println(year + \" \" + make + \" \" + model + \" has stopped.\");\n",
    "    }\n",
    "\n",
    "    // method to check if the car is running\n",
    "    public boolean isCarRunning() {\n",
    "        return isRunning;\n",
    "    }\n",
    "\n",
    "    // method to set the year of the car\n",
    "    public void setYear(int newYear) {\n",
    "        year = newYear;\n",
    "    }\n",
    "\n",
    "    // method to get the year of the car\n",
    "    public int getYear() {\n",
    "        return year;\n",
    "    }\n",
    "\n",
    "    // method to get the make of the car\n",
    "    public String getMake() {\n",
    "        return make;\n",
    "    }\n",
    "\n",
    "    // method to get the model of the car\n",
    "    public String getModel() {\n",
    "        return model;\n",
    "    }\n",
    "}"
   ]
  },
  {
   "cell_type": "markdown",
   "metadata": {},
   "source": [
    "In this code snippet, the anatomy of the Car class is explained with comments:\n",
    "\n",
    "- The class is defined using the class keyword.\n",
    "- It has instance variables (make, model, year, isRunning) that hold information about the car's attributes.\n",
    "- A constructor is defined with parameters (make, model, year) that initialize the instance variables.\n",
    "- The class also contains other methods (not shown) to interact with the car object."
   ]
  },
  {
   "cell_type": "markdown",
   "metadata": {},
   "source": [
    "## Comment for Class Definition and Object Instantiation:"
   ]
  },
  {
   "cell_type": "code",
   "execution_count": 12,
   "metadata": {
    "vscode": {
     "languageId": "java"
    }
   },
   "outputs": [],
   "source": [
    "// Class definition\n",
    "class Car {\n",
    "    // ...\n",
    "}\n",
    "\n",
    "public class CarExample {\n",
    "    public static void main(String[] args) {\n",
    "        // Instantiate an object of the Car class\n",
    "        Car myCar = new Car(\"Toyota\", \"Camry\", 2023);\n",
    "        // ...\n",
    "    }\n",
    "    // ...\n",
    "}"
   ]
  },
  {
   "cell_type": "markdown",
   "metadata": {},
   "source": [
    "In this code snippet, the anatomy of the Car class is explained with comments:\n",
    "\n",
    "- The class is defined using the class keyword.\n",
    "- It has instance variables (make, model, year, isRunning) that hold information about the car's attributes.\n",
    "- A constructor is defined with parameters (make, model, year) that initialize the instance variables.\n",
    "- The class also contains other methods (not shown) to interact with the car object."
   ]
  },
  {
   "cell_type": "markdown",
   "metadata": {},
   "source": [
    "## Comment in code where there is a definition of a Class and an instance of a Class (ie object):"
   ]
  },
  {
   "cell_type": "code",
   "execution_count": null,
   "metadata": {
    "vscode": {
     "languageId": "java"
    }
   },
   "outputs": [],
   "source": [
    "// class definition\n",
    "class Car {\n",
    "\n",
    "}\n",
    "\n",
    "//instantiate an object of the Car class\n",
    "Car myCar = new Car(\"Toyota\", \"Camry\", 2023);\n"
   ]
  },
  {
   "cell_type": "markdown",
   "metadata": {},
   "source": [
    "- The class is defined with the comment \"Class definition.\"\n",
    "- An instance of the Car class is created and assigned to the variable myCar.\n",
    "- This line instantiates a new car object with the make \"Toyota,\" model \"Camry,\" and year 2023."
   ]
  },
  {
   "cell_type": "markdown",
   "metadata": {},
   "source": [
    "## Comment in code where there are constructors and highlight the signature difference in the signature:"
   ]
  },
  {
   "cell_type": "code",
   "execution_count": 5,
   "metadata": {
    "vscode": {
     "languageId": "java"
    }
   },
   "outputs": [],
   "source": [
    "class Car {\n",
    "    public Car(String make, String model, int year) {\n",
    "        this.make = make;\n",
    "        this.model = model;\n",
    "        this.year = year;\n",
    "        this.isRunning = false;\n",
    "    }\n",
    "}"
   ]
  },
  {
   "cell_type": "markdown",
   "metadata": {},
   "source": [
    "- The comment \"Constructor\" indicates the presence of a constructor within the Car class.\n",
    "- The constructor has a signature that includes three parameters: make (String), model (String), and year (int). This signature defines the inputs required to create an instance of the class."
   ]
  },
  {
   "cell_type": "markdown",
   "metadata": {},
   "source": [
    "## Call an object method with a parameter (i.e., setters):"
   ]
  },
  {
   "cell_type": "code",
   "execution_count": null,
   "metadata": {
    "vscode": {
     "languageId": "java"
    }
   },
   "outputs": [],
   "source": [
    "// method to set the year of the car\n",
    "public void setYear(int newYear) {\n",
    "    year = newYear;\n",
    "}\n",
    "\n",
    "// call the setYear method with a new year value\n",
    "setYear(myCar, 2024);"
   ]
  },
  {
   "cell_type": "markdown",
   "metadata": {},
   "source": [
    "- The comment \"Method to set the year of the car\" identifies a method used for setting the year of the car object.\n",
    "- The method takes a parameter newYear (int) that represents the new year value.\n",
    "- The method is called later with the line \"setYear(myCar, 2024);\", where myCar is the object on which the method is being called, and 2024 is the new year value being passed as an argument."
   ]
  },
  {
   "cell_type": "markdown",
   "metadata": {},
   "source": [
    "# Java Console Games"
   ]
  },
  {
   "cell_type": "markdown",
   "metadata": {},
   "source": [
    "# Make RPS, Tic-Tack-Toe, and Higher Lower into different cells and objects.  Document each cell in Jupyter Notebooks."
   ]
  },
  {
   "cell_type": "markdown",
   "metadata": {},
   "source": [
    "## RPS, Rock Paper, Scissors"
   ]
  },
  {
   "cell_type": "code",
   "execution_count": 2,
   "metadata": {
    "vscode": {
     "languageId": "java"
    }
   },
   "outputs": [],
   "source": [
    "import java.util.Scanner;\n",
    "import java.util.Random;\n",
    "\n",
    "public class RockPaperScissors {\n",
    "    private final String[] choices = {\"rock\", \"paper\", \"scissors\"};\n",
    "    private final Random random = new Random();\n",
    "    private final Scanner scanner = new Scanner(System.in);\n",
    "    \n",
    "    public void playGame() {\n",
    "        System.out.println(\"Rock Paper Scissors\");\n",
    "        System.out.println(\"Type r for rock, p for paper, or s for scissors\");\n",
    "        \n",
    "        String userChoice = getUserChoice();\n",
    "        String computerChoice = choices[random.nextInt(choices.length)];\n",
    "        \n",
    "        determineWinner(userChoice, computerChoice);\n",
    "    }\n",
    "    \n",
    "    private String getUserChoice() {\n",
    "        System.out.print(\"Your choice: \");\n",
    "        return scanner.nextLine().toLowerCase();\n",
    "    }\n",
    "    \n",
    "    private void determineWinner(String userChoice, String computerChoice) {\n",
    "        System.out.println(\"You chose \" + userChoice);\n",
    "        System.out.println(\"The computer chose \" + computerChoice);\n",
    "        \n",
    "        if (userChoice.equals(computerChoice)) {\n",
    "            System.out.println(\"It's a tie!\");\n",
    "        } else if (\n",
    "            (userChoice.equals(\"rock\") && computerChoice.equals(\"scissors\")) ||\n",
    "            (userChoice.equals(\"paper\") && computerChoice.equals(\"rock\")) ||\n",
    "            (userChoice.equals(\"scissors\") && computerChoice.equals(\"paper\"))\n",
    "        ) {\n",
    "            System.out.println(\"You win!\");\n",
    "        } else {\n",
    "            System.out.println(\"You lose!\");\n",
    "        }\n",
    "    }\n",
    "    \n",
    "    public static void main(String[] args) {\n",
    "        RockPaperScissors game = new RockPaperScissors();\n",
    "        game.playGame();\n",
    "    }\n",
    "}"
   ]
  },
  {
   "cell_type": "markdown",
   "metadata": {},
   "source": [
    "## Tic-Tack-Toe"
   ]
  },
  {
   "cell_type": "code",
   "execution_count": 1,
   "metadata": {
    "vscode": {
     "languageId": "java"
    }
   },
   "outputs": [],
   "source": [
    "import java.util.Scanner;\n",
    "\n",
    "public class TicTacToe {\n",
    "    private String[] board;\n",
    "    private final String player1 = \"X\";\n",
    "    private final String player2 = \"O\";\n",
    "    private String currentPlayer;\n",
    "    private final Scanner scanner = new Scanner(System.in);\n",
    "\n",
    "    public TicTacToe() {\n",
    "        board = new String[]{\"1\", \"2\", \"3\", \"4\", \"5\", \"6\", \"7\", \"8\", \"9\"};\n",
    "        currentPlayer = player1;\n",
    "    }\n",
    "\n",
    "    public void playGame() {\n",
    "        System.out.println(\"Tic Tac Toe\");\n",
    "\n",
    "        while (true) {\n",
    "            printBoard();\n",
    "            int move = getUserMove();\n",
    "\n",
    "            if (!isValidMove(move)) {\n",
    "                System.out.println(\"Invalid move. Please choose an empty square.\");\n",
    "                continue;\n",
    "            }\n",
    "\n",
    "            board[move - 1] = currentPlayer;\n",
    "            if (checkWin()) {\n",
    "                printBoard();\n",
    "                System.out.println(currentPlayer + \" wins!\");\n",
    "                break;\n",
    "            }\n",
    "\n",
    "            if (checkTie()) {\n",
    "                printBoard();\n",
    "                System.out.println(\"It's a tie!\");\n",
    "                break;\n",
    "            }\n",
    "\n",
    "            currentPlayer = (currentPlayer.equals(player1)) ? player2 : player1;\n",
    "        }\n",
    "    }\n",
    "\n",
    "    private void printBoard() {\n",
    "        System.out.println(board[0] + \" | \" + board[1] + \" | \" + board[2]);\n",
    "        System.out.println(\"---------\");\n",
    "        System.out.println(board[3] + \" | \" + board[4] + \" | \" + board[5]);\n",
    "        System.out.println(\"---------\");\n",
    "        System.out.println(board[6] + \" | \" + board[7] + \" | \" + board[8]);\n",
    "    }\n",
    "\n",
    "    private int getUserMove() {\n",
    "        System.out.print(\"Player \" + currentPlayer + \", enter your move (1-9): \");\n",
    "        return scanner.nextInt();\n",
    "    }\n",
    "\n",
    "    private boolean isValidMove(int move) {\n",
    "        return move >= 1 && move <= 9 && board[move - 1].equals(String.valueOf(move));\n",
    "    }\n",
    "\n",
    "    private boolean checkWin() {\n",
    "        // Check rows, columns, and diagonals for a win\n",
    "        return (checkLine(0, 1, 2) || checkLine(3, 4, 5) || checkLine(6, 7, 8) ||\n",
    "                checkLine(0, 3, 6) || checkLine(1, 4, 7) || checkLine(2, 5, 8) ||\n",
    "                checkLine(0, 4, 8) || checkLine(2, 4, 6));\n",
    "    }\n",
    "\n",
    "    private boolean checkLine(int a, int b, int c) {\n",
    "        return board[a].equals(board[b]) && board[b].equals(board[c]);\n",
    "    }\n",
    "\n",
    "    private boolean checkTie() {\n",
    "        for (String square : board) {\n",
    "            if (!square.equals(player1) && !square.equals(player2)) {\n",
    "                return false;\n",
    "            }\n",
    "        }\n",
    "        return true;\n",
    "    }\n",
    "\n",
    "    public static void main(String[] args) {\n",
    "        TicTacToe game = new TicTacToe();\n",
    "        game.playGame();\n",
    "    }\n",
    "}\n"
   ]
  },
  {
   "cell_type": "markdown",
   "metadata": {},
   "source": [
    "## Higher or Lower"
   ]
  },
  {
   "cell_type": "code",
   "execution_count": 2,
   "metadata": {
    "vscode": {
     "languageId": "java"
    }
   },
   "outputs": [],
   "source": [
    "import java.util.Scanner;\n",
    "import java.util.Random;\n",
    "\n",
    "public class HigherLower {\n",
    "    private final int maxNumber = 8;\n",
    "    private final Random random = new Random();\n",
    "    private final Scanner scanner = new Scanner(System.in);\n",
    "    \n",
    "    public void playGame() {\n",
    "        System.out.println(\"Higher or Lower\");\n",
    "        System.out.println(\"You have three guesses to guess the number I am thinking of between 1-8.\");\n",
    "        System.out.println(\"If you guess the number correctly, you win!\");\n",
    "        \n",
    "        int targetNumber = random.nextInt(maxNumber) + 1;\n",
    "        int remainingGuesses = 3;\n",
    "        \n",
    "        while (remainingGuesses > 0) {\n",
    "            System.out.print(\"Enter your guess: \");\n",
    "            int userGuess = scanner.nextInt();\n",
    "            \n",
    "            if (userGuess < targetNumber) {\n",
    "                System.out.println(\"The number is higher\");\n",
    "            } else if (userGuess > targetNumber) {\n",
    "                System.out.println(\"The number is lower\");\n",
    "            } else {\n",
    "                System.out.println(\"Congratulations! You guessed the number.\");\n",
    "                return;\n",
    "            }\n",
    "            \n",
    "            remainingGuesses--;\n",
    "        }\n",
    "        \n",
    "        System.out.println(\"You're out of guesses. The number was \" + targetNumber);\n",
    "    }\n",
    "    \n",
    "    public static void main(String[] args) {\n",
    "        HigherLower game = new HigherLower();\n",
    "        game.playGame();\n",
    "    }\n",
    "}"
   ]
  }
 ],
 "metadata": {
  "kernelspec": {
   "display_name": "Java",
   "language": "java",
   "name": "java"
  },
  "language_info": {
   "codemirror_mode": "java",
   "file_extension": ".jshell",
   "mimetype": "text/x-java-source",
   "name": "Java",
   "pygments_lexer": "java",
   "version": "11.0.20+8-post-Ubuntu-1ubuntu122.04"
  }
 },
 "nbformat": 4,
 "nbformat_minor": 2
}
