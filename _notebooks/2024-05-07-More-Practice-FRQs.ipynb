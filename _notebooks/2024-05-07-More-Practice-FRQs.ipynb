{
 "cells": [
  {
   "cell_type": "markdown",
   "metadata": {},
   "source": [
    "---\n",
    "- title: More Practice FRQ Exams!\n",
    "- description: More more more!!!!\n",
    "- layout: post\n",
    "- courses: { csa: {week: 25} }\n",
    "- categories: [C4.0]\n",
    "- type: tangibles\n",
    "- comments: true\n",
    "---"
   ]
  },
  {
   "cell_type": "code",
   "execution_count": 27,
   "metadata": {},
   "outputs": [
    {
     "name": "stdout",
     "output_type": "stream",
     "text": [
      "apar\n",
      "peple\n",
      "pear\n",
      "apple\n",
      "this\n",
      "cat\n"
     ]
    }
   ],
   "source": [
    "public class WordScrambler {\n",
    "    private String[] scrambledWords;\n",
    "    public WordScrambler(String[] wordArr){\n",
    "        scrambledWords = wordArr;\n",
    "    }\n",
    "\n",
    "    private String recombine(String word1, String word2){\n",
    "        String recombinedWord = word1.substring(0, word1.length()/2) + word2.substring(word2.length()/2, word2.length());\n",
    "        return recombinedWord;\n",
    "\n",
    "    }\n",
    "\n",
    "private String[] mixedWords(String[] words){\n",
    "    for (int i = 0; i < words.length - 1; i += 2){\n",
    "        words[i] = recombine(words[i], words[i + 1]);\n",
    "        words[i + 1] = recombine(words[i + 1], words[i]);\n",
    "    }\n",
    "\n",
    "    return words;\n",
    "}\n",
    "    \n",
    "    \n",
    "    \n",
    "\n",
    "    public static void main(String[] args){\n",
    "        String[] words = {\"apple\", \"pear\", \"this\", \"cat\"}; // Example array of words\n",
    "        WordScrambler newInstance = new WordScrambler(words);\n",
    "        String newString = newInstance.recombine(\"apple\", \"pear\");\n",
    "        String newString2 = newInstance.recombine(\"pear\", \"apple\");\n",
    "        System.out.println(newString);\n",
    "        System.out.println(newString2);\n",
    "        String[] newArray = newInstance.mixedWords(words);\n",
    "        for (int i = 0; i < newArray.length; i++){\n",
    "            System.out.println(newArray[i]);\n",
    "        }\n",
    "    }\n",
    "\n",
    "\n",
    "    \n",
    "}\n",
    "\n",
    "WordScrambler.main(null)\n"
   ]
  }
 ],
 "metadata": {
  "kernelspec": {
   "display_name": "Java",
   "language": "java",
   "name": "java"
  },
  "language_info": {
   "codemirror_mode": "java",
   "file_extension": ".jshell",
   "mimetype": "text/x-java-source",
   "name": "java",
   "pygments_lexer": "java",
   "version": "17.0.10+7-Ubuntu-122.04.1"
  }
 },
 "nbformat": 4,
 "nbformat_minor": 2
}
