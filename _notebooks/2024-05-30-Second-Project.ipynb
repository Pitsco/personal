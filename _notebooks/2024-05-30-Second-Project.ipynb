{
 "cells": [
  {
   "cell_type": "markdown",
   "metadata": {},
   "source": [
    "---\n",
    "- title: Favorite Project 2\n",
    "- description: \n",
    "- layout: post\n",
    "- courses: { csa: {week: 25} }\n",
    "- categories: [C4.0]\n",
    "- type: tangibles\n",
    "- comments: true\n",
    "---"
   ]
  },
  {
   "cell_type": "markdown",
   "metadata": {},
   "source": [
    "# Overview:\n",
    "### Frontend Repository: https://github.com/CSA-Tri-2/JDK-miniproject\n",
    "### Backend Repository: https://github.com/CSA-Tri-2/JDK-backend\n",
    "\n",
    "## Descriptions:\n",
    "- [Video of my Contributions](https://www.youtube.com/watch?v=cBh0vEEtomw)\n",
    "- [Fibonacci Algorithms, Frontend and Backend with Explanations](https://pitsco.github.io/personal/2023/12/10/Fibonacci_Algorithm_Blog.html)\n",
    "- [Sorting Algorithms, Frontend and Backend with Explanations](https://pitsco.github.io/personal/2023/12/10/Sorting-Algorithm-Blog.html)\n",
    "\n",
    "## My Commits to the Project:\n",
    "[Fibo Loop](https://github.com/CSA-Tri-2/JDK-backend/commit/e4d52a92f0b5957b78f2645939fcdde6543370d3) [Fibo While](https://github.com/CSA-Tri-2/JDK-backend/commit/fa1264de363736ec4c7ed184b81c12756520b081), [Inheritance](https://github.com/CSA-Tri-2/JDK-backend/commit/921d367f112fbd4b7dc4dccc60fd71e39036e0f2), [Bubble Sort](https://github.com/CSA-Tri-2/JDK-backend/commit/9305d123b0beac3d8f0ab3e581ae52f30f0987b1), [Insertion Sort ](https://github.com/CSA-Tri-2/JDK-backend/commit/b412bf61d253ae488b0a9df82e64366c26c8923a), [API](https://github.com/CSA-Tri-2/JDK-miniproject/commit/927badf429a06406e8cff033c61afdc406fa9bc3) \n",
    "\n",
    "\n",
    "## Deployed Site:\n",
    "https://csa-tri-2.github.io/JDK-miniproject/fibonacci\n",
    "\n",
    "# Sorting JSCharting Example\n",
    "![image](https://github.com/Pitsco/personal/assets/89278326/e4802724-36ff-4b20-be75-35da5c2dc840)\n",
    "\n",
    "\n",
    "# Implementations at the Internship:\n",
    "### Educational Content Creation:\n",
    "- Develop tutorials and interactive presentations on sorting algorithms and Fibonacci sequences for inclusion in the computer science curriculum.\n",
    "\n",
    "### Student Pathway Tracking System:\n",
    "- Integrate sorting algorithm usage data into a system to monitor students' progress and provide insights for educators.\n",
    "Recommendation for CompSci Pathway:\n",
    "- Use sorting algorithms as a basis to recommend additional STEM courses and projects aligned with students' interests.\n",
    "College Preparation Guidance:\n",
    "- Offer guidance on how sorting algorithms relate to college credits and suggest AP exams based on students' proficiency.\n",
    "\n",
    "### Student Pairing and Team Formation:\n",
    "- Analyze sorting algorithm performance to recommend student pairing and team formations for collaborative projects.\n",
    "\n",
    "### Skills Matching for Team Formation:\n",
    "- Assess students' skills in sorting algorithms to match them effectively in teams, considering diverse perspectives.\n",
    "\n",
    "\n",
    "### [Postman](https://web.postman.co/workspace/My-Workspace~e3d3efb8-1fe4-4947-863c-5fbffff62fdd/request/32181159-4ac032b0-0c70-40b2-aa1e-018576cc662c)"
   ]
  }
 ],
 "metadata": {
  "kernelspec": {
   "display_name": "Java",
   "language": "java",
   "name": "java"
  },
  "language_info": {
   "codemirror_mode": "java",
   "file_extension": ".jshell",
   "mimetype": "text/x-java-source",
   "name": "Java",
   "pygments_lexer": "java",
   "version": "17.0.10+7-Ubuntu-122.04.1"
  }
 },
 "nbformat": 4,
 "nbformat_minor": 2
}
