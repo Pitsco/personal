{
 "cells": [
  {
   "cell_type": "markdown",
   "metadata": {},
   "source": [
    "---\n",
    "# this is YAML front matter\n",
    "- layout: post\n",
    "- title: Lab Notebook 1\n",
    "- description: Progress with hacks for week 1!\n",
    "- categories: [C4.0]\n",
    "- type: hacks\n",
    "- courses: { csa: {week: 1} }\n",
    "---"
   ]
  },
  {
   "cell_type": "markdown",
   "metadata": {},
   "source": [
    "# Java Hello\n"
   ]
  },
  {
   "cell_type": "code",
   "execution_count": 6,
   "metadata": {
    "vscode": {
     "languageId": "java"
    }
   },
   "outputs": [],
   "source": [
    "// Class definition\n",
    "class Car {\n",
    "    // Instance variables\n",
    "    private String make;\n",
    "    private String model;\n",
    "    private int year;\n",
    "    private boolean isRunning;\n",
    "\n",
    "    // Constructor\n",
    "    public Car(String make, String model, int year) {\n",
    "        this.make = make;\n",
    "        this.model = model;\n",
    "        this.year = year;\n",
    "        this.isRunning = false;\n",
    "    }\n",
    "\n",
    "    // Method to start the car\n",
    "    public void start() {\n",
    "        isRunning = true;\n",
    "        System.out.println(year + \" \" + make + \" \" + model + \" is now running.\");\n",
    "    }\n",
    "\n",
    "    // Method to stop the car\n",
    "    public void stop() {\n",
    "        isRunning = false;\n",
    "        System.out.println(year + \" \" + make + \" \" + model + \" has stopped.\");\n",
    "    }\n",
    "\n",
    "    // Method to check if the car is running\n",
    "    public boolean isCarRunning() {\n",
    "        return isRunning;\n",
    "    }\n",
    "\n",
    "    // Method to set the year of the car\n",
    "    public void setYear(int newYear) {\n",
    "        year = newYear;\n",
    "    }\n",
    "\n",
    "    // Method to get the year of the car\n",
    "    public int getYear() {\n",
    "        return year;\n",
    "    }\n",
    "}\n",
    "\n",
    "public class CarExample {\n",
    "    public static void main(String[] args) {\n",
    "        // Instantiate an object of the Car class\n",
    "        Car myCar = new Car(\"Toyota\", \"Camry\", 2023);\n",
    "\n",
    "        // Call methods on the object\n",
    "        myCar.start(); // Starting the car\n",
    "        myCar.stop();  // Stopping the car\n",
    "\n",
    "        // Method to change the year of the car\n",
    "        setYear(myCar, 2024);\n",
    "        System.out.println(\"Updated year of the car: \" + myCar.getYear());\n",
    "    }\n",
    "\n",
    "    // Method to change the year of the car\n",
    "    public static void setYear(Car carObj, int newYear) {\n",
    "        carObj.setYear(newYear);\n",
    "    }\n",
    "}\n"
   ]
  },
  {
   "cell_type": "markdown",
   "metadata": {},
   "source": [
    "## Explain Anatomy of a Class in comments of program (Diagram key parts of the class):"
   ]
  },
  {
   "cell_type": "code",
   "execution_count": 16,
   "metadata": {
    "vscode": {
     "languageId": "java"
    }
   },
   "outputs": [],
   "source": [
    "// Class definition\n",
    "class Car {\n",
    "    // Instance variables\n",
    "    private String make;\n",
    "    private String model;\n",
    "    private int year;\n",
    "    private boolean isRunning;\n",
    "\n",
    "    // Constructor\n",
    "    public Car(String make, String model, int year) {\n",
    "        this.make = make;\n",
    "        this.model = model;\n",
    "        this.year = year;\n",
    "        this.isRunning = false;\n",
    "    }\n",
    "\n",
    "    // Other methods...\n",
    "}"
   ]
  },
  {
   "cell_type": "markdown",
   "metadata": {},
   "source": [
    "In this code snippet, the anatomy of the Car class is explained with comments:\n",
    "\n",
    "- The class is defined using the class keyword.\n",
    "- It has instance variables (make, model, year, isRunning) that hold information about the car's attributes.\n",
    "- A constructor is defined with parameters (make, model, year) that initialize the instance variables.\n",
    "- The class also contains other methods (not shown) to interact with the car object."
   ]
  },
  {
   "cell_type": "markdown",
   "metadata": {},
   "source": [
    "## Comment for Class Definition and Object Instantiation:"
   ]
  },
  {
   "cell_type": "code",
   "execution_count": 12,
   "metadata": {
    "vscode": {
     "languageId": "java"
    }
   },
   "outputs": [],
   "source": [
    "// Class definition\n",
    "class Car {\n",
    "    // ...\n",
    "}\n",
    "\n",
    "public class CarExample {\n",
    "    public static void main(String[] args) {\n",
    "        // Instantiate an object of the Car class\n",
    "        Car myCar = new Car(\"Toyota\", \"Camry\", 2023);\n",
    "        // ...\n",
    "    }\n",
    "    // ...\n",
    "}"
   ]
  },
  {
   "cell_type": "markdown",
   "metadata": {},
   "source": [
    "In this code snippet, the anatomy of the Car class is explained with comments:\n",
    "\n",
    "- The class is defined using the class keyword.\n",
    "- It has instance variables (make, model, year, isRunning) that hold information about the car's attributes.\n",
    "- A constructor is defined with parameters (make, model, year) that initialize the instance variables.\n",
    "- The class also contains other methods (not shown) to interact with the car object."
   ]
  },
  {
   "cell_type": "markdown",
   "metadata": {},
   "source": [
    "## Comment in code where there is a definition of a Class and an instance of a Class (ie object):"
   ]
  },
  {
   "cell_type": "code",
   "execution_count": null,
   "metadata": {
    "vscode": {
     "languageId": "java"
    }
   },
   "outputs": [],
   "source": [
    "// Class definition\n",
    "class Car {\n",
    "    // ...\n",
    "}\n",
    "\n",
    "// Instantiate an object of the Car class\n",
    "Car myCar = new Car(\"Toyota\", \"Camry\", 2023);\n"
   ]
  },
  {
   "cell_type": "markdown",
   "metadata": {},
   "source": [
    "- The class is defined with the comment \"Class definition.\"\n",
    "- An instance of the Car class is created and assigned to the variable myCar.\n",
    "- This line instantiates a new car object with the make \"Toyota,\" model \"Camry,\" and year 2023."
   ]
  },
  {
   "cell_type": "markdown",
   "metadata": {},
   "source": [
    "## Comment in code where there are constructors and highlight the signature difference in the signature:"
   ]
  },
  {
   "cell_type": "code",
   "execution_count": 4,
   "metadata": {
    "vscode": {
     "languageId": "java"
    }
   },
   "outputs": [],
   "source": [
    "class Car {\n",
    "    // Constructor\n",
    "    public Car(String make, String model, int year) {\n",
    "        // Constructor body\n",
    "    }\n",
    "\n",
    "    // ...\n",
    "}"
   ]
  },
  {
   "cell_type": "markdown",
   "metadata": {},
   "source": [
    "- The comment \"Constructor\" indicates the presence of a constructor within the Car class.\n",
    "- The constructor has a signature that includes three parameters: make (String), model (String), and year (int). This signature defines the inputs required to create an instance of the class."
   ]
  },
  {
   "cell_type": "markdown",
   "metadata": {},
   "source": [
    "## Call an object method with a parameter (i.e., setters):"
   ]
  },
  {
   "cell_type": "code",
   "execution_count": null,
   "metadata": {
    "vscode": {
     "languageId": "java"
    }
   },
   "outputs": [],
   "source": [
    "// Method to set the year of the car\n",
    "public void setYear(int newYear) {\n",
    "    year = newYear;\n",
    "}\n",
    "\n",
    "// Call the setYear method with a new year value\n",
    "setYear(myCar, 2024);"
   ]
  },
  {
   "cell_type": "markdown",
   "metadata": {},
   "source": [
    "- The comment \"Method to set the year of the car\" identifies a method used for setting the year of the car object.\n",
    "- The method takes a parameter newYear (int) that represents the new year value.\n",
    "- The method is called later with the line setYear(myCar, 2024);, where myCar is the object on which the method is being called, and 2024 is the new year value being passed as an argument."
   ]
  },
  {
   "cell_type": "markdown",
   "metadata": {},
   "source": [
    "# Java Console Games"
   ]
  },
  {
   "cell_type": "code",
   "execution_count": 2,
   "metadata": {
    "vscode": {
     "languageId": "java"
    }
   },
   "outputs": [],
   "source": [
    "import java.util.Scanner;\n",
    "\n",
    "public class GameMenu {\n",
    "    public static void main(String[] args) {\n",
    "        Scanner scanner = new Scanner(System.in);\n",
    "        showMenu(scanner);\n",
    "        scanner.close();\n",
    "    }\n",
    "\n",
    "    public static void showMenu(Scanner scanner) {\n",
    "        System.out.println(\"Select a game:\");\n",
    "        System.out.println(\"1. Rock-Paper-Scissors\");\n",
    "        System.out.println(\"2. Tic-Tac-Toe\");\n",
    "        System.out.println(\"3. Higher-Lower\");\n",
    "        System.out.println(\"4. Exit\");\n",
    "\n",
    "        int choice = scanner.nextInt();\n",
    "\n",
    "        switch (choice) {\n",
    "            case 1:\n",
    "                // Call RPSGame methods\n",
    "                break;\n",
    "            case 2:\n",
    "                // Call TicTacToeGame methods\n",
    "                break;\n",
    "            case 3:\n",
    "                // Call HigherLowerGame methods\n",
    "                break;\n",
    "            case 4:\n",
    "                System.out.println(\"Goodbye!\");\n",
    "                return;\n",
    "            default:\n",
    "                System.out.println(\"Invalid choice. Please select again.\");\n",
    "                showMenu(scanner);\n",
    "                break;\n",
    "        }\n",
    "    }\n",
    "}\n"
   ]
  }
 ],
 "metadata": {
  "kernelspec": {
   "display_name": "Java",
   "language": "java",
   "name": "java"
  },
  "language_info": {
   "codemirror_mode": "java",
   "file_extension": ".jshell",
   "mimetype": "text/x-java-source",
   "name": "Java",
   "pygments_lexer": "java",
   "version": "11.0.20+8-post-Ubuntu-1ubuntu122.04"
  }
 },
 "nbformat": 4,
 "nbformat_minor": 2
}
