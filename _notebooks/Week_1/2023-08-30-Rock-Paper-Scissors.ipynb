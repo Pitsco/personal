{
 "cells": [
  {
   "cell_type": "markdown",
   "metadata": {},
   "source": [
    "---\n",
    "# this is YAML front matter\n",
    "- layout: post\n",
    "- title: Rock Paper Scissor \n",
    "- description:  Game Console Hack Week 1\n",
    "- categories: [C4.0]\n",
    "- type: tangibles\n",
    "- courses: { csa: {week: 1} }\n",
    "---"
   ]
  },
  {
   "cell_type": "markdown",
   "metadata": {},
   "source": [
    "# Original Code"
   ]
  },
  {
   "cell_type": "code",
   "execution_count": null,
   "metadata": {},
   "outputs": [],
   "source": [
    "import java.util.Scanner;\n",
    "import java.util.Random;\n",
    "\n",
    "public class RockPaperScissors {\n",
    "    private final String[] choices = {\"rock\", \"paper\", \"scissors\"};\n",
    "    private final Random random = new Random();\n",
    "    private final Scanner scanner = new Scanner(System.in);\n",
    "    \n",
    "    public void playGame() {\n",
    "        System.out.println(\"Rock Paper Scissors\");\n",
    "        System.out.println(\"Type r for rock, p for paper, or s for scissors\");\n",
    "        \n",
    "        String userChoice = getUserChoice();\n",
    "        String computerChoice = choices[random.nextInt(choices.length)];\n",
    "        \n",
    "        determineWinner(userChoice, computerChoice);\n",
    "    }\n",
    "    \n",
    "    private String getUserChoice() {\n",
    "        System.out.print(\"Your choice: \");\n",
    "        return scanner.nextLine().toLowerCase();\n",
    "    }\n",
    "    \n",
    "    private void determineWinner(String userChoice, String computerChoice) {\n",
    "        System.out.println(\"You chose \" + userChoice);\n",
    "        System.out.println(\"The computer chose \" + computerChoice);\n",
    "        \n",
    "        if (userChoice.equals(computerChoice)) {\n",
    "            System.out.println(\"It's a tie!\");\n",
    "        } else if (\n",
    "            (userChoice.equals(\"rock\") && computerChoice.equals(\"scissors\")) ||\n",
    "            (userChoice.equals(\"paper\") && computerChoice.equals(\"rock\")) ||\n",
    "            (userChoice.equals(\"scissors\") && computerChoice.equals(\"paper\"))\n",
    "        ) {\n",
    "            System.out.println(\"You win!\");\n",
    "        } else {\n",
    "            System.out.println(\"You lose!\");\n",
    "        }\n",
    "    }\n",
    "    \n",
    "    public static void main(String[] args) {\n",
    "        RockPaperScissors game = new RockPaperScissors();\n",
    "        game.playGame();\n",
    "    }\n",
    "}"
   ]
  },
  {
   "cell_type": "markdown",
   "metadata": {},
   "source": [
    "# Revised Code"
   ]
  },
  {
   "cell_type": "code",
   "execution_count": 1,
   "metadata": {},
   "outputs": [
    {
     "name": "stdout",
     "output_type": "stream",
     "text": [
      "Rock Paper Scissors\n",
      "Type r for rock, p for paper, or s for scissors\n",
      "Your choice: You chose r\n",
      "The computer chose paper\n"
     ]
    },
    {
     "ename": "EvalException",
     "evalue": "null",
     "output_type": "error",
     "traceback": [
      "\u001b[1m\u001b[31m---------------------------------------------------------------------------\u001b[0m",
      "\u001b[1m\u001b[31mjava.lang.NullPointerException: null\u001b[0m",
      "\u001b[1m\u001b[31m\tat RockPaperScissors.determineWinner(#15:1)\u001b[0m",
      "\u001b[1m\u001b[31m\tat RockPaperScissors.playGame(#15:1)\u001b[0m",
      "\u001b[1m\u001b[31m\tat RockPaperScissors.main(#15:1)\u001b[0m",
      "\u001b[1m\u001b[31m\tat .(#16:1)\u001b[0m"
     ]
    }
   ],
   "source": [
    "import java.util.Scanner;\n",
    "import java.util.Random;\n",
    "import java.util.HashMap;\n",
    "\n",
    "public class RockPaperScissors {\n",
    "    private final String[] choices = {\"rock\", \"paper\", \"scissors\"};\n",
    "    private final Random random = new Random();\n",
    "    private final Scanner scanner = new Scanner(System.in);\n",
    "    \n",
    "    private final HashMap<String, String> winningChoices = new HashMap<>();\n",
    "    \n",
    "    public RockPaperScissors() {\n",
    "        winningChoices.put(\"rock\", \"scissors\");\n",
    "        winningChoices.put(\"paper\", \"rock\");\n",
    "        winningChoices.put(\"scissors\", \"paper\");\n",
    "    }\n",
    "    \n",
    "    public void playGame() {\n",
    "        System.out.println(\"Rock Paper Scissors\");\n",
    "        System.out.println(\"Type r for rock, p for paper, or s for scissors\");\n",
    "        \n",
    "        String userChoice = getUserChoice();\n",
    "        String computerChoice = choices[random.nextInt(choices.length)];\n",
    "        \n",
    "        determineWinner(userChoice, computerChoice);\n",
    "    }\n",
    "    \n",
    "    private String getUserChoice() {\n",
    "        System.out.print(\"Your choice: \");\n",
    "        return scanner.nextLine().toLowerCase();\n",
    "    }\n",
    "    \n",
    "    private void determineWinner(String userChoice, String computerChoice) {\n",
    "        System.out.println(\"You chose \" + userChoice);\n",
    "        System.out.println(\"The computer chose \" + computerChoice);\n",
    "        \n",
    "        if (userChoice.equals(computerChoice)) {\n",
    "            System.out.println(\"It's a tie!\");\n",
    "        } else if (winningChoices.get(userChoice).equals(computerChoice)) {\n",
    "            System.out.println(\"You win!\");\n",
    "        } else {\n",
    "            System.out.println(\"You lose!\");\n",
    "        }\n",
    "    }\n",
    "    \n",
    "    public static void main(String[] args) {\n",
    "        RockPaperScissors game = new RockPaperScissors();\n",
    "        game.playGame();\n",
    "    }\n",
    "}\n",
    "RockPaperScissors.main(null);"
   ]
  }
 ],
 "metadata": {
  "kernelspec": {
   "display_name": "Java",
   "language": "java",
   "name": "java"
  },
  "language_info": {
   "codemirror_mode": "java",
   "file_extension": ".jshell",
   "mimetype": "text/x-java-source",
   "name": "java",
   "pygments_lexer": "java",
   "version": "11.0.20.1+1-post-Ubuntu-0ubuntu122.04"
  },
  "orig_nbformat": 4
 },
 "nbformat": 4,
 "nbformat_minor": 2
}
