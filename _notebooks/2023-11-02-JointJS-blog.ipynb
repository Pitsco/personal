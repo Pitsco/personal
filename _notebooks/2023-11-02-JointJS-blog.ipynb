{
 "cells": [
  {
   "cell_type": "markdown",
   "metadata": {},
   "source": [
    "---\n",
    "# this is YAML front matter\n",
    "- layout: post\n",
    "- title: Joint.JS blog\n",
    "- description: Blog about Joint.JS used in our project\n",
    "- categories: [C4.0]\n",
    "- type: tangibles\n",
    "- courses: { csa: {week: 11} }\n",
    "---"
   ]
  },
  {
   "cell_type": "markdown",
   "metadata": {},
   "source": [
    "[Layout of code with Joint.JS found here](https://github.com/CSA-Tri-1/DADDiJkstra-frontend/blob/main/assets/scripts/graph.js)\n",
    "\n",
    "Initialization and Configuration:\n",
    "A JointJS Graph object is created to represent the graph's data model.\n",
    "A JointJS Paper object is created to display the graph on an HTML element with the id \"interactive-graph.\"\n",
    "\n",
    "Controllers:\n",
    "The code defines two custom controllers (ViewController and EditController) that handle interactions and events related to the graph and its elements.\n",
    "\n",
    "Event Handling:\n",
    "Event listeners are set up to respond to various user interactions with the graph, such as pointer clicks, mouse enters, mouse leaves, double clicks, etc. The handlers call various functions that modify the graph's state.\n",
    "Node and Link Creation:\n",
    "\n",
    "Functions like createNode and createLink are used to create nodes (representing circles) and links (representing connections) within the graph.\n",
    "\n",
    "Graph Manipulation:\n",
    "The code allows users to interact with the graph, such as adding and removing nodes, creating and modifying links, and displaying tools for these interactions.\n",
    "\n",
    "Path Highlighting:\n",
    "The code handles path highlighting within the graph. Users can select a start node and an end node, and the code highlights the shortest path between them, taking into account directed or undirected connections.\n",
    "\n",
    "Zooming:\n",
    "Users can zoom in and out on the graph using the \"zoom-in\" and \"zoom-out\" buttons.\n",
    "\n",
    "Styling:\n",
    "The code sets up styling for nodes, links, and other elements within the graph.\n",
    "\n",
    "Keyframes and Animations:\n",
    "The code defines keyframe animations for elements, such as path highlighting and link animations.\n",
    "\n",
    "Data Structures:\n",
    "The code appears to use various data structures like arrays and matrices to manage the graph's data.\n",
    "\n",
    "Other Features:\n",
    "The code has several other features and functions for managing elements within the graph, as well as for managing tools, tools' visibility, and more."
   ]
  }
 ],
 "metadata": {
  "language_info": {
   "name": "python"
  }
 },
 "nbformat": 4,
 "nbformat_minor": 2
}
