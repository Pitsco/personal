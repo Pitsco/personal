{
 "cells": [
  {
   "cell_type": "markdown",
   "metadata": {},
   "source": [
    "---\n",
    "layout: post\n",
    "title: U3 Boolean and If statements \n",
    "description: Lesson on booleans and if statements!\n",
    "comments: true\n",
    "courses: { csa: {week: 1} }\n",
    "type: lessons\n",
    "---"
   ]
  },
  {
   "cell_type": "markdown",
   "metadata": {},
   "source": [
    "# Your Homework\n",
    "\n",
    "Now that you know what boolean expressions are and how to write them, as well as several comparison methods, your task is to write a class that uses either the compareTo or comparator and compare. Then create two instances of these classes and demonstrate using if statements. \n",
    "\n",
    "\n",
    "\n",
    "\n",
    "BONUS: Create a program that checks if a year is a leap year or not.\n",
    "\n",
    "Here is how the method should work: \n",
    "\n",
    "(1) Prompt the user to input any year that they would like <br>\n",
    "(2) Determine if the year is a leap year or not <br>\n",
    "(3) Print the necessary dialogue (ex. [year] is/is not a leap year) AND return the value of any boolean(s) used\n",
    "\n",
    "\n"
   ]
  },
  {
   "cell_type": "code",
   "execution_count": 2,
   "metadata": {
    "vscode": {
     "languageId": "java"
    }
   },
   "outputs": [
    {
     "name": "stdout",
     "output_type": "stream",
     "text": [
      "Enter a year: 2000 is a leap year.\n",
      "Is it a leap year? true\n"
     ]
    }
   ],
   "source": [
    "import java.util.Scanner;\n",
    "\n",
    "public class LeapYearChecker {\n",
    "    public static void main(String[] args) {\n",
    "        Scanner scanner = new Scanner(System.in);\n",
    "        System.out.print(\"Enter a year: \");\n",
    "        int year = scanner.nextInt();\n",
    "        scanner.close();\n",
    "\n",
    "        boolean isLeapYear = false;\n",
    "\n",
    "        if ((year % 4 == 0 && year % 100 != 0) || (year % 400 == 0)) {\n",
    "            isLeapYear = true;\n",
    "        }\n",
    "\n",
    "        if (isLeapYear) {\n",
    "            System.out.println(year + \" is a leap year.\");\n",
    "        } else {\n",
    "            System.out.println(year + \" is not a leap year.\");\n",
    "        }\n",
    "\n",
    "        // Return the boolean value (true if it's a leap year, false if not)\n",
    "        System.out.println(\"Is it a leap year? \" + isLeapYear);\n",
    "    }\n",
    "}\n",
    "\n",
    "LeapYearChecker.main(null);"
   ]
  },
  {
   "cell_type": "markdown",
   "metadata": {},
   "source": [
    "1. !(true)&&(false) = ? what in boolean values?\n",
    "False, NOT true and false = false\n",
    "\n",
    "2. not ((((true and not (false)) ^ false) ^ true) && false) (remember PEMDASNAO!)\n",
    "False.\n",
    "3. Prove the following: !A * !(B + !C) = !A * (!B * !C)\n",
    "NOT A and NOT(B OR NOT(C)) = NOT(A or NOT(B and C))\n",
    "!(B or !C) = (!B and !C)\n",
    "!(B or !C) = (!B and !C)\n",
    "Not equivalent, NOT(B) or C is not equivalent to NOT(B and C).\n",
    "\n",
    "4. 420 && 66 (Hint, convert to binary, then perform the operation)\n",
    "420 to binary --> 110100100\n",
    "66 to binary --> 001000010\n",
    "= 110100100 && 001000010\n",
    "= 000000000\n",
    "\n",
    "   1. If you got this one, try 89 OR 42\n",
    "   000101010 \n",
    "   001011001\n",
    "   000001000\n",
    "\n",
    "For each example, you can use code, but then show your work and how you got it. Please ask questions if you are confused!\n"
   ]
  },
  {
   "cell_type": "markdown",
   "metadata": {},
   "source": []
  }
 ],
 "metadata": {
  "kernelspec": {
   "display_name": "Java",
   "language": "java",
   "name": "java"
  },
  "language_info": {
   "codemirror_mode": "java",
   "file_extension": ".jshell",
   "mimetype": "text/x-java-source",
   "name": "Java",
   "pygments_lexer": "java",
   "version": "11.0.20.1+1-post-Ubuntu-0ubuntu122.04"
  }
 },
 "nbformat": 4,
 "nbformat_minor": 2
}
